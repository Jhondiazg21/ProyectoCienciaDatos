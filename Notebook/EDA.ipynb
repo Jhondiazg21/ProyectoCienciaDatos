{
 "cells": [
  {
   "cell_type": "markdown",
   "id": "8e590d52",
   "metadata": {},
   "source": [
    "## *Análisis del Dataset de insuficiencia cardiaca* heart_failure_clinical_records_dataset.csv de Kaggle"
   ]
  },
  {
   "cell_type": "markdown",
   "id": "38baf46f",
   "metadata": {},
   "source": [
    "### **Presentado por:**\n",
    "\n",
    "Angélica Órtiz Álvarez (aortiz016@soyudemedellin.edu.co)\n",
    "\n",
    "Jhon Jader Diaz Gomez (jdiaz510@soyudemedellin.edu.co)\n",
    "\n",
    "Cristian Camilo Ospina Metaute (cospina149@soyudemedellin.edu.co)"
   ]
  },
  {
   "cell_type": "markdown",
   "id": "95eece2d",
   "metadata": {},
   "source": [
    "## Se importan las librerías requeridas para manipulación de datos y manejo de medelos"
   ]
  },
  {
   "cell_type": "code",
   "execution_count": 273,
   "id": "a1ab86b8",
   "metadata": {},
   "outputs": [],
   "source": [
    "import numpy as np \n",
    "import pandas as pd\n",
    "import random\n",
    "import re\n",
    "import matplotlib.pyplot as plt\n",
    "import seaborn as sns\n",
    "from sklearn.impute import SimpleImputer\n",
    "from sklearn.pipeline import Pipeline\n",
    "from sklearn.compose import ColumnTransformer\n",
    "from sklearn.preprocessing import StandardScaler, OneHotEncoder\n",
    "from sklearn.ensemble import RandomForestClassifier\n",
    "from sklearn.linear_model import LogisticRegression\n",
    "from sklearn.model_selection import train_test_split, GridSearchCV\n",
    "from sklearn.tree import DecisionTreeClassifier\n",
    "from pathlib import Path"
   ]
  },
  {
   "cell_type": "markdown",
   "id": "c70dab85",
   "metadata": {},
   "source": [
    "## Se carga el dataset heart_failure_clinical_records_dataset.csv de [Kaggle](https://www.kaggle.com/code/arjunamla02/logistic-regession-vs-decision-tree-vs-rf/notebook) - [UCI Irvine](https://archive.ics.uci.edu/dataset/519/heart+failure+clinical+records)\n"
   ]
  },
  {
   "cell_type": "code",
   "execution_count": 274,
   "id": "71afd076",
   "metadata": {},
   "outputs": [
    {
     "data": {
      "application/vnd.microsoft.datawrangler.viewer.v0+json": {
       "columns": [
        {
         "name": "index",
         "rawType": "int64",
         "type": "integer"
        },
        {
         "name": "age",
         "rawType": "float64",
         "type": "float"
        },
        {
         "name": "anaemia",
         "rawType": "int64",
         "type": "integer"
        },
        {
         "name": "creatinine_phosphokinase",
         "rawType": "int64",
         "type": "integer"
        },
        {
         "name": "diabetes",
         "rawType": "int64",
         "type": "integer"
        },
        {
         "name": "ejection_fraction",
         "rawType": "int64",
         "type": "integer"
        },
        {
         "name": "high_blood_pressure",
         "rawType": "int64",
         "type": "integer"
        },
        {
         "name": "platelets",
         "rawType": "float64",
         "type": "float"
        },
        {
         "name": "serum_creatinine",
         "rawType": "float64",
         "type": "float"
        },
        {
         "name": "serum_sodium",
         "rawType": "int64",
         "type": "integer"
        },
        {
         "name": "sex",
         "rawType": "int64",
         "type": "integer"
        },
        {
         "name": "smoking",
         "rawType": "int64",
         "type": "integer"
        },
        {
         "name": "time",
         "rawType": "int64",
         "type": "integer"
        },
        {
         "name": "DEATH_EVENT",
         "rawType": "int64",
         "type": "integer"
        }
       ],
       "ref": "97fdaee5-8c94-4930-b9ce-c0adc04c2a6b",
       "rows": [
        [
         "0",
         "75.0",
         "0",
         "582",
         "0",
         "20",
         "1",
         "265000.0",
         "1.9",
         "130",
         "1",
         "0",
         "4",
         "1"
        ],
        [
         "1",
         "55.0",
         "0",
         "7861",
         "0",
         "38",
         "0",
         "263358.03",
         "1.1",
         "136",
         "1",
         "0",
         "6",
         "1"
        ],
        [
         "2",
         "65.0",
         "0",
         "146",
         "0",
         "20",
         "0",
         "162000.0",
         "1.3",
         "129",
         "1",
         "1",
         "7",
         "1"
        ],
        [
         "3",
         "50.0",
         "1",
         "111",
         "0",
         "20",
         "0",
         "210000.0",
         "1.9",
         "137",
         "1",
         "0",
         "7",
         "1"
        ],
        [
         "4",
         "65.0",
         "1",
         "160",
         "1",
         "20",
         "0",
         "327000.0",
         "2.7",
         "116",
         "0",
         "0",
         "8",
         "1"
        ]
       ],
       "shape": {
        "columns": 13,
        "rows": 5
       }
      },
      "text/html": [
       "<div>\n",
       "<style scoped>\n",
       "    .dataframe tbody tr th:only-of-type {\n",
       "        vertical-align: middle;\n",
       "    }\n",
       "\n",
       "    .dataframe tbody tr th {\n",
       "        vertical-align: top;\n",
       "    }\n",
       "\n",
       "    .dataframe thead th {\n",
       "        text-align: right;\n",
       "    }\n",
       "</style>\n",
       "<table border=\"1\" class=\"dataframe\">\n",
       "  <thead>\n",
       "    <tr style=\"text-align: right;\">\n",
       "      <th></th>\n",
       "      <th>age</th>\n",
       "      <th>anaemia</th>\n",
       "      <th>creatinine_phosphokinase</th>\n",
       "      <th>diabetes</th>\n",
       "      <th>ejection_fraction</th>\n",
       "      <th>high_blood_pressure</th>\n",
       "      <th>platelets</th>\n",
       "      <th>serum_creatinine</th>\n",
       "      <th>serum_sodium</th>\n",
       "      <th>sex</th>\n",
       "      <th>smoking</th>\n",
       "      <th>time</th>\n",
       "      <th>DEATH_EVENT</th>\n",
       "    </tr>\n",
       "  </thead>\n",
       "  <tbody>\n",
       "    <tr>\n",
       "      <th>0</th>\n",
       "      <td>75.0</td>\n",
       "      <td>0</td>\n",
       "      <td>582</td>\n",
       "      <td>0</td>\n",
       "      <td>20</td>\n",
       "      <td>1</td>\n",
       "      <td>265000.00</td>\n",
       "      <td>1.9</td>\n",
       "      <td>130</td>\n",
       "      <td>1</td>\n",
       "      <td>0</td>\n",
       "      <td>4</td>\n",
       "      <td>1</td>\n",
       "    </tr>\n",
       "    <tr>\n",
       "      <th>1</th>\n",
       "      <td>55.0</td>\n",
       "      <td>0</td>\n",
       "      <td>7861</td>\n",
       "      <td>0</td>\n",
       "      <td>38</td>\n",
       "      <td>0</td>\n",
       "      <td>263358.03</td>\n",
       "      <td>1.1</td>\n",
       "      <td>136</td>\n",
       "      <td>1</td>\n",
       "      <td>0</td>\n",
       "      <td>6</td>\n",
       "      <td>1</td>\n",
       "    </tr>\n",
       "    <tr>\n",
       "      <th>2</th>\n",
       "      <td>65.0</td>\n",
       "      <td>0</td>\n",
       "      <td>146</td>\n",
       "      <td>0</td>\n",
       "      <td>20</td>\n",
       "      <td>0</td>\n",
       "      <td>162000.00</td>\n",
       "      <td>1.3</td>\n",
       "      <td>129</td>\n",
       "      <td>1</td>\n",
       "      <td>1</td>\n",
       "      <td>7</td>\n",
       "      <td>1</td>\n",
       "    </tr>\n",
       "    <tr>\n",
       "      <th>3</th>\n",
       "      <td>50.0</td>\n",
       "      <td>1</td>\n",
       "      <td>111</td>\n",
       "      <td>0</td>\n",
       "      <td>20</td>\n",
       "      <td>0</td>\n",
       "      <td>210000.00</td>\n",
       "      <td>1.9</td>\n",
       "      <td>137</td>\n",
       "      <td>1</td>\n",
       "      <td>0</td>\n",
       "      <td>7</td>\n",
       "      <td>1</td>\n",
       "    </tr>\n",
       "    <tr>\n",
       "      <th>4</th>\n",
       "      <td>65.0</td>\n",
       "      <td>1</td>\n",
       "      <td>160</td>\n",
       "      <td>1</td>\n",
       "      <td>20</td>\n",
       "      <td>0</td>\n",
       "      <td>327000.00</td>\n",
       "      <td>2.7</td>\n",
       "      <td>116</td>\n",
       "      <td>0</td>\n",
       "      <td>0</td>\n",
       "      <td>8</td>\n",
       "      <td>1</td>\n",
       "    </tr>\n",
       "  </tbody>\n",
       "</table>\n",
       "</div>"
      ],
      "text/plain": [
       "    age  anaemia  creatinine_phosphokinase  diabetes  ejection_fraction  \\\n",
       "0  75.0        0                       582         0                 20   \n",
       "1  55.0        0                      7861         0                 38   \n",
       "2  65.0        0                       146         0                 20   \n",
       "3  50.0        1                       111         0                 20   \n",
       "4  65.0        1                       160         1                 20   \n",
       "\n",
       "   high_blood_pressure  platelets  serum_creatinine  serum_sodium  sex  \\\n",
       "0                    1  265000.00               1.9           130    1   \n",
       "1                    0  263358.03               1.1           136    1   \n",
       "2                    0  162000.00               1.3           129    1   \n",
       "3                    0  210000.00               1.9           137    1   \n",
       "4                    0  327000.00               2.7           116    0   \n",
       "\n",
       "   smoking  time  DEATH_EVENT  \n",
       "0        0     4            1  \n",
       "1        0     6            1  \n",
       "2        1     7            1  \n",
       "3        0     7            1  \n",
       "4        0     8            1  "
      ]
     },
     "execution_count": 274,
     "metadata": {},
     "output_type": "execute_result"
    }
   ],
   "source": [
    "# Se carga de dataset\n",
    "df = pd.read_csv('heart_failure_clinical_records_dataset.csv')\n",
    "df.head()   "
   ]
  },
  {
   "cell_type": "markdown",
   "id": "6bbdca50",
   "metadata": {},
   "source": [
    "### Debido a que la base de datos original tiene solo 299 registros, se simula 2700 adicionales para completar 3000, de manera que tengamos una base de datos con suficientes datos y con ruido para hacer el ejercicio de manipulación de datos."
   ]
  },
  {
   "cell_type": "code",
   "execution_count": 275,
   "id": "1c6ec22b",
   "metadata": {},
   "outputs": [
    {
     "name": "stderr",
     "output_type": "stream",
     "text": [
      "C:\\Users\\c_cam\\AppData\\Local\\Temp\\ipykernel_15700\\492679449.py:106: FutureWarning: Setting an item of incompatible dtype is deprecated and will raise an error in a future version of pandas. Value 'MALE' has dtype incompatible with int32, please explicitly cast to a compatible dtype first.\n",
      "  df_new.loc[i, 'sex'] = random.choice(['MALE', 'male'])\n",
      "C:\\Users\\c_cam\\AppData\\Local\\Temp\\ipykernel_15700\\492679449.py:118: FutureWarning: Setting an item of incompatible dtype is deprecated and will raise an error in a future version of pandas. Value '1.24 mg/dL' has dtype incompatible with float64, please explicitly cast to a compatible dtype first.\n",
      "  df_new.loc[i, 'serum_creatinine'] = f\"{original_value:.2f} mg/dL\"\n",
      "C:\\Users\\c_cam\\AppData\\Local\\Temp\\ipykernel_15700\\492679449.py:131: FutureWarning: Setting an item of incompatible dtype is deprecated and will raise an error in a future version of pandas. Value 'NO' has dtype incompatible with int32, please explicitly cast to a compatible dtype first.\n",
      "  df_new.loc[i, 'diabetes'] = random.choice(['NO', 'N/A', 0]) # Mezcla de string y valor correcto\n"
     ]
    },
    {
     "name": "stdout",
     "output_type": "stream",
     "text": [
      "Base de datos generada: heart_failure_clinical_records_extended.csv\n",
      "Total de registros: 3000\n",
      "Registros originales (simulados): 299\n",
      "Registros nuevos (con errores): 2701\n",
      "\n",
      "Primeras filas del CSV final:\n",
      "     age  anaemia  creatinine_phosphokinase diabetes  ejection_fraction  \\\n",
      "0   78.0        0                    1702.0        0                 51   \n",
      "1   91.0        0                    3529.0        0                 28   \n",
      "2   68.0        1                    5115.0        1                 77   \n",
      "3   54.0        0                    7276.0        1                 41   \n",
      "4   82.0        0                    2767.0        1                 52   \n",
      "5   47.0        1                    3379.0        1                 70   \n",
      "6   60.0        1                    4068.0        1                 30   \n",
      "7   78.0        0                    1266.0        1                 57   \n",
      "8   58.0        0                    5211.0        1                 38   \n",
      "9   62.0        1                    3141.0        1                 30   \n",
      "10  50.0        1                    5127.0        1                 26   \n",
      "11  50.0        1                    2164.0        0                 38   \n",
      "12  63.0        1                    5892.0        1                 23   \n",
      "13  92.0        0                    5076.0        1                 80   \n",
      "14  75.0        1                    3082.0        1                 31   \n",
      "15  79.0        1                    4571.0        1                 47   \n",
      "16  63.0        0                    5346.0        1                 21   \n",
      "17  42.0        1                    2982.0        1                 53   \n",
      "18  61.0        0                    2288.0        1                 55   \n",
      "19  92.0        1                    6640.0        1                 54   \n",
      "20  41.0        1                    2502.0        1                 19   \n",
      "21  63.0        1                    6507.0        1                 65   \n",
      "22  83.0        0                    4669.0        1                 39   \n",
      "23  69.0        0                    1658.0        0                 77   \n",
      "24  77.0        1                    5431.0        0                 72   \n",
      "25  41.0        0                    7444.0        1                 69   \n",
      "26  60.0        0                    1780.0        1                 72   \n",
      "27  72.0        0                    4475.0        0                 46   \n",
      "28  51.0        0                    2093.0        1                 66   \n",
      "29  61.0        0                    5904.0        0                 35   \n",
      "\n",
      "    high_blood_pressure  platelets serum_creatinine  serum_sodium sex  \\\n",
      "0                     0  699087.43              4.4        123.61   1   \n",
      "1                     1  848450.58             6.95        122.21   0   \n",
      "2                     1  363033.86             4.83        125.60   1   \n",
      "3                     1  675391.22             8.27        116.07   0   \n",
      "4                     0  401448.19             8.52        145.79   0   \n",
      "5                     0  459906.72             4.25        132.38   1   \n",
      "6                     0  570629.10             2.96        123.69   0   \n",
      "7                     1  755257.84             5.77        126.89   0   \n",
      "8                     0  838062.60             8.62        128.65   0   \n",
      "9                     1  676205.06             2.37        134.02   0   \n",
      "10                    0  413325.09             6.04        131.05   1   \n",
      "11                    1  416017.75             6.12        145.18   1   \n",
      "12                    0  653186.73             7.02        130.39   0   \n",
      "13                    0  279082.86             1.67        147.73   0   \n",
      "14                    0  182855.58             6.87        142.80   0   \n",
      "15                    1  365966.62             8.59        120.30   1   \n",
      "16                    1  315429.24              2.1        145.57   1   \n",
      "17                    0  322231.09             2.61        117.07   1   \n",
      "18                    0  275205.81             9.15        141.61   1   \n",
      "19                    1  131569.89             2.11        126.32   0   \n",
      "20                    1  113405.45              8.1        143.73   0   \n",
      "21                    1  840791.79             4.88        143.38   0   \n",
      "22                    0  420829.85              2.7        141.21   1   \n",
      "23                    1  388244.99             8.25        140.65   0   \n",
      "24                    0  609735.46             4.46        123.66   1   \n",
      "25                    1  263690.42             5.08        115.83   1   \n",
      "26                    0  812470.89              3.7        127.10   0   \n",
      "27                    1  689758.76             5.78        119.07   0   \n",
      "28                    1  167058.25             1.96        137.32   0   \n",
      "29                    1  413185.58             3.98        125.11   1   \n",
      "\n",
      "    smoking  time  DEATH_EVENT  \n",
      "0         0   204          0.0  \n",
      "1         1    38          1.0  \n",
      "2         1   219          1.0  \n",
      "3         1    68          0.0  \n",
      "4         1    11          1.0  \n",
      "5         1    79          1.0  \n",
      "6         1   177          0.0  \n",
      "7         1    50          0.0  \n",
      "8         1    18          0.0  \n",
      "9         1   150          1.0  \n",
      "10        1    29          0.0  \n",
      "11        0    96          1.0  \n",
      "12        1   235          0.0  \n",
      "13        0    24          1.0  \n",
      "14        0    41          0.0  \n",
      "15        0   279          0.0  \n",
      "16        0   160          1.0  \n",
      "17        1   182          1.0  \n",
      "18        0   135          1.0  \n",
      "19        1    31          1.0  \n",
      "20        1   263          1.0  \n",
      "21        0    79          1.0  \n",
      "22        1    70          0.0  \n",
      "23        0   197          1.0  \n",
      "24        0   165          0.0  \n",
      "25        1   260          0.0  \n",
      "26        1    75          1.0  \n",
      "27        0    90          0.0  \n",
      "28        1   265          1.0  \n",
      "29        1   217          1.0  \n",
      "\n",
      "Últimas filas del CSV final (donde se concentran los errores):\n",
      "       age  anaemia  creatinine_phosphokinase diabetes  ejection_fraction  \\\n",
      "2970  46.0        1                    5244.0        1                 18   \n",
      "2971  50.0        1                    4428.0        0                 54   \n",
      "2972  78.0        0                    3876.0        0                 74   \n",
      "2973   NaN        0                    5434.0        0                 68   \n",
      "2974  64.0        0                    1768.0        1                 26   \n",
      "2975  51.0        1                    6661.0        0                 27   \n",
      "2976  65.0        1                    3455.0        1                 73   \n",
      "2977  77.0        1                       NaN        1                 38   \n",
      "2978  85.0        1                    6745.0      YES                 57   \n",
      "2979  51.0        0                      32.0        0                 23   \n",
      "2980  82.0        1                    4167.0        1                 63   \n",
      "2981   NaN        1                    5629.0        1                 57   \n",
      "2982  92.0        0                    6789.0        0                 27   \n",
      "2983  76.0        0                       NaN        1                 28   \n",
      "2984  85.0        1                     753.0        1                 29   \n",
      "2985  92.0        1                    7759.0        0                 15   \n",
      "2986  63.0        1                    4913.0        1                 43   \n",
      "2987  55.0        1                    7137.0        0                 43   \n",
      "2988  52.0        0                    1671.0        1                 44   \n",
      "2989  64.0        0                    4251.0        1                 33   \n",
      "2990  93.0        1                    3677.0        0                 62   \n",
      "2991  93.0        1                    2153.0        1                 48   \n",
      "2992  91.0        1                    6223.0        1                 36   \n",
      "2993  93.0        1                    4494.0        1                 74   \n",
      "2994  43.0        1                    2419.0        0                 68   \n",
      "2995  50.0        0                    4389.0        0                 80   \n",
      "2996  71.0        0                    1529.0        0                 21   \n",
      "2997  88.0        0                    2181.0        0                 53   \n",
      "2998  46.0        1                    2939.0       NO                 72   \n",
      "2999  85.0        1                    7053.0        1                 45   \n",
      "\n",
      "      high_blood_pressure  platelets serum_creatinine  serum_sodium     sex  \\\n",
      "2970                    1  766781.59             8.68        127.81       0   \n",
      "2971                    1  726840.58             1.22        121.83       0   \n",
      "2972                    1  556231.77             8.64        147.42       0   \n",
      "2973                    0  391294.89             4.87        123.64  female   \n",
      "2974                    0  477403.50             4.49        124.33       0   \n",
      "2975                    0  676551.10             9.16        147.64       0   \n",
      "2976                    1  758159.16             9.31        117.69       1   \n",
      "2977                    0  177836.45              NaN        139.62       1   \n",
      "2978                    0  388642.20      Desconocido        145.75       1   \n",
      "2979                    1  682087.45       5.00 mg/dL        130.91       0   \n",
      "2980                    1  423738.82              NaN        113.09       1   \n",
      "2981                    1        NaN             5.08        126.13       1   \n",
      "2982                    0  408492.02             5.57        116.90       1   \n",
      "2983                    0  552133.56             0.67        127.57       1   \n",
      "2984                    1  849853.86      Desconocido        140.65       0   \n",
      "2985                    0  469744.32             6.84        128.35       0   \n",
      "2986                    0  256370.86             1.53        128.12       0   \n",
      "2987                    1        NaN             5.58        132.49    male   \n",
      "2988                    0        NaN             5.56        133.36       0   \n",
      "2989                    1  519112.93             6.57        142.97    MALE   \n",
      "2990                    0  508429.07             1.26        123.79       0   \n",
      "2991                    1  253925.45             6.08        141.76       0   \n",
      "2992                    0  621497.05              3.0        132.81       1   \n",
      "2993                    0        NaN             5.01        123.52       1   \n",
      "2994                    1  294323.65             7.38        123.33  FEMALE   \n",
      "2995                    1  358074.82             6.78        125.64       0   \n",
      "2996                    1  842853.75             1.56        134.79       0   \n",
      "2997                    1  380698.35             5.76        121.08       1   \n",
      "2998                    0  670601.25       9.13 mg/dL        145.21       1   \n",
      "2999                    1        NaN              1.9        133.12       1   \n",
      "\n",
      "      smoking  time  DEATH_EVENT  \n",
      "2970        0    35          1.0  \n",
      "2971        1    10          NaN  \n",
      "2972        1   177          1.0  \n",
      "2973        0   149          NaN  \n",
      "2974        0   255          1.0  \n",
      "2975        1   169          1.0  \n",
      "2976        1   106          0.0  \n",
      "2977        1   196          1.0  \n",
      "2978        1    20          0.0  \n",
      "2979        0    93          0.0  \n",
      "2980        0    89          0.0  \n",
      "2981        0   106          0.0  \n",
      "2982        0    85          1.0  \n",
      "2983        0   129          1.0  \n",
      "2984        0    41          0.0  \n",
      "2985        1   216          0.0  \n",
      "2986        0   228          1.0  \n",
      "2987        1   225          NaN  \n",
      "2988        1   250          1.0  \n",
      "2989        0   139          NaN  \n",
      "2990        1   234          1.0  \n",
      "2991        0    12          1.0  \n",
      "2992        0   228          0.0  \n",
      "2993        1   110          0.0  \n",
      "2994        1   190          1.0  \n",
      "2995        1   224          0.0  \n",
      "2996        1    98          0.0  \n",
      "2997        1   198          0.0  \n",
      "2998        1   245          0.0  \n",
      "2999        1   233          0.0  \n"
     ]
    }
   ],
   "source": [
    "# Definición de las columnas y sus tipos de datos esperados\n",
    "# Basado en la estructura del dataset \"heart_failure_clinical_records_dataset\"\n",
    "columns = [\n",
    "    'age', 'anaemia', 'creatinine_phosphokinase', 'diabetes',\n",
    "    'ejection_fraction', 'high_blood_pressure', 'platelets',\n",
    "    'serum_creatinine', 'serum_sodium', 'sex', 'smoking', 'time',\n",
    "    'DEATH_EVENT'\n",
    "]\n",
    "\n",
    "# Rango de valores (aproximados, basados en el dataset original) para la generación sintética\n",
    "data_ranges = {\n",
    "    'age': (40, 95),\n",
    "    'anaemia': (0, 1), # Binario\n",
    "    'creatinine_phosphokinase': (23, 7861), # Valor alto para simular la dispersión\n",
    "    'diabetes': (0, 1), # Binario\n",
    "    'ejection_fraction': (14, 80),\n",
    "    'high_blood_pressure': (0, 1), # Binario\n",
    "    'platelets': (100000, 850000), # Rango amplio\n",
    "    'serum_creatinine': (0.5, 9.4),\n",
    "    'serum_sodium': (113, 148),\n",
    "    'sex': (0, 1), # Binario (Mujer=0, Hombre=1 o viceversa, solo necesitamos el binario)\n",
    "    'smoking': (0, 1), # Binario\n",
    "    'time': (4, 285),\n",
    "    'DEATH_EVENT': (0, 1) # Binario (Target)\n",
    "}\n",
    "\n",
    "# --- 1. Simulación de los 299 Registros Originales (Base) ---\n",
    "# Creamos un DataFrame base de 299 filas con datos limpios y aleatorios dentro del rango,\n",
    "# para simular la parte original del dataset.\n",
    "\n",
    "np.random.seed(42) # Para reproducibilidad\n",
    "\n",
    "base_records = 299\n",
    "data_base = {}\n",
    "\n",
    "# Generar datos limpios para la base\n",
    "for col in columns:\n",
    "    min_val, max_val = data_ranges[col]\n",
    "\n",
    "    if col in ['age', 'creatinine_phosphokinase', 'ejection_fraction', 'time']:\n",
    "        data_base[col] = np.random.randint(min_val, max_val + 1, base_records)\n",
    "    elif col in ['anaemia', 'diabetes', 'high_blood_pressure', 'sex', 'smoking', 'DEATH_EVENT']:\n",
    "        data_base[col] = np.random.randint(min_val, max_val + 1, base_records)\n",
    "    elif col in ['platelets']:\n",
    "        # Simular números grandes, a veces con decimales como en el dataset original\n",
    "        data_base[col] = np.round(np.random.uniform(min_val, max_val, base_records), 2)\n",
    "    elif col in ['serum_creatinine', 'serum_sodium']:\n",
    "        data_base[col] = np.round(np.random.uniform(min_val, max_val, base_records), 2)\n",
    "\n",
    "df_base = pd.DataFrame(data_base)\n",
    "\n",
    "# Asegurar que las columnas binarias y enteras sean de tipo entero en la base\n",
    "int_cols = ['age', 'anaemia', 'creatinine_phosphokinase', 'diabetes',\n",
    "            'ejection_fraction', 'high_blood_pressure', 'sex', 'smoking',\n",
    "            'time', 'DEATH_EVENT']\n",
    "for col in int_cols:\n",
    "    df_base[col] = df_base[col].astype(int)\n",
    "\n",
    "\n",
    "# --- 2. y 3. Generación de 2701 Registros Sintéticos con Errores ---\n",
    "\n",
    "new_records = 3000 - base_records\n",
    "data_new = {}\n",
    "\n",
    "# Generar datos base para los nuevos registros\n",
    "for col in columns:\n",
    "    min_val, max_val = data_ranges[col]\n",
    "\n",
    "    if col in ['age', 'creatinine_phosphokinase', 'ejection_fraction', 'time']:\n",
    "        data_new[col] = np.random.randint(min_val, max_val + 1, new_records)\n",
    "    elif col in ['anaemia', 'diabetes', 'high_blood_pressure', 'sex', 'smoking', 'DEATH_EVENT']:\n",
    "        data_new[col] = np.random.randint(min_val, max_val + 1, new_records)\n",
    "    elif col in ['platelets']:\n",
    "        data_new[col] = np.round(np.random.uniform(min_val, max_val, new_records), 2)\n",
    "    elif col in ['serum_creatinine', 'serum_sodium']:\n",
    "        data_new[col] = np.round(np.random.uniform(min_val, max_val, new_records), 2)\n",
    "\n",
    "df_new = pd.DataFrame(data_new)\n",
    "\n",
    "\n",
    "### INTRODUCCIÓN DE AJUSTES Y ERRORES (Nulos y Tipos de Datos) ###\n",
    "\n",
    "# 1. VALORES NULOS (NaN)\n",
    "# Se introduce NaN en aproximadamente el 5% al 15% de los nuevos registros para algunas columnas\n",
    "np.random.seed(43) # Nueva semilla para la introducción de errores\n",
    "\n",
    "# Columnas seleccionadas para nulos (mezclando tipos)\n",
    "null_cols = ['age', 'creatinine_phosphokinase', 'platelets', 'serum_creatinine', 'DEATH_EVENT']\n",
    "\n",
    "for col in null_cols:\n",
    "    nan_count = int(new_records * random.uniform(0.05, 0.15))\n",
    "    nan_indices = np.random.choice(df_new.index, nan_count, replace=False)\n",
    "    df_new.loc[nan_indices, col] = np.nan\n",
    "\n",
    "# 2. CAMBIOS EN EL TIPO DE DATO (para forzar conversión o limpieza)\n",
    "\n",
    "# a) Conversión de Binarias/Enteras a Texto (String) o Nombres\n",
    "# La columna 'sex' (0 o 1) se convierte a 'MALE'/'FEMALE' en algunos registros para requerir mapeo\n",
    "string_conversion_count = int(new_records * 0.10)\n",
    "string_indices = np.random.choice(df_new.index, string_conversion_count, replace=False)\n",
    "\n",
    "for i in string_indices:\n",
    "    # Si es 1, conviértelo a 'Male', si es 0, conviértelo a 'Female'.\n",
    "    # Usamos una mezcla de 'Male'/'male' para simular inconsistencias\n",
    "    if df_new.loc[i, 'sex'] == 1:\n",
    "        df_new.loc[i, 'sex'] = random.choice(['MALE', 'male'])\n",
    "    else:\n",
    "        df_new.loc[i, 'sex'] = random.choice(['FEMALE', 'female'])\n",
    "\n",
    "# b) Conversión de Decimales a Texto con caracteres no numéricos\n",
    "# La columna 'serum_creatinine' se convierte a string con un símbolo/unidad en algunos casos\n",
    "string_unit_count = int(new_records * 0.08)\n",
    "string_unit_indices = np.random.choice(df_new.index, string_unit_count, replace=False)\n",
    "\n",
    "for i in string_unit_indices:\n",
    "    original_value = df_new.loc[i, 'serum_creatinine']\n",
    "    if not pd.isna(original_value): # No modificar si ya es NaN\n",
    "        df_new.loc[i, 'serum_creatinine'] = f\"{original_value:.2f} mg/dL\"\n",
    "    else:\n",
    "        df_new.loc[i, 'serum_creatinine'] = 'Desconocido' # Otro valor no numérico\n",
    "\n",
    "# c) Valores inconsistentes para booleanas/binarias\n",
    "# La columna 'diabetes' (0 o 1) se convierte a 'YES'/'NO'/'N/A'/'2' en algunos registros\n",
    "inconsistent_count = int(new_records * 0.12)\n",
    "inconsistent_indices = np.random.choice(df_new.index, inconsistent_count, replace=False)\n",
    "\n",
    "for i in inconsistent_indices:\n",
    "    if df_new.loc[i, 'diabetes'] == 1:\n",
    "        df_new.loc[i, 'diabetes'] = random.choice(['YES', 2]) # Mezcla de string y otro entero\n",
    "    else:\n",
    "        df_new.loc[i, 'diabetes'] = random.choice(['NO', 'N/A', 0]) # Mezcla de string y valor correcto\n",
    "\n",
    "# d) Valores extremos no válidos o placeholders\n",
    "# En 'ejection_fraction' (debería ser 14-80%), se introducen valores como -1 o 999\n",
    "extreme_count = int(new_records * 0.04)\n",
    "extreme_indices = np.random.choice(df_new.index, extreme_count, replace=False)\n",
    "for i in extreme_indices:\n",
    "    df_new.loc[i, 'ejection_fraction'] = random.choice([-1, 999])\n",
    "\n",
    "# --- 4. Combinar y Guardar ---\n",
    "\n",
    "# Concatenar la base (limpia) y los nuevos registros (con errores)\n",
    "df_final = pd.concat([df_base, df_new], ignore_index=True)\n",
    "\n",
    "# Reordenar las columnas para asegurar el formato original\n",
    "df_final = df_final[columns]\n",
    "\n",
    "# Guardar el DataFrame final en un archivo CSV\n",
    "output_filename = 'heart_failure_clinical_records_extended.csv'\n",
    "df_final.to_csv(output_filename, index=False)\n",
    "\n",
    "print(f\"Base de datos generada: {output_filename}\")\n",
    "print(f\"Total de registros: {len(df_final)}\")\n",
    "print(f\"Registros originales (simulados): {len(df_base)}\")\n",
    "print(f\"Registros nuevos (con errores): {len(df_new)}\")\n",
    "\n",
    "# Muestra de las primeras filas con los errores introducidos\n",
    "print(\"\\nPrimeras filas del CSV final:\")\n",
    "print(df_final.head(30))\n",
    "print(\"\\nÚltimas filas del CSV final (donde se concentran los errores):\")\n",
    "print(df_final.tail(30))\n",
    "\n",
    "df = df_final.copy()"
   ]
  },
  {
   "cell_type": "markdown",
   "id": "b7c77655",
   "metadata": {},
   "source": [
    "## 🧾 Descripción del Dataset\n",
    "\n",
    "**Nombre del dataset:** `heart-failure-clinical-data`  \n",
    "**Fuente:** Kaggle  \n",
    "**Tipo de problema:** Clasificación binaria  \n",
    "**Licencia:** Apache 2.0\n",
    "\n",
    "### 🔍 Variables incluidas:\n",
    "El dataset contiene variables clínicas relevantes para pacientes con insuficiencia cardíaca. Algunas de las variables clave incluyen:\n",
    "\n",
    "- `age`: Edad del paciente\n",
    "- `anaemia`: Presencia de anemia (booleano)\n",
    "- `creatinine_phosphokinase`: Nivel de la enzima CPK\n",
    "- `diabetes`: Diagnóstico de diabetes (booleano)\n",
    "- `ejection_fraction`: Porcentaje de sangre expulsada por el corazón\n",
    "- `high_blood_pressure`: Presión arterial alta (booleano)\n",
    "- `platelets`: Recuento de plaquetas\n",
    "- `serum_creatinine`: Nivel de creatinina en sangre\n",
    "- `serum_sodium`: Nivel de sodio en sangre\n",
    "- `sex`: Sexo del paciente\n",
    "- `smoking`: Fumador (booleano)\n",
    "- `time`: Tiempo de seguimiento en días\n",
    "- `DEATH_EVENT`: Variable objetivo (0 = sobrevivió, 1 = falleció)\n",
    "\n",
    "## 🎯 Objetivo del Estudio\n",
    "\n",
    "El propósito principal del notebook es comparar el rendimiento de dos modelos de clasificación ampliamente utilizados en la industria:\n",
    "\n",
    "1. **Regresión Logística**\n",
    "3. **Bosque Aleatorio (Random Forest)**\n",
    "\n",
    "### Objetivos específicos:\n",
    "\n",
    "- Evaluar la capacidad predictiva de cada modelo sobre la variable `DEATH_EVENT`.\n",
    "- Analizar las ventajas y desventajas de cada enfoque en términos de:\n",
    "  - Interpretabilidad\n",
    "  - Precisión\n",
    "  - Curvas ROC y PR\n",
    "  - Robustez frente al sobreajuste\n",
    "\n",
    "## 📈 Aplicaciones del análisis\n",
    "\n",
    "Este tipo de estudio es útil para:\n",
    "\n",
    "- Profesionales de la salud que buscan herramientas predictivas para evaluar riesgos clínicos.\n",
    "- Científicos de datos que desean entender el comportamiento de distintos algoritmos de clasificación en contextos médicos.\n",
    "- Estudiantes y desarrolladores que exploran técnicas de machine learning aplicadas a datos reales.\n"
   ]
  },
  {
   "cell_type": "markdown",
   "id": "af44cc21",
   "metadata": {},
   "source": [
    "## 🧬 Estructura del Dataset `heart-failure-clinical-data`\n",
    "\n",
    "Este dataset contiene información clínica de pacientes con insuficiencia cardíaca. La tabla siguiente describe cada columna, su tipo de dato y su significado clínico:\n",
    "\n",
    "| Columna                    | Tipo de dato | Descripción                                                                 |\n",
    "|----------------------------|--------------|------------------------------------------------------------------------------|\n",
    "| `age`                      | Numérico     | Edad del paciente en años.                                                  |\n",
    "| `anaemia`                  | Binario      | Disminución de glóbulos rojos o hemoglobina (1 = sí, 0 = no).               |\n",
    "| `creatinine_phosphokinase`| Numérico     | Nivel de la enzima CPK en sangre (mcg/L).                                   |\n",
    "| `diabetes`                 | Binario      | Indica si el paciente tiene diabetes (1 = sí, 0 = no).                      |\n",
    "| `ejection_fraction`        | Numérico     | Porcentaje de sangre expulsada por el corazón en cada contracción.         |\n",
    "| `high_blood_pressure`      | Binario      | Indica si el paciente tiene hipertensión (1 = sí, 0 = no).                  |\n",
    "| `platelets`                | Numérico     | Número de plaquetas en sangre (kiloplaquetas/mL).                           |\n",
    "| `serum_creatinine`         | Numérico     | Nivel de creatinina en sangre (mg/dL).                                      |\n",
    "| `serum_sodium`             | Numérico     | Nivel de sodio en sangre (mEq/L).                                           |\n",
    "| `sex`                      | Binario      | Sexo del paciente (1 = masculino, 0 = femenino).                            |\n",
    "| `smoking`                  | Binario      | Indica si el paciente fuma (1 = sí, 0 = no).                                |\n",
    "| `time`                     | Numérico     | Tiempo de seguimiento del paciente (en días).                               |\n",
    "| `DEATH_EVENT`              | Binario      | Variable objetivo: indica si el paciente falleció durante el seguimiento.  |\n"
   ]
  },
  {
   "cell_type": "markdown",
   "id": "2c523007",
   "metadata": {},
   "source": [
    "## 🔎 Exploración Rápida de Datos (EDA)\n",
    "\n",
    "Este bloque de código realiza un análisis exploratorio inicial sobre un DataFrame `df`, con el objetivo de comprender su estructura, calidad de datos y detectar la variable objetivo para tareas de clasificación o regresión.\n",
    "\n",
    "### 🧩 1. Información general del dataset\n",
    "- **`df.shape`**: Muestra el número de filas y columnas del dataset.\n",
    "- **`df.columns.tolist()`**: Lista los nombres de las columnas presentes.\n",
    "- **`df.info()`**: Proporciona información sobre el tipo de datos de cada columna, cantidad de valores no nulos y uso de memoria.\n",
    "\n",
    "### 📊 2. Estadísticas descriptivas\n",
    "\n",
    "- Se genera un resumen estadístico de las columnas numéricas: media, desviación estándar, valores mínimos, máximos y percentiles.\n",
    "- La transposición (`.T`) permite visualizar las estadísticas en formato vertical, facilitando la lectura.\n",
    "\n",
    "### 🧼 3. Detección de valores nulos\n",
    "\n",
    "- Se calcula el número de valores nulos por columna para evaluar la calidad del dataset y decidir si es necesario imputar o eliminar datos.\n",
    "\n",
    "### 🎯 4. Identificación de la variable objetivo\n",
    "\n",
    "- Se busca automáticamente una columna llamada `target` o `label`, que comúnmente representa la variable objetivo.\n",
    "- Si no se encuentra, se asume que la última columna podría ser la etiqueta.\n",
    "\n",
    "### 📈 5. Distribución de la variable objetivo\n",
    "\n",
    "- Se muestra la distribución de clases en la variable objetivo, útil para detectar desbalance de clases.\n",
    "- Si no se detecta una columna explícita como `target` o `label`, se analiza la última columna como posible candidata."
   ]
  },
  {
   "cell_type": "markdown",
   "id": "469aa780",
   "metadata": {},
   "source": []
  },
  {
   "cell_type": "code",
   "execution_count": 276,
   "id": "d867c24b",
   "metadata": {},
   "outputs": [
    {
     "name": "stdout",
     "output_type": "stream",
     "text": [
      "Shape: (3000, 13)\n",
      "\n",
      "Columnas: ['age', 'anaemia', 'creatinine_phosphokinase', 'diabetes', 'ejection_fraction', 'high_blood_pressure', 'platelets', 'serum_creatinine', 'serum_sodium', 'sex', 'smoking', 'time', 'DEATH_EVENT']\n",
      "\n",
      "Info:\n",
      "<class 'pandas.core.frame.DataFrame'>\n",
      "RangeIndex: 3000 entries, 0 to 2999\n",
      "Data columns (total 13 columns):\n",
      " #   Column                    Non-Null Count  Dtype  \n",
      "---  ------                    --------------  -----  \n",
      " 0   age                       2780 non-null   float64\n",
      " 1   anaemia                   3000 non-null   int64  \n",
      " 2   creatinine_phosphokinase  2665 non-null   float64\n",
      " 3   diabetes                  3000 non-null   object \n",
      " 4   ejection_fraction         3000 non-null   int64  \n",
      " 5   high_blood_pressure       3000 non-null   int64  \n",
      " 6   platelets                 2674 non-null   float64\n",
      " 7   serum_creatinine          2775 non-null   object \n",
      " 8   serum_sodium              3000 non-null   float64\n",
      " 9   sex                       3000 non-null   object \n",
      " 10  smoking                   3000 non-null   int64  \n",
      " 11  time                      3000 non-null   int64  \n",
      " 12  DEATH_EVENT               2777 non-null   float64\n",
      "dtypes: float64(5), int64(5), object(3)\n",
      "memory usage: 304.8+ KB\n"
     ]
    },
    {
     "data": {
      "text/plain": [
       "None"
      ]
     },
     "metadata": {},
     "output_type": "display_data"
    },
    {
     "name": "stdout",
     "output_type": "stream",
     "text": [
      "\n",
      "Descripción numérica:\n"
     ]
    },
    {
     "data": {
      "application/vnd.microsoft.datawrangler.viewer.v0+json": {
       "columns": [
        {
         "name": "index",
         "rawType": "object",
         "type": "string"
        },
        {
         "name": "count",
         "rawType": "float64",
         "type": "float"
        },
        {
         "name": "mean",
         "rawType": "float64",
         "type": "float"
        },
        {
         "name": "std",
         "rawType": "float64",
         "type": "float"
        },
        {
         "name": "min",
         "rawType": "float64",
         "type": "float"
        },
        {
         "name": "25%",
         "rawType": "float64",
         "type": "float"
        },
        {
         "name": "50%",
         "rawType": "float64",
         "type": "float"
        },
        {
         "name": "75%",
         "rawType": "float64",
         "type": "float"
        },
        {
         "name": "max",
         "rawType": "float64",
         "type": "float"
        }
       ],
       "ref": "1c741e9c-7760-4261-8dcc-e88540576c8a",
       "rows": [
        [
         "age",
         "2780.0",
         "67.63453237410071",
         "16.240286879155416",
         "40.0",
         "54.0",
         "67.0",
         "82.0",
         "95.0"
        ],
        [
         "anaemia",
         "3000.0",
         "0.505",
         "0.5000583493796114",
         "0.0",
         "0.0",
         "1.0",
         "1.0",
         "1.0"
        ],
        [
         "creatinine_phosphokinase",
         "2665.0",
         "3869.3088180112572",
         "2242.016552690586",
         "25.0",
         "1872.0",
         "3793.0",
         "5758.0",
         "7856.0"
        ],
        [
         "ejection_fraction",
         "3000.0",
         "62.24733333333333",
         "124.80355284134674",
         "-1.0",
         "30.0",
         "47.0",
         "64.0",
         "999.0"
        ],
        [
         "high_blood_pressure",
         "3000.0",
         "0.49333333333333335",
         "0.5000389003429376",
         "0.0",
         "0.0",
         "0.0",
         "1.0",
         "1.0"
        ],
        [
         "platelets",
         "2674.0",
         "474175.5059723261",
         "218965.29678660497",
         "100902.71",
         "277851.7875",
         "469258.48",
         "670731.81",
         "849853.86"
        ],
        [
         "serum_sodium",
         "3000.0",
         "130.77063333333334",
         "10.069368943940757",
         "113.02",
         "122.2475",
         "130.735",
         "139.42249999999999",
         "148.0"
        ],
        [
         "smoking",
         "3000.0",
         "0.48033333333333333",
         "0.4996963621777531",
         "0.0",
         "0.0",
         "0.0",
         "1.0",
         "1.0"
        ],
        [
         "time",
         "3000.0",
         "141.50566666666666",
         "81.53105996572882",
         "4.0",
         "71.75",
         "137.0",
         "214.0",
         "285.0"
        ],
        [
         "DEATH_EVENT",
         "2777.0",
         "0.49045732805185455",
         "0.49999896224437496",
         "0.0",
         "0.0",
         "0.0",
         "1.0",
         "1.0"
        ]
       ],
       "shape": {
        "columns": 8,
        "rows": 10
       }
      },
      "text/html": [
       "<div>\n",
       "<style scoped>\n",
       "    .dataframe tbody tr th:only-of-type {\n",
       "        vertical-align: middle;\n",
       "    }\n",
       "\n",
       "    .dataframe tbody tr th {\n",
       "        vertical-align: top;\n",
       "    }\n",
       "\n",
       "    .dataframe thead th {\n",
       "        text-align: right;\n",
       "    }\n",
       "</style>\n",
       "<table border=\"1\" class=\"dataframe\">\n",
       "  <thead>\n",
       "    <tr style=\"text-align: right;\">\n",
       "      <th></th>\n",
       "      <th>count</th>\n",
       "      <th>mean</th>\n",
       "      <th>std</th>\n",
       "      <th>min</th>\n",
       "      <th>25%</th>\n",
       "      <th>50%</th>\n",
       "      <th>75%</th>\n",
       "      <th>max</th>\n",
       "    </tr>\n",
       "  </thead>\n",
       "  <tbody>\n",
       "    <tr>\n",
       "      <th>age</th>\n",
       "      <td>2780.0</td>\n",
       "      <td>67.634532</td>\n",
       "      <td>16.240287</td>\n",
       "      <td>40.00</td>\n",
       "      <td>54.0000</td>\n",
       "      <td>67.000</td>\n",
       "      <td>82.0000</td>\n",
       "      <td>95.00</td>\n",
       "    </tr>\n",
       "    <tr>\n",
       "      <th>anaemia</th>\n",
       "      <td>3000.0</td>\n",
       "      <td>0.505000</td>\n",
       "      <td>0.500058</td>\n",
       "      <td>0.00</td>\n",
       "      <td>0.0000</td>\n",
       "      <td>1.000</td>\n",
       "      <td>1.0000</td>\n",
       "      <td>1.00</td>\n",
       "    </tr>\n",
       "    <tr>\n",
       "      <th>creatinine_phosphokinase</th>\n",
       "      <td>2665.0</td>\n",
       "      <td>3869.308818</td>\n",
       "      <td>2242.016553</td>\n",
       "      <td>25.00</td>\n",
       "      <td>1872.0000</td>\n",
       "      <td>3793.000</td>\n",
       "      <td>5758.0000</td>\n",
       "      <td>7856.00</td>\n",
       "    </tr>\n",
       "    <tr>\n",
       "      <th>ejection_fraction</th>\n",
       "      <td>3000.0</td>\n",
       "      <td>62.247333</td>\n",
       "      <td>124.803553</td>\n",
       "      <td>-1.00</td>\n",
       "      <td>30.0000</td>\n",
       "      <td>47.000</td>\n",
       "      <td>64.0000</td>\n",
       "      <td>999.00</td>\n",
       "    </tr>\n",
       "    <tr>\n",
       "      <th>high_blood_pressure</th>\n",
       "      <td>3000.0</td>\n",
       "      <td>0.493333</td>\n",
       "      <td>0.500039</td>\n",
       "      <td>0.00</td>\n",
       "      <td>0.0000</td>\n",
       "      <td>0.000</td>\n",
       "      <td>1.0000</td>\n",
       "      <td>1.00</td>\n",
       "    </tr>\n",
       "    <tr>\n",
       "      <th>platelets</th>\n",
       "      <td>2674.0</td>\n",
       "      <td>474175.505972</td>\n",
       "      <td>218965.296787</td>\n",
       "      <td>100902.71</td>\n",
       "      <td>277851.7875</td>\n",
       "      <td>469258.480</td>\n",
       "      <td>670731.8100</td>\n",
       "      <td>849853.86</td>\n",
       "    </tr>\n",
       "    <tr>\n",
       "      <th>serum_sodium</th>\n",
       "      <td>3000.0</td>\n",
       "      <td>130.770633</td>\n",
       "      <td>10.069369</td>\n",
       "      <td>113.02</td>\n",
       "      <td>122.2475</td>\n",
       "      <td>130.735</td>\n",
       "      <td>139.4225</td>\n",
       "      <td>148.00</td>\n",
       "    </tr>\n",
       "    <tr>\n",
       "      <th>smoking</th>\n",
       "      <td>3000.0</td>\n",
       "      <td>0.480333</td>\n",
       "      <td>0.499696</td>\n",
       "      <td>0.00</td>\n",
       "      <td>0.0000</td>\n",
       "      <td>0.000</td>\n",
       "      <td>1.0000</td>\n",
       "      <td>1.00</td>\n",
       "    </tr>\n",
       "    <tr>\n",
       "      <th>time</th>\n",
       "      <td>3000.0</td>\n",
       "      <td>141.505667</td>\n",
       "      <td>81.531060</td>\n",
       "      <td>4.00</td>\n",
       "      <td>71.7500</td>\n",
       "      <td>137.000</td>\n",
       "      <td>214.0000</td>\n",
       "      <td>285.00</td>\n",
       "    </tr>\n",
       "    <tr>\n",
       "      <th>DEATH_EVENT</th>\n",
       "      <td>2777.0</td>\n",
       "      <td>0.490457</td>\n",
       "      <td>0.499999</td>\n",
       "      <td>0.00</td>\n",
       "      <td>0.0000</td>\n",
       "      <td>0.000</td>\n",
       "      <td>1.0000</td>\n",
       "      <td>1.00</td>\n",
       "    </tr>\n",
       "  </tbody>\n",
       "</table>\n",
       "</div>"
      ],
      "text/plain": [
       "                           count           mean            std        min  \\\n",
       "age                       2780.0      67.634532      16.240287      40.00   \n",
       "anaemia                   3000.0       0.505000       0.500058       0.00   \n",
       "creatinine_phosphokinase  2665.0    3869.308818    2242.016553      25.00   \n",
       "ejection_fraction         3000.0      62.247333     124.803553      -1.00   \n",
       "high_blood_pressure       3000.0       0.493333       0.500039       0.00   \n",
       "platelets                 2674.0  474175.505972  218965.296787  100902.71   \n",
       "serum_sodium              3000.0     130.770633      10.069369     113.02   \n",
       "smoking                   3000.0       0.480333       0.499696       0.00   \n",
       "time                      3000.0     141.505667      81.531060       4.00   \n",
       "DEATH_EVENT               2777.0       0.490457       0.499999       0.00   \n",
       "\n",
       "                                  25%         50%          75%        max  \n",
       "age                           54.0000      67.000      82.0000      95.00  \n",
       "anaemia                        0.0000       1.000       1.0000       1.00  \n",
       "creatinine_phosphokinase    1872.0000    3793.000    5758.0000    7856.00  \n",
       "ejection_fraction             30.0000      47.000      64.0000     999.00  \n",
       "high_blood_pressure            0.0000       0.000       1.0000       1.00  \n",
       "platelets                 277851.7875  469258.480  670731.8100  849853.86  \n",
       "serum_sodium                 122.2475     130.735     139.4225     148.00  \n",
       "smoking                        0.0000       0.000       1.0000       1.00  \n",
       "time                          71.7500     137.000     214.0000     285.00  \n",
       "DEATH_EVENT                    0.0000       0.000       1.0000       1.00  "
      ]
     },
     "metadata": {},
     "output_type": "display_data"
    }
   ],
   "source": [
    "print(\"Shape:\", df.shape)\n",
    "print(\"\\nColumnas:\", df.columns.tolist())\n",
    "print(\"\\nInfo:\")\n",
    "display(df.info())\n",
    "\n",
    "print(\"\\nDescripción numérica:\")\n",
    "display(df.describe().T)"
   ]
  },
  {
   "cell_type": "code",
   "execution_count": 277,
   "id": "ad5ea1a6",
   "metadata": {},
   "outputs": [
    {
     "name": "stdout",
     "output_type": "stream",
     "text": [
      "Tipos de datos:\n"
     ]
    },
    {
     "data": {
      "application/vnd.microsoft.datawrangler.viewer.v0+json": {
       "columns": [
        {
         "name": "index",
         "rawType": "object",
         "type": "string"
        },
        {
         "name": "0",
         "rawType": "object",
         "type": "unknown"
        }
       ],
       "ref": "746a5d91-0152-4dfe-a4c9-3103f2e4512b",
       "rows": [
        [
         "age",
         "float64"
        ],
        [
         "anaemia",
         "int64"
        ],
        [
         "creatinine_phosphokinase",
         "float64"
        ],
        [
         "diabetes",
         "object"
        ],
        [
         "ejection_fraction",
         "int64"
        ],
        [
         "high_blood_pressure",
         "int64"
        ],
        [
         "platelets",
         "float64"
        ],
        [
         "serum_creatinine",
         "object"
        ],
        [
         "serum_sodium",
         "float64"
        ],
        [
         "sex",
         "object"
        ],
        [
         "smoking",
         "int64"
        ],
        [
         "time",
         "int64"
        ],
        [
         "DEATH_EVENT",
         "float64"
        ]
       ],
       "shape": {
        "columns": 1,
        "rows": 13
       }
      },
      "text/plain": [
       "age                         float64\n",
       "anaemia                       int64\n",
       "creatinine_phosphokinase    float64\n",
       "diabetes                     object\n",
       "ejection_fraction             int64\n",
       "high_blood_pressure           int64\n",
       "platelets                   float64\n",
       "serum_creatinine             object\n",
       "serum_sodium                float64\n",
       "sex                          object\n",
       "smoking                       int64\n",
       "time                          int64\n",
       "DEATH_EVENT                 float64\n",
       "dtype: object"
      ]
     },
     "metadata": {},
     "output_type": "display_data"
    },
    {
     "name": "stdout",
     "output_type": "stream",
     "text": [
      "\n",
      "Valores nulos por columna:\n"
     ]
    },
    {
     "data": {
      "application/vnd.microsoft.datawrangler.viewer.v0+json": {
       "columns": [
        {
         "name": "index",
         "rawType": "object",
         "type": "string"
        },
        {
         "name": "0",
         "rawType": "int64",
         "type": "integer"
        }
       ],
       "ref": "fea68906-ad79-4d3c-b901-3b00aa795054",
       "rows": [
        [
         "age",
         "220"
        ],
        [
         "anaemia",
         "0"
        ],
        [
         "creatinine_phosphokinase",
         "335"
        ],
        [
         "diabetes",
         "0"
        ],
        [
         "ejection_fraction",
         "0"
        ],
        [
         "high_blood_pressure",
         "0"
        ],
        [
         "platelets",
         "326"
        ],
        [
         "serum_creatinine",
         "225"
        ],
        [
         "serum_sodium",
         "0"
        ],
        [
         "sex",
         "0"
        ],
        [
         "smoking",
         "0"
        ],
        [
         "time",
         "0"
        ],
        [
         "DEATH_EVENT",
         "223"
        ]
       ],
       "shape": {
        "columns": 1,
        "rows": 13
       }
      },
      "text/plain": [
       "age                         220\n",
       "anaemia                       0\n",
       "creatinine_phosphokinase    335\n",
       "diabetes                      0\n",
       "ejection_fraction             0\n",
       "high_blood_pressure           0\n",
       "platelets                   326\n",
       "serum_creatinine            225\n",
       "serum_sodium                  0\n",
       "sex                           0\n",
       "smoking                       0\n",
       "time                          0\n",
       "DEATH_EVENT                 223\n",
       "dtype: int64"
      ]
     },
     "metadata": {},
     "output_type": "display_data"
    },
    {
     "name": "stdout",
     "output_type": "stream",
     "text": [
      "\n",
      "Conteos únicos por columna (hasta 10 mostrados):\n"
     ]
    },
    {
     "data": {
      "application/vnd.microsoft.datawrangler.viewer.v0+json": {
       "columns": [
        {
         "name": "index",
         "rawType": "object",
         "type": "string"
        },
        {
         "name": "0",
         "rawType": "int64",
         "type": "integer"
        }
       ],
       "ref": "ea5159ce-91ed-4859-8328-21345a677054",
       "rows": [
        [
         "platelets",
         "2674"
        ],
        [
         "creatinine_phosphokinase",
         "2231"
        ],
        [
         "serum_sodium",
         "1993"
        ],
        [
         "serum_creatinine",
         "1019"
        ],
        [
         "time",
         "282"
        ],
        [
         "ejection_fraction",
         "69"
        ],
        [
         "age",
         "56"
        ],
        [
         "sex",
         "6"
        ],
        [
         "diabetes",
         "6"
        ],
        [
         "anaemia",
         "2"
        ],
        [
         "high_blood_pressure",
         "2"
        ],
        [
         "smoking",
         "2"
        ],
        [
         "DEATH_EVENT",
         "2"
        ]
       ],
       "shape": {
        "columns": 1,
        "rows": 13
       }
      },
      "text/plain": [
       "platelets                   2674\n",
       "creatinine_phosphokinase    2231\n",
       "serum_sodium                1993\n",
       "serum_creatinine            1019\n",
       "time                         282\n",
       "ejection_fraction             69\n",
       "age                           56\n",
       "sex                            6\n",
       "diabetes                       6\n",
       "anaemia                        2\n",
       "high_blood_pressure            2\n",
       "smoking                        2\n",
       "DEATH_EVENT                    2\n",
       "dtype: int64"
      ]
     },
     "metadata": {},
     "output_type": "display_data"
    },
    {
     "name": "stdout",
     "output_type": "stream",
     "text": [
      "\n",
      "Distribución de DEATH_EVENT:\n"
     ]
    },
    {
     "data": {
      "application/vnd.microsoft.datawrangler.viewer.v0+json": {
       "columns": [
        {
         "name": "DEATH_EVENT",
         "rawType": "Int64",
         "type": "integer"
        },
        {
         "name": "count",
         "rawType": "Int64",
         "type": "integer"
        }
       ],
       "ref": "6bf0cf1a-9186-4e17-a0d1-a69638333aa3",
       "rows": [
        [
         "0",
         "1415"
        ],
        [
         "1",
         "1362"
        ],
        [
         null,
         "223"
        ]
       ],
       "shape": {
        "columns": 1,
        "rows": 3
       }
      },
      "text/plain": [
       "DEATH_EVENT\n",
       "0       1415\n",
       "1       1362\n",
       "<NA>     223\n",
       "Name: count, dtype: Int64"
      ]
     },
     "metadata": {},
     "output_type": "display_data"
    }
   ],
   "source": [
    "# Tipos, nulos, valores únicos\n",
    "print(\"Tipos de datos:\")\n",
    "display(df.dtypes)\n",
    "print(\"\\nValores nulos por columna:\")\n",
    "display(df.isnull().sum())\n",
    "print(\"\\nConteos únicos por columna (hasta 10 mostrados):\")\n",
    "display(df.nunique().sort_values(ascending=False).head(20))\n",
    "\n",
    "# Asegurar que la columna target está presente y es entera\n",
    "target_col = \"DEATH_EVENT\"\n",
    "if target_col not in df.columns:\n",
    "    raise KeyError(f\"No se encontró la columna objetivo '{target_col}' en el dataset.\")\n",
    "df[target_col] = pd.to_numeric(df[target_col], errors=\"coerce\").astype(\"Int64\")\n",
    "print(f\"\\nDistribución de {target_col}:\")\n",
    "display(df[target_col].value_counts(dropna=False))\n",
    "\n",
    "# Corregir posibles columnas numéricas mal tipadas (por ejemplo ages con float)\n",
    "for c in df.columns:\n",
    "    if df[c].dtype == \"float64\" and df[c].dropna().apply(float.is_integer).all():\n",
    "        # si son floats que representan enteros, convertir a int\n",
    "        df[c] = df[c].astype(\"Int64\")"
   ]
  },
  {
   "cell_type": "markdown",
   "id": "53e6c3a3",
   "metadata": {},
   "source": [
    "### Después de hacer esta exploración inicial identificamos que hay 13 columnas y 3000 registros. Asimismo, se encuentra que las columnas age, creatinine, platelets, serum_cretinine y Death_event tienen nulos. Y los tipos de datos son númericos y objetos"
   ]
  },
  {
   "cell_type": "markdown",
   "id": "2b4fb0cc",
   "metadata": {},
   "source": [
    "### Seguidamente, se identifica que de las 13 columnas existentes, hay 6 columnas booleanas que indican si se da o no esa situación. \n",
    "\"diabetes\", \"anaemia\", \"high_blood_pressure\", \"sex\", \"smoking\", \"DEATH_EVENT\""
   ]
  },
  {
   "cell_type": "markdown",
   "id": "f9761ad8",
   "metadata": {},
   "source": [
    "## Preprocesamiento inicial de datos\n",
    "\n",
    "### Se eliminan los registros nulos de la variable objetivo (Death_event) debido a que ese valor es relevante para la predicción"
   ]
  },
  {
   "cell_type": "code",
   "execution_count": 278,
   "id": "adf5fc4f",
   "metadata": {},
   "outputs": [
    {
     "name": "stdout",
     "output_type": "stream",
     "text": [
      "\n",
      "Valores nulos por columna:\n"
     ]
    },
    {
     "data": {
      "application/vnd.microsoft.datawrangler.viewer.v0+json": {
       "columns": [
        {
         "name": "index",
         "rawType": "object",
         "type": "string"
        },
        {
         "name": "0",
         "rawType": "int64",
         "type": "integer"
        }
       ],
       "ref": "3a59638f-3344-4c52-8cc7-bf96eb1d6b0d",
       "rows": [
        [
         "age",
         "194"
        ],
        [
         "anaemia",
         "0"
        ],
        [
         "creatinine_phosphokinase",
         "312"
        ],
        [
         "diabetes",
         "0"
        ],
        [
         "ejection_fraction",
         "0"
        ],
        [
         "high_blood_pressure",
         "0"
        ],
        [
         "platelets",
         "304"
        ],
        [
         "serum_creatinine",
         "210"
        ],
        [
         "serum_sodium",
         "0"
        ],
        [
         "sex",
         "0"
        ],
        [
         "smoking",
         "0"
        ],
        [
         "time",
         "0"
        ],
        [
         "DEATH_EVENT",
         "0"
        ]
       ],
       "shape": {
        "columns": 1,
        "rows": 13
       }
      },
      "text/plain": [
       "age                         194\n",
       "anaemia                       0\n",
       "creatinine_phosphokinase    312\n",
       "diabetes                      0\n",
       "ejection_fraction             0\n",
       "high_blood_pressure           0\n",
       "platelets                   304\n",
       "serum_creatinine            210\n",
       "serum_sodium                  0\n",
       "sex                           0\n",
       "smoking                       0\n",
       "time                          0\n",
       "DEATH_EVENT                   0\n",
       "dtype: int64"
      ]
     },
     "metadata": {},
     "output_type": "display_data"
    }
   ],
   "source": [
    "df.dropna(subset=['DEATH_EVENT'], inplace=True)\n",
    "print(\"\\nValores nulos por columna:\")\n",
    "display(df.isnull().sum())"
   ]
  },
  {
   "cell_type": "code",
   "execution_count": 279,
   "id": "380a33b7",
   "metadata": {},
   "outputs": [
    {
     "name": "stdout",
     "output_type": "stream",
     "text": [
      "\n",
      "=== Columna: age ===\n",
      "Tipos por elemento:\n",
      "{<class 'float'>: 2777}\n",
      "\n",
      "=== Columna: anaemia ===\n",
      "Tipos por elemento:\n",
      "{<class 'int'>: 2777}\n",
      "\n",
      "=== Columna: creatinine_phosphokinase ===\n",
      "Tipos por elemento:\n",
      "{<class 'float'>: 2777}\n",
      "\n",
      "=== Columna: diabetes ===\n",
      "Tipos por elemento:\n",
      "{<class 'int'>: 2613, <class 'str'>: 164}\n",
      "\n",
      "=== Columna: ejection_fraction ===\n",
      "Tipos por elemento:\n",
      "{<class 'int'>: 2777}\n",
      "\n",
      "=== Columna: high_blood_pressure ===\n",
      "Tipos por elemento:\n",
      "{<class 'int'>: 2777}\n",
      "\n",
      "=== Columna: platelets ===\n",
      "Tipos por elemento:\n",
      "{<class 'float'>: 2777}\n",
      "\n",
      "=== Columna: serum_creatinine ===\n",
      "Tipos por elemento:\n",
      "{<class 'float'>: 2579, <class 'str'>: 198}\n",
      "\n",
      "=== Columna: serum_sodium ===\n",
      "Tipos por elemento:\n",
      "{<class 'float'>: 2777}\n",
      "\n",
      "=== Columna: sex ===\n",
      "Tipos por elemento:\n",
      "{<class 'int'>: 2535, <class 'str'>: 242}\n",
      "\n",
      "=== Columna: smoking ===\n",
      "Tipos por elemento:\n",
      "{<class 'int'>: 2777}\n",
      "\n",
      "=== Columna: time ===\n",
      "Tipos por elemento:\n",
      "{<class 'int'>: 2777}\n",
      "\n",
      "=== Columna: DEATH_EVENT ===\n",
      "Tipos por elemento:\n",
      "{<class 'int'>: 2777}\n"
     ]
    }
   ],
   "source": [
    "# Reemplaza la celda incompleta por el siguiente código:\n",
    "for col in df.columns:\n",
    "    print(f\"\\n=== Columna: {col} ===\")\n",
    "    # Tipos por elemento\n",
    "    tipos = df[col].apply(type).value_counts()\n",
    "    print(\"Tipos por elemento:\")\n",
    "    print(tipos.to_dict())\n"
   ]
  },
  {
   "cell_type": "markdown",
   "id": "718c9e30",
   "metadata": {},
   "source": [
    "### De la revisión anterior, se identifica que serum_creatinine, sex, diabetes tienen valores que son string, cuando se espera que sean todos numéricos"
   ]
  },
  {
   "cell_type": "markdown",
   "id": "8466c096",
   "metadata": {},
   "source": [
    "### Se hace un procesamiento especial para estas columnas"
   ]
  },
  {
   "cell_type": "markdown",
   "id": "c1cbbfa8",
   "metadata": {},
   "source": [
    "### Para Serum_creatinine:"
   ]
  },
  {
   "cell_type": "code",
   "execution_count": 280,
   "id": "e15c8677",
   "metadata": {},
   "outputs": [
    {
     "data": {
      "application/vnd.microsoft.datawrangler.viewer.v0+json": {
       "columns": [
        {
         "name": "index",
         "rawType": "int64",
         "type": "integer"
        },
        {
         "name": "serum_creatinine",
         "rawType": "object",
         "type": "string"
        }
       ],
       "ref": "031639e1-5057-4f19-b8dc-6890e078cf2f",
       "rows": [
        [
         "301",
         "6.44 mg/dL"
        ],
        [
         "360",
         "4.46 mg/dL"
        ],
        [
         "370",
         "Desconocido"
        ],
        [
         "372",
         "4.40 mg/dL"
        ],
        [
         "398",
         "1.39 mg/dL"
        ],
        [
         "404",
         "6.19 mg/dL"
        ],
        [
         "419",
         "Desconocido"
        ],
        [
         "420",
         "4.23 mg/dL"
        ],
        [
         "433",
         "5.56 mg/dL"
        ],
        [
         "462",
         "1.51 mg/dL"
        ],
        [
         "581",
         "2.58 mg/dL"
        ],
        [
         "582",
         "1.21 mg/dL"
        ],
        [
         "589",
         "Desconocido"
        ],
        [
         "604",
         "7.91 mg/dL"
        ],
        [
         "618",
         "1.18 mg/dL"
        ],
        [
         "624",
         "6.72 mg/dL"
        ],
        [
         "654",
         "4.00 mg/dL"
        ],
        [
         "664",
         "4.85 mg/dL"
        ],
        [
         "677",
         "8.00 mg/dL"
        ],
        [
         "706",
         "7.70 mg/dL"
        ],
        [
         "715",
         "8.02 mg/dL"
        ],
        [
         "724",
         "Desconocido"
        ],
        [
         "744",
         "9.21 mg/dL"
        ],
        [
         "745",
         "5.80 mg/dL"
        ],
        [
         "764",
         "2.62 mg/dL"
        ],
        [
         "803",
         "4.94 mg/dL"
        ],
        [
         "822",
         "2.16 mg/dL"
        ],
        [
         "827",
         "4.64 mg/dL"
        ],
        [
         "847",
         "2.85 mg/dL"
        ],
        [
         "856",
         "7.12 mg/dL"
        ],
        [
         "862",
         "7.70 mg/dL"
        ],
        [
         "867",
         "3.60 mg/dL"
        ],
        [
         "889",
         "4.62 mg/dL"
        ],
        [
         "899",
         "2.35 mg/dL"
        ],
        [
         "909",
         "1.65 mg/dL"
        ],
        [
         "940",
         "Desconocido"
        ],
        [
         "956",
         "3.07 mg/dL"
        ],
        [
         "959",
         "7.70 mg/dL"
        ],
        [
         "971",
         "2.68 mg/dL"
        ],
        [
         "981",
         "Desconocido"
        ],
        [
         "983",
         "Desconocido"
        ],
        [
         "986",
         "7.79 mg/dL"
        ],
        [
         "987",
         "8.61 mg/dL"
        ],
        [
         "994",
         "0.58 mg/dL"
        ],
        [
         "1002",
         "8.54 mg/dL"
        ],
        [
         "1020",
         "0.89 mg/dL"
        ],
        [
         "1030",
         "7.24 mg/dL"
        ],
        [
         "1059",
         "6.20 mg/dL"
        ],
        [
         "1060",
         "1.04 mg/dL"
        ],
        [
         "1066",
         "3.92 mg/dL"
        ]
       ],
       "shape": {
        "columns": 1,
        "rows": 198
       }
      },
      "text/plain": [
       "301      6.44 mg/dL\n",
       "360      4.46 mg/dL\n",
       "370     Desconocido\n",
       "372      4.40 mg/dL\n",
       "398      1.39 mg/dL\n",
       "           ...     \n",
       "2956     1.43 mg/dL\n",
       "2978    Desconocido\n",
       "2979     5.00 mg/dL\n",
       "2984    Desconocido\n",
       "2998     9.13 mg/dL\n",
       "Name: serum_creatinine, Length: 198, dtype: object"
      ]
     },
     "execution_count": 280,
     "metadata": {},
     "output_type": "execute_result"
    }
   ],
   "source": [
    "# Identificar cuales son los datos str que tiene la columna serum_creatinine \n",
    "strings_serum_creatinine = df['serum_creatinine'][df['serum_creatinine'].apply(lambda x: isinstance(x, str))]\n",
    "strings_serum_creatinine"
   ]
  },
  {
   "cell_type": "code",
   "execution_count": 281,
   "id": "867ca050",
   "metadata": {},
   "outputs": [
    {
     "name": "stdout",
     "output_type": "stream",
     "text": [
      "\n",
      "Resumen post-limpieza serum_creatinine:\n",
      "count    2550.000000\n",
      "mean        5.006765\n",
      "std         2.548985\n",
      "min         0.500000\n",
      "25%         2.820000\n",
      "50%         5.080000\n",
      "75%         7.150000\n",
      "max         9.400000\n",
      "Name: serum_creatinine, dtype: float64\n",
      "Nulos en serum_creatinine: 227\n"
     ]
    }
   ],
   "source": [
    "# Función de limpieza: extrae el número si existe, convierte 'Desconocido' a NaN\n",
    "def clean_serum_creatinine(v):\n",
    "    if pd.isna(v):\n",
    "        return np.nan\n",
    "    if isinstance(v, str):\n",
    "        s = v.strip()\n",
    "        if s.lower() == 'desconocido':\n",
    "            return np.nan\n",
    "        s = s.replace(',', '.')\n",
    "        m = re.search(r'[-+]?\\d*\\.?\\d+(?:[eE][-+]?\\d+)?', s)\n",
    "        return float(m.group()) if m else np.nan\n",
    "    try:\n",
    "        return float(v)\n",
    "    except Exception:\n",
    "        return np.nan\n",
    "\n",
    "# Aplicar limpieza y asegurar tipo numérico\n",
    "df['serum_creatinine'] = df['serum_creatinine'].apply(clean_serum_creatinine)\n",
    "df['serum_creatinine'] = pd.to_numeric(df['serum_creatinine'], errors='coerce')\n",
    "\n",
    "# Resumen post-limpieza\n",
    "print(\"\\nResumen post-limpieza serum_creatinine:\")\n",
    "print(df['serum_creatinine'].describe())\n",
    "print(\"Nulos en serum_creatinine:\", df['serum_creatinine'].isna().sum())"
   ]
  },
  {
   "cell_type": "markdown",
   "id": "78a35bda",
   "metadata": {},
   "source": [
    "### Para Sex:"
   ]
  },
  {
   "cell_type": "code",
   "execution_count": 282,
   "id": "f2dd59dd",
   "metadata": {},
   "outputs": [
    {
     "data": {
      "application/vnd.microsoft.datawrangler.viewer.v0+json": {
       "columns": [
        {
         "name": "index",
         "rawType": "int64",
         "type": "integer"
        },
        {
         "name": "sex",
         "rawType": "object",
         "type": "string"
        }
       ],
       "ref": "632568a5-1b25-4ae6-a288-a6fc2b933d4a",
       "rows": [
        [
         "300",
         "FEMALE"
        ],
        [
         "336",
         "MALE"
        ],
        [
         "339",
         "male"
        ],
        [
         "349",
         "male"
        ],
        [
         "351",
         "male"
        ],
        [
         "355",
         "male"
        ],
        [
         "360",
         "FEMALE"
        ],
        [
         "361",
         "female"
        ],
        [
         "373",
         "male"
        ],
        [
         "382",
         "female"
        ],
        [
         "383",
         "FEMALE"
        ],
        [
         "388",
         "male"
        ],
        [
         "409",
         "FEMALE"
        ],
        [
         "426",
         "female"
        ],
        [
         "433",
         "male"
        ],
        [
         "437",
         "MALE"
        ],
        [
         "482",
         "MALE"
        ],
        [
         "492",
         "MALE"
        ],
        [
         "493",
         "male"
        ],
        [
         "496",
         "male"
        ],
        [
         "505",
         "MALE"
        ],
        [
         "507",
         "FEMALE"
        ],
        [
         "526",
         "female"
        ],
        [
         "541",
         "female"
        ],
        [
         "555",
         "MALE"
        ],
        [
         "568",
         "female"
        ],
        [
         "573",
         "FEMALE"
        ],
        [
         "578",
         "male"
        ],
        [
         "579",
         "MALE"
        ],
        [
         "599",
         "MALE"
        ],
        [
         "613",
         "male"
        ],
        [
         "633",
         "FEMALE"
        ],
        [
         "662",
         "male"
        ],
        [
         "668",
         "female"
        ],
        [
         "708",
         "MALE"
        ],
        [
         "746",
         "MALE"
        ],
        [
         "767",
         "FEMALE"
        ],
        [
         "768",
         "MALE"
        ],
        [
         "782",
         "female"
        ],
        [
         "788",
         "female"
        ],
        [
         "813",
         "male"
        ],
        [
         "835",
         "male"
        ],
        [
         "851",
         "FEMALE"
        ],
        [
         "852",
         "male"
        ],
        [
         "862",
         "MALE"
        ],
        [
         "864",
         "male"
        ],
        [
         "867",
         "female"
        ],
        [
         "869",
         "MALE"
        ],
        [
         "916",
         "female"
        ],
        [
         "919",
         "female"
        ]
       ],
       "shape": {
        "columns": 1,
        "rows": 242
       }
      },
      "text/plain": [
       "300     FEMALE\n",
       "336       MALE\n",
       "339       male\n",
       "349       male\n",
       "351       male\n",
       "         ...  \n",
       "2934      male\n",
       "2946    female\n",
       "2949    female\n",
       "2969    female\n",
       "2994    FEMALE\n",
       "Name: sex, Length: 242, dtype: object"
      ]
     },
     "execution_count": 282,
     "metadata": {},
     "output_type": "execute_result"
    }
   ],
   "source": [
    "# Identificar cuales son los datos str que tiene la columna serum_creatinine \n",
    "strings_sex = df['sex'][df['sex'].apply(lambda x: isinstance(x, str))]\n",
    "strings_sex"
   ]
  },
  {
   "cell_type": "code",
   "execution_count": 283,
   "id": "8d69a17a",
   "metadata": {},
   "outputs": [
    {
     "data": {
      "text/plain": [
       "array([1, 0, 'FEMALE', 'MALE', 'male', 'female'], dtype=object)"
      ]
     },
     "execution_count": 283,
     "metadata": {},
     "output_type": "execute_result"
    }
   ],
   "source": [
    "df['sex'].unique()"
   ]
  },
  {
   "cell_type": "code",
   "execution_count": 284,
   "id": "26bc448d",
   "metadata": {},
   "outputs": [
    {
     "name": "stdout",
     "output_type": "stream",
     "text": [
      "\n",
      "Conteos en 'sex' después de la limpieza (incluye NA):\n"
     ]
    },
    {
     "data": {
      "application/vnd.microsoft.datawrangler.viewer.v0+json": {
       "columns": [
        {
         "name": "sex",
         "rawType": "int64",
         "type": "integer"
        },
        {
         "name": "count",
         "rawType": "int64",
         "type": "integer"
        }
       ],
       "ref": "a441803b-353c-4486-8002-e8da26fc90a4",
       "rows": [
        [
         "1",
         "1412"
        ],
        [
         "0",
         "1365"
        ]
       ],
       "shape": {
        "columns": 1,
        "rows": 2
       }
      },
      "text/plain": [
       "sex\n",
       "1    1412\n",
       "0    1365\n",
       "Name: count, dtype: int64"
      ]
     },
     "metadata": {},
     "output_type": "display_data"
    }
   ],
   "source": [
    "# Función para normalizar 'sex': male -> 0, female -> 1. Otros valores -> NA\n",
    "def clean_sex(v):\n",
    "    if isinstance(v, str):\n",
    "        s = v.lower()\n",
    "        if s in ('male'):\n",
    "            return 1\n",
    "        if s in ('female'):\n",
    "            return 0\n",
    "    else:\n",
    "        return v\n",
    "# Aplicar limpieza y convertir a entero nullable\n",
    "df['sex'] = df['sex'].apply(clean_sex)\n",
    "\n",
    "# Resumen posterior\n",
    "print(\"\\nConteos en 'sex' después de la limpieza (incluye NA):\")\n",
    "display(df['sex'].value_counts(dropna=False))\n"
   ]
  },
  {
   "cell_type": "markdown",
   "id": "f135c2be",
   "metadata": {},
   "source": [
    "### Para diabetes: "
   ]
  },
  {
   "cell_type": "code",
   "execution_count": 285,
   "id": "4bc71ce1",
   "metadata": {},
   "outputs": [
    {
     "data": {
      "text/plain": [
       "array([0, 1, 2, 'NO', 'YES', 'N/A'], dtype=object)"
      ]
     },
     "execution_count": 285,
     "metadata": {},
     "output_type": "execute_result"
    }
   ],
   "source": [
    "df['diabetes'].unique()"
   ]
  },
  {
   "cell_type": "code",
   "execution_count": 286,
   "id": "ffa4da3b",
   "metadata": {},
   "outputs": [
    {
     "data": {
      "application/vnd.microsoft.datawrangler.viewer.v0+json": {
       "columns": [
        {
         "name": "index",
         "rawType": "int64",
         "type": "integer"
        },
        {
         "name": "diabetes",
         "rawType": "object",
         "type": "string"
        }
       ],
       "ref": "ccce8676-affa-4193-b11e-e8db239a3719",
       "rows": [
        [
         "307",
         "NO"
        ],
        [
         "317",
         "YES"
        ],
        [
         "331",
         "YES"
        ],
        [
         "361",
         "YES"
        ],
        [
         "373",
         "N/A"
        ],
        [
         "388",
         "NO"
        ],
        [
         "393",
         "YES"
        ],
        [
         "396",
         "YES"
        ],
        [
         "427",
         "YES"
        ],
        [
         "433",
         "NO"
        ],
        [
         "497",
         "YES"
        ],
        [
         "516",
         "NO"
        ],
        [
         "518",
         "NO"
        ],
        [
         "532",
         "YES"
        ],
        [
         "545",
         "YES"
        ],
        [
         "559",
         "NO"
        ],
        [
         "567",
         "YES"
        ],
        [
         "581",
         "N/A"
        ],
        [
         "610",
         "NO"
        ],
        [
         "616",
         "N/A"
        ],
        [
         "665",
         "N/A"
        ],
        [
         "666",
         "YES"
        ],
        [
         "669",
         "N/A"
        ],
        [
         "687",
         "YES"
        ],
        [
         "696",
         "N/A"
        ],
        [
         "726",
         "N/A"
        ],
        [
         "735",
         "NO"
        ],
        [
         "737",
         "YES"
        ],
        [
         "742",
         "NO"
        ],
        [
         "746",
         "NO"
        ],
        [
         "760",
         "N/A"
        ],
        [
         "763",
         "YES"
        ],
        [
         "764",
         "YES"
        ],
        [
         "766",
         "YES"
        ],
        [
         "769",
         "YES"
        ],
        [
         "790",
         "NO"
        ],
        [
         "791",
         "YES"
        ],
        [
         "818",
         "YES"
        ],
        [
         "844",
         "N/A"
        ],
        [
         "886",
         "YES"
        ],
        [
         "943",
         "YES"
        ],
        [
         "949",
         "N/A"
        ],
        [
         "968",
         "N/A"
        ],
        [
         "971",
         "NO"
        ],
        [
         "973",
         "YES"
        ],
        [
         "1010",
         "YES"
        ],
        [
         "1035",
         "NO"
        ],
        [
         "1036",
         "YES"
        ],
        [
         "1060",
         "YES"
        ],
        [
         "1082",
         "NO"
        ]
       ],
       "shape": {
        "columns": 1,
        "rows": 164
       }
      },
      "text/plain": [
       "307      NO\n",
       "317     YES\n",
       "331     YES\n",
       "361     YES\n",
       "373     N/A\n",
       "       ... \n",
       "2859    N/A\n",
       "2907     NO\n",
       "2916    N/A\n",
       "2978    YES\n",
       "2998     NO\n",
       "Name: diabetes, Length: 164, dtype: object"
      ]
     },
     "execution_count": 286,
     "metadata": {},
     "output_type": "execute_result"
    }
   ],
   "source": [
    "# Identificar cuales son los datos str que tiene la columna serum_creatinine \n",
    "strings_diabetes = df['diabetes'][df['diabetes'].apply(lambda x: isinstance(x, str))]\n",
    "strings_diabetes"
   ]
  },
  {
   "cell_type": "code",
   "execution_count": 287,
   "id": "534aa026",
   "metadata": {},
   "outputs": [
    {
     "name": "stdout",
     "output_type": "stream",
     "text": [
      "\n",
      "Conteos en 'diabetes' después de la limpieza (incluye NA):\n"
     ]
    },
    {
     "data": {
      "application/vnd.microsoft.datawrangler.viewer.v0+json": {
       "columns": [
        {
         "name": "diabetes",
         "rawType": "Int64",
         "type": "integer"
        },
        {
         "name": "count",
         "rawType": "Int64",
         "type": "integer"
        }
       ],
       "ref": "50da8415-cab9-472c-8d30-950da9f37567",
       "rows": [
        [
         "0",
         "1410"
        ],
        [
         "1",
         "1250"
        ],
        [
         null,
         "117"
        ]
       ],
       "shape": {
        "columns": 1,
        "rows": 3
       }
      },
      "text/plain": [
       "diabetes\n",
       "0       1410\n",
       "1       1250\n",
       "<NA>     117\n",
       "Name: count, dtype: Int64"
      ]
     },
     "metadata": {},
     "output_type": "display_data"
    }
   ],
   "source": [
    "# Función para normalizar 'diabetes': Yes -> 1, No -> 0. Otros valores -> NA\n",
    "def clean_diabetes(v):\n",
    "    if isinstance(v, str):\n",
    "        s = v.lower()\n",
    "        if s in ('yes'):\n",
    "            return 1\n",
    "        if s in ('no'):\n",
    "            return 0\n",
    "        if s in ('n/a'):\n",
    "            return np.nan\n",
    "    elif v == 2:\n",
    "        return np.nan\n",
    "    else:\n",
    "        return v\n",
    "# Aplicar limpieza y convertir a entero nullable\n",
    "df['diabetes'] = df['diabetes'].apply(clean_diabetes).astype('Int64')\n",
    "\n",
    "# Resumen posterior\n",
    "print(\"\\nConteos en 'diabetes' después de la limpieza (incluye NA):\")\n",
    "display(df['diabetes'].value_counts(dropna=False))"
   ]
  },
  {
   "cell_type": "code",
   "execution_count": 288,
   "id": "972093d8",
   "metadata": {},
   "outputs": [
    {
     "name": "stdout",
     "output_type": "stream",
     "text": [
      "\n",
      "=== Columna: age ===\n",
      "Tipos por elemento:\n",
      "{<class 'float'>: 2777}\n",
      "\n",
      "=== Columna: anaemia ===\n",
      "Tipos por elemento:\n",
      "{<class 'int'>: 2777}\n",
      "\n",
      "=== Columna: creatinine_phosphokinase ===\n",
      "Tipos por elemento:\n",
      "{<class 'float'>: 2777}\n",
      "\n",
      "=== Columna: diabetes ===\n",
      "Tipos por elemento:\n",
      "{<class 'float'>: 2777}\n",
      "\n",
      "=== Columna: ejection_fraction ===\n",
      "Tipos por elemento:\n",
      "{<class 'int'>: 2777}\n",
      "\n",
      "=== Columna: high_blood_pressure ===\n",
      "Tipos por elemento:\n",
      "{<class 'int'>: 2777}\n",
      "\n",
      "=== Columna: platelets ===\n",
      "Tipos por elemento:\n",
      "{<class 'float'>: 2777}\n",
      "\n",
      "=== Columna: serum_creatinine ===\n",
      "Tipos por elemento:\n",
      "{<class 'float'>: 2777}\n",
      "\n",
      "=== Columna: serum_sodium ===\n",
      "Tipos por elemento:\n",
      "{<class 'float'>: 2777}\n",
      "\n",
      "=== Columna: sex ===\n",
      "Tipos por elemento:\n",
      "{<class 'int'>: 2777}\n",
      "\n",
      "=== Columna: smoking ===\n",
      "Tipos por elemento:\n",
      "{<class 'int'>: 2777}\n",
      "\n",
      "=== Columna: time ===\n",
      "Tipos por elemento:\n",
      "{<class 'int'>: 2777}\n",
      "\n",
      "=== Columna: DEATH_EVENT ===\n",
      "Tipos por elemento:\n",
      "{<class 'int'>: 2777}\n"
     ]
    }
   ],
   "source": [
    "# Reemplaza la celda incompleta por el siguiente código:\n",
    "for col in df.columns:\n",
    "    print(f\"\\n=== Columna: {col} ===\")\n",
    "    # Tipos por elemento\n",
    "    tipos = df[col].apply(type).value_counts()\n",
    "    print(\"Tipos por elemento:\")\n",
    "    print(tipos.to_dict())\n"
   ]
  },
  {
   "cell_type": "markdown",
   "id": "d5cb632a",
   "metadata": {},
   "source": [
    "### Se valida que no hay valores tipo  string en las columnas numéricas"
   ]
  },
  {
   "cell_type": "markdown",
   "id": "3f5a2ce9",
   "metadata": {},
   "source": [
    "## Imputación y manejo de nulos\n",
    "\n",
    "Debido al ruido que puede generar la imputación de las variables booleanas, se elimina los registros nulos de ellas\n",
    "\n",
    "Por otro lado, para las variables flotantes, procedemos a hacer imputación según el tipo"
   ]
  },
  {
   "cell_type": "code",
   "execution_count": 289,
   "id": "3aaf65a2",
   "metadata": {},
   "outputs": [],
   "source": [
    "# Se identifica que de las 13 columnas existentes, hay 6 columnas booleanas que indican si se da o no esa situación.\n",
    "cols_to_bool = [\n",
    "    \"diabetes\",\n",
    "    \"anaemia\",\n",
    "    \"high_blood_pressure\",\n",
    "    \"sex\",\n",
    "    \"smoking\",\n",
    "    \"DEATH_EVENT\"\n",
    "]\n",
    "\n",
    "for c in cols_to_bool:\n",
    "    df[c] = pd.to_numeric(df[c], errors=\"coerce\").map({0: False, 1: True}).astype(\"boolean\")\n"
   ]
  },
  {
   "cell_type": "code",
   "execution_count": 290,
   "id": "782f993a",
   "metadata": {},
   "outputs": [
    {
     "data": {
      "application/vnd.microsoft.datawrangler.viewer.v0+json": {
       "columns": [
        {
         "name": "index",
         "rawType": "object",
         "type": "string"
        },
        {
         "name": "0",
         "rawType": "int64",
         "type": "integer"
        }
       ],
       "ref": "be043f17-451a-4cb7-bfc9-9ff302deb9a6",
       "rows": [
        [
         "age",
         "194"
        ],
        [
         "anaemia",
         "0"
        ],
        [
         "creatinine_phosphokinase",
         "312"
        ],
        [
         "diabetes",
         "117"
        ],
        [
         "ejection_fraction",
         "0"
        ],
        [
         "high_blood_pressure",
         "0"
        ],
        [
         "platelets",
         "304"
        ],
        [
         "serum_creatinine",
         "227"
        ],
        [
         "serum_sodium",
         "0"
        ],
        [
         "sex",
         "0"
        ],
        [
         "smoking",
         "0"
        ],
        [
         "time",
         "0"
        ],
        [
         "DEATH_EVENT",
         "0"
        ]
       ],
       "shape": {
        "columns": 1,
        "rows": 13
       }
      },
      "text/plain": [
       "age                         194\n",
       "anaemia                       0\n",
       "creatinine_phosphokinase    312\n",
       "diabetes                    117\n",
       "ejection_fraction             0\n",
       "high_blood_pressure           0\n",
       "platelets                   304\n",
       "serum_creatinine            227\n",
       "serum_sodium                  0\n",
       "sex                           0\n",
       "smoking                       0\n",
       "time                          0\n",
       "DEATH_EVENT                   0\n",
       "dtype: int64"
      ]
     },
     "metadata": {},
     "output_type": "display_data"
    }
   ],
   "source": [
    "display(df.isnull().sum())"
   ]
  },
  {
   "cell_type": "code",
   "execution_count": 291,
   "id": "dd92ffeb",
   "metadata": {},
   "outputs": [
    {
     "name": "stdout",
     "output_type": "stream",
     "text": [
      "\n",
      "Valores nulos por columna:\n"
     ]
    },
    {
     "data": {
      "application/vnd.microsoft.datawrangler.viewer.v0+json": {
       "columns": [
        {
         "name": "index",
         "rawType": "object",
         "type": "string"
        },
        {
         "name": "0",
         "rawType": "int64",
         "type": "integer"
        }
       ],
       "ref": "acf6ed05-56c0-4b31-99a9-26d9dc42ec20",
       "rows": [
        [
         "age",
         "185"
        ],
        [
         "anaemia",
         "0"
        ],
        [
         "creatinine_phosphokinase",
         "295"
        ],
        [
         "diabetes",
         "0"
        ],
        [
         "ejection_fraction",
         "0"
        ],
        [
         "high_blood_pressure",
         "0"
        ],
        [
         "platelets",
         "293"
        ],
        [
         "serum_creatinine",
         "215"
        ],
        [
         "serum_sodium",
         "0"
        ],
        [
         "sex",
         "0"
        ],
        [
         "smoking",
         "0"
        ],
        [
         "time",
         "0"
        ],
        [
         "DEATH_EVENT",
         "0"
        ]
       ],
       "shape": {
        "columns": 1,
        "rows": 13
       }
      },
      "text/plain": [
       "age                         185\n",
       "anaemia                       0\n",
       "creatinine_phosphokinase    295\n",
       "diabetes                      0\n",
       "ejection_fraction             0\n",
       "high_blood_pressure           0\n",
       "platelets                   293\n",
       "serum_creatinine            215\n",
       "serum_sodium                  0\n",
       "sex                           0\n",
       "smoking                       0\n",
       "time                          0\n",
       "DEATH_EVENT                   0\n",
       "dtype: int64"
      ]
     },
     "metadata": {},
     "output_type": "display_data"
    }
   ],
   "source": [
    "df.dropna(subset= ['diabetes'], inplace=True)\n",
    "print(\"\\nValores nulos por columna:\")\n",
    "display(df.isnull().sum())"
   ]
  },
  {
   "cell_type": "code",
   "execution_count": 292,
   "id": "24746090",
   "metadata": {},
   "outputs": [
    {
     "name": "stdout",
     "output_type": "stream",
     "text": [
      "<class 'pandas.core.frame.DataFrame'>\n",
      "Index: 2660 entries, 0 to 2999\n",
      "Data columns (total 13 columns):\n",
      " #   Column                    Non-Null Count  Dtype  \n",
      "---  ------                    --------------  -----  \n",
      " 0   age                       2475 non-null   Int64  \n",
      " 1   anaemia                   2660 non-null   boolean\n",
      " 2   creatinine_phosphokinase  2365 non-null   Int64  \n",
      " 3   diabetes                  2660 non-null   boolean\n",
      " 4   ejection_fraction         2660 non-null   int64  \n",
      " 5   high_blood_pressure       2660 non-null   boolean\n",
      " 6   platelets                 2367 non-null   float64\n",
      " 7   serum_creatinine          2445 non-null   float64\n",
      " 8   serum_sodium              2660 non-null   float64\n",
      " 9   sex                       2660 non-null   boolean\n",
      " 10  smoking                   2660 non-null   boolean\n",
      " 11  time                      2660 non-null   int64  \n",
      " 12  DEATH_EVENT               2660 non-null   boolean\n",
      "dtypes: Int64(2), boolean(6), float64(3), int64(2)\n",
      "memory usage: 202.6 KB\n"
     ]
    }
   ],
   "source": [
    "df.info()"
   ]
  },
  {
   "cell_type": "markdown",
   "id": "488d8b57",
   "metadata": {},
   "source": [
    "### Con el fin de identificar la distribución de los datos, se realiza la siguiente gráfica"
   ]
  },
  {
   "cell_type": "code",
   "execution_count": 293,
   "id": "7eb2845c",
   "metadata": {},
   "outputs": [
    {
     "data": {
      "image/png": "[encoded data removed]",
      "text/plain": [
       "<Figure size 1500x1200 with 7 Axes>"
      ]
     },
     "metadata": {},
     "output_type": "display_data"
    }
   ],
   "source": [
    "# Obtener columnas numéricas (excluyendo booleanas)\n",
    "numeric_cols = df.select_dtypes(exclude=['boolean']).columns\n",
    "\n",
    "# Calcular número de filas y columnas para el subplot\n",
    "n_cols = 3\n",
    "n_rows = (len(numeric_cols) + n_cols - 1) // n_cols\n",
    "\n",
    "# Crear figura\n",
    "plt.figure(figsize=(15, 4*n_rows))\n",
    "\n",
    "# Crear subplots para cada variable\n",
    "for i, col in enumerate(numeric_cols, 1):\n",
    "    plt.subplot(n_rows, n_cols, i)\n",
    "    sns.histplot(data=df, x=col, kde=True)\n",
    "    plt.title(f'Distribución de {col}')\n",
    "    plt.xlabel(col)\n",
    "    plt.ylabel('Frecuencia')\n",
    "\n",
    "plt.tight_layout()\n",
    "plt.show()"
   ]
  },
  {
   "cell_type": "markdown",
   "id": "8bbe6ee8",
   "metadata": {},
   "source": [
    "### Se observan datos atipicos en ejection fraction "
   ]
  },
  {
   "cell_type": "code",
   "execution_count": 294,
   "id": "78fba215",
   "metadata": {},
   "outputs": [],
   "source": [
    "# Se elimina los valores atípicos en ejection_fraction\n",
    "df['ejection_fraction'] = df['ejection_fraction'].apply(lambda x: np.nan if x < 0 or x > 200 else x)"
   ]
  },
  {
   "cell_type": "code",
   "execution_count": 295,
   "id": "b4f935fe",
   "metadata": {},
   "outputs": [
    {
     "data": {
      "application/vnd.microsoft.datawrangler.viewer.v0+json": {
       "columns": [
        {
         "name": "index",
         "rawType": "int64",
         "type": "integer"
        },
        {
         "name": "age",
         "rawType": "Int64",
         "type": "integer"
        },
        {
         "name": "age_group",
         "rawType": "category",
         "type": "unknown"
        }
       ],
       "ref": "9d76993c-dbf3-4d8f-9aba-2742325a1d46",
       "rows": [
        [
         "0",
         "78",
         "76-80"
        ],
        [
         "1",
         "91",
         "81-95"
        ],
        [
         "2",
         "68",
         "66-70"
        ],
        [
         "3",
         "54",
         "51-55"
        ],
        [
         "4",
         "82",
         "81-95"
        ]
       ],
       "shape": {
        "columns": 2,
        "rows": 5
       }
      },
      "text/html": [
       "<div>\n",
       "<style scoped>\n",
       "    .dataframe tbody tr th:only-of-type {\n",
       "        vertical-align: middle;\n",
       "    }\n",
       "\n",
       "    .dataframe tbody tr th {\n",
       "        vertical-align: top;\n",
       "    }\n",
       "\n",
       "    .dataframe thead th {\n",
       "        text-align: right;\n",
       "    }\n",
       "</style>\n",
       "<table border=\"1\" class=\"dataframe\">\n",
       "  <thead>\n",
       "    <tr style=\"text-align: right;\">\n",
       "      <th></th>\n",
       "      <th>age</th>\n",
       "      <th>age_group</th>\n",
       "    </tr>\n",
       "  </thead>\n",
       "  <tbody>\n",
       "    <tr>\n",
       "      <th>0</th>\n",
       "      <td>78</td>\n",
       "      <td>76-80</td>\n",
       "    </tr>\n",
       "    <tr>\n",
       "      <th>1</th>\n",
       "      <td>91</td>\n",
       "      <td>81-95</td>\n",
       "    </tr>\n",
       "    <tr>\n",
       "      <th>2</th>\n",
       "      <td>68</td>\n",
       "      <td>66-70</td>\n",
       "    </tr>\n",
       "    <tr>\n",
       "      <th>3</th>\n",
       "      <td>54</td>\n",
       "      <td>51-55</td>\n",
       "    </tr>\n",
       "    <tr>\n",
       "      <th>4</th>\n",
       "      <td>82</td>\n",
       "      <td>81-95</td>\n",
       "    </tr>\n",
       "  </tbody>\n",
       "</table>\n",
       "</div>"
      ],
      "text/plain": [
       "   age age_group\n",
       "0   78     76-80\n",
       "1   91     81-95\n",
       "2   68     66-70\n",
       "3   54     51-55\n",
       "4   82     81-95"
      ]
     },
     "execution_count": 295,
     "metadata": {},
     "output_type": "execute_result"
    }
   ],
   "source": [
    "bins = [39, 45, 50, 55, 60, 65, 70, 75, 80, 95]\n",
    "labels = [\"40-45\", \"46-50\", \"51-55\", \"56-60\", \"61-65\", \"66-70\", \"71-75\", \"76-80\", \"81-95\"]\n",
    "\n",
    "df['age_group'] = pd.cut(df['age'], bins=bins, labels=labels, right=True)\n",
    "\n",
    "df[['age', 'age_group']].head()"
   ]
  },
  {
   "cell_type": "code",
   "execution_count": 296,
   "id": "4e2ca8fb",
   "metadata": {},
   "outputs": [
    {
     "data": {
      "image/png": "[encoded data removed]",
      "text/plain": [
       "<Figure size 1000x600 with 1 Axes>"
      ]
     },
     "metadata": {},
     "output_type": "display_data"
    }
   ],
   "source": [
    "plt.figure(figsize=(10,6))\n",
    "sns.countplot(data=df, x='age_group', hue='DEATH_EVENT', palette=[\"lightblue\", \"red\"])\n",
    "plt.title(\"Death Count by Age Group\")\n",
    "plt.xlabel(\"Age Group\")\n",
    "plt.ylabel(\"Patient Count\")\n",
    "plt.legend([\"Survived\", \"Died\"])\n",
    "plt.show()"
   ]
  },
  {
   "cell_type": "markdown",
   "id": "e2660506",
   "metadata": {},
   "source": [
    "La gráfica muestra que, aunque los grupos de edad intermedios (ej. 51–65) concentran el mayor número absoluto de pacientes sobrevivientes, la proporción de fallecidos aumenta claramente en los grupos de mayor edad; especialmente 71–75 y 81–95 presentan tasas de mortalidad notablemente más altas que los grupos jóvenes; esto sugiere una relación positiva entre edad y riesgo de muerte durante el seguimiento."
   ]
  },
  {
   "cell_type": "code",
   "execution_count": 297,
   "id": "2fcb53ea",
   "metadata": {},
   "outputs": [
    {
     "data": {
      "image/png": "[encoded data removed]",
      "text/plain": [
       "<Figure size 800x600 with 1 Axes>"
      ]
     },
     "metadata": {},
     "output_type": "display_data"
    }
   ],
   "source": [
    "plt.figure(figsize=(8,6))\n",
    "sns.countplot(data=df, x='sex', hue='DEATH_EVENT', palette=[\"lightblue\", \"red\"])\n",
    "\n",
    "plt.title(\"Death Event by Sex\")\n",
    "plt.xlabel(\"Sex (0 = Female, 1 = Male)\")\n",
    "plt.ylabel(\"Number of Patients\")\n",
    "plt.legend([\"Survived\", \"Died\"])\n",
    "plt.xticks([0, 1], [\"Female\", \"Male\"])\n",
    "plt.show()"
   ]
  },
  {
   "cell_type": "markdown",
   "id": "59a9951d",
   "metadata": {},
   "source": [
    "En la gráfica por sexo se observa que hay más pacientes hombres que mujeres y, en valores absolutos, también más muertes entre los hombres; no obstante, al mirar la proporción de fallecidos dentro de cada grupo la diferencia parece menos contundente y podría ser pequeña o nula —es decir, el mayor número de muertes en hombres puede deberse en parte al mayor tamaño de esa submuestra. "
   ]
  },
  {
   "cell_type": "code",
   "execution_count": 298,
   "id": "9fe70938",
   "metadata": {},
   "outputs": [
    {
     "data": {
      "image/png": "[encoded data removed]",
      "text/plain": [
       "<Figure size 1800x1000 with 5 Axes>"
      ]
     },
     "metadata": {},
     "output_type": "display_data"
    }
   ],
   "source": [
    "# Variables binarias que quieres comparar\n",
    "binary_vars = ['anaemia', 'diabetes', 'high_blood_pressure', 'sex', 'smoking']\n",
    "\n",
    "# Crear subplots\n",
    "fig, axes = plt.subplots(nrows=2, ncols=3, figsize=(18, 10))\n",
    "axes = axes.flatten()\n",
    "\n",
    "# Graficar cada variable\n",
    "for i, var in enumerate(binary_vars):\n",
    "    sns.countplot(data=df, x=var, hue='DEATH_EVENT', ax=axes[i])\n",
    "    axes[i].set_title(f'{var} vs DEATH_EVENT')\n",
    "    axes[i].set_xlabel(var)\n",
    "    axes[i].set_ylabel('Count')\n",
    "    axes[i].legend(title='DEATH_EVENT', labels=['No falleció', 'Falleció'])\n",
    "\n",
    "# Eliminar subplot vacío si hay uno\n",
    "if len(binary_vars) < len(axes):\n",
    "    fig.delaxes(axes[-1])\n",
    "\n",
    "plt.tight_layout()\n",
    "plt.show()"
   ]
  },
  {
   "cell_type": "markdown",
   "id": "8d60d531",
   "metadata": {},
   "source": [
    "Anaemia\n",
    "Observación visual: la barra roja (fallecidos) relativa al total del grupo parece más alta en pacientes con anaemia (True) que en los que no tienen anaemia (False).\n",
    "Interpretación: sugiere que la presencia de anemia está asociada a una mayor proporción de fallecimientos en el seguimiento. Clínicamente plausible: la anemia puede reflejar peor estado general o comorbilidades.\n",
    "Señal: moderada-fuerte visualmente (la diferencia de proporción es notable).\n",
    "\n",
    "Diabetes\n",
    "Observación visual: también aquí la proporción de muertes parece mayor entre los diabéticos (True) que entre los no diabéticos.\n",
    "Interpretación: indica una asociación positiva entre diabetes y mortalidad. Podría reflejar mayor carga de comorbilidad o peor pronóstico.\n",
    "Señal: moderada; la diferencia es apreciable pero no tan grande como en algunos otros factores (según la gráfica).\n",
    "\n",
    "High_blood_pressure (hipertensión)\n",
    "Observación visual: se ve un mayor número absoluto de muertes en quienes tienen hipertensión (True) comparado con No, y la proporción de muertes dentro de «True» parece superior.\n",
    "Interpretación: hipertensión podría asociarse a mayor riesgo, aunque en muchos estudios su efecto depende de control, edad y otros factores cardiovasculares.\n",
    "Señal: moderada; comparable a diabetes/anaemia.\n",
    "\n",
    "Sex (sexo)\n",
    "Observación visual: hay muchos más hombres que mujeres en la muestra; en valores absolutos hay más muertes entre hombres (barra roja masculina mayor).\n",
    "Interpretación: el mayor número de muertes en hombres podría deberse a (a) mayor tamaño de la submuestra masculina o (b) un riesgo real mayor en hombres. Visualmente, la proporción no parece tan distinta como los conteos absolutos; por tanto la diferencia puede ser en gran parte por el mayor número de hombres.\n",
    "Señal: débil-moderada; necesita comparar proporciones (tasa de muerte por sexo) antes de concluir un efecto fuerte.\n",
    "\n",
    "Smoking (tabaquismo)\n",
    "Observación visual: los fumadores (True) muestran una proporción de fallecidos claramente mayor que los no fumadores.\n",
    "Interpretación: tabaquismo asociado a mayor mortalidad, coherente con efectos sobre enfermedad cardiovascular y comorbilidades.\n",
    "Señal: moderada-fuerte."
   ]
  },
  {
   "cell_type": "code",
   "execution_count": 299,
   "id": "ffb84fd2",
   "metadata": {},
   "outputs": [
    {
     "data": {
      "text/plain": [
       "<Axes: >"
      ]
     },
     "execution_count": 299,
     "metadata": {},
     "output_type": "execute_result"
    },
    {
     "data": {
      "image/png": "[encoded data removed]",
      "text/plain": [
       "<Figure size 1000x1000 with 2 Axes>"
      ]
     },
     "metadata": {},
     "output_type": "display_data"
    }
   ],
   "source": [
    "df.drop(columns=['age_group'], inplace=True)\n",
    "plt.figure(figsize=(10,10))\n",
    "sns.heatmap(df.corr(),cmap=\"Reds\",annot=True,linewidth=1)"
   ]
  },
  {
   "cell_type": "markdown",
   "id": "098357c8",
   "metadata": {},
   "source": [
    "La matriz muestra que las variables más asociadas con la muerte son serum_creatinine (r ≈ +0.29) y age (r ≈ +0.25), mientras que ejection_fraction presenta una correlación negativa relevante (r ≈ −0.27): es decir, mayor creatinina y edad y menor fracción de eyección se asocian con mayor probabilidad de DEATH_EVENT. También destaca serum_sodium con correlación negativa moderada (≈ −0.20). Muchas de las variables binarias (anaemia, diabetes, hipertensión, smoking, sex) tienen correlaciones pequeñas con DEATH_EVENT en términos de Pearson, aunque visualmente algunas muestran señales; además sex y smoking están moderadamente correlacionadas entre sí (≈ +0.45)."
   ]
  },
  {
   "cell_type": "markdown",
   "id": "868c3360",
   "metadata": {},
   "source": [
    "### Preprocesamiento y modelado"
   ]
  },
  {
   "cell_type": "code",
   "execution_count": 300,
   "id": "0bda6475",
   "metadata": {},
   "outputs": [
    {
     "name": "stdout",
     "output_type": "stream",
     "text": [
      "Nulos antes de la transformación:\n"
     ]
    },
    {
     "data": {
      "application/vnd.microsoft.datawrangler.viewer.v0+json": {
       "columns": [
        {
         "name": "index",
         "rawType": "object",
         "type": "string"
        },
        {
         "name": "0",
         "rawType": "int64",
         "type": "integer"
        }
       ],
       "ref": "11c2d632-fda5-4d6c-aa5c-816aeb81b56e",
       "rows": [
        [
         "age",
         "185"
        ],
        [
         "anaemia",
         "0"
        ],
        [
         "creatinine_phosphokinase",
         "295"
        ],
        [
         "diabetes",
         "0"
        ],
        [
         "ejection_fraction",
         "96"
        ],
        [
         "high_blood_pressure",
         "0"
        ],
        [
         "platelets",
         "293"
        ],
        [
         "serum_creatinine",
         "215"
        ],
        [
         "serum_sodium",
         "0"
        ],
        [
         "sex",
         "0"
        ],
        [
         "smoking",
         "0"
        ],
        [
         "time",
         "0"
        ],
        [
         "DEATH_EVENT",
         "0"
        ]
       ],
       "shape": {
        "columns": 1,
        "rows": 13
       }
      },
      "text/plain": [
       "age                         185\n",
       "anaemia                       0\n",
       "creatinine_phosphokinase    295\n",
       "diabetes                      0\n",
       "ejection_fraction            96\n",
       "high_blood_pressure           0\n",
       "platelets                   293\n",
       "serum_creatinine            215\n",
       "serum_sodium                  0\n",
       "sex                           0\n",
       "smoking                       0\n",
       "time                          0\n",
       "DEATH_EVENT                   0\n",
       "dtype: int64"
      ]
     },
     "metadata": {},
     "output_type": "display_data"
    },
    {
     "name": "stdout",
     "output_type": "stream",
     "text": [
      "\n",
      "Formas de los conjuntos de datos:\n",
      "X_train shape: (2128, 12)\n",
      "X_test shape: (532, 12)\n",
      "y_train shape: (2128,)\n",
      "y_test shape: (532,)\n",
      "[ColumnTransformer] ........... (1 of 2) Processing num, total=   0.0s\n",
      "[ColumnTransformer] .......... (2 of 2) Processing bool, total=   0.0s\n",
      "[Pipeline] ...... (step 1 of 2) Processing preprocessor, total=   0.0s\n",
      "[Pipeline] ........ (step 2 of 2) Processing classifier, total=   0.6s\n",
      "\n",
      "Shape después de la transformación: (2128, 12)\n",
      "Hay nulos en X_train_transformed: False\n",
      "\n",
      "Primeras 10 predicciones vs valores reales:\n"
     ]
    },
    {
     "data": {
      "application/vnd.microsoft.datawrangler.viewer.v0+json": {
       "columns": [
        {
         "name": "index",
         "rawType": "int64",
         "type": "integer"
        },
        {
         "name": "Predicción",
         "rawType": "float64",
         "type": "float"
        },
        {
         "name": "Valor Real",
         "rawType": "boolean",
         "type": "boolean"
        }
       ],
       "ref": "c8147b58-6d75-4093-bfbd-a218826dfb26",
       "rows": [
        [
         "2196",
         "1.0",
         "True"
        ],
        [
         "124",
         "0.0",
         "True"
        ],
        [
         "1239",
         "1.0",
         "False"
        ],
        [
         "1791",
         "0.0",
         "False"
        ],
        [
         "1499",
         "0.0",
         "True"
        ],
        [
         "704",
         "1.0",
         "False"
        ],
        [
         "1889",
         "1.0",
         "False"
        ],
        [
         "2251",
         "1.0",
         "True"
        ],
        [
         "173",
         "0.0",
         "True"
        ],
        [
         "484",
         "0.0",
         "False"
        ]
       ],
       "shape": {
        "columns": 2,
        "rows": 10
       }
      },
      "text/html": [
       "<div>\n",
       "<style scoped>\n",
       "    .dataframe tbody tr th:only-of-type {\n",
       "        vertical-align: middle;\n",
       "    }\n",
       "\n",
       "    .dataframe tbody tr th {\n",
       "        vertical-align: top;\n",
       "    }\n",
       "\n",
       "    .dataframe thead th {\n",
       "        text-align: right;\n",
       "    }\n",
       "</style>\n",
       "<table border=\"1\" class=\"dataframe\">\n",
       "  <thead>\n",
       "    <tr style=\"text-align: right;\">\n",
       "      <th></th>\n",
       "      <th>Predicción</th>\n",
       "      <th>Valor Real</th>\n",
       "    </tr>\n",
       "  </thead>\n",
       "  <tbody>\n",
       "    <tr>\n",
       "      <th>2196</th>\n",
       "      <td>1.0</td>\n",
       "      <td>True</td>\n",
       "    </tr>\n",
       "    <tr>\n",
       "      <th>124</th>\n",
       "      <td>0.0</td>\n",
       "      <td>True</td>\n",
       "    </tr>\n",
       "    <tr>\n",
       "      <th>1239</th>\n",
       "      <td>1.0</td>\n",
       "      <td>False</td>\n",
       "    </tr>\n",
       "    <tr>\n",
       "      <th>1791</th>\n",
       "      <td>0.0</td>\n",
       "      <td>False</td>\n",
       "    </tr>\n",
       "    <tr>\n",
       "      <th>1499</th>\n",
       "      <td>0.0</td>\n",
       "      <td>True</td>\n",
       "    </tr>\n",
       "    <tr>\n",
       "      <th>704</th>\n",
       "      <td>1.0</td>\n",
       "      <td>False</td>\n",
       "    </tr>\n",
       "    <tr>\n",
       "      <th>1889</th>\n",
       "      <td>1.0</td>\n",
       "      <td>False</td>\n",
       "    </tr>\n",
       "    <tr>\n",
       "      <th>2251</th>\n",
       "      <td>1.0</td>\n",
       "      <td>True</td>\n",
       "    </tr>\n",
       "    <tr>\n",
       "      <th>173</th>\n",
       "      <td>0.0</td>\n",
       "      <td>True</td>\n",
       "    </tr>\n",
       "    <tr>\n",
       "      <th>484</th>\n",
       "      <td>0.0</td>\n",
       "      <td>False</td>\n",
       "    </tr>\n",
       "  </tbody>\n",
       "</table>\n",
       "</div>"
      ],
      "text/plain": [
       "      Predicción  Valor Real\n",
       "2196         1.0        True\n",
       "124          0.0        True\n",
       "1239         1.0       False\n",
       "1791         0.0       False\n",
       "1499         0.0        True\n",
       "704          1.0       False\n",
       "1889         1.0       False\n",
       "2251         1.0        True\n",
       "173          0.0        True\n",
       "484          0.0       False"
      ]
     },
     "metadata": {},
     "output_type": "display_data"
    },
    {
     "name": "stdout",
     "output_type": "stream",
     "text": [
      "\n",
      "Exactitud del modelo: 46.62%\n",
      "\n",
      "Matriz de confusión:\n"
     ]
    },
    {
     "data": {
      "application/vnd.microsoft.datawrangler.viewer.v0+json": {
       "columns": [
        {
         "name": "index",
         "rawType": "object",
         "type": "string"
        },
        {
         "name": "Pred Negativo",
         "rawType": "int64",
         "type": "integer"
        },
        {
         "name": "Pred Positivo",
         "rawType": "int64",
         "type": "integer"
        }
       ],
       "ref": "0038fa4e-efea-4853-ac95-a1d0d982fec4",
       "rows": [
        [
         "Real Negativo",
         "131",
         "129"
        ],
        [
         "Real Positivo",
         "155",
         "117"
        ]
       ],
       "shape": {
        "columns": 2,
        "rows": 2
       }
      },
      "text/html": [
       "<div>\n",
       "<style scoped>\n",
       "    .dataframe tbody tr th:only-of-type {\n",
       "        vertical-align: middle;\n",
       "    }\n",
       "\n",
       "    .dataframe tbody tr th {\n",
       "        vertical-align: top;\n",
       "    }\n",
       "\n",
       "    .dataframe thead th {\n",
       "        text-align: right;\n",
       "    }\n",
       "</style>\n",
       "<table border=\"1\" class=\"dataframe\">\n",
       "  <thead>\n",
       "    <tr style=\"text-align: right;\">\n",
       "      <th></th>\n",
       "      <th>Pred Negativo</th>\n",
       "      <th>Pred Positivo</th>\n",
       "    </tr>\n",
       "  </thead>\n",
       "  <tbody>\n",
       "    <tr>\n",
       "      <th>Real Negativo</th>\n",
       "      <td>131</td>\n",
       "      <td>129</td>\n",
       "    </tr>\n",
       "    <tr>\n",
       "      <th>Real Positivo</th>\n",
       "      <td>155</td>\n",
       "      <td>117</td>\n",
       "    </tr>\n",
       "  </tbody>\n",
       "</table>\n",
       "</div>"
      ],
      "text/plain": [
       "               Pred Negativo  Pred Positivo\n",
       "Real Negativo            131            129\n",
       "Real Positivo            155            117"
      ]
     },
     "metadata": {},
     "output_type": "display_data"
    },
    {
     "name": "stdout",
     "output_type": "stream",
     "text": [
      "\n",
      "Reporte de clasificación:\n",
      "              precision    recall  f1-score   support\n",
      "\n",
      "         0.0       0.46      0.50      0.48       260\n",
      "         1.0       0.48      0.43      0.45       272\n",
      "\n",
      "    accuracy                           0.47       532\n",
      "   macro avg       0.47      0.47      0.47       532\n",
      "weighted avg       0.47      0.47      0.47       532\n",
      "\n"
     ]
    }
   ],
   "source": [
    "# 1. Primero veamos los nulos antes de la transformación\n",
    "print(\"Nulos antes de la transformación:\")\n",
    "display(df.isnull().sum())\n",
    "\n",
    "# 2. Definir los features y transformadores\n",
    "numeric_features = ['age', 'creatinine_phosphokinase', 'ejection_fraction',\n",
    "                   'platelets', 'serum_creatinine', 'serum_sodium', 'time']\n",
    "boolean_features = ['anaemia', 'diabetes', 'high_blood_pressure', 'sex', 'smoking']\n",
    "\n",
    "# Pipeline para features numéricas con verificación\n",
    "numeric_transformer = Pipeline(steps=[\n",
    "    ('imputer', SimpleImputer(strategy='median')),  # Añadimos verbose=True\n",
    "    ('scaler', StandardScaler())\n",
    "])\n",
    "\n",
    "# Pipeline para features booleanas con verificación\n",
    "boolean_transformer = Pipeline(steps=[\n",
    "    ('imputer', SimpleImputer(strategy='most_frequent')),  # Añadimos verbose=True\n",
    "    ('encoder', OneHotEncoder(drop='if_binary'))  # Cambiamos a sparse=False\n",
    "])\n",
    "\n",
    "# Combinar transformadores\n",
    "preprocessor = ColumnTransformer(\n",
    "    transformers=[\n",
    "        ('num', numeric_transformer, numeric_features),\n",
    "        ('bool', boolean_transformer, boolean_features)\n",
    "    ],\n",
    "    verbose=True  # Añadimos verbose=True\n",
    ")\n",
    "\n",
    "# Pipeline completo\n",
    "clf = Pipeline(steps=[\n",
    "    ('preprocessor', preprocessor),\n",
    "    ('classifier', RandomForestClassifier())\n",
    "], verbose=True)  # Añadimos verbose=True\n",
    "\n",
    "# Preparar datos\n",
    "X = df[[col for col in df.columns if col != 'DEATH_EVENT']]\n",
    "y = df['DEATH_EVENT']\n",
    "\n",
    "# Dividir datos\n",
    "X_train, X_test, y_train, y_test = train_test_split(X, y, test_size=0.2, random_state=42)\n",
    "\n",
    "# Verificar shapes antes del entrenamiento\n",
    "print(\"\\nFormas de los conjuntos de datos:\")\n",
    "print(f\"X_train shape: {X_train.shape}\")\n",
    "print(f\"X_test shape: {X_test.shape}\")\n",
    "print(f\"y_train shape: {y_train.shape}\")\n",
    "print(f\"y_test shape: {y_test.shape}\")\n",
    "\n",
    "# Entrenar con try-except para capturar errores\n",
    "try:\n",
    "    clf.fit(X_train, y_train)\n",
    "    \n",
    "    # Verificar si hay nulos después de la transformación\n",
    "    X_train_transformed = preprocessor.transform(X_train)\n",
    "    print(\"\\nShape después de la transformación:\", X_train_transformed.shape)\n",
    "    print(\"Hay nulos en X_train_transformed:\", np.isnan(X_train_transformed).any())\n",
    "    \n",
    "    # Predicciones\n",
    "    predictions = clf.predict(X_test)\n",
    "    \n",
    "except Exception as e:\n",
    "    print(\"\\nError durante el entrenamiento:\")\n",
    "    print(e)\n",
    "    print(\"\\nTipos de datos en X_train:\")\n",
    "    print(X_train.dtypes)\n",
    "\n",
    "# Mostrar las primeras predicciones vs valores reales\n",
    "print(\"\\nPrimeras 10 predicciones vs valores reales:\")\n",
    "comparison_df = pd.DataFrame({\n",
    "    'Predicción': predictions[:10],\n",
    "    'Valor Real': y_test.iloc[:10]\n",
    "})\n",
    "display(comparison_df)\n",
    "\n",
    "# Calcular y mostrar accuracy\n",
    "accuracy = (predictions == y_test).mean()\n",
    "print(f\"\\nExactitud del modelo: {accuracy:.2%}\")\n",
    "\n",
    "# También podemos mostrar la matriz de confusión\n",
    "from sklearn.metrics import confusion_matrix, classification_report\n",
    "print(\"\\nMatriz de confusión:\")\n",
    "display(pd.DataFrame(\n",
    "    confusion_matrix(y_test, predictions),\n",
    "    columns=['Pred Negativo', 'Pred Positivo'],\n",
    "    index=['Real Negativo', 'Real Positivo']\n",
    "))\n",
    "\n",
    "print(\"\\nReporte de clasificación:\")\n",
    "print(classification_report(y_test, predictions))"
   ]
  },
  {
   "cell_type": "code",
   "execution_count": 70,
   "id": "7e4eb0e8",
   "metadata": {},
   "outputs": [
    {
     "name": "stdout",
     "output_type": "stream",
     "text": [
      "📊 Resultados - Regresión Logística\n",
      "Accuracy: 0.4835\n",
      "              precision    recall  f1-score   support\n",
      "\n",
      "         0.0       0.50      0.64      0.56       201\n",
      "         1.0       0.46      0.32      0.38       192\n",
      "\n",
      "    accuracy                           0.48       393\n",
      "   macro avg       0.48      0.48      0.47       393\n",
      "weighted avg       0.48      0.48      0.47       393\n",
      "\n"
     ]
    },
    {
     "data": {
      "image/png": "[encoded data removed]",
      "text/plain": [
       "<Figure size 500x400 with 2 Axes>"
      ]
     },
     "metadata": {},
     "output_type": "display_data"
    },
    {
     "name": "stdout",
     "output_type": "stream",
     "text": [
      "\n",
      "🌲 Resultados - Random Forest\n",
      "Accuracy: 0.4809\n",
      "              precision    recall  f1-score   support\n",
      "\n",
      "         0.0       0.49      0.52      0.51       201\n",
      "         1.0       0.47      0.44      0.45       192\n",
      "\n",
      "    accuracy                           0.48       393\n",
      "   macro avg       0.48      0.48      0.48       393\n",
      "weighted avg       0.48      0.48      0.48       393\n",
      "\n"
     ]
    },
    {
     "data": {
      "image/png": "[encoded data removed]",
      "text/plain": [
       "<Figure size 500x400 with 2 Axes>"
      ]
     },
     "metadata": {},
     "output_type": "display_data"
    }
   ],
   "source": [
    "from sklearn.model_selection import train_test_split\n",
    "from sklearn.preprocessing import StandardScaler\n",
    "from sklearn.ensemble import RandomForestClassifier\n",
    "from sklearn.linear_model import LogisticRegression\n",
    "from sklearn.metrics import accuracy_score, classification_report, confusion_matrix\n",
    "import seaborn as sns\n",
    "import matplotlib.pyplot as plt\n",
    "from sklearn.impute import SimpleImputer\n",
    "from sklearn.preprocessing import StandardScaler\n",
    "\n",
    "# Se crea una copia del df pero sin valores nulos\n",
    "df_without_nulls = df.dropna()\n",
    "\n",
    "# Se separa la variable objetivo\n",
    "X = df_without_nulls.drop('DEATH_EVENT', axis=1)\n",
    "y = df_without_nulls['DEATH_EVENT']\n",
    "\n",
    "# Se divide las variables de entrenamiento y pruebas\n",
    "X_train, X_test, y_train, y_test = train_test_split(\n",
    "    X, y, test_size=0.2, random_state=42, stratify=y\n",
    ")\n",
    "\n",
    "# Se escalan las variables (Solo para regresion logistica)\n",
    "scaler = StandardScaler()\n",
    "X_train_scaled = scaler.fit_transform(X_train)\n",
    "X_test_scaled = scaler.transform(X_test)\n",
    "\n",
    "# ==========================\n",
    "# 🔹 REGRESIÓN LOGÍSTICA\n",
    "# ==========================\n",
    "log_reg = LogisticRegression(max_iter=1000, random_state=42)\n",
    "log_reg.fit(X_train_scaled, y_train)\n",
    "y_pred_log = log_reg.predict(X_test_scaled)\n",
    "\n",
    "print(\"📊 Resultados - Regresión Logística\")\n",
    "print(\"Accuracy:\", round(accuracy_score(y_test, y_pred_log), 4))\n",
    "print(classification_report(y_test, y_pred_log))\n",
    "\n",
    "plt.figure(figsize=(5,4))\n",
    "sns.heatmap(confusion_matrix(y_test, y_pred_log), annot=True, fmt='d', cmap='Blues')\n",
    "plt.title(\"Matriz de confusión - Regresión Logística\")\n",
    "plt.xlabel(\"Predicción\")\n",
    "plt.ylabel(\"Real\")\n",
    "plt.show()\n",
    "\n",
    "# ==========================\n",
    "# 🌲 RANDOM FOREST\n",
    "# ==========================\n",
    "rf = RandomForestClassifier(n_estimators=200, random_state=42)\n",
    "rf.fit(X_train, y_train)\n",
    "y_pred_rf = rf.predict(X_test)\n",
    "\n",
    "print(\"\\n🌲 Resultados - Random Forest\")\n",
    "print(\"Accuracy:\", round(accuracy_score(y_test, y_pred_rf), 4))\n",
    "print(classification_report(y_test, y_pred_rf))\n",
    "\n",
    "plt.figure(figsize=(5,4))\n",
    "sns.heatmap(confusion_matrix(y_test, y_pred_rf), annot=True, fmt='d', cmap='Greens')\n",
    "plt.title(\"Matriz de confusión - Random Forest\")\n",
    "plt.xlabel(\"Predicción\")\n",
    "plt.ylabel(\"Real\")\n",
    "plt.show()"
   ]
  }
 ],
 "metadata": {
  "kernelspec": {
   "display_name": "proyectocienciadatos (3.13.5)",
   "language": "python",
   "name": "python3"
  },
  "language_info": {
   "codemirror_mode": {
    "name": "ipython",
    "version": 3
   },
   "file_extension": ".py",
   "mimetype": "text/x-python",
   "name": "python",
   "nbconvert_exporter": "python",
   "pygments_lexer": "ipython3",
   "version": "3.13.5"
  }
 },
 "nbformat": 4,
 "nbformat_minor": 5
}
