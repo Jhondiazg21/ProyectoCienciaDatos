{
 "cells": [
  {
   "cell_type": "markdown",
   "id": "8e590d52",
   "metadata": {},
   "source": [
    "## *Análisis del Dataset de insuficiencia cardiaca* heart_failure_clinical_records_dataset.csv de Kaggle"
   ]
  },
  {
   "cell_type": "markdown",
   "id": "38baf46f",
   "metadata": {},
   "source": [
    "### **Presentado por:**\n",
    "\n",
    "Angélica Órtiz Álvarez (aortiz016@soyudemedellin.edu.co)\n",
    "\n",
    "Jhon Jader Diaz Gomez (jdiaz510@soyudemedellin.edu.co)\n",
    "\n",
    "Cristian Camilo Ospina Metaute (cospina149@soyudemedellin.edu.co)"
   ]
  },
  {
   "cell_type": "markdown",
   "id": "95eece2d",
   "metadata": {},
   "source": [
    "##### Para iniciar, se importan las librerías requeridas para manipulación de datos y manejo de modelos"
   ]
  },
  {
   "cell_type": "code",
   "execution_count": 1,
   "id": "a1ab86b8",
   "metadata": {},
   "outputs": [],
   "source": [
    "import numpy as np \n",
    "import pandas as pd\n",
    "import random\n",
    "import re\n",
    "import os\n",
    "import matplotlib.pyplot as plt\n",
    "from sklearn.mixture import GaussianMixture\n",
    "import seaborn as sns\n",
    "from sklearn.impute import SimpleImputer\n",
    "from sklearn.pipeline import Pipeline\n",
    "from sklearn.compose import ColumnTransformer\n",
    "from sklearn.preprocessing import StandardScaler, OneHotEncoder\n",
    "from sklearn.ensemble import RandomForestClassifier\n",
    "from sklearn.linear_model import LogisticRegression\n",
    "from sklearn.model_selection import train_test_split, GridSearchCV, cross_val_score\n",
    "from sklearn.metrics import accuracy_score, precision_score, recall_score, f1_score, roc_auc_score, classification_report, confusion_matrix"
   ]
  },
  {
   "cell_type": "markdown",
   "id": "c70dab85",
   "metadata": {},
   "source": [
    "##### Posteriormente, se carga el dataset heart_failure_clinical_records_dataset.csv de [Kaggle](https://www.kaggle.com/code/arjunamla02/logistic-regession-vs-decision-tree-vs-rf/notebook) - [UCI Irvine](https://archive.ics.uci.edu/dataset/519/heart+failure+clinical+records)\n"
   ]
  },
  {
   "cell_type": "code",
   "execution_count": 2,
   "id": "71afd076",
   "metadata": {},
   "outputs": [
    {
     "data": {
      "application/vnd.microsoft.datawrangler.viewer.v0+json": {
       "columns": [
        {
         "name": "index",
         "rawType": "int64",
         "type": "integer"
        },
        {
         "name": "age",
         "rawType": "float64",
         "type": "float"
        },
        {
         "name": "anaemia",
         "rawType": "int64",
         "type": "integer"
        },
        {
         "name": "creatinine_phosphokinase",
         "rawType": "int64",
         "type": "integer"
        },
        {
         "name": "diabetes",
         "rawType": "int64",
         "type": "integer"
        },
        {
         "name": "ejection_fraction",
         "rawType": "int64",
         "type": "integer"
        },
        {
         "name": "high_blood_pressure",
         "rawType": "int64",
         "type": "integer"
        },
        {
         "name": "platelets",
         "rawType": "float64",
         "type": "float"
        },
        {
         "name": "serum_creatinine",
         "rawType": "float64",
         "type": "float"
        },
        {
         "name": "serum_sodium",
         "rawType": "int64",
         "type": "integer"
        },
        {
         "name": "sex",
         "rawType": "int64",
         "type": "integer"
        },
        {
         "name": "smoking",
         "rawType": "int64",
         "type": "integer"
        },
        {
         "name": "time",
         "rawType": "int64",
         "type": "integer"
        },
        {
         "name": "DEATH_EVENT",
         "rawType": "int64",
         "type": "integer"
        }
       ],
       "ref": "6a91796d-ba75-4b87-a88f-2f2929f409b0",
       "rows": [
        [
         "0",
         "75.0",
         "0",
         "582",
         "0",
         "20",
         "1",
         "265000.0",
         "1.9",
         "130",
         "1",
         "0",
         "4",
         "1"
        ],
        [
         "1",
         "55.0",
         "0",
         "7861",
         "0",
         "38",
         "0",
         "263358.03",
         "1.1",
         "136",
         "1",
         "0",
         "6",
         "1"
        ],
        [
         "2",
         "65.0",
         "0",
         "146",
         "0",
         "20",
         "0",
         "162000.0",
         "1.3",
         "129",
         "1",
         "1",
         "7",
         "1"
        ],
        [
         "3",
         "50.0",
         "1",
         "111",
         "0",
         "20",
         "0",
         "210000.0",
         "1.9",
         "137",
         "1",
         "0",
         "7",
         "1"
        ],
        [
         "4",
         "65.0",
         "1",
         "160",
         "1",
         "20",
         "0",
         "327000.0",
         "2.7",
         "116",
         "0",
         "0",
         "8",
         "1"
        ]
       ],
       "shape": {
        "columns": 13,
        "rows": 5
       }
      },
      "text/html": [
       "<div>\n",
       "<style scoped>\n",
       "    .dataframe tbody tr th:only-of-type {\n",
       "        vertical-align: middle;\n",
       "    }\n",
       "\n",
       "    .dataframe tbody tr th {\n",
       "        vertical-align: top;\n",
       "    }\n",
       "\n",
       "    .dataframe thead th {\n",
       "        text-align: right;\n",
       "    }\n",
       "</style>\n",
       "<table border=\"1\" class=\"dataframe\">\n",
       "  <thead>\n",
       "    <tr style=\"text-align: right;\">\n",
       "      <th></th>\n",
       "      <th>age</th>\n",
       "      <th>anaemia</th>\n",
       "      <th>creatinine_phosphokinase</th>\n",
       "      <th>diabetes</th>\n",
       "      <th>ejection_fraction</th>\n",
       "      <th>high_blood_pressure</th>\n",
       "      <th>platelets</th>\n",
       "      <th>serum_creatinine</th>\n",
       "      <th>serum_sodium</th>\n",
       "      <th>sex</th>\n",
       "      <th>smoking</th>\n",
       "      <th>time</th>\n",
       "      <th>DEATH_EVENT</th>\n",
       "    </tr>\n",
       "  </thead>\n",
       "  <tbody>\n",
       "    <tr>\n",
       "      <th>0</th>\n",
       "      <td>75.0</td>\n",
       "      <td>0</td>\n",
       "      <td>582</td>\n",
       "      <td>0</td>\n",
       "      <td>20</td>\n",
       "      <td>1</td>\n",
       "      <td>265000.00</td>\n",
       "      <td>1.9</td>\n",
       "      <td>130</td>\n",
       "      <td>1</td>\n",
       "      <td>0</td>\n",
       "      <td>4</td>\n",
       "      <td>1</td>\n",
       "    </tr>\n",
       "    <tr>\n",
       "      <th>1</th>\n",
       "      <td>55.0</td>\n",
       "      <td>0</td>\n",
       "      <td>7861</td>\n",
       "      <td>0</td>\n",
       "      <td>38</td>\n",
       "      <td>0</td>\n",
       "      <td>263358.03</td>\n",
       "      <td>1.1</td>\n",
       "      <td>136</td>\n",
       "      <td>1</td>\n",
       "      <td>0</td>\n",
       "      <td>6</td>\n",
       "      <td>1</td>\n",
       "    </tr>\n",
       "    <tr>\n",
       "      <th>2</th>\n",
       "      <td>65.0</td>\n",
       "      <td>0</td>\n",
       "      <td>146</td>\n",
       "      <td>0</td>\n",
       "      <td>20</td>\n",
       "      <td>0</td>\n",
       "      <td>162000.00</td>\n",
       "      <td>1.3</td>\n",
       "      <td>129</td>\n",
       "      <td>1</td>\n",
       "      <td>1</td>\n",
       "      <td>7</td>\n",
       "      <td>1</td>\n",
       "    </tr>\n",
       "    <tr>\n",
       "      <th>3</th>\n",
       "      <td>50.0</td>\n",
       "      <td>1</td>\n",
       "      <td>111</td>\n",
       "      <td>0</td>\n",
       "      <td>20</td>\n",
       "      <td>0</td>\n",
       "      <td>210000.00</td>\n",
       "      <td>1.9</td>\n",
       "      <td>137</td>\n",
       "      <td>1</td>\n",
       "      <td>0</td>\n",
       "      <td>7</td>\n",
       "      <td>1</td>\n",
       "    </tr>\n",
       "    <tr>\n",
       "      <th>4</th>\n",
       "      <td>65.0</td>\n",
       "      <td>1</td>\n",
       "      <td>160</td>\n",
       "      <td>1</td>\n",
       "      <td>20</td>\n",
       "      <td>0</td>\n",
       "      <td>327000.00</td>\n",
       "      <td>2.7</td>\n",
       "      <td>116</td>\n",
       "      <td>0</td>\n",
       "      <td>0</td>\n",
       "      <td>8</td>\n",
       "      <td>1</td>\n",
       "    </tr>\n",
       "  </tbody>\n",
       "</table>\n",
       "</div>"
      ],
      "text/plain": [
       "    age  anaemia  creatinine_phosphokinase  diabetes  ejection_fraction  \\\n",
       "0  75.0        0                       582         0                 20   \n",
       "1  55.0        0                      7861         0                 38   \n",
       "2  65.0        0                       146         0                 20   \n",
       "3  50.0        1                       111         0                 20   \n",
       "4  65.0        1                       160         1                 20   \n",
       "\n",
       "   high_blood_pressure  platelets  serum_creatinine  serum_sodium  sex  \\\n",
       "0                    1  265000.00               1.9           130    1   \n",
       "1                    0  263358.03               1.1           136    1   \n",
       "2                    0  162000.00               1.3           129    1   \n",
       "3                    0  210000.00               1.9           137    1   \n",
       "4                    0  327000.00               2.7           116    0   \n",
       "\n",
       "   smoking  time  DEATH_EVENT  \n",
       "0        0     4            1  \n",
       "1        0     6            1  \n",
       "2        1     7            1  \n",
       "3        0     7            1  \n",
       "4        0     8            1  "
      ]
     },
     "execution_count": 2,
     "metadata": {},
     "output_type": "execute_result"
    }
   ],
   "source": [
    "# Buscar la carpeta raíz del proyecto por nombre\n",
    "carpeta_actual = os.getcwd()\n",
    "nombre_proyecto = \"ProyectoCienciaDatos\"\n",
    "\n",
    "# Recorrer hacia arriba hasta encontrar la carpeta raíz\n",
    "while os.path.basename(carpeta_actual) != nombre_proyecto:\n",
    "    carpeta_actual = os.path.dirname(carpeta_actual)\n",
    "    if carpeta_actual == os.path.dirname(carpeta_actual):  # Llegamos al tope\n",
    "        raise FileNotFoundError(f\"No se encontró la carpeta raíz '{nombre_proyecto}'.\")\n",
    "\n",
    "# Construir la ruta al archivo CSV\n",
    "ruta_csv = os.path.join(carpeta_actual, \"data\", \"raw\", \"heart_failure_clinical_records_dataset.csv\")\n",
    "\n",
    "# Leer el archivo\n",
    "df = pd.read_csv(ruta_csv)\n",
    "df.head()  \n"
   ]
  },
  {
   "cell_type": "markdown",
   "id": "6cd26e62",
   "metadata": {},
   "source": [
    "##### Se imprime el resumen de la estructura del DataFrame, con el objetivo de inspeccionar los datos."
   ]
  },
  {
   "cell_type": "code",
   "execution_count": 3,
   "id": "74b11ec1",
   "metadata": {},
   "outputs": [
    {
     "name": "stdout",
     "output_type": "stream",
     "text": [
      "<class 'pandas.core.frame.DataFrame'>\n",
      "RangeIndex: 299 entries, 0 to 298\n",
      "Data columns (total 13 columns):\n",
      " #   Column                    Non-Null Count  Dtype  \n",
      "---  ------                    --------------  -----  \n",
      " 0   age                       299 non-null    float64\n",
      " 1   anaemia                   299 non-null    int64  \n",
      " 2   creatinine_phosphokinase  299 non-null    int64  \n",
      " 3   diabetes                  299 non-null    int64  \n",
      " 4   ejection_fraction         299 non-null    int64  \n",
      " 5   high_blood_pressure       299 non-null    int64  \n",
      " 6   platelets                 299 non-null    float64\n",
      " 7   serum_creatinine          299 non-null    float64\n",
      " 8   serum_sodium              299 non-null    int64  \n",
      " 9   sex                       299 non-null    int64  \n",
      " 10  smoking                   299 non-null    int64  \n",
      " 11  time                      299 non-null    int64  \n",
      " 12  DEATH_EVENT               299 non-null    int64  \n",
      "dtypes: float64(3), int64(10)\n",
      "memory usage: 30.5 KB\n"
     ]
    }
   ],
   "source": [
    "df.info()"
   ]
  },
  {
   "cell_type": "markdown",
   "id": "b7c77655",
   "metadata": {},
   "source": [
    "## 🧾 Descripción del Dataset\n",
    "\n",
    "**Nombre del dataset:** `heart-failure-clinical-data`  \n",
    "**Fuente:** Kaggle  \n",
    "**Tipo de problema:** Clasificación binaria  \n",
    "**Licencia:** Apache 2.0\n",
    "\n",
    "### 🔍 Variables incluidas:\n",
    "El dataset contiene variables clínicas relevantes para pacientes con insuficiencia cardíaca. Algunas de las variables clave incluyen:\n",
    "\n",
    "- `age`: Edad del paciente\n",
    "- `anaemia`: Presencia de anemia (booleano)\n",
    "- `creatinine_phosphokinase`: Nivel de la enzima CPK\n",
    "- `diabetes`: Diagnóstico de diabetes (booleano)\n",
    "- `ejection_fraction`: Porcentaje de sangre expulsada por el corazón\n",
    "- `high_blood_pressure`: Presión arterial alta (booleano)\n",
    "- `platelets`: Recuento de plaquetas\n",
    "- `serum_creatinine`: Nivel de creatinina en sangre\n",
    "- `serum_sodium`: Nivel de sodio en sangre\n",
    "- `sex`: Sexo del paciente\n",
    "- `smoking`: Fumador (booleano)\n",
    "- `time`: Tiempo de seguimiento en días\n",
    "- `DEATH_EVENT`: Variable objetivo (0 = sobrevivió, 1 = falleció)\n",
    "\n",
    "## 🎯 Objetivo del Estudio\n",
    "\n",
    "El propósito principal del notebook es comparar el rendimiento de dos modelos de clasificación ampliamente utilizados en la industria:\n",
    "\n",
    "1. **Regresión Logística**\n",
    "3. **Bosque Aleatorio (Random Forest)**\n",
    "\n",
    "### Objetivos específicos:\n",
    "\n",
    "- Evaluar la capacidad predictiva de cada modelo sobre la variable `DEATH_EVENT`.\n",
    "- Analizar las ventajas y desventajas de cada enfoque en términos de:\n",
    "  - Interpretabilidad\n",
    "  - Precisión\n",
    "  - Curvas ROC y PR\n",
    "  - Robustez frente al sobreajuste\n",
    "\n",
    "## 📈 Aplicaciones del análisis\n",
    "\n",
    "Este tipo de estudio es útil para:\n",
    "\n",
    "- Profesionales de la salud que buscan herramientas predictivas para evaluar riesgos clínicos.\n",
    "- Científicos de datos que desean entender el comportamiento de distintos algoritmos de clasificación en contextos médicos.\n",
    "- Estudiantes y desarrolladores que exploran técnicas de machine learning aplicadas a datos reales.\n"
   ]
  },
  {
   "cell_type": "markdown",
   "id": "af44cc21",
   "metadata": {},
   "source": [
    "## 🧬 Estructura del Dataset `heart-failure-clinical-data`\n",
    "\n",
    "Este dataset contiene información clínica de pacientes con insuficiencia cardíaca. La tabla siguiente describe cada columna, su tipo de dato y su significado clínico:\n",
    "\n",
    "| Columna                    | Tipo de dato | Descripción                                                                 |\n",
    "|----------------------------|--------------|------------------------------------------------------------------------------|\n",
    "| `age`                      | Numérico     | Edad del paciente en años.                                                  |\n",
    "| `anaemia`                  | Binario      | Disminución de glóbulos rojos o hemoglobina (1 = sí, 0 = no).               |\n",
    "| `creatinine_phosphokinase`| Numérico     | Nivel de la enzima CPK en sangre (mcg/L).                                   |\n",
    "| `diabetes`                 | Binario      | Indica si el paciente tiene diabetes (1 = sí, 0 = no).                      |\n",
    "| `ejection_fraction`        | Numérico     | Porcentaje de sangre expulsada por el corazón en cada contracción.         |\n",
    "| `high_blood_pressure`      | Binario      | Indica si el paciente tiene hipertensión (1 = sí, 0 = no).                  |\n",
    "| `platelets`                | Numérico     | Número de plaquetas en sangre (kiloplaquetas/mL).                           |\n",
    "| `serum_creatinine`         | Numérico     | Nivel de creatinina en sangre (mg/dL).                                      |\n",
    "| `serum_sodium`             | Numérico     | Nivel de sodio en sangre (mEq/L).                                           |\n",
    "| `sex`                      | Binario      | Sexo del paciente (1 = masculino, 0 = femenino).                            |\n",
    "| `smoking`                  | Binario      | Indica si el paciente fuma (1 = sí, 0 = no).                                |\n",
    "| `time`                     | Numérico     | Tiempo de seguimiento del paciente (en días).                               |\n",
    "| `DEATH_EVENT`              | Binario      | Variable objetivo: indica si el paciente falleció durante el seguimiento.  |\n"
   ]
  },
  {
   "cell_type": "markdown",
   "id": "fc9c1938",
   "metadata": {},
   "source": [
    "##### Debido a que la base de datos original tiene solo 299 registros, se simula 2700 adicionales para completar 3000, de manera que tengamos una base de datos con suficientes datos y con ruido para hacer el ejercicio de manipulación de datos."
   ]
  },
  {
   "cell_type": "code",
   "execution_count": 4,
   "id": "6cbb1095",
   "metadata": {},
   "outputs": [
    {
     "name": "stdout",
     "output_type": "stream",
     "text": [
      "Dataset original heart_failure_clinical_records_dataset.csv cargado. Contiene 299 filas.\n",
      "Entrenando modelo GMM en los datos originales...\n",
      "Generando 2000 nuevos registros sintéticos...\n",
      "Post-procesando los datos sintéticos (redondeo, recorte y tipos de datos)...\n",
      "\n",
      "--- Primeras 5 filas de datos sintéticos (limpios, antes de errores) ---\n",
      "   age  anaemia  creatinine_phosphokinase  diabetes  ejection_fraction  \\\n",
      "0   60        0                       591         0                 55   \n",
      "1   56        0                      5738         0                 43   \n",
      "2   66        1                      2117         0                 14   \n",
      "3   63        0                        23         0                 23   \n",
      "4   54        1                        23         1                 41   \n",
      "\n",
      "   high_blood_pressure  platelets  serum_creatinine  serum_sodium  sex  \\\n",
      "0                    1  277875.38              1.52           148    0   \n",
      "1                    0  235014.28              0.50           138    1   \n",
      "2                    0  265095.34              0.50           129    0   \n",
      "3                    1  288774.58              1.18           132    0   \n",
      "4                    0  213854.59              1.58           137    1   \n",
      "\n",
      "   smoking  time  DEATH_EVENT  \n",
      "0        0   169            0  \n",
      "1        0    76            0  \n",
      "2        0   211            0  \n",
      "3        0   122            0  \n",
      "4        0    97            0  \n",
      "Introduciendo errores y valores nulos en los 2000 registros sintéticos...\n",
      "Introducción de errores completada.\n"
     ]
    },
    {
     "name": "stderr",
     "output_type": "stream",
     "text": [
      "C:\\Users\\c_cam\\AppData\\Local\\Temp\\ipykernel_3608\\2536205558.py:114: FutureWarning: Setting an item of incompatible dtype is deprecated and will raise an error in a future version of pandas. Value 'MALE' has dtype incompatible with int64, please explicitly cast to a compatible dtype first.\n",
      "  df_synthetic.loc[i, 'sex'] = random.choice(['MALE', 'male'])\n",
      "C:\\Users\\c_cam\\AppData\\Local\\Temp\\ipykernel_3608\\2536205558.py:125: FutureWarning: Setting an item of incompatible dtype is deprecated and will raise an error in a future version of pandas. Value '1.09 mg/dL' has dtype incompatible with float64, please explicitly cast to a compatible dtype first.\n",
      "  df_synthetic.loc[i, 'serum_creatinine'] = f\"{original_value:.2f} mg/dL\"\n",
      "C:\\Users\\c_cam\\AppData\\Local\\Temp\\ipykernel_3608\\2536205558.py:139: FutureWarning: Setting an item of incompatible dtype is deprecated and will raise an error in a future version of pandas. Value 'NO' has dtype incompatible with int64, please explicitly cast to a compatible dtype first.\n",
      "  df_synthetic.loc[i, 'diabetes'] = random.choice(['NO', 'N/A', 0])\n"
     ]
    }
   ],
   "source": [
    "# --- 0. Definiciones y Carga de Datos ---\n",
    "\n",
    "# Definición de las columnas y sus tipos de datos esperados\n",
    "# Basado en la estructura del dataset \"heart_failure_clinical_records_dataset\"\n",
    "columns = [\n",
    "    'age', 'anaemia', 'creatinine_phosphokinase', 'diabetes',\n",
    "    'ejection_fraction', 'high_blood_pressure', 'platelets',\n",
    "    'serum_creatinine', 'serum_sodium', 'sex', 'smoking', 'time',\n",
    "    'DEATH_EVENT'\n",
    "]\n",
    "\n",
    "# Rango de valores (aproximados, basados en el dataset original) para la generación sintética\n",
    "# Usaremos estos rangos para \"recortar\" (clip) los valores generados por el GMM y asegurar que sean realistas.\n",
    "data_ranges = {\n",
    "    'age': (40, 95),\n",
    "    'anaemia': (0, 1), # Binario\n",
    "    'creatinine_phosphokinase': (23, 7861), \n",
    "    'diabetes': (0, 1), # Binario\n",
    "    'ejection_fraction': (14, 80),\n",
    "    'high_blood_pressure': (0, 1), # Binario\n",
    "    'platelets': (25100, 850000), # Ajustado ligeramente basado en .describe() de datos reales\n",
    "    'serum_creatinine': (0.5, 9.4),\n",
    "    'serum_sodium': (113, 148),\n",
    "    'sex': (0, 1), # Binario\n",
    "    'smoking': (0, 1), # Binario\n",
    "    'time': (4, 285),\n",
    "    'DEATH_EVENT': (0, 1) # Binario\n",
    "}\n",
    "\n",
    "try:\n",
    "    df_original = df.copy()\n",
    "    print(f\"Dataset original heart_failure_clinical_records_dataset.csv cargado. Contiene {len(df_original)} filas.\")\n",
    "    # Asegurarnos que las columnas del original coinciden\n",
    "    df_original = df_original[columns]\n",
    "except Exception as e:\n",
    "    print(f\"Error al cargar el archivo original: {e}\")\n",
    "    # Salir si no podemos cargar el archivo base\n",
    "    exit()\n",
    "\n",
    "# --- 1. Generación de Datos Sintéticos (con Correlaciones) ---\n",
    "\n",
    "# Número de nuevos registros a crear\n",
    "n_new_records = 2000\n",
    "\n",
    "# Inicializar el Modelo de Mezcla Gaussiana (GMM)\n",
    "# Usamos n_components=5 para capturar diferentes \"perfiles\" de pacientes en los datos\n",
    "# Usamos covariance_type='full' para capturar las correlaciones completas entre todas las características\n",
    "gmm = GaussianMixture(n_components=5, random_state=42, covariance_type='full', max_iter=200, n_init=5)\n",
    "\n",
    "# Entrenar el GMM con los datos originales\n",
    "print(\"Entrenando modelo GMM en los datos originales...\")\n",
    "gmm.fit(df_original)\n",
    "\n",
    "# Generar 2000 nuevas muestras a partir del modelo entrenado\n",
    "print(f\"Generando {n_new_records} nuevos registros sintéticos...\")\n",
    "new_data_array, _ = gmm.sample(n_samples=n_new_records)\n",
    "\n",
    "# Convertir las muestras en un DataFrame\n",
    "df_synthetic = pd.DataFrame(new_data_array, columns=columns)\n",
    "\n",
    "# --- 2. Post-procesamiento de los Datos Sintéticos ---\n",
    "# El GMM genera valores flotantes para todas las columnas.\n",
    "# Necesitamos redondearlos, recortarlos (clip) a rangos realistas y convertirlos a sus tipos de datos correctos.\n",
    "\n",
    "print(\"Post-procesando los datos sintéticos (redondeo, recorte y tipos de datos)...\")\n",
    "\n",
    "for col in columns:\n",
    "    min_val, max_val = data_ranges[col]\n",
    "\n",
    "    if col in ['anaemia', 'diabetes', 'high_blood_pressure', 'sex', 'smoking', 'DEATH_EVENT']:\n",
    "        # Columnas binarias\n",
    "        df_synthetic[col] = np.round(df_synthetic[col])\n",
    "        df_synthetic[col] = np.clip(df_synthetic[col], min_val, max_val)\n",
    "        df_synthetic[col] = df_synthetic[col].astype(int)\n",
    "        \n",
    "    elif col in ['age', 'creatinine_phosphokinase', 'ejection_fraction', 'time', 'serum_sodium']:\n",
    "        # Columnas enteras (incluimos serum_sodium basado en el df.info() original)\n",
    "        df_synthetic[col] = np.round(df_synthetic[col])\n",
    "        df_synthetic[col] = np.clip(df_synthetic[col], min_val, max_val)\n",
    "        df_synthetic[col] = df_synthetic[col].astype(int)\n",
    "        \n",
    "    elif col in ['platelets', 'serum_creatinine']:\n",
    "        # Columnas flotantes\n",
    "        df_synthetic[col] = np.clip(df_synthetic[col], min_val, max_val)\n",
    "        df_synthetic[col] = np.round(df_synthetic[col], 2) # Redondear a 2 decimales\n",
    "\n",
    "print(\"\\n--- Primeras 5 filas de datos sintéticos (limpios, antes de errores) ---\")\n",
    "print(df_synthetic.head())\n",
    "\n",
    "# --- 3. Introducción de Errores (siguiendo la estrategia del script) ---\n",
    "# Aplicamos la misma lógica de errores del script proporcionado, pero ÚNICAMENTE\n",
    "# al nuevo DataFrame 'df_synthetic'.\n",
    "\n",
    "print(f\"Introduciendo errores y valores nulos en los {n_new_records} registros sintéticos...\")\n",
    "\n",
    "# 1. VALORES NULOS (NaN)\n",
    "np.random.seed(43) # Nueva semilla\n",
    "null_cols = ['age', 'creatinine_phosphokinase', 'platelets', 'serum_creatinine', 'DEATH_EVENT']\n",
    "\n",
    "for col in null_cols:\n",
    "    nan_count = int(n_new_records * random.uniform(0.05, 0.15))\n",
    "    # Asegurarse de que los índices existan en df_synthetic (de 0 a n_new_records-1)\n",
    "    nan_indices = np.random.choice(df_synthetic.index, nan_count, replace=False)\n",
    "    df_synthetic.loc[nan_indices, col] = np.nan\n",
    "\n",
    "# 2. CAMBIOS EN EL TIPO DE DATO (para forzar conversión o limpieza)\n",
    "\n",
    "# a) Conversión de 'sex' a Texto ('MALE'/'FEMALE')\n",
    "string_conversion_count = int(n_new_records * 0.10)\n",
    "string_indices = np.random.choice(df_synthetic.index, string_conversion_count, replace=False)\n",
    "\n",
    "for i in string_indices:\n",
    "    if df_synthetic.loc[i, 'sex'] == 1:\n",
    "        df_synthetic.loc[i, 'sex'] = random.choice(['MALE', 'male'])\n",
    "    else:\n",
    "        df_synthetic.loc[i, 'sex'] = random.choice(['FEMALE', 'female'])\n",
    "\n",
    "# b) Conversión de 'serum_creatinine' a Texto con unidades\n",
    "string_unit_count = int(n_new_records * 0.08)\n",
    "string_unit_indices = np.random.choice(df_synthetic.index, string_unit_count, replace=False)\n",
    "\n",
    "for i in string_unit_indices:\n",
    "    original_value = df_synthetic.loc[i, 'serum_creatinine']\n",
    "    if not pd.isna(original_value): # No modificar si ya es NaN\n",
    "        df_synthetic.loc[i, 'serum_creatinine'] = f\"{original_value:.2f} mg/dL\"\n",
    "    else:\n",
    "        # Si era NaN por el paso anterior, podemos asignarle otro valor no numérico\n",
    "        if random.random() < 0.5:\n",
    "            df_synthetic.loc[i, 'serum_creatinine'] = 'Desconocido'\n",
    "\n",
    "# c) Valores inconsistentes para 'diabetes'\n",
    "inconsistent_count = int(n_new_records * 0.12)\n",
    "inconsistent_indices = np.random.choice(df_synthetic.index, inconsistent_count, replace=False)\n",
    "\n",
    "for i in inconsistent_indices:\n",
    "    if df_synthetic.loc[i, 'diabetes'] == 1:\n",
    "        df_synthetic.loc[i, 'diabetes'] = random.choice(['YES', 2])\n",
    "    else:\n",
    "        df_synthetic.loc[i, 'diabetes'] = random.choice(['NO', 'N/A', 0])\n",
    "\n",
    "# d) Valores extremos en 'ejection_fraction'\n",
    "extreme_count = int(n_new_records * 0.04)\n",
    "extreme_indices = np.random.choice(df_synthetic.index, extreme_count, replace=False)\n",
    "for i in extreme_indices:\n",
    "    df_synthetic.loc[i, 'ejection_fraction'] = random.choice([-1, 999])\n",
    "\n",
    "print(\"Introducción de errores completada.\")\n",
    "\n",
    "# --- 4. Combinar y Guardar ---\n",
    "\n",
    "# Concatenar el DataFrame original (limpio) y los nuevos registros sintéticos (con errores)\n",
    "df_final = pd.concat([df_original, df_synthetic], ignore_index=True)\n",
    "\n",
    "# Reordenar las columnas para asegurar el formato original\n",
    "df_final = df_final[columns]\n",
    "\n",
    "df = df_final.copy()"
   ]
  },
  {
   "cell_type": "markdown",
   "id": "2c523007",
   "metadata": {},
   "source": [
    "## 🔎 Exploración Rápida de Datos (EDA)\n",
    "\n",
    "Este bloque de código realiza un análisis exploratorio inicial sobre un DataFrame `df`, con el objetivo de comprender su estructura, calidad de datos y detectar la variable objetivo para tareas de clasificación o regresión.\n",
    "\n",
    "### 🧩 1. Información general del dataset\n",
    "- **`df.shape`**: Muestra el número de filas y columnas del dataset.\n",
    "- **`df.columns.tolist()`**: Lista los nombres de las columnas presentes.\n",
    "- **`df.info()`**: Proporciona información sobre el tipo de datos de cada columna, cantidad de valores no nulos y uso de memoria.\n",
    "\n",
    "### 📊 2. Estadísticas descriptivas\n",
    "\n",
    "- Se genera un resumen estadístico de las columnas numéricas: media, desviación estándar, valores mínimos, máximos y percentiles.\n",
    "- La transposición (`.T`) permite visualizar las estadísticas en formato vertical, facilitando la lectura.\n",
    "\n",
    "### 🧼 3. Detección de valores nulos\n",
    "\n",
    "- Se calcula el número de valores nulos por columna para evaluar la calidad del dataset y decidir si es necesario imputar o eliminar datos.\n",
    "\n",
    "### 🎯 4. Identificación de la variable objetivo\n",
    "\n",
    "- Se busca automáticamente una columna llamada `target` o `label`, que comúnmente representa la variable objetivo.\n",
    "- Si no se encuentra, se asume que la última columna podría ser la etiqueta.\n",
    "\n",
    "### 📈 5. Distribución de la variable objetivo\n",
    "\n",
    "- Se muestra la distribución de clases en la variable objetivo, útil para detectar desbalance de clases.\n",
    "- Si no se detecta una columna explícita como `target` o `label`, se analiza la última columna como posible candidata."
   ]
  },
  {
   "cell_type": "markdown",
   "id": "469aa780",
   "metadata": {},
   "source": []
  },
  {
   "cell_type": "code",
   "execution_count": 5,
   "id": "d867c24b",
   "metadata": {},
   "outputs": [
    {
     "name": "stdout",
     "output_type": "stream",
     "text": [
      "Shape: (2299, 13)\n",
      "\n",
      "Columnas: ['age', 'anaemia', 'creatinine_phosphokinase', 'diabetes', 'ejection_fraction', 'high_blood_pressure', 'platelets', 'serum_creatinine', 'serum_sodium', 'sex', 'smoking', 'time', 'DEATH_EVENT']\n",
      "\n",
      "Info:\n",
      "<class 'pandas.core.frame.DataFrame'>\n",
      "RangeIndex: 2299 entries, 0 to 2298\n",
      "Data columns (total 13 columns):\n",
      " #   Column                    Non-Null Count  Dtype  \n",
      "---  ------                    --------------  -----  \n",
      " 0   age                       2095 non-null   float64\n",
      " 1   anaemia                   2299 non-null   int64  \n",
      " 2   creatinine_phosphokinase  2128 non-null   float64\n",
      " 3   diabetes                  2299 non-null   object \n",
      " 4   ejection_fraction         2299 non-null   int64  \n",
      " 5   high_blood_pressure       2299 non-null   int64  \n",
      " 6   platelets                 2177 non-null   float64\n",
      " 7   serum_creatinine          2170 non-null   object \n",
      " 8   serum_sodium              2299 non-null   int64  \n",
      " 9   sex                       2299 non-null   object \n",
      " 10  smoking                   2299 non-null   int64  \n",
      " 11  time                      2299 non-null   int64  \n",
      " 12  DEATH_EVENT               2007 non-null   float64\n",
      "dtypes: float64(4), int64(6), object(3)\n",
      "memory usage: 233.6+ KB\n"
     ]
    },
    {
     "data": {
      "text/plain": [
       "None"
      ]
     },
     "metadata": {},
     "output_type": "display_data"
    },
    {
     "name": "stdout",
     "output_type": "stream",
     "text": [
      "\n",
      "Descripción numérica:\n"
     ]
    },
    {
     "data": {
      "application/vnd.microsoft.datawrangler.viewer.v0+json": {
       "columns": [
        {
         "name": "index",
         "rawType": "object",
         "type": "string"
        },
        {
         "name": "count",
         "rawType": "float64",
         "type": "float"
        },
        {
         "name": "mean",
         "rawType": "float64",
         "type": "float"
        },
        {
         "name": "std",
         "rawType": "float64",
         "type": "float"
        },
        {
         "name": "min",
         "rawType": "float64",
         "type": "float"
        },
        {
         "name": "25%",
         "rawType": "float64",
         "type": "float"
        },
        {
         "name": "50%",
         "rawType": "float64",
         "type": "float"
        },
        {
         "name": "75%",
         "rawType": "float64",
         "type": "float"
        },
        {
         "name": "max",
         "rawType": "float64",
         "type": "float"
        }
       ],
       "ref": "8ceaa0b4-9d58-42b8-a246-fd5f82256d1a",
       "rows": [
        [
         "age",
         "2095.0",
         "61.00684200477327",
         "11.414461656666546",
         "40.0",
         "53.0",
         "61.0",
         "69.0",
         "95.0"
        ],
        [
         "anaemia",
         "2299.0",
         "0.4615050021748586",
         "0.4986243882373066",
         "0.0",
         "0.0",
         "0.0",
         "1.0",
         "1.0"
        ],
        [
         "creatinine_phosphokinase",
         "2128.0",
         "606.719454887218",
         "875.903060757935",
         "23.0",
         "118.0",
         "338.5",
         "623.25",
         "7861.0"
        ],
        [
         "ejection_fraction",
         "2299.0",
         "50.13962592431492",
         "109.89213435171435",
         "-1.0",
         "30.0",
         "38.0",
         "46.0",
         "999.0"
        ],
        [
         "high_blood_pressure",
         "2299.0",
         "0.3679860809047412",
         "0.4823624483445286",
         "0.0",
         "0.0",
         "0.0",
         "1.0",
         "1.0"
        ],
        [
         "platelets",
         "2177.0",
         "264824.58105190634",
         "99817.77224492145",
         "25100.0",
         "207587.5",
         "259884.62",
         "308983.7",
         "850000.0"
        ],
        [
         "serum_sodium",
         "2299.0",
         "136.70030448020879",
         "4.285934947649661",
         "113.0",
         "134.0",
         "137.0",
         "140.0",
         "148.0"
        ],
        [
         "smoking",
         "2299.0",
         "0.3466724662896912",
         "0.4760138940344091",
         "0.0",
         "0.0",
         "0.0",
         "1.0",
         "1.0"
        ],
        [
         "time",
         "2299.0",
         "132.35580687255327",
         "73.40648583565864",
         "4.0",
         "76.0",
         "130.0",
         "187.0",
         "285.0"
        ],
        [
         "DEATH_EVENT",
         "2007.0",
         "0.3193821624314898",
         "0.4663534713711561",
         "0.0",
         "0.0",
         "0.0",
         "1.0",
         "1.0"
        ]
       ],
       "shape": {
        "columns": 8,
        "rows": 10
       }
      },
      "text/html": [
       "<div>\n",
       "<style scoped>\n",
       "    .dataframe tbody tr th:only-of-type {\n",
       "        vertical-align: middle;\n",
       "    }\n",
       "\n",
       "    .dataframe tbody tr th {\n",
       "        vertical-align: top;\n",
       "    }\n",
       "\n",
       "    .dataframe thead th {\n",
       "        text-align: right;\n",
       "    }\n",
       "</style>\n",
       "<table border=\"1\" class=\"dataframe\">\n",
       "  <thead>\n",
       "    <tr style=\"text-align: right;\">\n",
       "      <th></th>\n",
       "      <th>count</th>\n",
       "      <th>mean</th>\n",
       "      <th>std</th>\n",
       "      <th>min</th>\n",
       "      <th>25%</th>\n",
       "      <th>50%</th>\n",
       "      <th>75%</th>\n",
       "      <th>max</th>\n",
       "    </tr>\n",
       "  </thead>\n",
       "  <tbody>\n",
       "    <tr>\n",
       "      <th>age</th>\n",
       "      <td>2095.0</td>\n",
       "      <td>61.006842</td>\n",
       "      <td>11.414462</td>\n",
       "      <td>40.0</td>\n",
       "      <td>53.0</td>\n",
       "      <td>61.00</td>\n",
       "      <td>69.00</td>\n",
       "      <td>95.0</td>\n",
       "    </tr>\n",
       "    <tr>\n",
       "      <th>anaemia</th>\n",
       "      <td>2299.0</td>\n",
       "      <td>0.461505</td>\n",
       "      <td>0.498624</td>\n",
       "      <td>0.0</td>\n",
       "      <td>0.0</td>\n",
       "      <td>0.00</td>\n",
       "      <td>1.00</td>\n",
       "      <td>1.0</td>\n",
       "    </tr>\n",
       "    <tr>\n",
       "      <th>creatinine_phosphokinase</th>\n",
       "      <td>2128.0</td>\n",
       "      <td>606.719455</td>\n",
       "      <td>875.903061</td>\n",
       "      <td>23.0</td>\n",
       "      <td>118.0</td>\n",
       "      <td>338.50</td>\n",
       "      <td>623.25</td>\n",
       "      <td>7861.0</td>\n",
       "    </tr>\n",
       "    <tr>\n",
       "      <th>ejection_fraction</th>\n",
       "      <td>2299.0</td>\n",
       "      <td>50.139626</td>\n",
       "      <td>109.892134</td>\n",
       "      <td>-1.0</td>\n",
       "      <td>30.0</td>\n",
       "      <td>38.00</td>\n",
       "      <td>46.00</td>\n",
       "      <td>999.0</td>\n",
       "    </tr>\n",
       "    <tr>\n",
       "      <th>high_blood_pressure</th>\n",
       "      <td>2299.0</td>\n",
       "      <td>0.367986</td>\n",
       "      <td>0.482362</td>\n",
       "      <td>0.0</td>\n",
       "      <td>0.0</td>\n",
       "      <td>0.00</td>\n",
       "      <td>1.00</td>\n",
       "      <td>1.0</td>\n",
       "    </tr>\n",
       "    <tr>\n",
       "      <th>platelets</th>\n",
       "      <td>2177.0</td>\n",
       "      <td>264824.581052</td>\n",
       "      <td>99817.772245</td>\n",
       "      <td>25100.0</td>\n",
       "      <td>207587.5</td>\n",
       "      <td>259884.62</td>\n",
       "      <td>308983.70</td>\n",
       "      <td>850000.0</td>\n",
       "    </tr>\n",
       "    <tr>\n",
       "      <th>serum_sodium</th>\n",
       "      <td>2299.0</td>\n",
       "      <td>136.700304</td>\n",
       "      <td>4.285935</td>\n",
       "      <td>113.0</td>\n",
       "      <td>134.0</td>\n",
       "      <td>137.00</td>\n",
       "      <td>140.00</td>\n",
       "      <td>148.0</td>\n",
       "    </tr>\n",
       "    <tr>\n",
       "      <th>smoking</th>\n",
       "      <td>2299.0</td>\n",
       "      <td>0.346672</td>\n",
       "      <td>0.476014</td>\n",
       "      <td>0.0</td>\n",
       "      <td>0.0</td>\n",
       "      <td>0.00</td>\n",
       "      <td>1.00</td>\n",
       "      <td>1.0</td>\n",
       "    </tr>\n",
       "    <tr>\n",
       "      <th>time</th>\n",
       "      <td>2299.0</td>\n",
       "      <td>132.355807</td>\n",
       "      <td>73.406486</td>\n",
       "      <td>4.0</td>\n",
       "      <td>76.0</td>\n",
       "      <td>130.00</td>\n",
       "      <td>187.00</td>\n",
       "      <td>285.0</td>\n",
       "    </tr>\n",
       "    <tr>\n",
       "      <th>DEATH_EVENT</th>\n",
       "      <td>2007.0</td>\n",
       "      <td>0.319382</td>\n",
       "      <td>0.466353</td>\n",
       "      <td>0.0</td>\n",
       "      <td>0.0</td>\n",
       "      <td>0.00</td>\n",
       "      <td>1.00</td>\n",
       "      <td>1.0</td>\n",
       "    </tr>\n",
       "  </tbody>\n",
       "</table>\n",
       "</div>"
      ],
      "text/plain": [
       "                           count           mean           std      min  \\\n",
       "age                       2095.0      61.006842     11.414462     40.0   \n",
       "anaemia                   2299.0       0.461505      0.498624      0.0   \n",
       "creatinine_phosphokinase  2128.0     606.719455    875.903061     23.0   \n",
       "ejection_fraction         2299.0      50.139626    109.892134     -1.0   \n",
       "high_blood_pressure       2299.0       0.367986      0.482362      0.0   \n",
       "platelets                 2177.0  264824.581052  99817.772245  25100.0   \n",
       "serum_sodium              2299.0     136.700304      4.285935    113.0   \n",
       "smoking                   2299.0       0.346672      0.476014      0.0   \n",
       "time                      2299.0     132.355807     73.406486      4.0   \n",
       "DEATH_EVENT               2007.0       0.319382      0.466353      0.0   \n",
       "\n",
       "                               25%        50%        75%       max  \n",
       "age                           53.0      61.00      69.00      95.0  \n",
       "anaemia                        0.0       0.00       1.00       1.0  \n",
       "creatinine_phosphokinase     118.0     338.50     623.25    7861.0  \n",
       "ejection_fraction             30.0      38.00      46.00     999.0  \n",
       "high_blood_pressure            0.0       0.00       1.00       1.0  \n",
       "platelets                 207587.5  259884.62  308983.70  850000.0  \n",
       "serum_sodium                 134.0     137.00     140.00     148.0  \n",
       "smoking                        0.0       0.00       1.00       1.0  \n",
       "time                          76.0     130.00     187.00     285.0  \n",
       "DEATH_EVENT                    0.0       0.00       1.00       1.0  "
      ]
     },
     "metadata": {},
     "output_type": "display_data"
    }
   ],
   "source": [
    "print(\"Shape:\", df.shape)\n",
    "print(\"\\nColumnas:\", df.columns.tolist())\n",
    "print(\"\\nInfo:\")\n",
    "display(df.info())\n",
    "\n",
    "print(\"\\nDescripción numérica:\")\n",
    "display(df.describe().T)"
   ]
  },
  {
   "cell_type": "code",
   "execution_count": 6,
   "id": "ad5ea1a6",
   "metadata": {},
   "outputs": [
    {
     "name": "stdout",
     "output_type": "stream",
     "text": [
      "Tipos de datos:\n"
     ]
    },
    {
     "data": {
      "application/vnd.microsoft.datawrangler.viewer.v0+json": {
       "columns": [
        {
         "name": "index",
         "rawType": "object",
         "type": "string"
        },
        {
         "name": "0",
         "rawType": "object",
         "type": "unknown"
        }
       ],
       "ref": "a9e415c6-3711-4d1b-b16c-05367e7b5035",
       "rows": [
        [
         "age",
         "float64"
        ],
        [
         "anaemia",
         "int64"
        ],
        [
         "creatinine_phosphokinase",
         "float64"
        ],
        [
         "diabetes",
         "object"
        ],
        [
         "ejection_fraction",
         "int64"
        ],
        [
         "high_blood_pressure",
         "int64"
        ],
        [
         "platelets",
         "float64"
        ],
        [
         "serum_creatinine",
         "object"
        ],
        [
         "serum_sodium",
         "int64"
        ],
        [
         "sex",
         "object"
        ],
        [
         "smoking",
         "int64"
        ],
        [
         "time",
         "int64"
        ],
        [
         "DEATH_EVENT",
         "float64"
        ]
       ],
       "shape": {
        "columns": 1,
        "rows": 13
       }
      },
      "text/plain": [
       "age                         float64\n",
       "anaemia                       int64\n",
       "creatinine_phosphokinase    float64\n",
       "diabetes                     object\n",
       "ejection_fraction             int64\n",
       "high_blood_pressure           int64\n",
       "platelets                   float64\n",
       "serum_creatinine             object\n",
       "serum_sodium                  int64\n",
       "sex                          object\n",
       "smoking                       int64\n",
       "time                          int64\n",
       "DEATH_EVENT                 float64\n",
       "dtype: object"
      ]
     },
     "metadata": {},
     "output_type": "display_data"
    },
    {
     "name": "stdout",
     "output_type": "stream",
     "text": [
      "\n",
      "Valores nulos por columna:\n"
     ]
    },
    {
     "data": {
      "application/vnd.microsoft.datawrangler.viewer.v0+json": {
       "columns": [
        {
         "name": "index",
         "rawType": "object",
         "type": "string"
        },
        {
         "name": "0",
         "rawType": "int64",
         "type": "integer"
        }
       ],
       "ref": "7683955e-5fea-45b6-8ceb-c128d73fc43a",
       "rows": [
        [
         "age",
         "204"
        ],
        [
         "anaemia",
         "0"
        ],
        [
         "creatinine_phosphokinase",
         "171"
        ],
        [
         "diabetes",
         "0"
        ],
        [
         "ejection_fraction",
         "0"
        ],
        [
         "high_blood_pressure",
         "0"
        ],
        [
         "platelets",
         "122"
        ],
        [
         "serum_creatinine",
         "129"
        ],
        [
         "serum_sodium",
         "0"
        ],
        [
         "sex",
         "0"
        ],
        [
         "smoking",
         "0"
        ],
        [
         "time",
         "0"
        ],
        [
         "DEATH_EVENT",
         "292"
        ]
       ],
       "shape": {
        "columns": 1,
        "rows": 13
       }
      },
      "text/plain": [
       "age                         204\n",
       "anaemia                       0\n",
       "creatinine_phosphokinase    171\n",
       "diabetes                      0\n",
       "ejection_fraction             0\n",
       "high_blood_pressure           0\n",
       "platelets                   122\n",
       "serum_creatinine            129\n",
       "serum_sodium                  0\n",
       "sex                           0\n",
       "smoking                       0\n",
       "time                          0\n",
       "DEATH_EVENT                 292\n",
       "dtype: int64"
      ]
     },
     "metadata": {},
     "output_type": "display_data"
    },
    {
     "name": "stdout",
     "output_type": "stream",
     "text": [
      "\n",
      "Conteos únicos por columna (hasta 10 mostrados):\n"
     ]
    },
    {
     "data": {
      "application/vnd.microsoft.datawrangler.viewer.v0+json": {
       "columns": [
        {
         "name": "index",
         "rawType": "object",
         "type": "string"
        },
        {
         "name": "0",
         "rawType": "int64",
         "type": "integer"
        }
       ],
       "ref": "7173246f-1feb-4353-ac34-139c59a8667c",
       "rows": [
        [
         "platelets",
         "2048"
        ],
        [
         "creatinine_phosphokinase",
         "990"
        ],
        [
         "serum_creatinine",
         "429"
        ],
        [
         "time",
         "281"
        ],
        [
         "ejection_fraction",
         "65"
        ],
        [
         "age",
         "57"
        ],
        [
         "serum_sodium",
         "32"
        ],
        [
         "sex",
         "6"
        ],
        [
         "diabetes",
         "6"
        ],
        [
         "anaemia",
         "2"
        ],
        [
         "high_blood_pressure",
         "2"
        ],
        [
         "smoking",
         "2"
        ],
        [
         "DEATH_EVENT",
         "2"
        ]
       ],
       "shape": {
        "columns": 1,
        "rows": 13
       }
      },
      "text/plain": [
       "platelets                   2048\n",
       "creatinine_phosphokinase     990\n",
       "serum_creatinine             429\n",
       "time                         281\n",
       "ejection_fraction             65\n",
       "age                           57\n",
       "serum_sodium                  32\n",
       "sex                            6\n",
       "diabetes                       6\n",
       "anaemia                        2\n",
       "high_blood_pressure            2\n",
       "smoking                        2\n",
       "DEATH_EVENT                    2\n",
       "dtype: int64"
      ]
     },
     "metadata": {},
     "output_type": "display_data"
    },
    {
     "name": "stdout",
     "output_type": "stream",
     "text": [
      "\n",
      "Distribución de DEATH_EVENT:\n"
     ]
    },
    {
     "data": {
      "application/vnd.microsoft.datawrangler.viewer.v0+json": {
       "columns": [
        {
         "name": "DEATH_EVENT",
         "rawType": "Int64",
         "type": "integer"
        },
        {
         "name": "count",
         "rawType": "Int64",
         "type": "integer"
        }
       ],
       "ref": "8140d6f3-ad34-45c9-8e08-c7141ccfb3f3",
       "rows": [
        [
         "0",
         "1366"
        ],
        [
         "1",
         "641"
        ],
        [
         null,
         "292"
        ]
       ],
       "shape": {
        "columns": 1,
        "rows": 3
       }
      },
      "text/plain": [
       "DEATH_EVENT\n",
       "0       1366\n",
       "1        641\n",
       "<NA>     292\n",
       "Name: count, dtype: Int64"
      ]
     },
     "metadata": {},
     "output_type": "display_data"
    }
   ],
   "source": [
    "# Tipos, nulos, valores únicos\n",
    "print(\"Tipos de datos:\")\n",
    "display(df.dtypes)\n",
    "print(\"\\nValores nulos por columna:\")\n",
    "display(df.isnull().sum())\n",
    "print(\"\\nConteos únicos por columna (hasta 10 mostrados):\")\n",
    "display(df.nunique().sort_values(ascending=False).head(20))\n",
    "\n",
    "# Asegurar que la columna target está presente y es entera\n",
    "target_col = \"DEATH_EVENT\"\n",
    "if target_col not in df.columns:\n",
    "    raise KeyError(f\"No se encontró la columna objetivo '{target_col}' en el dataset.\")\n",
    "df[target_col] = pd.to_numeric(df[target_col], errors=\"coerce\").astype(\"Int64\")\n",
    "print(f\"\\nDistribución de {target_col}:\")\n",
    "display(df[target_col].value_counts(dropna=False))\n",
    "\n",
    "# Corregir posibles columnas numéricas mal tipadas (por ejemplo ages con float)\n",
    "for c in df.columns:\n",
    "    if df[c].dtype == \"float64\" and df[c].dropna().apply(float.is_integer).all():\n",
    "        # si son floats que representan enteros, convertir a int\n",
    "        df[c] = df[c].astype(\"Int64\")"
   ]
  },
  {
   "cell_type": "markdown",
   "id": "53e6c3a3",
   "metadata": {},
   "source": [
    "##### Después de hacer la exploración inicial, identificamos lo siguiente:\n",
    "- Hay 13 columnas y 2299 registros. \n",
    "- Las columnas `age`, ``creatinine``, ``platelets``, ``serum_cretinine`` y ``Death_event`` tienen nulos y los tipos de datos son númericos y objetos\n",
    "- De las 13 columnas existentes, hay 6 columnas booleanas que indican si se da o no esa situación: ``diabetes``, ``anaemia``, ``high_blood_pressure``, ``sex``, ``smoking``, ``DEATH_EVENT``"
   ]
  },
  {
   "cell_type": "markdown",
   "id": "f9761ad8",
   "metadata": {},
   "source": [
    "##### Preprocesamiento inicial de datos\n",
    "Se eliminan los registros nulos de la variable objetivo ``Death_event`` debido a que consideramos que es un valor relevante para la predicción"
   ]
  },
  {
   "cell_type": "code",
   "execution_count": 7,
   "id": "adf5fc4f",
   "metadata": {},
   "outputs": [
    {
     "name": "stdout",
     "output_type": "stream",
     "text": [
      "\n",
      "Valores nulos por columna:\n"
     ]
    },
    {
     "data": {
      "application/vnd.microsoft.datawrangler.viewer.v0+json": {
       "columns": [
        {
         "name": "index",
         "rawType": "object",
         "type": "string"
        },
        {
         "name": "0",
         "rawType": "int64",
         "type": "integer"
        }
       ],
       "ref": "1a4b9609-d207-4620-bd35-87ddd4844ee7",
       "rows": [
        [
         "age",
         "167"
        ],
        [
         "anaemia",
         "0"
        ],
        [
         "creatinine_phosphokinase",
         "143"
        ],
        [
         "diabetes",
         "0"
        ],
        [
         "ejection_fraction",
         "0"
        ],
        [
         "high_blood_pressure",
         "0"
        ],
        [
         "platelets",
         "110"
        ],
        [
         "serum_creatinine",
         "112"
        ],
        [
         "serum_sodium",
         "0"
        ],
        [
         "sex",
         "0"
        ],
        [
         "smoking",
         "0"
        ],
        [
         "time",
         "0"
        ],
        [
         "DEATH_EVENT",
         "0"
        ]
       ],
       "shape": {
        "columns": 1,
        "rows": 13
       }
      },
      "text/plain": [
       "age                         167\n",
       "anaemia                       0\n",
       "creatinine_phosphokinase    143\n",
       "diabetes                      0\n",
       "ejection_fraction             0\n",
       "high_blood_pressure           0\n",
       "platelets                   110\n",
       "serum_creatinine            112\n",
       "serum_sodium                  0\n",
       "sex                           0\n",
       "smoking                       0\n",
       "time                          0\n",
       "DEATH_EVENT                   0\n",
       "dtype: int64"
      ]
     },
     "metadata": {},
     "output_type": "display_data"
    }
   ],
   "source": [
    "df.dropna(subset=['DEATH_EVENT'], inplace=True)\n",
    "print(\"\\nValores nulos por columna:\")\n",
    "display(df.isnull().sum())"
   ]
  },
  {
   "cell_type": "code",
   "execution_count": 8,
   "id": "380a33b7",
   "metadata": {},
   "outputs": [
    {
     "name": "stdout",
     "output_type": "stream",
     "text": [
      "\n",
      "=== Columna: age ===\n",
      "Tipos por elemento:\n",
      "{<class 'float'>: 2007}\n",
      "\n",
      "=== Columna: anaemia ===\n",
      "Tipos por elemento:\n",
      "{<class 'int'>: 2007}\n",
      "\n",
      "=== Columna: creatinine_phosphokinase ===\n",
      "Tipos por elemento:\n",
      "{<class 'float'>: 2007}\n",
      "\n",
      "=== Columna: diabetes ===\n",
      "Tipos por elemento:\n",
      "{<class 'int'>: 1880, <class 'str'>: 127}\n",
      "\n",
      "=== Columna: ejection_fraction ===\n",
      "Tipos por elemento:\n",
      "{<class 'int'>: 2007}\n",
      "\n",
      "=== Columna: high_blood_pressure ===\n",
      "Tipos por elemento:\n",
      "{<class 'int'>: 2007}\n",
      "\n",
      "=== Columna: platelets ===\n",
      "Tipos por elemento:\n",
      "{<class 'float'>: 2007}\n",
      "\n",
      "=== Columna: serum_creatinine ===\n",
      "Tipos por elemento:\n",
      "{<class 'float'>: 1870, <class 'str'>: 137}\n",
      "\n",
      "=== Columna: serum_sodium ===\n",
      "Tipos por elemento:\n",
      "{<class 'int'>: 2007}\n",
      "\n",
      "=== Columna: sex ===\n",
      "Tipos por elemento:\n",
      "{<class 'int'>: 1841, <class 'str'>: 166}\n",
      "\n",
      "=== Columna: smoking ===\n",
      "Tipos por elemento:\n",
      "{<class 'int'>: 2007}\n",
      "\n",
      "=== Columna: time ===\n",
      "Tipos por elemento:\n",
      "{<class 'int'>: 2007}\n",
      "\n",
      "=== Columna: DEATH_EVENT ===\n",
      "Tipos por elemento:\n",
      "{<class 'int'>: 2007}\n"
     ]
    }
   ],
   "source": [
    "# Reemplaza la celda incompleta por el siguiente código:\n",
    "for col in df.columns:\n",
    "    print(f\"\\n=== Columna: {col} ===\")\n",
    "    # Tipos por elemento\n",
    "    tipos = df[col].apply(type).value_counts()\n",
    "    print(\"Tipos por elemento:\")\n",
    "    print(tipos.to_dict())\n"
   ]
  },
  {
   "cell_type": "markdown",
   "id": "718c9e30",
   "metadata": {},
   "source": [
    "De la revisión anterior, se identifica que las columnas `serum_creatinine`, `sex` y `diabetes`\n",
    "tienen valores que son de tipo *string*, cuando se espera que sean todos numéricos.\n",
    "Se realiza un procesamiento especial para estas columnas."
   ]
  },
  {
   "cell_type": "markdown",
   "id": "c1cbbfa8",
   "metadata": {},
   "source": [
    "##### Transformación y limpieza de la columna `serum_creatine`\n",
    "\n",
    "Este proceso tiene como objetivo estandarizar los datos de la columna `serum_creatine` a un tipo booleano, identificando y transformando los valores de texto y gestionando los valores nulos."
   ]
  },
  {
   "cell_type": "code",
   "execution_count": 9,
   "id": "e15c8677",
   "metadata": {},
   "outputs": [
    {
     "data": {
      "application/vnd.microsoft.datawrangler.viewer.v0+json": {
       "columns": [
        {
         "name": "index",
         "rawType": "int64",
         "type": "integer"
        },
        {
         "name": "serum_creatinine",
         "rawType": "object",
         "type": "string"
        }
       ],
       "ref": "78d42ead-9b18-4159-ac45-f6659e24a4ce",
       "rows": [
        [
         "301",
         "Desconocido"
        ],
        [
         "302",
         "1.18 mg/dL"
        ],
        [
         "314",
         "2.69 mg/dL"
        ],
        [
         "320",
         "2.97 mg/dL"
        ],
        [
         "344",
         "0.50 mg/dL"
        ],
        [
         "371",
         "2.22 mg/dL"
        ],
        [
         "374",
         "1.08 mg/dL"
        ],
        [
         "400",
         "2.77 mg/dL"
        ],
        [
         "401",
         "0.50 mg/dL"
        ],
        [
         "405",
         "2.29 mg/dL"
        ],
        [
         "424",
         "1.34 mg/dL"
        ],
        [
         "428",
         "3.28 mg/dL"
        ],
        [
         "435",
         "2.56 mg/dL"
        ],
        [
         "448",
         "1.09 mg/dL"
        ],
        [
         "455",
         "2.67 mg/dL"
        ],
        [
         "463",
         "1.17 mg/dL"
        ],
        [
         "464",
         "1.74 mg/dL"
        ],
        [
         "468",
         "0.87 mg/dL"
        ],
        [
         "486",
         "1.92 mg/dL"
        ],
        [
         "575",
         "Desconocido"
        ],
        [
         "606",
         "5.16 mg/dL"
        ],
        [
         "615",
         "0.50 mg/dL"
        ],
        [
         "624",
         "2.85 mg/dL"
        ],
        [
         "632",
         "2.97 mg/dL"
        ],
        [
         "638",
         "3.15 mg/dL"
        ],
        [
         "639",
         "1.14 mg/dL"
        ],
        [
         "645",
         "0.50 mg/dL"
        ],
        [
         "654",
         "0.50 mg/dL"
        ],
        [
         "656",
         "0.66 mg/dL"
        ],
        [
         "670",
         "2.12 mg/dL"
        ],
        [
         "674",
         "1.59 mg/dL"
        ],
        [
         "689",
         "0.50 mg/dL"
        ],
        [
         "700",
         "0.50 mg/dL"
        ],
        [
         "721",
         "3.45 mg/dL"
        ],
        [
         "738",
         "0.50 mg/dL"
        ],
        [
         "750",
         "5.19 mg/dL"
        ],
        [
         "761",
         "2.17 mg/dL"
        ],
        [
         "781",
         "3.15 mg/dL"
        ],
        [
         "817",
         "2.47 mg/dL"
        ],
        [
         "826",
         "Desconocido"
        ],
        [
         "864",
         "0.50 mg/dL"
        ],
        [
         "908",
         "0.81 mg/dL"
        ],
        [
         "913",
         "0.65 mg/dL"
        ],
        [
         "934",
         "0.50 mg/dL"
        ],
        [
         "975",
         "1.21 mg/dL"
        ],
        [
         "978",
         "1.42 mg/dL"
        ],
        [
         "1068",
         "1.38 mg/dL"
        ],
        [
         "1081",
         "1.15 mg/dL"
        ],
        [
         "1104",
         "1.07 mg/dL"
        ],
        [
         "1112",
         "1.04 mg/dL"
        ]
       ],
       "shape": {
        "columns": 1,
        "rows": 137
       }
      },
      "text/plain": [
       "301     Desconocido\n",
       "302      1.18 mg/dL\n",
       "314      2.69 mg/dL\n",
       "320      2.97 mg/dL\n",
       "344      0.50 mg/dL\n",
       "           ...     \n",
       "2276     1.49 mg/dL\n",
       "2283     1.14 mg/dL\n",
       "2285     1.04 mg/dL\n",
       "2290     1.74 mg/dL\n",
       "2295     1.26 mg/dL\n",
       "Name: serum_creatinine, Length: 137, dtype: object"
      ]
     },
     "execution_count": 9,
     "metadata": {},
     "output_type": "execute_result"
    }
   ],
   "source": [
    "strings_serum_creatinine = df['serum_creatinine'][df['serum_creatinine'].apply(lambda x: isinstance(x, str))]\n",
    "strings_serum_creatinine"
   ]
  },
  {
   "cell_type": "code",
   "execution_count": 10,
   "id": "867ca050",
   "metadata": {},
   "outputs": [
    {
     "name": "stdout",
     "output_type": "stream",
     "text": [
      "\n",
      "Resumen post-limpieza serum_creatinine:\n",
      "count    1888.000000\n",
      "mean        1.414529\n",
      "std         0.959584\n",
      "min         0.500000\n",
      "25%         0.900000\n",
      "50%         1.130000\n",
      "75%         1.510000\n",
      "max         9.400000\n",
      "Name: serum_creatinine, dtype: float64\n",
      "Nulos en serum_creatinine: 119\n"
     ]
    }
   ],
   "source": [
    "def clean_serum_creatinine(v):\n",
    "    if pd.isna(v):\n",
    "        return np.nan\n",
    "    if isinstance(v, str):\n",
    "        s = v.strip()\n",
    "        if s.lower() == 'desconocido':\n",
    "            return np.nan\n",
    "        s = s.replace(',', '.')\n",
    "        m = re.search(r'[-+]?\\d*\\.?\\d+(?:[eE][-+]?\\d+)?', s)\n",
    "        return float(m.group()) if m else np.nan\n",
    "    try:\n",
    "        return float(v)\n",
    "    except Exception:\n",
    "        return np.nan\n",
    "\n",
    "df['serum_creatinine'] = df['serum_creatinine'].apply(clean_serum_creatinine)\n",
    "df['serum_creatinine'] = pd.to_numeric(df['serum_creatinine'], errors='coerce')\n",
    "\n",
    "print(\"\\nResumen post-limpieza serum_creatinine:\")\n",
    "print(df['serum_creatinine'].describe())\n",
    "print(\"Nulos en serum_creatinine:\", df['serum_creatinine'].isna().sum())"
   ]
  },
  {
   "cell_type": "markdown",
   "id": "78a35bda",
   "metadata": {},
   "source": [
    "##### Transformación y limpieza de la columna `sex`\n",
    "\n",
    "Este proceso tiene como objetivo estandarizar los datos de la columna `sex` a un tipo booleano, identificando y transformando los valores de texto y gestionando los valores nulos (NaN)."
   ]
  },
  {
   "cell_type": "code",
   "execution_count": 11,
   "id": "f2dd59dd",
   "metadata": {},
   "outputs": [
    {
     "data": {
      "application/vnd.microsoft.datawrangler.viewer.v0+json": {
       "columns": [
        {
         "name": "index",
         "rawType": "int64",
         "type": "integer"
        },
        {
         "name": "sex",
         "rawType": "object",
         "type": "string"
        }
       ],
       "ref": "fe123bc3-800f-4d3d-869a-8bb87089195b",
       "rows": [
        [
         "314",
         "male"
        ],
        [
         "332",
         "FEMALE"
        ],
        [
         "333",
         "MALE"
        ],
        [
         "339",
         "male"
        ],
        [
         "346",
         "male"
        ],
        [
         "351",
         "FEMALE"
        ],
        [
         "363",
         "female"
        ],
        [
         "383",
         "FEMALE"
        ],
        [
         "409",
         "MALE"
        ],
        [
         "437",
         "male"
        ],
        [
         "445",
         "MALE"
        ],
        [
         "448",
         "MALE"
        ],
        [
         "481",
         "MALE"
        ],
        [
         "515",
         "male"
        ],
        [
         "516",
         "MALE"
        ],
        [
         "520",
         "FEMALE"
        ],
        [
         "534",
         "male"
        ],
        [
         "535",
         "FEMALE"
        ],
        [
         "542",
         "FEMALE"
        ],
        [
         "545",
         "MALE"
        ],
        [
         "559",
         "FEMALE"
        ],
        [
         "568",
         "MALE"
        ],
        [
         "576",
         "FEMALE"
        ],
        [
         "602",
         "male"
        ],
        [
         "612",
         "male"
        ],
        [
         "628",
         "male"
        ],
        [
         "632",
         "MALE"
        ],
        [
         "676",
         "MALE"
        ],
        [
         "709",
         "female"
        ],
        [
         "710",
         "female"
        ],
        [
         "730",
         "male"
        ],
        [
         "745",
         "male"
        ],
        [
         "762",
         "MALE"
        ],
        [
         "766",
         "MALE"
        ],
        [
         "772",
         "MALE"
        ],
        [
         "787",
         "male"
        ],
        [
         "814",
         "female"
        ],
        [
         "816",
         "male"
        ],
        [
         "825",
         "MALE"
        ],
        [
         "826",
         "male"
        ],
        [
         "845",
         "FEMALE"
        ],
        [
         "847",
         "MALE"
        ],
        [
         "853",
         "FEMALE"
        ],
        [
         "863",
         "FEMALE"
        ],
        [
         "866",
         "male"
        ],
        [
         "910",
         "MALE"
        ],
        [
         "913",
         "female"
        ],
        [
         "915",
         "male"
        ],
        [
         "918",
         "FEMALE"
        ],
        [
         "926",
         "female"
        ]
       ],
       "shape": {
        "columns": 1,
        "rows": 166
       }
      },
      "text/plain": [
       "314       male\n",
       "332     FEMALE\n",
       "333       MALE\n",
       "339       male\n",
       "346       male\n",
       "         ...  \n",
       "2233      MALE\n",
       "2234    female\n",
       "2239      MALE\n",
       "2248    FEMALE\n",
       "2261      male\n",
       "Name: sex, Length: 166, dtype: object"
      ]
     },
     "execution_count": 11,
     "metadata": {},
     "output_type": "execute_result"
    }
   ],
   "source": [
    "strings_sex = df['sex'][df['sex'].apply(lambda x: isinstance(x, str))]\n",
    "strings_sex"
   ]
  },
  {
   "cell_type": "code",
   "execution_count": 12,
   "id": "8d69a17a",
   "metadata": {},
   "outputs": [
    {
     "data": {
      "text/plain": [
       "array([1, 0, 'male', 'FEMALE', 'MALE', 'female'], dtype=object)"
      ]
     },
     "execution_count": 12,
     "metadata": {},
     "output_type": "execute_result"
    }
   ],
   "source": [
    "df['sex'].unique()"
   ]
  },
  {
   "cell_type": "code",
   "execution_count": 13,
   "id": "26bc448d",
   "metadata": {},
   "outputs": [
    {
     "name": "stdout",
     "output_type": "stream",
     "text": [
      "\n",
      "Conteos en 'sex' después de la limpieza (incluye NA):\n"
     ]
    },
    {
     "data": {
      "application/vnd.microsoft.datawrangler.viewer.v0+json": {
       "columns": [
        {
         "name": "sex",
         "rawType": "int64",
         "type": "integer"
        },
        {
         "name": "count",
         "rawType": "int64",
         "type": "integer"
        }
       ],
       "ref": "c98c7132-6713-46f8-b571-abd1c5195745",
       "rows": [
        [
         "1",
         "1262"
        ],
        [
         "0",
         "745"
        ]
       ],
       "shape": {
        "columns": 1,
        "rows": 2
       }
      },
      "text/plain": [
       "sex\n",
       "1    1262\n",
       "0     745\n",
       "Name: count, dtype: int64"
      ]
     },
     "metadata": {},
     "output_type": "display_data"
    }
   ],
   "source": [
    "def clean_sex(v):\n",
    "    if isinstance(v, str):\n",
    "        s = v.lower()\n",
    "        if s in ('male'):\n",
    "            return 1\n",
    "        if s in ('female'):\n",
    "            return 0\n",
    "    else:\n",
    "        return v\n",
    "\n",
    "df['sex'] = df['sex'].apply(clean_sex)\n",
    "\n",
    "print(\"\\nConteos en 'sex' después de la limpieza (incluye NA):\")\n",
    "display(df['sex'].value_counts(dropna=False))\n"
   ]
  },
  {
   "cell_type": "markdown",
   "id": "f135c2be",
   "metadata": {},
   "source": [
    "##### Transformación y limpieza de la columna `diabetes`\n",
    "\n",
    "Este proceso tiene como objetivo estandarizar los datos de la columna `diabetes` a un tipo booleano, identificando y transformando los valores de texto y gestionando los valores nulos (NaN)."
   ]
  },
  {
   "cell_type": "code",
   "execution_count": 14,
   "id": "4bc71ce1",
   "metadata": {},
   "outputs": [
    {
     "data": {
      "text/plain": [
       "array([0, 1, 'N/A', 'YES', 'NO', 2], dtype=object)"
      ]
     },
     "execution_count": 14,
     "metadata": {},
     "output_type": "execute_result"
    }
   ],
   "source": [
    "df['diabetes'].unique()"
   ]
  },
  {
   "cell_type": "code",
   "execution_count": 15,
   "id": "ffa4da3b",
   "metadata": {},
   "outputs": [
    {
     "data": {
      "application/vnd.microsoft.datawrangler.viewer.v0+json": {
       "columns": [
        {
         "name": "index",
         "rawType": "int64",
         "type": "integer"
        },
        {
         "name": "diabetes",
         "rawType": "object",
         "type": "string"
        }
       ],
       "ref": "48cfd0e5-459f-4b3a-b479-2f10a1f89a98",
       "rows": [
        [
         "300",
         "N/A"
        ],
        [
         "304",
         "YES"
        ],
        [
         "328",
         "NO"
        ],
        [
         "338",
         "NO"
        ],
        [
         "399",
         "N/A"
        ],
        [
         "410",
         "YES"
        ],
        [
         "414",
         "YES"
        ],
        [
         "425",
         "YES"
        ],
        [
         "427",
         "N/A"
        ],
        [
         "445",
         "YES"
        ],
        [
         "464",
         "YES"
        ],
        [
         "469",
         "YES"
        ],
        [
         "496",
         "YES"
        ],
        [
         "498",
         "YES"
        ],
        [
         "501",
         "N/A"
        ],
        [
         "510",
         "YES"
        ],
        [
         "548",
         "N/A"
        ],
        [
         "578",
         "NO"
        ],
        [
         "583",
         "N/A"
        ],
        [
         "589",
         "N/A"
        ],
        [
         "595",
         "N/A"
        ],
        [
         "617",
         "N/A"
        ],
        [
         "643",
         "NO"
        ],
        [
         "661",
         "NO"
        ],
        [
         "669",
         "N/A"
        ],
        [
         "674",
         "YES"
        ],
        [
         "686",
         "NO"
        ],
        [
         "740",
         "NO"
        ],
        [
         "748",
         "N/A"
        ],
        [
         "767",
         "YES"
        ],
        [
         "789",
         "N/A"
        ],
        [
         "817",
         "N/A"
        ],
        [
         "843",
         "NO"
        ],
        [
         "852",
         "NO"
        ],
        [
         "858",
         "N/A"
        ],
        [
         "883",
         "N/A"
        ],
        [
         "889",
         "NO"
        ],
        [
         "895",
         "YES"
        ],
        [
         "896",
         "YES"
        ],
        [
         "909",
         "YES"
        ],
        [
         "946",
         "N/A"
        ],
        [
         "981",
         "NO"
        ],
        [
         "982",
         "YES"
        ],
        [
         "991",
         "NO"
        ],
        [
         "1004",
         "N/A"
        ],
        [
         "1023",
         "NO"
        ],
        [
         "1024",
         "N/A"
        ],
        [
         "1033",
         "NO"
        ],
        [
         "1035",
         "NO"
        ],
        [
         "1036",
         "YES"
        ]
       ],
       "shape": {
        "columns": 1,
        "rows": 127
       }
      },
      "text/plain": [
       "300     N/A\n",
       "304     YES\n",
       "328      NO\n",
       "338      NO\n",
       "399     N/A\n",
       "       ... \n",
       "2174    YES\n",
       "2186    YES\n",
       "2221     NO\n",
       "2263    YES\n",
       "2285    YES\n",
       "Name: diabetes, Length: 127, dtype: object"
      ]
     },
     "execution_count": 15,
     "metadata": {},
     "output_type": "execute_result"
    }
   ],
   "source": [
    "strings_diabetes = df['diabetes'][df['diabetes'].apply(lambda x: isinstance(x, str))]\n",
    "strings_diabetes"
   ]
  },
  {
   "cell_type": "code",
   "execution_count": 16,
   "id": "534aa026",
   "metadata": {},
   "outputs": [
    {
     "name": "stdout",
     "output_type": "stream",
     "text": [
      "\n",
      "Conteos en 'diabetes' después de la limpieza (incluye NA):\n"
     ]
    },
    {
     "data": {
      "application/vnd.microsoft.datawrangler.viewer.v0+json": {
       "columns": [
        {
         "name": "diabetes",
         "rawType": "Int64",
         "type": "integer"
        },
        {
         "name": "count",
         "rawType": "Int64",
         "type": "integer"
        }
       ],
       "ref": "90166dc3-6a8d-4186-8da3-737b5f776a67",
       "rows": [
        [
         "0",
         "1130"
        ],
        [
         "1",
         "799"
        ],
        [
         null,
         "78"
        ]
       ],
       "shape": {
        "columns": 1,
        "rows": 3
       }
      },
      "text/plain": [
       "diabetes\n",
       "0       1130\n",
       "1        799\n",
       "<NA>      78\n",
       "Name: count, dtype: Int64"
      ]
     },
     "metadata": {},
     "output_type": "display_data"
    }
   ],
   "source": [
    "def clean_diabetes(v):\n",
    "    if isinstance(v, str):\n",
    "        s = v.lower()\n",
    "        if s in ('yes'):\n",
    "            return 1\n",
    "        if s in ('no'):\n",
    "            return 0\n",
    "        if s in ('n/a'):\n",
    "            return np.nan\n",
    "    elif v == 2:\n",
    "        return np.nan\n",
    "    else:\n",
    "        return v\n",
    "\n",
    "df['diabetes'] = df['diabetes'].apply(clean_diabetes).astype('Int64')\n",
    "\n",
    "\n",
    "print(\"\\nConteos en 'diabetes' después de la limpieza (incluye NA):\")\n",
    "display(df['diabetes'].value_counts(dropna=False))"
   ]
  },
  {
   "cell_type": "code",
   "execution_count": 17,
   "id": "972093d8",
   "metadata": {},
   "outputs": [
    {
     "name": "stdout",
     "output_type": "stream",
     "text": [
      "\n",
      "=== Columna: age ===\n",
      "Tipos por elemento:\n",
      "{<class 'float'>: 2007}\n",
      "\n",
      "=== Columna: anaemia ===\n",
      "Tipos por elemento:\n",
      "{<class 'int'>: 2007}\n",
      "\n",
      "=== Columna: creatinine_phosphokinase ===\n",
      "Tipos por elemento:\n",
      "{<class 'float'>: 2007}\n",
      "\n",
      "=== Columna: diabetes ===\n",
      "Tipos por elemento:\n",
      "{<class 'float'>: 2007}\n",
      "\n",
      "=== Columna: ejection_fraction ===\n",
      "Tipos por elemento:\n",
      "{<class 'int'>: 2007}\n",
      "\n",
      "=== Columna: high_blood_pressure ===\n",
      "Tipos por elemento:\n",
      "{<class 'int'>: 2007}\n",
      "\n",
      "=== Columna: platelets ===\n",
      "Tipos por elemento:\n",
      "{<class 'float'>: 2007}\n",
      "\n",
      "=== Columna: serum_creatinine ===\n",
      "Tipos por elemento:\n",
      "{<class 'float'>: 2007}\n",
      "\n",
      "=== Columna: serum_sodium ===\n",
      "Tipos por elemento:\n",
      "{<class 'int'>: 2007}\n",
      "\n",
      "=== Columna: sex ===\n",
      "Tipos por elemento:\n",
      "{<class 'int'>: 2007}\n",
      "\n",
      "=== Columna: smoking ===\n",
      "Tipos por elemento:\n",
      "{<class 'int'>: 2007}\n",
      "\n",
      "=== Columna: time ===\n",
      "Tipos por elemento:\n",
      "{<class 'int'>: 2007}\n",
      "\n",
      "=== Columna: DEATH_EVENT ===\n",
      "Tipos por elemento:\n",
      "{<class 'int'>: 2007}\n"
     ]
    }
   ],
   "source": [
    "# Reemplaza la celda incompleta por el siguiente código:\n",
    "for col in df.columns:\n",
    "    print(f\"\\n=== Columna: {col} ===\")\n",
    "    # Tipos por elemento\n",
    "    tipos = df[col].apply(type).value_counts()\n",
    "    print(\"Tipos por elemento:\")\n",
    "    print(tipos.to_dict())\n"
   ]
  },
  {
   "cell_type": "markdown",
   "id": "d5cb632a",
   "metadata": {},
   "source": [
    "### Se valida que no hay valores tipo  string en las columnas numéricas"
   ]
  },
  {
   "cell_type": "markdown",
   "id": "3f5a2ce9",
   "metadata": {},
   "source": [
    "## Imputación y manejo de nulos\n",
    "\n",
    "Debido al ruido que puede generar la imputación de las variables booleanas, se elimina los registros nulos de ellas\n",
    "\n",
    "Por otro lado, para las variables flotantes, procedemos a hacer imputación según el tipo"
   ]
  },
  {
   "cell_type": "code",
   "execution_count": 18,
   "id": "3aaf65a2",
   "metadata": {},
   "outputs": [],
   "source": [
    "# Se identifica que de las 13 columnas existentes, hay 6 columnas booleanas que indican si se da o no esa situación.\n",
    "cols_to_bool = [\n",
    "    \"diabetes\",\n",
    "    \"anaemia\",\n",
    "    \"high_blood_pressure\",\n",
    "    \"sex\",\n",
    "    \"smoking\",\n",
    "    \"DEATH_EVENT\"\n",
    "]\n",
    "\n",
    "for c in cols_to_bool:\n",
    "    df[c] = pd.to_numeric(df[c], errors=\"coerce\").map({0: False, 1: True}).astype(\"boolean\")\n"
   ]
  },
  {
   "cell_type": "code",
   "execution_count": 19,
   "id": "782f993a",
   "metadata": {},
   "outputs": [
    {
     "data": {
      "application/vnd.microsoft.datawrangler.viewer.v0+json": {
       "columns": [
        {
         "name": "index",
         "rawType": "object",
         "type": "string"
        },
        {
         "name": "0",
         "rawType": "int64",
         "type": "integer"
        }
       ],
       "ref": "a10c7671-8c61-4b18-8c12-345cce8eb7e8",
       "rows": [
        [
         "age",
         "167"
        ],
        [
         "anaemia",
         "0"
        ],
        [
         "creatinine_phosphokinase",
         "143"
        ],
        [
         "diabetes",
         "78"
        ],
        [
         "ejection_fraction",
         "0"
        ],
        [
         "high_blood_pressure",
         "0"
        ],
        [
         "platelets",
         "110"
        ],
        [
         "serum_creatinine",
         "119"
        ],
        [
         "serum_sodium",
         "0"
        ],
        [
         "sex",
         "0"
        ],
        [
         "smoking",
         "0"
        ],
        [
         "time",
         "0"
        ],
        [
         "DEATH_EVENT",
         "0"
        ]
       ],
       "shape": {
        "columns": 1,
        "rows": 13
       }
      },
      "text/plain": [
       "age                         167\n",
       "anaemia                       0\n",
       "creatinine_phosphokinase    143\n",
       "diabetes                     78\n",
       "ejection_fraction             0\n",
       "high_blood_pressure           0\n",
       "platelets                   110\n",
       "serum_creatinine            119\n",
       "serum_sodium                  0\n",
       "sex                           0\n",
       "smoking                       0\n",
       "time                          0\n",
       "DEATH_EVENT                   0\n",
       "dtype: int64"
      ]
     },
     "metadata": {},
     "output_type": "display_data"
    }
   ],
   "source": [
    "display(df.isnull().sum())"
   ]
  },
  {
   "cell_type": "code",
   "execution_count": 20,
   "id": "dd92ffeb",
   "metadata": {},
   "outputs": [
    {
     "name": "stdout",
     "output_type": "stream",
     "text": [
      "\n",
      "Valores nulos por columna:\n"
     ]
    },
    {
     "data": {
      "application/vnd.microsoft.datawrangler.viewer.v0+json": {
       "columns": [
        {
         "name": "index",
         "rawType": "object",
         "type": "string"
        },
        {
         "name": "0",
         "rawType": "int64",
         "type": "integer"
        }
       ],
       "ref": "56e52fce-27b3-4dc1-bb5a-5c1f93b636d4",
       "rows": [
        [
         "age",
         "156"
        ],
        [
         "anaemia",
         "0"
        ],
        [
         "creatinine_phosphokinase",
         "136"
        ],
        [
         "diabetes",
         "0"
        ],
        [
         "ejection_fraction",
         "0"
        ],
        [
         "high_blood_pressure",
         "0"
        ],
        [
         "platelets",
         "107"
        ],
        [
         "serum_creatinine",
         "114"
        ],
        [
         "serum_sodium",
         "0"
        ],
        [
         "sex",
         "0"
        ],
        [
         "smoking",
         "0"
        ],
        [
         "time",
         "0"
        ],
        [
         "DEATH_EVENT",
         "0"
        ]
       ],
       "shape": {
        "columns": 1,
        "rows": 13
       }
      },
      "text/plain": [
       "age                         156\n",
       "anaemia                       0\n",
       "creatinine_phosphokinase    136\n",
       "diabetes                      0\n",
       "ejection_fraction             0\n",
       "high_blood_pressure           0\n",
       "platelets                   107\n",
       "serum_creatinine            114\n",
       "serum_sodium                  0\n",
       "sex                           0\n",
       "smoking                       0\n",
       "time                          0\n",
       "DEATH_EVENT                   0\n",
       "dtype: int64"
      ]
     },
     "metadata": {},
     "output_type": "display_data"
    }
   ],
   "source": [
    "df.dropna(subset= ['diabetes'], inplace=True)\n",
    "print(\"\\nValores nulos por columna:\")\n",
    "display(df.isnull().sum())"
   ]
  },
  {
   "cell_type": "code",
   "execution_count": 21,
   "id": "24746090",
   "metadata": {},
   "outputs": [
    {
     "name": "stdout",
     "output_type": "stream",
     "text": [
      "<class 'pandas.core.frame.DataFrame'>\n",
      "Index: 1929 entries, 0 to 2298\n",
      "Data columns (total 13 columns):\n",
      " #   Column                    Non-Null Count  Dtype  \n",
      "---  ------                    --------------  -----  \n",
      " 0   age                       1773 non-null   float64\n",
      " 1   anaemia                   1929 non-null   boolean\n",
      " 2   creatinine_phosphokinase  1793 non-null   Int64  \n",
      " 3   diabetes                  1929 non-null   boolean\n",
      " 4   ejection_fraction         1929 non-null   int64  \n",
      " 5   high_blood_pressure       1929 non-null   boolean\n",
      " 6   platelets                 1822 non-null   float64\n",
      " 7   serum_creatinine          1815 non-null   float64\n",
      " 8   serum_sodium              1929 non-null   int64  \n",
      " 9   sex                       1929 non-null   boolean\n",
      " 10  smoking                   1929 non-null   boolean\n",
      " 11  time                      1929 non-null   int64  \n",
      " 12  DEATH_EVENT               1929 non-null   boolean\n",
      "dtypes: Int64(1), boolean(6), float64(3), int64(3)\n",
      "memory usage: 145.1 KB\n"
     ]
    }
   ],
   "source": [
    "df.info()"
   ]
  },
  {
   "cell_type": "markdown",
   "id": "488d8b57",
   "metadata": {},
   "source": [
    "### Con el fin de identificar la distribución de los datos, se realiza la siguiente gráfica"
   ]
  },
  {
   "cell_type": "code",
   "execution_count": 22,
   "id": "7eb2845c",
   "metadata": {},
   "outputs": [
    {
     "data": {
      "image/png": "[encoded data removed]",
      "text/plain": [
       "<Figure size 1500x1200 with 7 Axes>"
      ]
     },
     "metadata": {},
     "output_type": "display_data"
    }
   ],
   "source": [
    "# Obtener columnas numéricas (excluyendo booleanas)\n",
    "numeric_cols = df.select_dtypes(exclude=['boolean']).columns\n",
    "\n",
    "# Calcular número de filas y columnas para el subplot\n",
    "n_cols = 3\n",
    "n_rows = (len(numeric_cols) + n_cols - 1) // n_cols\n",
    "\n",
    "# Crear figura\n",
    "plt.figure(figsize=(15, 4*n_rows))\n",
    "\n",
    "# Crear subplots para cada variable\n",
    "for i, col in enumerate(numeric_cols, 1):\n",
    "    plt.subplot(n_rows, n_cols, i)\n",
    "    sns.histplot(data=df, x=col, kde=True)\n",
    "    plt.title(f'Distribución de {col}')\n",
    "    plt.xlabel(col)\n",
    "    plt.ylabel('Frecuencia')\n",
    "\n",
    "plt.tight_layout()\n",
    "plt.show()"
   ]
  },
  {
   "cell_type": "markdown",
   "id": "8bbe6ee8",
   "metadata": {},
   "source": [
    "### Se observan datos atipicos en ejection fraction "
   ]
  },
  {
   "cell_type": "code",
   "execution_count": 23,
   "id": "78fba215",
   "metadata": {},
   "outputs": [],
   "source": [
    "# Se elimina los valores atípicos en ejection_fraction\n",
    "df['ejection_fraction'] = df['ejection_fraction'].apply(lambda x: np.nan if x < 0 or x > 200 else x)"
   ]
  },
  {
   "cell_type": "markdown",
   "id": "dcdd5acc",
   "metadata": {},
   "source": [
    "## Se procede a guardar el dataframe procesado\n"
   ]
  },
  {
   "cell_type": "code",
   "execution_count": 24,
   "id": "4cb81182",
   "metadata": {},
   "outputs": [],
   "source": [
    "df.to_csv('heart_failure_clinical_records_extended_cleaned.csv', index=False)"
   ]
  },
  {
   "cell_type": "markdown",
   "id": "701286f2",
   "metadata": {},
   "source": [
    "### Se realizan múltiples gráficas para entender los datos"
   ]
  },
  {
   "cell_type": "code",
   "execution_count": 25,
   "id": "b4f935fe",
   "metadata": {},
   "outputs": [
    {
     "data": {
      "application/vnd.microsoft.datawrangler.viewer.v0+json": {
       "columns": [
        {
         "name": "index",
         "rawType": "int64",
         "type": "integer"
        },
        {
         "name": "age",
         "rawType": "float64",
         "type": "float"
        },
        {
         "name": "age_group",
         "rawType": "category",
         "type": "unknown"
        }
       ],
       "ref": "1c80e9ef-ed3a-40b0-945c-f838cc5c3d18",
       "rows": [
        [
         "0",
         "75.0",
         "71-75"
        ],
        [
         "1",
         "55.0",
         "51-55"
        ],
        [
         "2",
         "65.0",
         "61-65"
        ],
        [
         "3",
         "50.0",
         "46-50"
        ],
        [
         "4",
         "65.0",
         "61-65"
        ]
       ],
       "shape": {
        "columns": 2,
        "rows": 5
       }
      },
      "text/html": [
       "<div>\n",
       "<style scoped>\n",
       "    .dataframe tbody tr th:only-of-type {\n",
       "        vertical-align: middle;\n",
       "    }\n",
       "\n",
       "    .dataframe tbody tr th {\n",
       "        vertical-align: top;\n",
       "    }\n",
       "\n",
       "    .dataframe thead th {\n",
       "        text-align: right;\n",
       "    }\n",
       "</style>\n",
       "<table border=\"1\" class=\"dataframe\">\n",
       "  <thead>\n",
       "    <tr style=\"text-align: right;\">\n",
       "      <th></th>\n",
       "      <th>age</th>\n",
       "      <th>age_group</th>\n",
       "    </tr>\n",
       "  </thead>\n",
       "  <tbody>\n",
       "    <tr>\n",
       "      <th>0</th>\n",
       "      <td>75.0</td>\n",
       "      <td>71-75</td>\n",
       "    </tr>\n",
       "    <tr>\n",
       "      <th>1</th>\n",
       "      <td>55.0</td>\n",
       "      <td>51-55</td>\n",
       "    </tr>\n",
       "    <tr>\n",
       "      <th>2</th>\n",
       "      <td>65.0</td>\n",
       "      <td>61-65</td>\n",
       "    </tr>\n",
       "    <tr>\n",
       "      <th>3</th>\n",
       "      <td>50.0</td>\n",
       "      <td>46-50</td>\n",
       "    </tr>\n",
       "    <tr>\n",
       "      <th>4</th>\n",
       "      <td>65.0</td>\n",
       "      <td>61-65</td>\n",
       "    </tr>\n",
       "  </tbody>\n",
       "</table>\n",
       "</div>"
      ],
      "text/plain": [
       "    age age_group\n",
       "0  75.0     71-75\n",
       "1  55.0     51-55\n",
       "2  65.0     61-65\n",
       "3  50.0     46-50\n",
       "4  65.0     61-65"
      ]
     },
     "execution_count": 25,
     "metadata": {},
     "output_type": "execute_result"
    }
   ],
   "source": [
    "bins = [39, 45, 50, 55, 60, 65, 70, 75, 80, 95]\n",
    "labels = [\"40-45\", \"46-50\", \"51-55\", \"56-60\", \"61-65\", \"66-70\", \"71-75\", \"76-80\", \"81-95\"]\n",
    "\n",
    "d2_ = df.copy()\n",
    "\n",
    "d2_['age_group'] = pd.cut(d2_['age'], bins=bins, labels=labels, right=True)\n",
    "\n",
    "d2_[['age', 'age_group']].head()"
   ]
  },
  {
   "cell_type": "code",
   "execution_count": 26,
   "id": "4e2ca8fb",
   "metadata": {},
   "outputs": [
    {
     "data": {
      "image/png": "[encoded data removed]",
      "text/plain": [
       "<Figure size 1000x600 with 1 Axes>"
      ]
     },
     "metadata": {},
     "output_type": "display_data"
    }
   ],
   "source": [
    "plt.figure(figsize=(10,6))\n",
    "sns.countplot(data=d2_, x='age_group', hue='DEATH_EVENT', palette=[\"lightblue\", \"red\"])\n",
    "plt.title(\"Death Count by Age Group\")\n",
    "plt.xlabel(\"Age Group\")\n",
    "plt.ylabel(\"Patient Count\")\n",
    "plt.legend([\"Survived\", \"Died\"])\n",
    "plt.show()"
   ]
  },
  {
   "cell_type": "markdown",
   "id": "e2660506",
   "metadata": {},
   "source": [
    "La gráfica muestra que, aunque los grupos de edad intermedios (ej. 51–65) concentran el mayor número absoluto de pacientes sobrevivientes, la proporción de fallecidos aumenta claramente en los grupos de mayor edad; especialmente 71–75 y 81–95 presentan tasas de mortalidad notablemente más altas que los grupos jóvenes; esto sugiere una relación positiva entre edad y riesgo de muerte durante el seguimiento."
   ]
  },
  {
   "cell_type": "code",
   "execution_count": 27,
   "id": "2fcb53ea",
   "metadata": {},
   "outputs": [
    {
     "data": {
      "image/png": "[encoded data removed]",
      "text/plain": [
       "<Figure size 800x600 with 1 Axes>"
      ]
     },
     "metadata": {},
     "output_type": "display_data"
    }
   ],
   "source": [
    "plt.figure(figsize=(8,6))\n",
    "sns.countplot(data=df, x='sex', hue='DEATH_EVENT', palette=[\"lightblue\", \"red\"])\n",
    "\n",
    "plt.title(\"Death Event by Sex\")\n",
    "plt.xlabel(\"Sex (0 = Female, 1 = Male)\")\n",
    "plt.ylabel(\"Number of Patients\")\n",
    "plt.legend([\"Survived\", \"Died\"])\n",
    "plt.xticks([0, 1], [\"Female\", \"Male\"])\n",
    "plt.show()"
   ]
  },
  {
   "cell_type": "markdown",
   "id": "59a9951d",
   "metadata": {},
   "source": [
    "En la gráfica por sexo se observa que hay más pacientes hombres que mujeres y, en valores absolutos, también más muertes entre los hombres; no obstante, al mirar la proporción de fallecidos dentro de cada grupo la diferencia parece menos contundente y podría ser pequeña o nula —es decir, el mayor número de muertes en hombres puede deberse en parte al mayor tamaño de esa submuestra. "
   ]
  },
  {
   "cell_type": "code",
   "execution_count": 28,
   "id": "9fe70938",
   "metadata": {},
   "outputs": [
    {
     "data": {
      "image/png": "[encoded data removed]",
      "text/plain": [
       "<Figure size 1800x1000 with 5 Axes>"
      ]
     },
     "metadata": {},
     "output_type": "display_data"
    }
   ],
   "source": [
    "# Variables binarias que quieres comparar\n",
    "binary_vars = ['anaemia', 'diabetes', 'high_blood_pressure', 'sex', 'smoking']\n",
    "\n",
    "# Crear subplots\n",
    "fig, axes = plt.subplots(nrows=2, ncols=3, figsize=(18, 10))\n",
    "axes = axes.flatten()\n",
    "\n",
    "# Graficar cada variable\n",
    "for i, var in enumerate(binary_vars):\n",
    "    sns.countplot(data=df, x=var, hue='DEATH_EVENT', ax=axes[i])\n",
    "    axes[i].set_title(f'{var} vs DEATH_EVENT')\n",
    "    axes[i].set_xlabel(var)\n",
    "    axes[i].set_ylabel('Count')\n",
    "    axes[i].legend(title='DEATH_EVENT', labels=['No falleció', 'Falleció'])\n",
    "\n",
    "# Eliminar subplot vacío si hay uno\n",
    "if len(binary_vars) < len(axes):\n",
    "    fig.delaxes(axes[-1])\n",
    "\n",
    "plt.tight_layout()\n",
    "plt.show()"
   ]
  },
  {
   "cell_type": "markdown",
   "id": "8d60d531",
   "metadata": {},
   "source": [
    "Anaemia\n",
    "Observación visual: la barra roja (fallecidos) relativa al total del grupo parece más alta en pacientes con anaemia (True) que en los que no tienen anaemia (False).\n",
    "Interpretación: sugiere que la presencia de anemia está asociada a una mayor proporción de fallecimientos en el seguimiento. Clínicamente plausible: la anemia puede reflejar peor estado general o comorbilidades.\n",
    "Señal: moderada-fuerte visualmente (la diferencia de proporción es notable).\n",
    "\n",
    "Diabetes\n",
    "Observación visual: también aquí la proporción de muertes parece mayor entre los diabéticos (True) que entre los no diabéticos.\n",
    "Interpretación: indica una asociación positiva entre diabetes y mortalidad. Podría reflejar mayor carga de comorbilidad o peor pronóstico.\n",
    "Señal: moderada; la diferencia es apreciable pero no tan grande como en algunos otros factores (según la gráfica).\n",
    "\n",
    "High_blood_pressure (hipertensión)\n",
    "Observación visual: se ve un mayor número absoluto de muertes en quienes tienen hipertensión (True) comparado con No, y la proporción de muertes dentro de «True» parece superior.\n",
    "Interpretación: hipertensión podría asociarse a mayor riesgo, aunque en muchos estudios su efecto depende de control, edad y otros factores cardiovasculares.\n",
    "Señal: moderada; comparable a diabetes/anaemia.\n",
    "\n",
    "Sex (sexo)\n",
    "Observación visual: hay muchos más hombres que mujeres en la muestra; en valores absolutos hay más muertes entre hombres (barra roja masculina mayor).\n",
    "Interpretación: el mayor número de muertes en hombres podría deberse a (a) mayor tamaño de la submuestra masculina o (b) un riesgo real mayor en hombres. Visualmente, la proporción no parece tan distinta como los conteos absolutos; por tanto la diferencia puede ser en gran parte por el mayor número de hombres.\n",
    "Señal: débil-moderada; necesita comparar proporciones (tasa de muerte por sexo) antes de concluir un efecto fuerte.\n",
    "\n",
    "Smoking (tabaquismo)\n",
    "Observación visual: los fumadores (True) muestran una proporción de fallecidos claramente mayor que los no fumadores.\n",
    "Interpretación: tabaquismo asociado a mayor mortalidad, coherente con efectos sobre enfermedad cardiovascular y comorbilidades.\n",
    "Señal: moderada-fuerte."
   ]
  },
  {
   "cell_type": "code",
   "execution_count": 29,
   "id": "ffb84fd2",
   "metadata": {},
   "outputs": [
    {
     "data": {
      "text/plain": [
       "<Axes: >"
      ]
     },
     "execution_count": 29,
     "metadata": {},
     "output_type": "execute_result"
    },
    {
     "data": {
      "image/png": "[encoded data removed]",
      "text/plain": [
       "<Figure size 1000x1000 with 2 Axes>"
      ]
     },
     "metadata": {},
     "output_type": "display_data"
    }
   ],
   "source": [
    "plt.figure(figsize=(10,10))\n",
    "sns.heatmap(df.corr(),cmap=\"Reds\",annot=True,linewidth=1)"
   ]
  },
  {
   "cell_type": "markdown",
   "id": "098357c8",
   "metadata": {},
   "source": [
    "La matriz muestra que las variables más asociadas con la muerte son serum_creatinine (r ≈ +0.29) y age (r ≈ +0.25), mientras que ejection_fraction presenta una correlación negativa relevante (r ≈ −0.27): es decir, mayor creatinina y edad y menor fracción de eyección se asocian con mayor probabilidad de DEATH_EVENT. También destaca serum_sodium con correlación negativa moderada (≈ −0.20). Muchas de las variables binarias (anaemia, diabetes, hipertensión, smoking, sex) tienen correlaciones pequeñas con DEATH_EVENT en términos de Pearson, aunque visualmente algunas muestran señales; además sex y smoking están moderadamente correlacionadas entre sí (≈ +0.45)."
   ]
  },
  {
   "cell_type": "markdown",
   "id": "459f30c6",
   "metadata": {},
   "source": [
    "### Preprocesamiento y modelado"
   ]
  },
  {
   "cell_type": "code",
   "execution_count": 30,
   "id": "66c47bd7",
   "metadata": {},
   "outputs": [
    {
     "name": "stdout",
     "output_type": "stream",
     "text": [
      "<class 'pandas.core.frame.DataFrame'>\n",
      "Index: 1929 entries, 0 to 2298\n",
      "Data columns (total 13 columns):\n",
      " #   Column                    Non-Null Count  Dtype  \n",
      "---  ------                    --------------  -----  \n",
      " 0   age                       1773 non-null   float64\n",
      " 1   anaemia                   1929 non-null   boolean\n",
      " 2   creatinine_phosphokinase  1793 non-null   Int64  \n",
      " 3   diabetes                  1929 non-null   boolean\n",
      " 4   ejection_fraction         1860 non-null   float64\n",
      " 5   high_blood_pressure       1929 non-null   boolean\n",
      " 6   platelets                 1822 non-null   float64\n",
      " 7   serum_creatinine          1815 non-null   float64\n",
      " 8   serum_sodium              1929 non-null   int64  \n",
      " 9   sex                       1929 non-null   boolean\n",
      " 10  smoking                   1929 non-null   boolean\n",
      " 11  time                      1929 non-null   int64  \n",
      " 12  DEATH_EVENT               1929 non-null   boolean\n",
      "dtypes: Int64(1), boolean(6), float64(4), int64(2)\n",
      "memory usage: 145.1 KB\n",
      "Nulos antes de la transformación:\n"
     ]
    },
    {
     "data": {
      "application/vnd.microsoft.datawrangler.viewer.v0+json": {
       "columns": [
        {
         "name": "index",
         "rawType": "object",
         "type": "string"
        },
        {
         "name": "0",
         "rawType": "int64",
         "type": "integer"
        }
       ],
       "ref": "101bbb50-2f5f-4688-bfdd-d878207400c5",
       "rows": [
        [
         "age",
         "156"
        ],
        [
         "anaemia",
         "0"
        ],
        [
         "creatinine_phosphokinase",
         "136"
        ],
        [
         "diabetes",
         "0"
        ],
        [
         "ejection_fraction",
         "69"
        ],
        [
         "high_blood_pressure",
         "0"
        ],
        [
         "platelets",
         "107"
        ],
        [
         "serum_creatinine",
         "114"
        ],
        [
         "serum_sodium",
         "0"
        ],
        [
         "sex",
         "0"
        ],
        [
         "smoking",
         "0"
        ],
        [
         "time",
         "0"
        ],
        [
         "DEATH_EVENT",
         "0"
        ]
       ],
       "shape": {
        "columns": 1,
        "rows": 13
       }
      },
      "text/plain": [
       "age                         156\n",
       "anaemia                       0\n",
       "creatinine_phosphokinase    136\n",
       "diabetes                      0\n",
       "ejection_fraction            69\n",
       "high_blood_pressure           0\n",
       "platelets                   107\n",
       "serum_creatinine            114\n",
       "serum_sodium                  0\n",
       "sex                           0\n",
       "smoking                       0\n",
       "time                          0\n",
       "DEATH_EVENT                   0\n",
       "dtype: int64"
      ]
     },
     "metadata": {},
     "output_type": "display_data"
    }
   ],
   "source": [
    "# 1. Primero veamos los nulos antes de la transformación\n",
    "df.info()\n",
    "print(\"Nulos antes de la transformación:\")\n",
    "display(df.isnull().sum())"
   ]
  },
  {
   "cell_type": "markdown",
   "id": "509e521c",
   "metadata": {},
   "source": [
    "# Diagnóstico inicial sin estandarizar y sin el pipeline"
   ]
  },
  {
   "cell_type": "code",
   "execution_count": 31,
   "id": "4b160c46",
   "metadata": {},
   "outputs": [
    {
     "name": "stdout",
     "output_type": "stream",
     "text": [
      "📊 Resultados - Regresión Logística\n",
      "Accuracy: 0.7684\n",
      "              precision    recall  f1-score   support\n",
      "\n",
      "         0.0       0.81      0.87      0.83       193\n",
      "         1.0       0.67      0.57      0.61        92\n",
      "\n",
      "    accuracy                           0.77       285\n",
      "   macro avg       0.74      0.72      0.72       285\n",
      "weighted avg       0.76      0.77      0.76       285\n",
      "\n"
     ]
    },
    {
     "data": {
      "image/png": "[encoded data removed]",
      "text/plain": [
       "<Figure size 500x400 with 2 Axes>"
      ]
     },
     "metadata": {},
     "output_type": "display_data"
    },
    {
     "name": "stdout",
     "output_type": "stream",
     "text": [
      "\n",
      "🌲 Resultados - Random Forest\n",
      "Accuracy: 0.786\n",
      "              precision    recall  f1-score   support\n",
      "\n",
      "         0.0       0.81      0.90      0.85       193\n",
      "         1.0       0.72      0.55      0.63        92\n",
      "\n",
      "    accuracy                           0.79       285\n",
      "   macro avg       0.76      0.73      0.74       285\n",
      "weighted avg       0.78      0.79      0.78       285\n",
      "\n"
     ]
    },
    {
     "data": {
      "image/png": "[encoded data removed]",
      "text/plain": [
       "<Figure size 500x400 with 2 Axes>"
      ]
     },
     "metadata": {},
     "output_type": "display_data"
    }
   ],
   "source": [
    "# Se crea una copia del df pero sin valores nulos\n",
    "df_without_nulls = df.dropna()\n",
    "\n",
    "# Se crea una copia del df pero sin valores nulos\n",
    "df_without_nulls = df.dropna()\n",
    "\n",
    "# Se separa la variable objetivo\n",
    "X = df_without_nulls.drop('DEATH_EVENT', axis=1)\n",
    "y = df_without_nulls['DEATH_EVENT']\n",
    "\n",
    "# Se divide las variables de entrenamiento y pruebas\n",
    "X_train, X_test, y_train, y_test = train_test_split(\n",
    "    X, y, test_size=0.2, random_state=42, stratify=y\n",
    ")\n",
    "\n",
    "# Se escalan las variables (Solo para regresion logistica)\n",
    "scaler = StandardScaler()\n",
    "X_train_scaled = scaler.fit_transform(X_train)\n",
    "X_test_scaled = scaler.transform(X_test)\n",
    "\n",
    "# ==========================\n",
    "# 🔹 REGRESIÓN LOGÍSTICA\n",
    "# ==========================\n",
    "log_reg = LogisticRegression(max_iter=1000, random_state=42)\n",
    "log_reg.fit(X_train_scaled, y_train)\n",
    "y_pred_log = log_reg.predict(X_test_scaled)\n",
    "\n",
    "print(\"📊 Resultados - Regresión Logística\")\n",
    "print(\"Accuracy:\", round(accuracy_score(y_test, y_pred_log), 4))\n",
    "print(classification_report(y_test, y_pred_log))\n",
    "\n",
    "plt.figure(figsize=(5,4))\n",
    "sns.heatmap(confusion_matrix(y_test, y_pred_log), annot=True, fmt='d', cmap='Blues')\n",
    "plt.title(\"Matriz de confusión - Regresión Logística\")\n",
    "plt.xlabel(\"Predicción\")\n",
    "plt.ylabel(\"Real\")\n",
    "plt.show()\n",
    "\n",
    "# ==========================\n",
    "# 🌲 RANDOM FOREST\n",
    "# ==========================\n",
    "rf = RandomForestClassifier(n_estimators=200, random_state=42)\n",
    "rf.fit(X_train, y_train)\n",
    "y_pred_rf = rf.predict(X_test)\n",
    "\n",
    "print(\"\\n🌲 Resultados - Random Forest\")\n",
    "print(\"Accuracy:\", round(accuracy_score(y_test, y_pred_rf), 4))\n",
    "print(classification_report(y_test, y_pred_rf))\n",
    "\n",
    "plt.figure(figsize=(5,4))\n",
    "sns.heatmap(confusion_matrix(y_test, y_pred_rf), annot=True, fmt='d', cmap='Greens')\n",
    "plt.title(\"Matriz de confusión - Random Forest\")\n",
    "plt.xlabel(\"Predicción\")\n",
    "plt.ylabel(\"Real\")\n",
    "plt.show()"
   ]
  },
  {
   "cell_type": "code",
   "execution_count": 32,
   "id": "e77aa6f7",
   "metadata": {},
   "outputs": [
    {
     "name": "stdout",
     "output_type": "stream",
     "text": [
      "\n",
      "Formas de los conjuntos de datos:\n",
      "X_train shape: (1543, 12)\n",
      "X_test shape: (386, 12)\n",
      "y_train shape: (1543,)\n",
      "y_test shape: (386,)\n"
     ]
    }
   ],
   "source": [
    "# Preparar datos\n",
    "X = df[[col for col in df.columns if col != 'DEATH_EVENT']]\n",
    "y = df['DEATH_EVENT']\n",
    "\n",
    "# Dividir datos\n",
    "X_train, X_test, y_train, y_test = train_test_split(X, y, test_size=0.2, random_state=42)\n",
    "\n",
    "# Verificar shapes antes del entrenamiento\n",
    "print(\"\\nFormas de los conjuntos de datos:\")\n",
    "print(f\"X_train shape: {X_train.shape}\")\n",
    "print(f\"X_test shape: {X_test.shape}\")\n",
    "print(f\"y_train shape: {y_train.shape}\")\n",
    "print(f\"y_test shape: {y_test.shape}\")"
   ]
  },
  {
   "cell_type": "markdown",
   "id": "17d8854a",
   "metadata": {},
   "source": [
    "## Pipeline para transformación de datos"
   ]
  },
  {
   "cell_type": "markdown",
   "id": "9ae45190",
   "metadata": {},
   "source": [
    "### Se crean dos pipelines para las columnas numéricas con el fin de comparar el efecto que tiene en los modelos, e identificar en cual escenario, los modelos se desempeñan mejor"
   ]
  },
  {
   "cell_type": "code",
   "execution_count": 33,
   "id": "feb67fc9",
   "metadata": {},
   "outputs": [
    {
     "data": {
      "text/html": [
       "<style>#sk-container-id-1 {\n",
       "  /* Definition of color scheme common for light and dark mode */\n",
       "  --sklearn-color-text: #000;\n",
       "  --sklearn-color-text-muted: #666;\n",
       "  --sklearn-color-line: gray;\n",
       "  /* Definition of color scheme for unfitted estimators */\n",
       "  --sklearn-color-unfitted-level-0: #fff5e6;\n",
       "  --sklearn-color-unfitted-level-1: #f6e4d2;\n",
       "  --sklearn-color-unfitted-level-2: #ffe0b3;\n",
       "  --sklearn-color-unfitted-level-3: chocolate;\n",
       "  /* Definition of color scheme for fitted estimators */\n",
       "  --sklearn-color-fitted-level-0: #f0f8ff;\n",
       "  --sklearn-color-fitted-level-1: #d4ebff;\n",
       "  --sklearn-color-fitted-level-2: #b3dbfd;\n",
       "  --sklearn-color-fitted-level-3: cornflowerblue;\n",
       "\n",
       "  /* Specific color for light theme */\n",
       "  --sklearn-color-text-on-default-background: var(--sg-text-color, var(--theme-code-foreground, var(--jp-content-font-color1, black)));\n",
       "  --sklearn-color-background: var(--sg-background-color, var(--theme-background, var(--jp-layout-color0, white)));\n",
       "  --sklearn-color-border-box: var(--sg-text-color, var(--theme-code-foreground, var(--jp-content-font-color1, black)));\n",
       "  --sklearn-color-icon: #696969;\n",
       "\n",
       "  @media (prefers-color-scheme: dark) {\n",
       "    /* Redefinition of color scheme for dark theme */\n",
       "    --sklearn-color-text-on-default-background: var(--sg-text-color, var(--theme-code-foreground, var(--jp-content-font-color1, white)));\n",
       "    --sklearn-color-background: var(--sg-background-color, var(--theme-background, var(--jp-layout-color0, #111)));\n",
       "    --sklearn-color-border-box: var(--sg-text-color, var(--theme-code-foreground, var(--jp-content-font-color1, white)));\n",
       "    --sklearn-color-icon: #878787;\n",
       "  }\n",
       "}\n",
       "\n",
       "#sk-container-id-1 {\n",
       "  color: var(--sklearn-color-text);\n",
       "}\n",
       "\n",
       "#sk-container-id-1 pre {\n",
       "  padding: 0;\n",
       "}\n",
       "\n",
       "#sk-container-id-1 input.sk-hidden--visually {\n",
       "  border: 0;\n",
       "  clip: rect(1px 1px 1px 1px);\n",
       "  clip: rect(1px, 1px, 1px, 1px);\n",
       "  height: 1px;\n",
       "  margin: -1px;\n",
       "  overflow: hidden;\n",
       "  padding: 0;\n",
       "  position: absolute;\n",
       "  width: 1px;\n",
       "}\n",
       "\n",
       "#sk-container-id-1 div.sk-dashed-wrapped {\n",
       "  border: 1px dashed var(--sklearn-color-line);\n",
       "  margin: 0 0.4em 0.5em 0.4em;\n",
       "  box-sizing: border-box;\n",
       "  padding-bottom: 0.4em;\n",
       "  background-color: var(--sklearn-color-background);\n",
       "}\n",
       "\n",
       "#sk-container-id-1 div.sk-container {\n",
       "  /* jupyter's `normalize.less` sets `[hidden] { display: none; }`\n",
       "     but bootstrap.min.css set `[hidden] { display: none !important; }`\n",
       "     so we also need the `!important` here to be able to override the\n",
       "     default hidden behavior on the sphinx rendered scikit-learn.org.\n",
       "     See: https://github.com/scikit-learn/scikit-learn/issues/21755 */\n",
       "  display: inline-block !important;\n",
       "  position: relative;\n",
       "}\n",
       "\n",
       "#sk-container-id-1 div.sk-text-repr-fallback {\n",
       "  display: none;\n",
       "}\n",
       "\n",
       "div.sk-parallel-item,\n",
       "div.sk-serial,\n",
       "div.sk-item {\n",
       "  /* draw centered vertical line to link estimators */\n",
       "  background-image: linear-gradient(var(--sklearn-color-text-on-default-background), var(--sklearn-color-text-on-default-background));\n",
       "  background-size: 2px 100%;\n",
       "  background-repeat: no-repeat;\n",
       "  background-position: center center;\n",
       "}\n",
       "\n",
       "/* Parallel-specific style estimator block */\n",
       "\n",
       "#sk-container-id-1 div.sk-parallel-item::after {\n",
       "  content: \"\";\n",
       "  width: 100%;\n",
       "  border-bottom: 2px solid var(--sklearn-color-text-on-default-background);\n",
       "  flex-grow: 1;\n",
       "}\n",
       "\n",
       "#sk-container-id-1 div.sk-parallel {\n",
       "  display: flex;\n",
       "  align-items: stretch;\n",
       "  justify-content: center;\n",
       "  background-color: var(--sklearn-color-background);\n",
       "  position: relative;\n",
       "}\n",
       "\n",
       "#sk-container-id-1 div.sk-parallel-item {\n",
       "  display: flex;\n",
       "  flex-direction: column;\n",
       "}\n",
       "\n",
       "#sk-container-id-1 div.sk-parallel-item:first-child::after {\n",
       "  align-self: flex-end;\n",
       "  width: 50%;\n",
       "}\n",
       "\n",
       "#sk-container-id-1 div.sk-parallel-item:last-child::after {\n",
       "  align-self: flex-start;\n",
       "  width: 50%;\n",
       "}\n",
       "\n",
       "#sk-container-id-1 div.sk-parallel-item:only-child::after {\n",
       "  width: 0;\n",
       "}\n",
       "\n",
       "/* Serial-specific style estimator block */\n",
       "\n",
       "#sk-container-id-1 div.sk-serial {\n",
       "  display: flex;\n",
       "  flex-direction: column;\n",
       "  align-items: center;\n",
       "  background-color: var(--sklearn-color-background);\n",
       "  padding-right: 1em;\n",
       "  padding-left: 1em;\n",
       "}\n",
       "\n",
       "\n",
       "/* Toggleable style: style used for estimator/Pipeline/ColumnTransformer box that is\n",
       "clickable and can be expanded/collapsed.\n",
       "- Pipeline and ColumnTransformer use this feature and define the default style\n",
       "- Estimators will overwrite some part of the style using the `sk-estimator` class\n",
       "*/\n",
       "\n",
       "/* Pipeline and ColumnTransformer style (default) */\n",
       "\n",
       "#sk-container-id-1 div.sk-toggleable {\n",
       "  /* Default theme specific background. It is overwritten whether we have a\n",
       "  specific estimator or a Pipeline/ColumnTransformer */\n",
       "  background-color: var(--sklearn-color-background);\n",
       "}\n",
       "\n",
       "/* Toggleable label */\n",
       "#sk-container-id-1 label.sk-toggleable__label {\n",
       "  cursor: pointer;\n",
       "  display: flex;\n",
       "  width: 100%;\n",
       "  margin-bottom: 0;\n",
       "  padding: 0.5em;\n",
       "  box-sizing: border-box;\n",
       "  text-align: center;\n",
       "  align-items: start;\n",
       "  justify-content: space-between;\n",
       "  gap: 0.5em;\n",
       "}\n",
       "\n",
       "#sk-container-id-1 label.sk-toggleable__label .caption {\n",
       "  font-size: 0.6rem;\n",
       "  font-weight: lighter;\n",
       "  color: var(--sklearn-color-text-muted);\n",
       "}\n",
       "\n",
       "#sk-container-id-1 label.sk-toggleable__label-arrow:before {\n",
       "  /* Arrow on the left of the label */\n",
       "  content: \"▸\";\n",
       "  float: left;\n",
       "  margin-right: 0.25em;\n",
       "  color: var(--sklearn-color-icon);\n",
       "}\n",
       "\n",
       "#sk-container-id-1 label.sk-toggleable__label-arrow:hover:before {\n",
       "  color: var(--sklearn-color-text);\n",
       "}\n",
       "\n",
       "/* Toggleable content - dropdown */\n",
       "\n",
       "#sk-container-id-1 div.sk-toggleable__content {\n",
       "  display: none;\n",
       "  text-align: left;\n",
       "  /* unfitted */\n",
       "  background-color: var(--sklearn-color-unfitted-level-0);\n",
       "}\n",
       "\n",
       "#sk-container-id-1 div.sk-toggleable__content.fitted {\n",
       "  /* fitted */\n",
       "  background-color: var(--sklearn-color-fitted-level-0);\n",
       "}\n",
       "\n",
       "#sk-container-id-1 div.sk-toggleable__content pre {\n",
       "  margin: 0.2em;\n",
       "  border-radius: 0.25em;\n",
       "  color: var(--sklearn-color-text);\n",
       "  /* unfitted */\n",
       "  background-color: var(--sklearn-color-unfitted-level-0);\n",
       "}\n",
       "\n",
       "#sk-container-id-1 div.sk-toggleable__content.fitted pre {\n",
       "  /* unfitted */\n",
       "  background-color: var(--sklearn-color-fitted-level-0);\n",
       "}\n",
       "\n",
       "#sk-container-id-1 input.sk-toggleable__control:checked~div.sk-toggleable__content {\n",
       "  /* Expand drop-down */\n",
       "  display: block;\n",
       "  width: 100%;\n",
       "  overflow: visible;\n",
       "}\n",
       "\n",
       "#sk-container-id-1 input.sk-toggleable__control:checked~label.sk-toggleable__label-arrow:before {\n",
       "  content: \"▾\";\n",
       "}\n",
       "\n",
       "/* Pipeline/ColumnTransformer-specific style */\n",
       "\n",
       "#sk-container-id-1 div.sk-label input.sk-toggleable__control:checked~label.sk-toggleable__label {\n",
       "  color: var(--sklearn-color-text);\n",
       "  background-color: var(--sklearn-color-unfitted-level-2);\n",
       "}\n",
       "\n",
       "#sk-container-id-1 div.sk-label.fitted input.sk-toggleable__control:checked~label.sk-toggleable__label {\n",
       "  background-color: var(--sklearn-color-fitted-level-2);\n",
       "}\n",
       "\n",
       "/* Estimator-specific style */\n",
       "\n",
       "/* Colorize estimator box */\n",
       "#sk-container-id-1 div.sk-estimator input.sk-toggleable__control:checked~label.sk-toggleable__label {\n",
       "  /* unfitted */\n",
       "  background-color: var(--sklearn-color-unfitted-level-2);\n",
       "}\n",
       "\n",
       "#sk-container-id-1 div.sk-estimator.fitted input.sk-toggleable__control:checked~label.sk-toggleable__label {\n",
       "  /* fitted */\n",
       "  background-color: var(--sklearn-color-fitted-level-2);\n",
       "}\n",
       "\n",
       "#sk-container-id-1 div.sk-label label.sk-toggleable__label,\n",
       "#sk-container-id-1 div.sk-label label {\n",
       "  /* The background is the default theme color */\n",
       "  color: var(--sklearn-color-text-on-default-background);\n",
       "}\n",
       "\n",
       "/* On hover, darken the color of the background */\n",
       "#sk-container-id-1 div.sk-label:hover label.sk-toggleable__label {\n",
       "  color: var(--sklearn-color-text);\n",
       "  background-color: var(--sklearn-color-unfitted-level-2);\n",
       "}\n",
       "\n",
       "/* Label box, darken color on hover, fitted */\n",
       "#sk-container-id-1 div.sk-label.fitted:hover label.sk-toggleable__label.fitted {\n",
       "  color: var(--sklearn-color-text);\n",
       "  background-color: var(--sklearn-color-fitted-level-2);\n",
       "}\n",
       "\n",
       "/* Estimator label */\n",
       "\n",
       "#sk-container-id-1 div.sk-label label {\n",
       "  font-family: monospace;\n",
       "  font-weight: bold;\n",
       "  display: inline-block;\n",
       "  line-height: 1.2em;\n",
       "}\n",
       "\n",
       "#sk-container-id-1 div.sk-label-container {\n",
       "  text-align: center;\n",
       "}\n",
       "\n",
       "/* Estimator-specific */\n",
       "#sk-container-id-1 div.sk-estimator {\n",
       "  font-family: monospace;\n",
       "  border: 1px dotted var(--sklearn-color-border-box);\n",
       "  border-radius: 0.25em;\n",
       "  box-sizing: border-box;\n",
       "  margin-bottom: 0.5em;\n",
       "  /* unfitted */\n",
       "  background-color: var(--sklearn-color-unfitted-level-0);\n",
       "}\n",
       "\n",
       "#sk-container-id-1 div.sk-estimator.fitted {\n",
       "  /* fitted */\n",
       "  background-color: var(--sklearn-color-fitted-level-0);\n",
       "}\n",
       "\n",
       "/* on hover */\n",
       "#sk-container-id-1 div.sk-estimator:hover {\n",
       "  /* unfitted */\n",
       "  background-color: var(--sklearn-color-unfitted-level-2);\n",
       "}\n",
       "\n",
       "#sk-container-id-1 div.sk-estimator.fitted:hover {\n",
       "  /* fitted */\n",
       "  background-color: var(--sklearn-color-fitted-level-2);\n",
       "}\n",
       "\n",
       "/* Specification for estimator info (e.g. \"i\" and \"?\") */\n",
       "\n",
       "/* Common style for \"i\" and \"?\" */\n",
       "\n",
       ".sk-estimator-doc-link,\n",
       "a:link.sk-estimator-doc-link,\n",
       "a:visited.sk-estimator-doc-link {\n",
       "  float: right;\n",
       "  font-size: smaller;\n",
       "  line-height: 1em;\n",
       "  font-family: monospace;\n",
       "  background-color: var(--sklearn-color-background);\n",
       "  border-radius: 1em;\n",
       "  height: 1em;\n",
       "  width: 1em;\n",
       "  text-decoration: none !important;\n",
       "  margin-left: 0.5em;\n",
       "  text-align: center;\n",
       "  /* unfitted */\n",
       "  border: var(--sklearn-color-unfitted-level-1) 1pt solid;\n",
       "  color: var(--sklearn-color-unfitted-level-1);\n",
       "}\n",
       "\n",
       ".sk-estimator-doc-link.fitted,\n",
       "a:link.sk-estimator-doc-link.fitted,\n",
       "a:visited.sk-estimator-doc-link.fitted {\n",
       "  /* fitted */\n",
       "  border: var(--sklearn-color-fitted-level-1) 1pt solid;\n",
       "  color: var(--sklearn-color-fitted-level-1);\n",
       "}\n",
       "\n",
       "/* On hover */\n",
       "div.sk-estimator:hover .sk-estimator-doc-link:hover,\n",
       ".sk-estimator-doc-link:hover,\n",
       "div.sk-label-container:hover .sk-estimator-doc-link:hover,\n",
       ".sk-estimator-doc-link:hover {\n",
       "  /* unfitted */\n",
       "  background-color: var(--sklearn-color-unfitted-level-3);\n",
       "  color: var(--sklearn-color-background);\n",
       "  text-decoration: none;\n",
       "}\n",
       "\n",
       "div.sk-estimator.fitted:hover .sk-estimator-doc-link.fitted:hover,\n",
       ".sk-estimator-doc-link.fitted:hover,\n",
       "div.sk-label-container:hover .sk-estimator-doc-link.fitted:hover,\n",
       ".sk-estimator-doc-link.fitted:hover {\n",
       "  /* fitted */\n",
       "  background-color: var(--sklearn-color-fitted-level-3);\n",
       "  color: var(--sklearn-color-background);\n",
       "  text-decoration: none;\n",
       "}\n",
       "\n",
       "/* Span, style for the box shown on hovering the info icon */\n",
       ".sk-estimator-doc-link span {\n",
       "  display: none;\n",
       "  z-index: 9999;\n",
       "  position: relative;\n",
       "  font-weight: normal;\n",
       "  right: .2ex;\n",
       "  padding: .5ex;\n",
       "  margin: .5ex;\n",
       "  width: min-content;\n",
       "  min-width: 20ex;\n",
       "  max-width: 50ex;\n",
       "  color: var(--sklearn-color-text);\n",
       "  box-shadow: 2pt 2pt 4pt #999;\n",
       "  /* unfitted */\n",
       "  background: var(--sklearn-color-unfitted-level-0);\n",
       "  border: .5pt solid var(--sklearn-color-unfitted-level-3);\n",
       "}\n",
       "\n",
       ".sk-estimator-doc-link.fitted span {\n",
       "  /* fitted */\n",
       "  background: var(--sklearn-color-fitted-level-0);\n",
       "  border: var(--sklearn-color-fitted-level-3);\n",
       "}\n",
       "\n",
       ".sk-estimator-doc-link:hover span {\n",
       "  display: block;\n",
       "}\n",
       "\n",
       "/* \"?\"-specific style due to the `<a>` HTML tag */\n",
       "\n",
       "#sk-container-id-1 a.estimator_doc_link {\n",
       "  float: right;\n",
       "  font-size: 1rem;\n",
       "  line-height: 1em;\n",
       "  font-family: monospace;\n",
       "  background-color: var(--sklearn-color-background);\n",
       "  border-radius: 1rem;\n",
       "  height: 1rem;\n",
       "  width: 1rem;\n",
       "  text-decoration: none;\n",
       "  /* unfitted */\n",
       "  color: var(--sklearn-color-unfitted-level-1);\n",
       "  border: var(--sklearn-color-unfitted-level-1) 1pt solid;\n",
       "}\n",
       "\n",
       "#sk-container-id-1 a.estimator_doc_link.fitted {\n",
       "  /* fitted */\n",
       "  border: var(--sklearn-color-fitted-level-1) 1pt solid;\n",
       "  color: var(--sklearn-color-fitted-level-1);\n",
       "}\n",
       "\n",
       "/* On hover */\n",
       "#sk-container-id-1 a.estimator_doc_link:hover {\n",
       "  /* unfitted */\n",
       "  background-color: var(--sklearn-color-unfitted-level-3);\n",
       "  color: var(--sklearn-color-background);\n",
       "  text-decoration: none;\n",
       "}\n",
       "\n",
       "#sk-container-id-1 a.estimator_doc_link.fitted:hover {\n",
       "  /* fitted */\n",
       "  background-color: var(--sklearn-color-fitted-level-3);\n",
       "}\n",
       "\n",
       ".estimator-table summary {\n",
       "    padding: .5rem;\n",
       "    font-family: monospace;\n",
       "    cursor: pointer;\n",
       "}\n",
       "\n",
       ".estimator-table details[open] {\n",
       "    padding-left: 0.1rem;\n",
       "    padding-right: 0.1rem;\n",
       "    padding-bottom: 0.3rem;\n",
       "}\n",
       "\n",
       ".estimator-table .parameters-table {\n",
       "    margin-left: auto !important;\n",
       "    margin-right: auto !important;\n",
       "}\n",
       "\n",
       ".estimator-table .parameters-table tr:nth-child(odd) {\n",
       "    background-color: #fff;\n",
       "}\n",
       "\n",
       ".estimator-table .parameters-table tr:nth-child(even) {\n",
       "    background-color: #f6f6f6;\n",
       "}\n",
       "\n",
       ".estimator-table .parameters-table tr:hover {\n",
       "    background-color: #e0e0e0;\n",
       "}\n",
       "\n",
       ".estimator-table table td {\n",
       "    border: 1px solid rgba(106, 105, 104, 0.232);\n",
       "}\n",
       "\n",
       ".user-set td {\n",
       "    color:rgb(255, 94, 0);\n",
       "    text-align: left;\n",
       "}\n",
       "\n",
       ".user-set td.value pre {\n",
       "    color:rgb(255, 94, 0) !important;\n",
       "    background-color: transparent !important;\n",
       "}\n",
       "\n",
       ".default td {\n",
       "    color: black;\n",
       "    text-align: left;\n",
       "}\n",
       "\n",
       ".user-set td i,\n",
       ".default td i {\n",
       "    color: black;\n",
       "}\n",
       "\n",
       ".copy-paste-icon {\n",
       "    background-image: url(data:image/svg+xml;base64,PHN2ZyB4bWxucz0iaHR0cDovL3d3dy53My5vcmcvMjAwMC9zdmciIHZpZXdCb3g9IjAgMCA0NDggNTEyIj48IS0tIUZvbnQgQXdlc29tZSBGcmVlIDYuNy4yIGJ5IEBmb250YXdlc29tZSAtIGh0dHBzOi8vZm9udGF3ZXNvbWUuY29tIExpY2Vuc2UgLSBodHRwczovL2ZvbnRhd2Vzb21lLmNvbS9saWNlbnNlL2ZyZWUgQ29weXJpZ2h0IDIwMjUgRm9udGljb25zLCBJbmMuLS0+PHBhdGggZD0iTTIwOCAwTDMzMi4xIDBjMTIuNyAwIDI0LjkgNS4xIDMzLjkgMTQuMWw2Ny45IDY3LjljOSA5IDE0LjEgMjEuMiAxNC4xIDMzLjlMNDQ4IDMzNmMwIDI2LjUtMjEuNSA0OC00OCA0OGwtMTkyIDBjLTI2LjUgMC00OC0yMS41LTQ4LTQ4bDAtMjg4YzAtMjYuNSAyMS41LTQ4IDQ4LTQ4ek00OCAxMjhsODAgMCAwIDY0LTY0IDAgMCAyNTYgMTkyIDAgMC0zMiA2NCAwIDAgNDhjMCAyNi41LTIxLjUgNDgtNDggNDhMNDggNTEyYy0yNi41IDAtNDgtMjEuNS00OC00OEwwIDE3NmMwLTI2LjUgMjEuNS00OCA0OC00OHoiLz48L3N2Zz4=);\n",
       "    background-repeat: no-repeat;\n",
       "    background-size: 14px 14px;\n",
       "    background-position: 0;\n",
       "    display: inline-block;\n",
       "    width: 14px;\n",
       "    height: 14px;\n",
       "    cursor: pointer;\n",
       "}\n",
       "</style><body><div id=\"sk-container-id-1\" class=\"sk-top-container\"><div class=\"sk-text-repr-fallback\"><pre>ColumnTransformer(transformers=[(&#x27;num&#x27;,\n",
       "                                 Pipeline(steps=[(&#x27;imputer&#x27;,\n",
       "                                                  SimpleImputer(strategy=&#x27;median&#x27;))]),\n",
       "                                 [&#x27;age&#x27;, &#x27;creatinine_phosphokinase&#x27;,\n",
       "                                  &#x27;ejection_fraction&#x27;, &#x27;platelets&#x27;,\n",
       "                                  &#x27;serum_creatinine&#x27;, &#x27;serum_sodium&#x27;, &#x27;time&#x27;]),\n",
       "                                (&#x27;bool&#x27;,\n",
       "                                 Pipeline(steps=[(&#x27;imputer&#x27;,\n",
       "                                                  SimpleImputer(strategy=&#x27;most_frequent&#x27;)),\n",
       "                                                 (&#x27;encoder&#x27;,\n",
       "                                                  OneHotEncoder(drop=&#x27;if_binary&#x27;))]),\n",
       "                                 [&#x27;anaemia&#x27;, &#x27;diabetes&#x27;, &#x27;high_blood_pressure&#x27;,\n",
       "                                  &#x27;sex&#x27;, &#x27;smoking&#x27;])],\n",
       "                  verbose=True)</pre><b>In a Jupyter environment, please rerun this cell to show the HTML representation or trust the notebook. <br />On GitHub, the HTML representation is unable to render, please try loading this page with nbviewer.org.</b></div><div class=\"sk-container\" hidden><div class=\"sk-item sk-dashed-wrapped\"><div class=\"sk-label-container\"><div class=\"sk-label  sk-toggleable\"><input class=\"sk-toggleable__control sk-hidden--visually\" id=\"sk-estimator-id-1\" type=\"checkbox\" ><label for=\"sk-estimator-id-1\" class=\"sk-toggleable__label  sk-toggleable__label-arrow\"><div><div>ColumnTransformer</div></div><div><a class=\"sk-estimator-doc-link \" rel=\"noreferrer\" target=\"_blank\" href=\"https://scikit-learn.org/1.7/modules/generated/sklearn.compose.ColumnTransformer.html\">?<span>Documentation for ColumnTransformer</span></a><span class=\"sk-estimator-doc-link \">i<span>Not fitted</span></span></div></label><div class=\"sk-toggleable__content \" data-param-prefix=\"\">\n",
       "        <div class=\"estimator-table\">\n",
       "            <details>\n",
       "                <summary>Parameters</summary>\n",
       "                <table class=\"parameters-table\">\n",
       "                  <tbody>\n",
       "                    \n",
       "        <tr class=\"user-set\">\n",
       "            <td><i class=\"copy-paste-icon\"\n",
       "                 onclick=\"copyToClipboard('transformers',\n",
       "                          this.parentElement.nextElementSibling)\"\n",
       "            ></i></td>\n",
       "            <td class=\"param\">transformers&nbsp;</td>\n",
       "            <td class=\"value\">[(&#x27;num&#x27;, ...), (&#x27;bool&#x27;, ...)]</td>\n",
       "        </tr>\n",
       "    \n",
       "\n",
       "        <tr class=\"default\">\n",
       "            <td><i class=\"copy-paste-icon\"\n",
       "                 onclick=\"copyToClipboard('remainder',\n",
       "                          this.parentElement.nextElementSibling)\"\n",
       "            ></i></td>\n",
       "            <td class=\"param\">remainder&nbsp;</td>\n",
       "            <td class=\"value\">&#x27;drop&#x27;</td>\n",
       "        </tr>\n",
       "    \n",
       "\n",
       "        <tr class=\"default\">\n",
       "            <td><i class=\"copy-paste-icon\"\n",
       "                 onclick=\"copyToClipboard('sparse_threshold',\n",
       "                          this.parentElement.nextElementSibling)\"\n",
       "            ></i></td>\n",
       "            <td class=\"param\">sparse_threshold&nbsp;</td>\n",
       "            <td class=\"value\">0.3</td>\n",
       "        </tr>\n",
       "    \n",
       "\n",
       "        <tr class=\"default\">\n",
       "            <td><i class=\"copy-paste-icon\"\n",
       "                 onclick=\"copyToClipboard('n_jobs',\n",
       "                          this.parentElement.nextElementSibling)\"\n",
       "            ></i></td>\n",
       "            <td class=\"param\">n_jobs&nbsp;</td>\n",
       "            <td class=\"value\">None</td>\n",
       "        </tr>\n",
       "    \n",
       "\n",
       "        <tr class=\"default\">\n",
       "            <td><i class=\"copy-paste-icon\"\n",
       "                 onclick=\"copyToClipboard('transformer_weights',\n",
       "                          this.parentElement.nextElementSibling)\"\n",
       "            ></i></td>\n",
       "            <td class=\"param\">transformer_weights&nbsp;</td>\n",
       "            <td class=\"value\">None</td>\n",
       "        </tr>\n",
       "    \n",
       "\n",
       "        <tr class=\"user-set\">\n",
       "            <td><i class=\"copy-paste-icon\"\n",
       "                 onclick=\"copyToClipboard('verbose',\n",
       "                          this.parentElement.nextElementSibling)\"\n",
       "            ></i></td>\n",
       "            <td class=\"param\">verbose&nbsp;</td>\n",
       "            <td class=\"value\">True</td>\n",
       "        </tr>\n",
       "    \n",
       "\n",
       "        <tr class=\"default\">\n",
       "            <td><i class=\"copy-paste-icon\"\n",
       "                 onclick=\"copyToClipboard('verbose_feature_names_out',\n",
       "                          this.parentElement.nextElementSibling)\"\n",
       "            ></i></td>\n",
       "            <td class=\"param\">verbose_feature_names_out&nbsp;</td>\n",
       "            <td class=\"value\">True</td>\n",
       "        </tr>\n",
       "    \n",
       "\n",
       "        <tr class=\"default\">\n",
       "            <td><i class=\"copy-paste-icon\"\n",
       "                 onclick=\"copyToClipboard('force_int_remainder_cols',\n",
       "                          this.parentElement.nextElementSibling)\"\n",
       "            ></i></td>\n",
       "            <td class=\"param\">force_int_remainder_cols&nbsp;</td>\n",
       "            <td class=\"value\">&#x27;deprecated&#x27;</td>\n",
       "        </tr>\n",
       "    \n",
       "                  </tbody>\n",
       "                </table>\n",
       "            </details>\n",
       "        </div>\n",
       "    </div></div></div><div class=\"sk-parallel\"><div class=\"sk-parallel-item\"><div class=\"sk-item\"><div class=\"sk-label-container\"><div class=\"sk-label  sk-toggleable\"><input class=\"sk-toggleable__control sk-hidden--visually\" id=\"sk-estimator-id-2\" type=\"checkbox\" ><label for=\"sk-estimator-id-2\" class=\"sk-toggleable__label  sk-toggleable__label-arrow\"><div><div>num</div></div></label><div class=\"sk-toggleable__content \" data-param-prefix=\"num__\"><pre>[&#x27;age&#x27;, &#x27;creatinine_phosphokinase&#x27;, &#x27;ejection_fraction&#x27;, &#x27;platelets&#x27;, &#x27;serum_creatinine&#x27;, &#x27;serum_sodium&#x27;, &#x27;time&#x27;]</pre></div></div></div><div class=\"sk-serial\"><div class=\"sk-item\"><div class=\"sk-serial\"><div class=\"sk-item\"><div class=\"sk-estimator  sk-toggleable\"><input class=\"sk-toggleable__control sk-hidden--visually\" id=\"sk-estimator-id-3\" type=\"checkbox\" ><label for=\"sk-estimator-id-3\" class=\"sk-toggleable__label  sk-toggleable__label-arrow\"><div><div>SimpleImputer</div></div><div><a class=\"sk-estimator-doc-link \" rel=\"noreferrer\" target=\"_blank\" href=\"https://scikit-learn.org/1.7/modules/generated/sklearn.impute.SimpleImputer.html\">?<span>Documentation for SimpleImputer</span></a></div></label><div class=\"sk-toggleable__content \" data-param-prefix=\"num__imputer__\">\n",
       "        <div class=\"estimator-table\">\n",
       "            <details>\n",
       "                <summary>Parameters</summary>\n",
       "                <table class=\"parameters-table\">\n",
       "                  <tbody>\n",
       "                    \n",
       "        <tr class=\"default\">\n",
       "            <td><i class=\"copy-paste-icon\"\n",
       "                 onclick=\"copyToClipboard('missing_values',\n",
       "                          this.parentElement.nextElementSibling)\"\n",
       "            ></i></td>\n",
       "            <td class=\"param\">missing_values&nbsp;</td>\n",
       "            <td class=\"value\">nan</td>\n",
       "        </tr>\n",
       "    \n",
       "\n",
       "        <tr class=\"user-set\">\n",
       "            <td><i class=\"copy-paste-icon\"\n",
       "                 onclick=\"copyToClipboard('strategy',\n",
       "                          this.parentElement.nextElementSibling)\"\n",
       "            ></i></td>\n",
       "            <td class=\"param\">strategy&nbsp;</td>\n",
       "            <td class=\"value\">&#x27;median&#x27;</td>\n",
       "        </tr>\n",
       "    \n",
       "\n",
       "        <tr class=\"default\">\n",
       "            <td><i class=\"copy-paste-icon\"\n",
       "                 onclick=\"copyToClipboard('fill_value',\n",
       "                          this.parentElement.nextElementSibling)\"\n",
       "            ></i></td>\n",
       "            <td class=\"param\">fill_value&nbsp;</td>\n",
       "            <td class=\"value\">None</td>\n",
       "        </tr>\n",
       "    \n",
       "\n",
       "        <tr class=\"default\">\n",
       "            <td><i class=\"copy-paste-icon\"\n",
       "                 onclick=\"copyToClipboard('copy',\n",
       "                          this.parentElement.nextElementSibling)\"\n",
       "            ></i></td>\n",
       "            <td class=\"param\">copy&nbsp;</td>\n",
       "            <td class=\"value\">True</td>\n",
       "        </tr>\n",
       "    \n",
       "\n",
       "        <tr class=\"default\">\n",
       "            <td><i class=\"copy-paste-icon\"\n",
       "                 onclick=\"copyToClipboard('add_indicator',\n",
       "                          this.parentElement.nextElementSibling)\"\n",
       "            ></i></td>\n",
       "            <td class=\"param\">add_indicator&nbsp;</td>\n",
       "            <td class=\"value\">False</td>\n",
       "        </tr>\n",
       "    \n",
       "\n",
       "        <tr class=\"default\">\n",
       "            <td><i class=\"copy-paste-icon\"\n",
       "                 onclick=\"copyToClipboard('keep_empty_features',\n",
       "                          this.parentElement.nextElementSibling)\"\n",
       "            ></i></td>\n",
       "            <td class=\"param\">keep_empty_features&nbsp;</td>\n",
       "            <td class=\"value\">False</td>\n",
       "        </tr>\n",
       "    \n",
       "                  </tbody>\n",
       "                </table>\n",
       "            </details>\n",
       "        </div>\n",
       "    </div></div></div></div></div></div></div></div><div class=\"sk-parallel-item\"><div class=\"sk-item\"><div class=\"sk-label-container\"><div class=\"sk-label  sk-toggleable\"><input class=\"sk-toggleable__control sk-hidden--visually\" id=\"sk-estimator-id-4\" type=\"checkbox\" ><label for=\"sk-estimator-id-4\" class=\"sk-toggleable__label  sk-toggleable__label-arrow\"><div><div>bool</div></div></label><div class=\"sk-toggleable__content \" data-param-prefix=\"bool__\"><pre>[&#x27;anaemia&#x27;, &#x27;diabetes&#x27;, &#x27;high_blood_pressure&#x27;, &#x27;sex&#x27;, &#x27;smoking&#x27;]</pre></div></div></div><div class=\"sk-serial\"><div class=\"sk-item\"><div class=\"sk-serial\"><div class=\"sk-item\"><div class=\"sk-estimator  sk-toggleable\"><input class=\"sk-toggleable__control sk-hidden--visually\" id=\"sk-estimator-id-5\" type=\"checkbox\" ><label for=\"sk-estimator-id-5\" class=\"sk-toggleable__label  sk-toggleable__label-arrow\"><div><div>SimpleImputer</div></div><div><a class=\"sk-estimator-doc-link \" rel=\"noreferrer\" target=\"_blank\" href=\"https://scikit-learn.org/1.7/modules/generated/sklearn.impute.SimpleImputer.html\">?<span>Documentation for SimpleImputer</span></a></div></label><div class=\"sk-toggleable__content \" data-param-prefix=\"bool__imputer__\">\n",
       "        <div class=\"estimator-table\">\n",
       "            <details>\n",
       "                <summary>Parameters</summary>\n",
       "                <table class=\"parameters-table\">\n",
       "                  <tbody>\n",
       "                    \n",
       "        <tr class=\"default\">\n",
       "            <td><i class=\"copy-paste-icon\"\n",
       "                 onclick=\"copyToClipboard('missing_values',\n",
       "                          this.parentElement.nextElementSibling)\"\n",
       "            ></i></td>\n",
       "            <td class=\"param\">missing_values&nbsp;</td>\n",
       "            <td class=\"value\">nan</td>\n",
       "        </tr>\n",
       "    \n",
       "\n",
       "        <tr class=\"user-set\">\n",
       "            <td><i class=\"copy-paste-icon\"\n",
       "                 onclick=\"copyToClipboard('strategy',\n",
       "                          this.parentElement.nextElementSibling)\"\n",
       "            ></i></td>\n",
       "            <td class=\"param\">strategy&nbsp;</td>\n",
       "            <td class=\"value\">&#x27;most_frequent&#x27;</td>\n",
       "        </tr>\n",
       "    \n",
       "\n",
       "        <tr class=\"default\">\n",
       "            <td><i class=\"copy-paste-icon\"\n",
       "                 onclick=\"copyToClipboard('fill_value',\n",
       "                          this.parentElement.nextElementSibling)\"\n",
       "            ></i></td>\n",
       "            <td class=\"param\">fill_value&nbsp;</td>\n",
       "            <td class=\"value\">None</td>\n",
       "        </tr>\n",
       "    \n",
       "\n",
       "        <tr class=\"default\">\n",
       "            <td><i class=\"copy-paste-icon\"\n",
       "                 onclick=\"copyToClipboard('copy',\n",
       "                          this.parentElement.nextElementSibling)\"\n",
       "            ></i></td>\n",
       "            <td class=\"param\">copy&nbsp;</td>\n",
       "            <td class=\"value\">True</td>\n",
       "        </tr>\n",
       "    \n",
       "\n",
       "        <tr class=\"default\">\n",
       "            <td><i class=\"copy-paste-icon\"\n",
       "                 onclick=\"copyToClipboard('add_indicator',\n",
       "                          this.parentElement.nextElementSibling)\"\n",
       "            ></i></td>\n",
       "            <td class=\"param\">add_indicator&nbsp;</td>\n",
       "            <td class=\"value\">False</td>\n",
       "        </tr>\n",
       "    \n",
       "\n",
       "        <tr class=\"default\">\n",
       "            <td><i class=\"copy-paste-icon\"\n",
       "                 onclick=\"copyToClipboard('keep_empty_features',\n",
       "                          this.parentElement.nextElementSibling)\"\n",
       "            ></i></td>\n",
       "            <td class=\"param\">keep_empty_features&nbsp;</td>\n",
       "            <td class=\"value\">False</td>\n",
       "        </tr>\n",
       "    \n",
       "                  </tbody>\n",
       "                </table>\n",
       "            </details>\n",
       "        </div>\n",
       "    </div></div></div><div class=\"sk-item\"><div class=\"sk-estimator  sk-toggleable\"><input class=\"sk-toggleable__control sk-hidden--visually\" id=\"sk-estimator-id-6\" type=\"checkbox\" ><label for=\"sk-estimator-id-6\" class=\"sk-toggleable__label  sk-toggleable__label-arrow\"><div><div>OneHotEncoder</div></div><div><a class=\"sk-estimator-doc-link \" rel=\"noreferrer\" target=\"_blank\" href=\"https://scikit-learn.org/1.7/modules/generated/sklearn.preprocessing.OneHotEncoder.html\">?<span>Documentation for OneHotEncoder</span></a></div></label><div class=\"sk-toggleable__content \" data-param-prefix=\"bool__encoder__\">\n",
       "        <div class=\"estimator-table\">\n",
       "            <details>\n",
       "                <summary>Parameters</summary>\n",
       "                <table class=\"parameters-table\">\n",
       "                  <tbody>\n",
       "                    \n",
       "        <tr class=\"default\">\n",
       "            <td><i class=\"copy-paste-icon\"\n",
       "                 onclick=\"copyToClipboard('categories',\n",
       "                          this.parentElement.nextElementSibling)\"\n",
       "            ></i></td>\n",
       "            <td class=\"param\">categories&nbsp;</td>\n",
       "            <td class=\"value\">&#x27;auto&#x27;</td>\n",
       "        </tr>\n",
       "    \n",
       "\n",
       "        <tr class=\"user-set\">\n",
       "            <td><i class=\"copy-paste-icon\"\n",
       "                 onclick=\"copyToClipboard('drop',\n",
       "                          this.parentElement.nextElementSibling)\"\n",
       "            ></i></td>\n",
       "            <td class=\"param\">drop&nbsp;</td>\n",
       "            <td class=\"value\">&#x27;if_binary&#x27;</td>\n",
       "        </tr>\n",
       "    \n",
       "\n",
       "        <tr class=\"default\">\n",
       "            <td><i class=\"copy-paste-icon\"\n",
       "                 onclick=\"copyToClipboard('sparse_output',\n",
       "                          this.parentElement.nextElementSibling)\"\n",
       "            ></i></td>\n",
       "            <td class=\"param\">sparse_output&nbsp;</td>\n",
       "            <td class=\"value\">True</td>\n",
       "        </tr>\n",
       "    \n",
       "\n",
       "        <tr class=\"default\">\n",
       "            <td><i class=\"copy-paste-icon\"\n",
       "                 onclick=\"copyToClipboard('dtype',\n",
       "                          this.parentElement.nextElementSibling)\"\n",
       "            ></i></td>\n",
       "            <td class=\"param\">dtype&nbsp;</td>\n",
       "            <td class=\"value\">&lt;class &#x27;numpy.float64&#x27;&gt;</td>\n",
       "        </tr>\n",
       "    \n",
       "\n",
       "        <tr class=\"default\">\n",
       "            <td><i class=\"copy-paste-icon\"\n",
       "                 onclick=\"copyToClipboard('handle_unknown',\n",
       "                          this.parentElement.nextElementSibling)\"\n",
       "            ></i></td>\n",
       "            <td class=\"param\">handle_unknown&nbsp;</td>\n",
       "            <td class=\"value\">&#x27;error&#x27;</td>\n",
       "        </tr>\n",
       "    \n",
       "\n",
       "        <tr class=\"default\">\n",
       "            <td><i class=\"copy-paste-icon\"\n",
       "                 onclick=\"copyToClipboard('min_frequency',\n",
       "                          this.parentElement.nextElementSibling)\"\n",
       "            ></i></td>\n",
       "            <td class=\"param\">min_frequency&nbsp;</td>\n",
       "            <td class=\"value\">None</td>\n",
       "        </tr>\n",
       "    \n",
       "\n",
       "        <tr class=\"default\">\n",
       "            <td><i class=\"copy-paste-icon\"\n",
       "                 onclick=\"copyToClipboard('max_categories',\n",
       "                          this.parentElement.nextElementSibling)\"\n",
       "            ></i></td>\n",
       "            <td class=\"param\">max_categories&nbsp;</td>\n",
       "            <td class=\"value\">None</td>\n",
       "        </tr>\n",
       "    \n",
       "\n",
       "        <tr class=\"default\">\n",
       "            <td><i class=\"copy-paste-icon\"\n",
       "                 onclick=\"copyToClipboard('feature_name_combiner',\n",
       "                          this.parentElement.nextElementSibling)\"\n",
       "            ></i></td>\n",
       "            <td class=\"param\">feature_name_combiner&nbsp;</td>\n",
       "            <td class=\"value\">&#x27;concat&#x27;</td>\n",
       "        </tr>\n",
       "    \n",
       "                  </tbody>\n",
       "                </table>\n",
       "            </details>\n",
       "        </div>\n",
       "    </div></div></div></div></div></div></div></div></div></div></div></div><script>function copyToClipboard(text, element) {\n",
       "    // Get the parameter prefix from the closest toggleable content\n",
       "    const toggleableContent = element.closest('.sk-toggleable__content');\n",
       "    const paramPrefix = toggleableContent ? toggleableContent.dataset.paramPrefix : '';\n",
       "    const fullParamName = paramPrefix ? `${paramPrefix}${text}` : text;\n",
       "\n",
       "    const originalStyle = element.style;\n",
       "    const computedStyle = window.getComputedStyle(element);\n",
       "    const originalWidth = computedStyle.width;\n",
       "    const originalHTML = element.innerHTML.replace('Copied!', '');\n",
       "\n",
       "    navigator.clipboard.writeText(fullParamName)\n",
       "        .then(() => {\n",
       "            element.style.width = originalWidth;\n",
       "            element.style.color = 'green';\n",
       "            element.innerHTML = \"Copied!\";\n",
       "\n",
       "            setTimeout(() => {\n",
       "                element.innerHTML = originalHTML;\n",
       "                element.style = originalStyle;\n",
       "            }, 2000);\n",
       "        })\n",
       "        .catch(err => {\n",
       "            console.error('Failed to copy:', err);\n",
       "            element.style.color = 'red';\n",
       "            element.innerHTML = \"Failed!\";\n",
       "            setTimeout(() => {\n",
       "                element.innerHTML = originalHTML;\n",
       "                element.style = originalStyle;\n",
       "            }, 2000);\n",
       "        });\n",
       "    return false;\n",
       "}\n",
       "\n",
       "document.querySelectorAll('.fa-regular.fa-copy').forEach(function(element) {\n",
       "    const toggleableContent = element.closest('.sk-toggleable__content');\n",
       "    const paramPrefix = toggleableContent ? toggleableContent.dataset.paramPrefix : '';\n",
       "    const paramName = element.parentElement.nextElementSibling.textContent.trim();\n",
       "    const fullParamName = paramPrefix ? `${paramPrefix}${paramName}` : paramName;\n",
       "\n",
       "    element.setAttribute('title', fullParamName);\n",
       "});\n",
       "</script></body>"
      ],
      "text/plain": [
       "ColumnTransformer(transformers=[('num',\n",
       "                                 Pipeline(steps=[('imputer',\n",
       "                                                  SimpleImputer(strategy='median'))]),\n",
       "                                 ['age', 'creatinine_phosphokinase',\n",
       "                                  'ejection_fraction', 'platelets',\n",
       "                                  'serum_creatinine', 'serum_sodium', 'time']),\n",
       "                                ('bool',\n",
       "                                 Pipeline(steps=[('imputer',\n",
       "                                                  SimpleImputer(strategy='most_frequent')),\n",
       "                                                 ('encoder',\n",
       "                                                  OneHotEncoder(drop='if_binary'))]),\n",
       "                                 ['anaemia', 'diabetes', 'high_blood_pressure',\n",
       "                                  'sex', 'smoking'])],\n",
       "                  verbose=True)"
      ]
     },
     "metadata": {},
     "output_type": "display_data"
    },
    {
     "data": {
      "text/html": [
       "<style>#sk-container-id-2 {\n",
       "  /* Definition of color scheme common for light and dark mode */\n",
       "  --sklearn-color-text: #000;\n",
       "  --sklearn-color-text-muted: #666;\n",
       "  --sklearn-color-line: gray;\n",
       "  /* Definition of color scheme for unfitted estimators */\n",
       "  --sklearn-color-unfitted-level-0: #fff5e6;\n",
       "  --sklearn-color-unfitted-level-1: #f6e4d2;\n",
       "  --sklearn-color-unfitted-level-2: #ffe0b3;\n",
       "  --sklearn-color-unfitted-level-3: chocolate;\n",
       "  /* Definition of color scheme for fitted estimators */\n",
       "  --sklearn-color-fitted-level-0: #f0f8ff;\n",
       "  --sklearn-color-fitted-level-1: #d4ebff;\n",
       "  --sklearn-color-fitted-level-2: #b3dbfd;\n",
       "  --sklearn-color-fitted-level-3: cornflowerblue;\n",
       "\n",
       "  /* Specific color for light theme */\n",
       "  --sklearn-color-text-on-default-background: var(--sg-text-color, var(--theme-code-foreground, var(--jp-content-font-color1, black)));\n",
       "  --sklearn-color-background: var(--sg-background-color, var(--theme-background, var(--jp-layout-color0, white)));\n",
       "  --sklearn-color-border-box: var(--sg-text-color, var(--theme-code-foreground, var(--jp-content-font-color1, black)));\n",
       "  --sklearn-color-icon: #696969;\n",
       "\n",
       "  @media (prefers-color-scheme: dark) {\n",
       "    /* Redefinition of color scheme for dark theme */\n",
       "    --sklearn-color-text-on-default-background: var(--sg-text-color, var(--theme-code-foreground, var(--jp-content-font-color1, white)));\n",
       "    --sklearn-color-background: var(--sg-background-color, var(--theme-background, var(--jp-layout-color0, #111)));\n",
       "    --sklearn-color-border-box: var(--sg-text-color, var(--theme-code-foreground, var(--jp-content-font-color1, white)));\n",
       "    --sklearn-color-icon: #878787;\n",
       "  }\n",
       "}\n",
       "\n",
       "#sk-container-id-2 {\n",
       "  color: var(--sklearn-color-text);\n",
       "}\n",
       "\n",
       "#sk-container-id-2 pre {\n",
       "  padding: 0;\n",
       "}\n",
       "\n",
       "#sk-container-id-2 input.sk-hidden--visually {\n",
       "  border: 0;\n",
       "  clip: rect(1px 1px 1px 1px);\n",
       "  clip: rect(1px, 1px, 1px, 1px);\n",
       "  height: 1px;\n",
       "  margin: -1px;\n",
       "  overflow: hidden;\n",
       "  padding: 0;\n",
       "  position: absolute;\n",
       "  width: 1px;\n",
       "}\n",
       "\n",
       "#sk-container-id-2 div.sk-dashed-wrapped {\n",
       "  border: 1px dashed var(--sklearn-color-line);\n",
       "  margin: 0 0.4em 0.5em 0.4em;\n",
       "  box-sizing: border-box;\n",
       "  padding-bottom: 0.4em;\n",
       "  background-color: var(--sklearn-color-background);\n",
       "}\n",
       "\n",
       "#sk-container-id-2 div.sk-container {\n",
       "  /* jupyter's `normalize.less` sets `[hidden] { display: none; }`\n",
       "     but bootstrap.min.css set `[hidden] { display: none !important; }`\n",
       "     so we also need the `!important` here to be able to override the\n",
       "     default hidden behavior on the sphinx rendered scikit-learn.org.\n",
       "     See: https://github.com/scikit-learn/scikit-learn/issues/21755 */\n",
       "  display: inline-block !important;\n",
       "  position: relative;\n",
       "}\n",
       "\n",
       "#sk-container-id-2 div.sk-text-repr-fallback {\n",
       "  display: none;\n",
       "}\n",
       "\n",
       "div.sk-parallel-item,\n",
       "div.sk-serial,\n",
       "div.sk-item {\n",
       "  /* draw centered vertical line to link estimators */\n",
       "  background-image: linear-gradient(var(--sklearn-color-text-on-default-background), var(--sklearn-color-text-on-default-background));\n",
       "  background-size: 2px 100%;\n",
       "  background-repeat: no-repeat;\n",
       "  background-position: center center;\n",
       "}\n",
       "\n",
       "/* Parallel-specific style estimator block */\n",
       "\n",
       "#sk-container-id-2 div.sk-parallel-item::after {\n",
       "  content: \"\";\n",
       "  width: 100%;\n",
       "  border-bottom: 2px solid var(--sklearn-color-text-on-default-background);\n",
       "  flex-grow: 1;\n",
       "}\n",
       "\n",
       "#sk-container-id-2 div.sk-parallel {\n",
       "  display: flex;\n",
       "  align-items: stretch;\n",
       "  justify-content: center;\n",
       "  background-color: var(--sklearn-color-background);\n",
       "  position: relative;\n",
       "}\n",
       "\n",
       "#sk-container-id-2 div.sk-parallel-item {\n",
       "  display: flex;\n",
       "  flex-direction: column;\n",
       "}\n",
       "\n",
       "#sk-container-id-2 div.sk-parallel-item:first-child::after {\n",
       "  align-self: flex-end;\n",
       "  width: 50%;\n",
       "}\n",
       "\n",
       "#sk-container-id-2 div.sk-parallel-item:last-child::after {\n",
       "  align-self: flex-start;\n",
       "  width: 50%;\n",
       "}\n",
       "\n",
       "#sk-container-id-2 div.sk-parallel-item:only-child::after {\n",
       "  width: 0;\n",
       "}\n",
       "\n",
       "/* Serial-specific style estimator block */\n",
       "\n",
       "#sk-container-id-2 div.sk-serial {\n",
       "  display: flex;\n",
       "  flex-direction: column;\n",
       "  align-items: center;\n",
       "  background-color: var(--sklearn-color-background);\n",
       "  padding-right: 1em;\n",
       "  padding-left: 1em;\n",
       "}\n",
       "\n",
       "\n",
       "/* Toggleable style: style used for estimator/Pipeline/ColumnTransformer box that is\n",
       "clickable and can be expanded/collapsed.\n",
       "- Pipeline and ColumnTransformer use this feature and define the default style\n",
       "- Estimators will overwrite some part of the style using the `sk-estimator` class\n",
       "*/\n",
       "\n",
       "/* Pipeline and ColumnTransformer style (default) */\n",
       "\n",
       "#sk-container-id-2 div.sk-toggleable {\n",
       "  /* Default theme specific background. It is overwritten whether we have a\n",
       "  specific estimator or a Pipeline/ColumnTransformer */\n",
       "  background-color: var(--sklearn-color-background);\n",
       "}\n",
       "\n",
       "/* Toggleable label */\n",
       "#sk-container-id-2 label.sk-toggleable__label {\n",
       "  cursor: pointer;\n",
       "  display: flex;\n",
       "  width: 100%;\n",
       "  margin-bottom: 0;\n",
       "  padding: 0.5em;\n",
       "  box-sizing: border-box;\n",
       "  text-align: center;\n",
       "  align-items: start;\n",
       "  justify-content: space-between;\n",
       "  gap: 0.5em;\n",
       "}\n",
       "\n",
       "#sk-container-id-2 label.sk-toggleable__label .caption {\n",
       "  font-size: 0.6rem;\n",
       "  font-weight: lighter;\n",
       "  color: var(--sklearn-color-text-muted);\n",
       "}\n",
       "\n",
       "#sk-container-id-2 label.sk-toggleable__label-arrow:before {\n",
       "  /* Arrow on the left of the label */\n",
       "  content: \"▸\";\n",
       "  float: left;\n",
       "  margin-right: 0.25em;\n",
       "  color: var(--sklearn-color-icon);\n",
       "}\n",
       "\n",
       "#sk-container-id-2 label.sk-toggleable__label-arrow:hover:before {\n",
       "  color: var(--sklearn-color-text);\n",
       "}\n",
       "\n",
       "/* Toggleable content - dropdown */\n",
       "\n",
       "#sk-container-id-2 div.sk-toggleable__content {\n",
       "  display: none;\n",
       "  text-align: left;\n",
       "  /* unfitted */\n",
       "  background-color: var(--sklearn-color-unfitted-level-0);\n",
       "}\n",
       "\n",
       "#sk-container-id-2 div.sk-toggleable__content.fitted {\n",
       "  /* fitted */\n",
       "  background-color: var(--sklearn-color-fitted-level-0);\n",
       "}\n",
       "\n",
       "#sk-container-id-2 div.sk-toggleable__content pre {\n",
       "  margin: 0.2em;\n",
       "  border-radius: 0.25em;\n",
       "  color: var(--sklearn-color-text);\n",
       "  /* unfitted */\n",
       "  background-color: var(--sklearn-color-unfitted-level-0);\n",
       "}\n",
       "\n",
       "#sk-container-id-2 div.sk-toggleable__content.fitted pre {\n",
       "  /* unfitted */\n",
       "  background-color: var(--sklearn-color-fitted-level-0);\n",
       "}\n",
       "\n",
       "#sk-container-id-2 input.sk-toggleable__control:checked~div.sk-toggleable__content {\n",
       "  /* Expand drop-down */\n",
       "  display: block;\n",
       "  width: 100%;\n",
       "  overflow: visible;\n",
       "}\n",
       "\n",
       "#sk-container-id-2 input.sk-toggleable__control:checked~label.sk-toggleable__label-arrow:before {\n",
       "  content: \"▾\";\n",
       "}\n",
       "\n",
       "/* Pipeline/ColumnTransformer-specific style */\n",
       "\n",
       "#sk-container-id-2 div.sk-label input.sk-toggleable__control:checked~label.sk-toggleable__label {\n",
       "  color: var(--sklearn-color-text);\n",
       "  background-color: var(--sklearn-color-unfitted-level-2);\n",
       "}\n",
       "\n",
       "#sk-container-id-2 div.sk-label.fitted input.sk-toggleable__control:checked~label.sk-toggleable__label {\n",
       "  background-color: var(--sklearn-color-fitted-level-2);\n",
       "}\n",
       "\n",
       "/* Estimator-specific style */\n",
       "\n",
       "/* Colorize estimator box */\n",
       "#sk-container-id-2 div.sk-estimator input.sk-toggleable__control:checked~label.sk-toggleable__label {\n",
       "  /* unfitted */\n",
       "  background-color: var(--sklearn-color-unfitted-level-2);\n",
       "}\n",
       "\n",
       "#sk-container-id-2 div.sk-estimator.fitted input.sk-toggleable__control:checked~label.sk-toggleable__label {\n",
       "  /* fitted */\n",
       "  background-color: var(--sklearn-color-fitted-level-2);\n",
       "}\n",
       "\n",
       "#sk-container-id-2 div.sk-label label.sk-toggleable__label,\n",
       "#sk-container-id-2 div.sk-label label {\n",
       "  /* The background is the default theme color */\n",
       "  color: var(--sklearn-color-text-on-default-background);\n",
       "}\n",
       "\n",
       "/* On hover, darken the color of the background */\n",
       "#sk-container-id-2 div.sk-label:hover label.sk-toggleable__label {\n",
       "  color: var(--sklearn-color-text);\n",
       "  background-color: var(--sklearn-color-unfitted-level-2);\n",
       "}\n",
       "\n",
       "/* Label box, darken color on hover, fitted */\n",
       "#sk-container-id-2 div.sk-label.fitted:hover label.sk-toggleable__label.fitted {\n",
       "  color: var(--sklearn-color-text);\n",
       "  background-color: var(--sklearn-color-fitted-level-2);\n",
       "}\n",
       "\n",
       "/* Estimator label */\n",
       "\n",
       "#sk-container-id-2 div.sk-label label {\n",
       "  font-family: monospace;\n",
       "  font-weight: bold;\n",
       "  display: inline-block;\n",
       "  line-height: 1.2em;\n",
       "}\n",
       "\n",
       "#sk-container-id-2 div.sk-label-container {\n",
       "  text-align: center;\n",
       "}\n",
       "\n",
       "/* Estimator-specific */\n",
       "#sk-container-id-2 div.sk-estimator {\n",
       "  font-family: monospace;\n",
       "  border: 1px dotted var(--sklearn-color-border-box);\n",
       "  border-radius: 0.25em;\n",
       "  box-sizing: border-box;\n",
       "  margin-bottom: 0.5em;\n",
       "  /* unfitted */\n",
       "  background-color: var(--sklearn-color-unfitted-level-0);\n",
       "}\n",
       "\n",
       "#sk-container-id-2 div.sk-estimator.fitted {\n",
       "  /* fitted */\n",
       "  background-color: var(--sklearn-color-fitted-level-0);\n",
       "}\n",
       "\n",
       "/* on hover */\n",
       "#sk-container-id-2 div.sk-estimator:hover {\n",
       "  /* unfitted */\n",
       "  background-color: var(--sklearn-color-unfitted-level-2);\n",
       "}\n",
       "\n",
       "#sk-container-id-2 div.sk-estimator.fitted:hover {\n",
       "  /* fitted */\n",
       "  background-color: var(--sklearn-color-fitted-level-2);\n",
       "}\n",
       "\n",
       "/* Specification for estimator info (e.g. \"i\" and \"?\") */\n",
       "\n",
       "/* Common style for \"i\" and \"?\" */\n",
       "\n",
       ".sk-estimator-doc-link,\n",
       "a:link.sk-estimator-doc-link,\n",
       "a:visited.sk-estimator-doc-link {\n",
       "  float: right;\n",
       "  font-size: smaller;\n",
       "  line-height: 1em;\n",
       "  font-family: monospace;\n",
       "  background-color: var(--sklearn-color-background);\n",
       "  border-radius: 1em;\n",
       "  height: 1em;\n",
       "  width: 1em;\n",
       "  text-decoration: none !important;\n",
       "  margin-left: 0.5em;\n",
       "  text-align: center;\n",
       "  /* unfitted */\n",
       "  border: var(--sklearn-color-unfitted-level-1) 1pt solid;\n",
       "  color: var(--sklearn-color-unfitted-level-1);\n",
       "}\n",
       "\n",
       ".sk-estimator-doc-link.fitted,\n",
       "a:link.sk-estimator-doc-link.fitted,\n",
       "a:visited.sk-estimator-doc-link.fitted {\n",
       "  /* fitted */\n",
       "  border: var(--sklearn-color-fitted-level-1) 1pt solid;\n",
       "  color: var(--sklearn-color-fitted-level-1);\n",
       "}\n",
       "\n",
       "/* On hover */\n",
       "div.sk-estimator:hover .sk-estimator-doc-link:hover,\n",
       ".sk-estimator-doc-link:hover,\n",
       "div.sk-label-container:hover .sk-estimator-doc-link:hover,\n",
       ".sk-estimator-doc-link:hover {\n",
       "  /* unfitted */\n",
       "  background-color: var(--sklearn-color-unfitted-level-3);\n",
       "  color: var(--sklearn-color-background);\n",
       "  text-decoration: none;\n",
       "}\n",
       "\n",
       "div.sk-estimator.fitted:hover .sk-estimator-doc-link.fitted:hover,\n",
       ".sk-estimator-doc-link.fitted:hover,\n",
       "div.sk-label-container:hover .sk-estimator-doc-link.fitted:hover,\n",
       ".sk-estimator-doc-link.fitted:hover {\n",
       "  /* fitted */\n",
       "  background-color: var(--sklearn-color-fitted-level-3);\n",
       "  color: var(--sklearn-color-background);\n",
       "  text-decoration: none;\n",
       "}\n",
       "\n",
       "/* Span, style for the box shown on hovering the info icon */\n",
       ".sk-estimator-doc-link span {\n",
       "  display: none;\n",
       "  z-index: 9999;\n",
       "  position: relative;\n",
       "  font-weight: normal;\n",
       "  right: .2ex;\n",
       "  padding: .5ex;\n",
       "  margin: .5ex;\n",
       "  width: min-content;\n",
       "  min-width: 20ex;\n",
       "  max-width: 50ex;\n",
       "  color: var(--sklearn-color-text);\n",
       "  box-shadow: 2pt 2pt 4pt #999;\n",
       "  /* unfitted */\n",
       "  background: var(--sklearn-color-unfitted-level-0);\n",
       "  border: .5pt solid var(--sklearn-color-unfitted-level-3);\n",
       "}\n",
       "\n",
       ".sk-estimator-doc-link.fitted span {\n",
       "  /* fitted */\n",
       "  background: var(--sklearn-color-fitted-level-0);\n",
       "  border: var(--sklearn-color-fitted-level-3);\n",
       "}\n",
       "\n",
       ".sk-estimator-doc-link:hover span {\n",
       "  display: block;\n",
       "}\n",
       "\n",
       "/* \"?\"-specific style due to the `<a>` HTML tag */\n",
       "\n",
       "#sk-container-id-2 a.estimator_doc_link {\n",
       "  float: right;\n",
       "  font-size: 1rem;\n",
       "  line-height: 1em;\n",
       "  font-family: monospace;\n",
       "  background-color: var(--sklearn-color-background);\n",
       "  border-radius: 1rem;\n",
       "  height: 1rem;\n",
       "  width: 1rem;\n",
       "  text-decoration: none;\n",
       "  /* unfitted */\n",
       "  color: var(--sklearn-color-unfitted-level-1);\n",
       "  border: var(--sklearn-color-unfitted-level-1) 1pt solid;\n",
       "}\n",
       "\n",
       "#sk-container-id-2 a.estimator_doc_link.fitted {\n",
       "  /* fitted */\n",
       "  border: var(--sklearn-color-fitted-level-1) 1pt solid;\n",
       "  color: var(--sklearn-color-fitted-level-1);\n",
       "}\n",
       "\n",
       "/* On hover */\n",
       "#sk-container-id-2 a.estimator_doc_link:hover {\n",
       "  /* unfitted */\n",
       "  background-color: var(--sklearn-color-unfitted-level-3);\n",
       "  color: var(--sklearn-color-background);\n",
       "  text-decoration: none;\n",
       "}\n",
       "\n",
       "#sk-container-id-2 a.estimator_doc_link.fitted:hover {\n",
       "  /* fitted */\n",
       "  background-color: var(--sklearn-color-fitted-level-3);\n",
       "}\n",
       "\n",
       ".estimator-table summary {\n",
       "    padding: .5rem;\n",
       "    font-family: monospace;\n",
       "    cursor: pointer;\n",
       "}\n",
       "\n",
       ".estimator-table details[open] {\n",
       "    padding-left: 0.1rem;\n",
       "    padding-right: 0.1rem;\n",
       "    padding-bottom: 0.3rem;\n",
       "}\n",
       "\n",
       ".estimator-table .parameters-table {\n",
       "    margin-left: auto !important;\n",
       "    margin-right: auto !important;\n",
       "}\n",
       "\n",
       ".estimator-table .parameters-table tr:nth-child(odd) {\n",
       "    background-color: #fff;\n",
       "}\n",
       "\n",
       ".estimator-table .parameters-table tr:nth-child(even) {\n",
       "    background-color: #f6f6f6;\n",
       "}\n",
       "\n",
       ".estimator-table .parameters-table tr:hover {\n",
       "    background-color: #e0e0e0;\n",
       "}\n",
       "\n",
       ".estimator-table table td {\n",
       "    border: 1px solid rgba(106, 105, 104, 0.232);\n",
       "}\n",
       "\n",
       ".user-set td {\n",
       "    color:rgb(255, 94, 0);\n",
       "    text-align: left;\n",
       "}\n",
       "\n",
       ".user-set td.value pre {\n",
       "    color:rgb(255, 94, 0) !important;\n",
       "    background-color: transparent !important;\n",
       "}\n",
       "\n",
       ".default td {\n",
       "    color: black;\n",
       "    text-align: left;\n",
       "}\n",
       "\n",
       ".user-set td i,\n",
       ".default td i {\n",
       "    color: black;\n",
       "}\n",
       "\n",
       ".copy-paste-icon {\n",
       "    background-image: url(data:image/svg+xml;base64,PHN2ZyB4bWxucz0iaHR0cDovL3d3dy53My5vcmcvMjAwMC9zdmciIHZpZXdCb3g9IjAgMCA0NDggNTEyIj48IS0tIUZvbnQgQXdlc29tZSBGcmVlIDYuNy4yIGJ5IEBmb250YXdlc29tZSAtIGh0dHBzOi8vZm9udGF3ZXNvbWUuY29tIExpY2Vuc2UgLSBodHRwczovL2ZvbnRhd2Vzb21lLmNvbS9saWNlbnNlL2ZyZWUgQ29weXJpZ2h0IDIwMjUgRm9udGljb25zLCBJbmMuLS0+PHBhdGggZD0iTTIwOCAwTDMzMi4xIDBjMTIuNyAwIDI0LjkgNS4xIDMzLjkgMTQuMWw2Ny45IDY3LjljOSA5IDE0LjEgMjEuMiAxNC4xIDMzLjlMNDQ4IDMzNmMwIDI2LjUtMjEuNSA0OC00OCA0OGwtMTkyIDBjLTI2LjUgMC00OC0yMS41LTQ4LTQ4bDAtMjg4YzAtMjYuNSAyMS41LTQ4IDQ4LTQ4ek00OCAxMjhsODAgMCAwIDY0LTY0IDAgMCAyNTYgMTkyIDAgMC0zMiA2NCAwIDAgNDhjMCAyNi41LTIxLjUgNDgtNDggNDhMNDggNTEyYy0yNi41IDAtNDgtMjEuNS00OC00OEwwIDE3NmMwLTI2LjUgMjEuNS00OCA0OC00OHoiLz48L3N2Zz4=);\n",
       "    background-repeat: no-repeat;\n",
       "    background-size: 14px 14px;\n",
       "    background-position: 0;\n",
       "    display: inline-block;\n",
       "    width: 14px;\n",
       "    height: 14px;\n",
       "    cursor: pointer;\n",
       "}\n",
       "</style><body><div id=\"sk-container-id-2\" class=\"sk-top-container\"><div class=\"sk-text-repr-fallback\"><pre>ColumnTransformer(transformers=[(&#x27;num&#x27;,\n",
       "                                 Pipeline(steps=[(&#x27;imputer&#x27;,\n",
       "                                                  SimpleImputer(strategy=&#x27;median&#x27;)),\n",
       "                                                 (&#x27;scaler&#x27;, StandardScaler())]),\n",
       "                                 [&#x27;age&#x27;, &#x27;creatinine_phosphokinase&#x27;,\n",
       "                                  &#x27;ejection_fraction&#x27;, &#x27;platelets&#x27;,\n",
       "                                  &#x27;serum_creatinine&#x27;, &#x27;serum_sodium&#x27;, &#x27;time&#x27;]),\n",
       "                                (&#x27;bool&#x27;,\n",
       "                                 Pipeline(steps=[(&#x27;imputer&#x27;,\n",
       "                                                  SimpleImputer(strategy=&#x27;most_frequent&#x27;)),\n",
       "                                                 (&#x27;encoder&#x27;,\n",
       "                                                  OneHotEncoder(drop=&#x27;if_binary&#x27;))]),\n",
       "                                 [&#x27;anaemia&#x27;, &#x27;diabetes&#x27;, &#x27;high_blood_pressure&#x27;,\n",
       "                                  &#x27;sex&#x27;, &#x27;smoking&#x27;])],\n",
       "                  verbose=True)</pre><b>In a Jupyter environment, please rerun this cell to show the HTML representation or trust the notebook. <br />On GitHub, the HTML representation is unable to render, please try loading this page with nbviewer.org.</b></div><div class=\"sk-container\" hidden><div class=\"sk-item sk-dashed-wrapped\"><div class=\"sk-label-container\"><div class=\"sk-label  sk-toggleable\"><input class=\"sk-toggleable__control sk-hidden--visually\" id=\"sk-estimator-id-7\" type=\"checkbox\" ><label for=\"sk-estimator-id-7\" class=\"sk-toggleable__label  sk-toggleable__label-arrow\"><div><div>ColumnTransformer</div></div><div><a class=\"sk-estimator-doc-link \" rel=\"noreferrer\" target=\"_blank\" href=\"https://scikit-learn.org/1.7/modules/generated/sklearn.compose.ColumnTransformer.html\">?<span>Documentation for ColumnTransformer</span></a><span class=\"sk-estimator-doc-link \">i<span>Not fitted</span></span></div></label><div class=\"sk-toggleable__content \" data-param-prefix=\"\">\n",
       "        <div class=\"estimator-table\">\n",
       "            <details>\n",
       "                <summary>Parameters</summary>\n",
       "                <table class=\"parameters-table\">\n",
       "                  <tbody>\n",
       "                    \n",
       "        <tr class=\"user-set\">\n",
       "            <td><i class=\"copy-paste-icon\"\n",
       "                 onclick=\"copyToClipboard('transformers',\n",
       "                          this.parentElement.nextElementSibling)\"\n",
       "            ></i></td>\n",
       "            <td class=\"param\">transformers&nbsp;</td>\n",
       "            <td class=\"value\">[(&#x27;num&#x27;, ...), (&#x27;bool&#x27;, ...)]</td>\n",
       "        </tr>\n",
       "    \n",
       "\n",
       "        <tr class=\"default\">\n",
       "            <td><i class=\"copy-paste-icon\"\n",
       "                 onclick=\"copyToClipboard('remainder',\n",
       "                          this.parentElement.nextElementSibling)\"\n",
       "            ></i></td>\n",
       "            <td class=\"param\">remainder&nbsp;</td>\n",
       "            <td class=\"value\">&#x27;drop&#x27;</td>\n",
       "        </tr>\n",
       "    \n",
       "\n",
       "        <tr class=\"default\">\n",
       "            <td><i class=\"copy-paste-icon\"\n",
       "                 onclick=\"copyToClipboard('sparse_threshold',\n",
       "                          this.parentElement.nextElementSibling)\"\n",
       "            ></i></td>\n",
       "            <td class=\"param\">sparse_threshold&nbsp;</td>\n",
       "            <td class=\"value\">0.3</td>\n",
       "        </tr>\n",
       "    \n",
       "\n",
       "        <tr class=\"default\">\n",
       "            <td><i class=\"copy-paste-icon\"\n",
       "                 onclick=\"copyToClipboard('n_jobs',\n",
       "                          this.parentElement.nextElementSibling)\"\n",
       "            ></i></td>\n",
       "            <td class=\"param\">n_jobs&nbsp;</td>\n",
       "            <td class=\"value\">None</td>\n",
       "        </tr>\n",
       "    \n",
       "\n",
       "        <tr class=\"default\">\n",
       "            <td><i class=\"copy-paste-icon\"\n",
       "                 onclick=\"copyToClipboard('transformer_weights',\n",
       "                          this.parentElement.nextElementSibling)\"\n",
       "            ></i></td>\n",
       "            <td class=\"param\">transformer_weights&nbsp;</td>\n",
       "            <td class=\"value\">None</td>\n",
       "        </tr>\n",
       "    \n",
       "\n",
       "        <tr class=\"user-set\">\n",
       "            <td><i class=\"copy-paste-icon\"\n",
       "                 onclick=\"copyToClipboard('verbose',\n",
       "                          this.parentElement.nextElementSibling)\"\n",
       "            ></i></td>\n",
       "            <td class=\"param\">verbose&nbsp;</td>\n",
       "            <td class=\"value\">True</td>\n",
       "        </tr>\n",
       "    \n",
       "\n",
       "        <tr class=\"default\">\n",
       "            <td><i class=\"copy-paste-icon\"\n",
       "                 onclick=\"copyToClipboard('verbose_feature_names_out',\n",
       "                          this.parentElement.nextElementSibling)\"\n",
       "            ></i></td>\n",
       "            <td class=\"param\">verbose_feature_names_out&nbsp;</td>\n",
       "            <td class=\"value\">True</td>\n",
       "        </tr>\n",
       "    \n",
       "\n",
       "        <tr class=\"default\">\n",
       "            <td><i class=\"copy-paste-icon\"\n",
       "                 onclick=\"copyToClipboard('force_int_remainder_cols',\n",
       "                          this.parentElement.nextElementSibling)\"\n",
       "            ></i></td>\n",
       "            <td class=\"param\">force_int_remainder_cols&nbsp;</td>\n",
       "            <td class=\"value\">&#x27;deprecated&#x27;</td>\n",
       "        </tr>\n",
       "    \n",
       "                  </tbody>\n",
       "                </table>\n",
       "            </details>\n",
       "        </div>\n",
       "    </div></div></div><div class=\"sk-parallel\"><div class=\"sk-parallel-item\"><div class=\"sk-item\"><div class=\"sk-label-container\"><div class=\"sk-label  sk-toggleable\"><input class=\"sk-toggleable__control sk-hidden--visually\" id=\"sk-estimator-id-8\" type=\"checkbox\" ><label for=\"sk-estimator-id-8\" class=\"sk-toggleable__label  sk-toggleable__label-arrow\"><div><div>num</div></div></label><div class=\"sk-toggleable__content \" data-param-prefix=\"num__\"><pre>[&#x27;age&#x27;, &#x27;creatinine_phosphokinase&#x27;, &#x27;ejection_fraction&#x27;, &#x27;platelets&#x27;, &#x27;serum_creatinine&#x27;, &#x27;serum_sodium&#x27;, &#x27;time&#x27;]</pre></div></div></div><div class=\"sk-serial\"><div class=\"sk-item\"><div class=\"sk-serial\"><div class=\"sk-item\"><div class=\"sk-estimator  sk-toggleable\"><input class=\"sk-toggleable__control sk-hidden--visually\" id=\"sk-estimator-id-9\" type=\"checkbox\" ><label for=\"sk-estimator-id-9\" class=\"sk-toggleable__label  sk-toggleable__label-arrow\"><div><div>SimpleImputer</div></div><div><a class=\"sk-estimator-doc-link \" rel=\"noreferrer\" target=\"_blank\" href=\"https://scikit-learn.org/1.7/modules/generated/sklearn.impute.SimpleImputer.html\">?<span>Documentation for SimpleImputer</span></a></div></label><div class=\"sk-toggleable__content \" data-param-prefix=\"num__imputer__\">\n",
       "        <div class=\"estimator-table\">\n",
       "            <details>\n",
       "                <summary>Parameters</summary>\n",
       "                <table class=\"parameters-table\">\n",
       "                  <tbody>\n",
       "                    \n",
       "        <tr class=\"default\">\n",
       "            <td><i class=\"copy-paste-icon\"\n",
       "                 onclick=\"copyToClipboard('missing_values',\n",
       "                          this.parentElement.nextElementSibling)\"\n",
       "            ></i></td>\n",
       "            <td class=\"param\">missing_values&nbsp;</td>\n",
       "            <td class=\"value\">nan</td>\n",
       "        </tr>\n",
       "    \n",
       "\n",
       "        <tr class=\"user-set\">\n",
       "            <td><i class=\"copy-paste-icon\"\n",
       "                 onclick=\"copyToClipboard('strategy',\n",
       "                          this.parentElement.nextElementSibling)\"\n",
       "            ></i></td>\n",
       "            <td class=\"param\">strategy&nbsp;</td>\n",
       "            <td class=\"value\">&#x27;median&#x27;</td>\n",
       "        </tr>\n",
       "    \n",
       "\n",
       "        <tr class=\"default\">\n",
       "            <td><i class=\"copy-paste-icon\"\n",
       "                 onclick=\"copyToClipboard('fill_value',\n",
       "                          this.parentElement.nextElementSibling)\"\n",
       "            ></i></td>\n",
       "            <td class=\"param\">fill_value&nbsp;</td>\n",
       "            <td class=\"value\">None</td>\n",
       "        </tr>\n",
       "    \n",
       "\n",
       "        <tr class=\"default\">\n",
       "            <td><i class=\"copy-paste-icon\"\n",
       "                 onclick=\"copyToClipboard('copy',\n",
       "                          this.parentElement.nextElementSibling)\"\n",
       "            ></i></td>\n",
       "            <td class=\"param\">copy&nbsp;</td>\n",
       "            <td class=\"value\">True</td>\n",
       "        </tr>\n",
       "    \n",
       "\n",
       "        <tr class=\"default\">\n",
       "            <td><i class=\"copy-paste-icon\"\n",
       "                 onclick=\"copyToClipboard('add_indicator',\n",
       "                          this.parentElement.nextElementSibling)\"\n",
       "            ></i></td>\n",
       "            <td class=\"param\">add_indicator&nbsp;</td>\n",
       "            <td class=\"value\">False</td>\n",
       "        </tr>\n",
       "    \n",
       "\n",
       "        <tr class=\"default\">\n",
       "            <td><i class=\"copy-paste-icon\"\n",
       "                 onclick=\"copyToClipboard('keep_empty_features',\n",
       "                          this.parentElement.nextElementSibling)\"\n",
       "            ></i></td>\n",
       "            <td class=\"param\">keep_empty_features&nbsp;</td>\n",
       "            <td class=\"value\">False</td>\n",
       "        </tr>\n",
       "    \n",
       "                  </tbody>\n",
       "                </table>\n",
       "            </details>\n",
       "        </div>\n",
       "    </div></div></div><div class=\"sk-item\"><div class=\"sk-estimator  sk-toggleable\"><input class=\"sk-toggleable__control sk-hidden--visually\" id=\"sk-estimator-id-10\" type=\"checkbox\" ><label for=\"sk-estimator-id-10\" class=\"sk-toggleable__label  sk-toggleable__label-arrow\"><div><div>StandardScaler</div></div><div><a class=\"sk-estimator-doc-link \" rel=\"noreferrer\" target=\"_blank\" href=\"https://scikit-learn.org/1.7/modules/generated/sklearn.preprocessing.StandardScaler.html\">?<span>Documentation for StandardScaler</span></a></div></label><div class=\"sk-toggleable__content \" data-param-prefix=\"num__scaler__\">\n",
       "        <div class=\"estimator-table\">\n",
       "            <details>\n",
       "                <summary>Parameters</summary>\n",
       "                <table class=\"parameters-table\">\n",
       "                  <tbody>\n",
       "                    \n",
       "        <tr class=\"default\">\n",
       "            <td><i class=\"copy-paste-icon\"\n",
       "                 onclick=\"copyToClipboard('copy',\n",
       "                          this.parentElement.nextElementSibling)\"\n",
       "            ></i></td>\n",
       "            <td class=\"param\">copy&nbsp;</td>\n",
       "            <td class=\"value\">True</td>\n",
       "        </tr>\n",
       "    \n",
       "\n",
       "        <tr class=\"default\">\n",
       "            <td><i class=\"copy-paste-icon\"\n",
       "                 onclick=\"copyToClipboard('with_mean',\n",
       "                          this.parentElement.nextElementSibling)\"\n",
       "            ></i></td>\n",
       "            <td class=\"param\">with_mean&nbsp;</td>\n",
       "            <td class=\"value\">True</td>\n",
       "        </tr>\n",
       "    \n",
       "\n",
       "        <tr class=\"default\">\n",
       "            <td><i class=\"copy-paste-icon\"\n",
       "                 onclick=\"copyToClipboard('with_std',\n",
       "                          this.parentElement.nextElementSibling)\"\n",
       "            ></i></td>\n",
       "            <td class=\"param\">with_std&nbsp;</td>\n",
       "            <td class=\"value\">True</td>\n",
       "        </tr>\n",
       "    \n",
       "                  </tbody>\n",
       "                </table>\n",
       "            </details>\n",
       "        </div>\n",
       "    </div></div></div></div></div></div></div></div><div class=\"sk-parallel-item\"><div class=\"sk-item\"><div class=\"sk-label-container\"><div class=\"sk-label  sk-toggleable\"><input class=\"sk-toggleable__control sk-hidden--visually\" id=\"sk-estimator-id-11\" type=\"checkbox\" ><label for=\"sk-estimator-id-11\" class=\"sk-toggleable__label  sk-toggleable__label-arrow\"><div><div>bool</div></div></label><div class=\"sk-toggleable__content \" data-param-prefix=\"bool__\"><pre>[&#x27;anaemia&#x27;, &#x27;diabetes&#x27;, &#x27;high_blood_pressure&#x27;, &#x27;sex&#x27;, &#x27;smoking&#x27;]</pre></div></div></div><div class=\"sk-serial\"><div class=\"sk-item\"><div class=\"sk-serial\"><div class=\"sk-item\"><div class=\"sk-estimator  sk-toggleable\"><input class=\"sk-toggleable__control sk-hidden--visually\" id=\"sk-estimator-id-12\" type=\"checkbox\" ><label for=\"sk-estimator-id-12\" class=\"sk-toggleable__label  sk-toggleable__label-arrow\"><div><div>SimpleImputer</div></div><div><a class=\"sk-estimator-doc-link \" rel=\"noreferrer\" target=\"_blank\" href=\"https://scikit-learn.org/1.7/modules/generated/sklearn.impute.SimpleImputer.html\">?<span>Documentation for SimpleImputer</span></a></div></label><div class=\"sk-toggleable__content \" data-param-prefix=\"bool__imputer__\">\n",
       "        <div class=\"estimator-table\">\n",
       "            <details>\n",
       "                <summary>Parameters</summary>\n",
       "                <table class=\"parameters-table\">\n",
       "                  <tbody>\n",
       "                    \n",
       "        <tr class=\"default\">\n",
       "            <td><i class=\"copy-paste-icon\"\n",
       "                 onclick=\"copyToClipboard('missing_values',\n",
       "                          this.parentElement.nextElementSibling)\"\n",
       "            ></i></td>\n",
       "            <td class=\"param\">missing_values&nbsp;</td>\n",
       "            <td class=\"value\">nan</td>\n",
       "        </tr>\n",
       "    \n",
       "\n",
       "        <tr class=\"user-set\">\n",
       "            <td><i class=\"copy-paste-icon\"\n",
       "                 onclick=\"copyToClipboard('strategy',\n",
       "                          this.parentElement.nextElementSibling)\"\n",
       "            ></i></td>\n",
       "            <td class=\"param\">strategy&nbsp;</td>\n",
       "            <td class=\"value\">&#x27;most_frequent&#x27;</td>\n",
       "        </tr>\n",
       "    \n",
       "\n",
       "        <tr class=\"default\">\n",
       "            <td><i class=\"copy-paste-icon\"\n",
       "                 onclick=\"copyToClipboard('fill_value',\n",
       "                          this.parentElement.nextElementSibling)\"\n",
       "            ></i></td>\n",
       "            <td class=\"param\">fill_value&nbsp;</td>\n",
       "            <td class=\"value\">None</td>\n",
       "        </tr>\n",
       "    \n",
       "\n",
       "        <tr class=\"default\">\n",
       "            <td><i class=\"copy-paste-icon\"\n",
       "                 onclick=\"copyToClipboard('copy',\n",
       "                          this.parentElement.nextElementSibling)\"\n",
       "            ></i></td>\n",
       "            <td class=\"param\">copy&nbsp;</td>\n",
       "            <td class=\"value\">True</td>\n",
       "        </tr>\n",
       "    \n",
       "\n",
       "        <tr class=\"default\">\n",
       "            <td><i class=\"copy-paste-icon\"\n",
       "                 onclick=\"copyToClipboard('add_indicator',\n",
       "                          this.parentElement.nextElementSibling)\"\n",
       "            ></i></td>\n",
       "            <td class=\"param\">add_indicator&nbsp;</td>\n",
       "            <td class=\"value\">False</td>\n",
       "        </tr>\n",
       "    \n",
       "\n",
       "        <tr class=\"default\">\n",
       "            <td><i class=\"copy-paste-icon\"\n",
       "                 onclick=\"copyToClipboard('keep_empty_features',\n",
       "                          this.parentElement.nextElementSibling)\"\n",
       "            ></i></td>\n",
       "            <td class=\"param\">keep_empty_features&nbsp;</td>\n",
       "            <td class=\"value\">False</td>\n",
       "        </tr>\n",
       "    \n",
       "                  </tbody>\n",
       "                </table>\n",
       "            </details>\n",
       "        </div>\n",
       "    </div></div></div><div class=\"sk-item\"><div class=\"sk-estimator  sk-toggleable\"><input class=\"sk-toggleable__control sk-hidden--visually\" id=\"sk-estimator-id-13\" type=\"checkbox\" ><label for=\"sk-estimator-id-13\" class=\"sk-toggleable__label  sk-toggleable__label-arrow\"><div><div>OneHotEncoder</div></div><div><a class=\"sk-estimator-doc-link \" rel=\"noreferrer\" target=\"_blank\" href=\"https://scikit-learn.org/1.7/modules/generated/sklearn.preprocessing.OneHotEncoder.html\">?<span>Documentation for OneHotEncoder</span></a></div></label><div class=\"sk-toggleable__content \" data-param-prefix=\"bool__encoder__\">\n",
       "        <div class=\"estimator-table\">\n",
       "            <details>\n",
       "                <summary>Parameters</summary>\n",
       "                <table class=\"parameters-table\">\n",
       "                  <tbody>\n",
       "                    \n",
       "        <tr class=\"default\">\n",
       "            <td><i class=\"copy-paste-icon\"\n",
       "                 onclick=\"copyToClipboard('categories',\n",
       "                          this.parentElement.nextElementSibling)\"\n",
       "            ></i></td>\n",
       "            <td class=\"param\">categories&nbsp;</td>\n",
       "            <td class=\"value\">&#x27;auto&#x27;</td>\n",
       "        </tr>\n",
       "    \n",
       "\n",
       "        <tr class=\"user-set\">\n",
       "            <td><i class=\"copy-paste-icon\"\n",
       "                 onclick=\"copyToClipboard('drop',\n",
       "                          this.parentElement.nextElementSibling)\"\n",
       "            ></i></td>\n",
       "            <td class=\"param\">drop&nbsp;</td>\n",
       "            <td class=\"value\">&#x27;if_binary&#x27;</td>\n",
       "        </tr>\n",
       "    \n",
       "\n",
       "        <tr class=\"default\">\n",
       "            <td><i class=\"copy-paste-icon\"\n",
       "                 onclick=\"copyToClipboard('sparse_output',\n",
       "                          this.parentElement.nextElementSibling)\"\n",
       "            ></i></td>\n",
       "            <td class=\"param\">sparse_output&nbsp;</td>\n",
       "            <td class=\"value\">True</td>\n",
       "        </tr>\n",
       "    \n",
       "\n",
       "        <tr class=\"default\">\n",
       "            <td><i class=\"copy-paste-icon\"\n",
       "                 onclick=\"copyToClipboard('dtype',\n",
       "                          this.parentElement.nextElementSibling)\"\n",
       "            ></i></td>\n",
       "            <td class=\"param\">dtype&nbsp;</td>\n",
       "            <td class=\"value\">&lt;class &#x27;numpy.float64&#x27;&gt;</td>\n",
       "        </tr>\n",
       "    \n",
       "\n",
       "        <tr class=\"default\">\n",
       "            <td><i class=\"copy-paste-icon\"\n",
       "                 onclick=\"copyToClipboard('handle_unknown',\n",
       "                          this.parentElement.nextElementSibling)\"\n",
       "            ></i></td>\n",
       "            <td class=\"param\">handle_unknown&nbsp;</td>\n",
       "            <td class=\"value\">&#x27;error&#x27;</td>\n",
       "        </tr>\n",
       "    \n",
       "\n",
       "        <tr class=\"default\">\n",
       "            <td><i class=\"copy-paste-icon\"\n",
       "                 onclick=\"copyToClipboard('min_frequency',\n",
       "                          this.parentElement.nextElementSibling)\"\n",
       "            ></i></td>\n",
       "            <td class=\"param\">min_frequency&nbsp;</td>\n",
       "            <td class=\"value\">None</td>\n",
       "        </tr>\n",
       "    \n",
       "\n",
       "        <tr class=\"default\">\n",
       "            <td><i class=\"copy-paste-icon\"\n",
       "                 onclick=\"copyToClipboard('max_categories',\n",
       "                          this.parentElement.nextElementSibling)\"\n",
       "            ></i></td>\n",
       "            <td class=\"param\">max_categories&nbsp;</td>\n",
       "            <td class=\"value\">None</td>\n",
       "        </tr>\n",
       "    \n",
       "\n",
       "        <tr class=\"default\">\n",
       "            <td><i class=\"copy-paste-icon\"\n",
       "                 onclick=\"copyToClipboard('feature_name_combiner',\n",
       "                          this.parentElement.nextElementSibling)\"\n",
       "            ></i></td>\n",
       "            <td class=\"param\">feature_name_combiner&nbsp;</td>\n",
       "            <td class=\"value\">&#x27;concat&#x27;</td>\n",
       "        </tr>\n",
       "    \n",
       "                  </tbody>\n",
       "                </table>\n",
       "            </details>\n",
       "        </div>\n",
       "    </div></div></div></div></div></div></div></div></div></div></div></div><script>function copyToClipboard(text, element) {\n",
       "    // Get the parameter prefix from the closest toggleable content\n",
       "    const toggleableContent = element.closest('.sk-toggleable__content');\n",
       "    const paramPrefix = toggleableContent ? toggleableContent.dataset.paramPrefix : '';\n",
       "    const fullParamName = paramPrefix ? `${paramPrefix}${text}` : text;\n",
       "\n",
       "    const originalStyle = element.style;\n",
       "    const computedStyle = window.getComputedStyle(element);\n",
       "    const originalWidth = computedStyle.width;\n",
       "    const originalHTML = element.innerHTML.replace('Copied!', '');\n",
       "\n",
       "    navigator.clipboard.writeText(fullParamName)\n",
       "        .then(() => {\n",
       "            element.style.width = originalWidth;\n",
       "            element.style.color = 'green';\n",
       "            element.innerHTML = \"Copied!\";\n",
       "\n",
       "            setTimeout(() => {\n",
       "                element.innerHTML = originalHTML;\n",
       "                element.style = originalStyle;\n",
       "            }, 2000);\n",
       "        })\n",
       "        .catch(err => {\n",
       "            console.error('Failed to copy:', err);\n",
       "            element.style.color = 'red';\n",
       "            element.innerHTML = \"Failed!\";\n",
       "            setTimeout(() => {\n",
       "                element.innerHTML = originalHTML;\n",
       "                element.style = originalStyle;\n",
       "            }, 2000);\n",
       "        });\n",
       "    return false;\n",
       "}\n",
       "\n",
       "document.querySelectorAll('.fa-regular.fa-copy').forEach(function(element) {\n",
       "    const toggleableContent = element.closest('.sk-toggleable__content');\n",
       "    const paramPrefix = toggleableContent ? toggleableContent.dataset.paramPrefix : '';\n",
       "    const paramName = element.parentElement.nextElementSibling.textContent.trim();\n",
       "    const fullParamName = paramPrefix ? `${paramPrefix}${paramName}` : paramName;\n",
       "\n",
       "    element.setAttribute('title', fullParamName);\n",
       "});\n",
       "</script></body>"
      ],
      "text/plain": [
       "ColumnTransformer(transformers=[('num',\n",
       "                                 Pipeline(steps=[('imputer',\n",
       "                                                  SimpleImputer(strategy='median')),\n",
       "                                                 ('scaler', StandardScaler())]),\n",
       "                                 ['age', 'creatinine_phosphokinase',\n",
       "                                  'ejection_fraction', 'platelets',\n",
       "                                  'serum_creatinine', 'serum_sodium', 'time']),\n",
       "                                ('bool',\n",
       "                                 Pipeline(steps=[('imputer',\n",
       "                                                  SimpleImputer(strategy='most_frequent')),\n",
       "                                                 ('encoder',\n",
       "                                                  OneHotEncoder(drop='if_binary'))]),\n",
       "                                 ['anaemia', 'diabetes', 'high_blood_pressure',\n",
       "                                  'sex', 'smoking'])],\n",
       "                  verbose=True)"
      ]
     },
     "metadata": {},
     "output_type": "display_data"
    }
   ],
   "source": [
    "\n",
    "# 2. Definir los features y transformadores\n",
    "numeric_features = ['age', 'creatinine_phosphokinase', 'ejection_fraction',\n",
    "                   'platelets', 'serum_creatinine', 'serum_sodium', 'time']\n",
    "\n",
    "boolean_features = ['anaemia', 'diabetes', 'high_blood_pressure', 'sex', 'smoking']\n",
    "\n",
    "# Pipeline para features numéricas con verificación\n",
    "numeric_transformer = Pipeline(steps=[\n",
    "    ('imputer', SimpleImputer(strategy='median'))\n",
    "])\n",
    "\n",
    "# Pipeline para features numéricas con verificación\n",
    "numeric_transformer_scaler = Pipeline(steps=[\n",
    "    ('imputer', SimpleImputer(strategy='median')), \n",
    "    ('scaler', StandardScaler())\n",
    "])\n",
    "\n",
    "# Pipeline para features booleanas con verificación\n",
    "boolean_transformer = Pipeline(steps=[\n",
    "    ('imputer', SimpleImputer(strategy='most_frequent')),\n",
    "     ('encoder', OneHotEncoder(drop='if_binary')) \n",
    "])\n",
    "\n",
    "# Combinar transformadores\n",
    "preprocessor_median = ColumnTransformer(\n",
    "    transformers=[\n",
    "        ('num', numeric_transformer, numeric_features),\n",
    "        ('bool', boolean_transformer, boolean_features)\n",
    "    ],\n",
    "    verbose=True \n",
    ")\n",
    "\n",
    "\n",
    "# Combinar transformadores\n",
    "preprocessor_scaled = ColumnTransformer(\n",
    "    transformers=[\n",
    "        ('num', numeric_transformer_scaler, numeric_features),\n",
    "        ('bool', boolean_transformer, boolean_features)\n",
    "    ],\n",
    "    verbose=True \n",
    ")\n",
    "\n",
    "display(preprocessor_median)\n",
    "display(preprocessor_scaled)"
   ]
  },
  {
   "cell_type": "code",
   "execution_count": 34,
   "id": "d5bf207c",
   "metadata": {},
   "outputs": [
    {
     "name": "stdout",
     "output_type": "stream",
     "text": [
      "<class 'pandas.core.frame.DataFrame'>\n",
      "Index: 1929 entries, 0 to 2298\n",
      "Data columns (total 13 columns):\n",
      " #   Column                    Non-Null Count  Dtype  \n",
      "---  ------                    --------------  -----  \n",
      " 0   age                       1773 non-null   float64\n",
      " 1   anaemia                   1929 non-null   boolean\n",
      " 2   creatinine_phosphokinase  1793 non-null   Int64  \n",
      " 3   diabetes                  1929 non-null   boolean\n",
      " 4   ejection_fraction         1860 non-null   float64\n",
      " 5   high_blood_pressure       1929 non-null   boolean\n",
      " 6   platelets                 1822 non-null   float64\n",
      " 7   serum_creatinine          1815 non-null   float64\n",
      " 8   serum_sodium              1929 non-null   int64  \n",
      " 9   sex                       1929 non-null   boolean\n",
      " 10  smoking                   1929 non-null   boolean\n",
      " 11  time                      1929 non-null   int64  \n",
      " 12  DEATH_EVENT               1929 non-null   boolean\n",
      "dtypes: Int64(1), boolean(6), float64(4), int64(2)\n",
      "memory usage: 145.1 KB\n"
     ]
    }
   ],
   "source": [
    "df.info()"
   ]
  },
  {
   "cell_type": "code",
   "execution_count": 35,
   "id": "49c46c31",
   "metadata": {},
   "outputs": [],
   "source": [
    "def resumen_clasificación(y_test, y_pred):\n",
    "    acc = accuracy_score(y_test, y_pred)\n",
    "    prec = precision_score(y_test, y_pred)\n",
    "    recall = recall_score(y_test, y_pred)\n",
    "    f1 = f1_score(y_test, y_pred)\n",
    "    roc = roc_auc_score(y_test, y_pred)\n",
    "\n",
    "    return {\"exactitud\": acc,\n",
    "            \"precision\": prec,\n",
    "            \"recall\": recall,\n",
    "            \"f1\": f1,\n",
    "            \"roc\": roc}"
   ]
  },
  {
   "cell_type": "code",
   "execution_count": 36,
   "id": "a35bd155",
   "metadata": {},
   "outputs": [
    {
     "name": "stdout",
     "output_type": "stream",
     "text": [
      "{'RandomForest': RandomForestClassifier(random_state=42), 'LogisticRegression': LogisticRegression(max_iter=1000, random_state=42)}\n",
      "----\n",
      "<class 'dict'>\n"
     ]
    },
    {
     "data": {
      "text/plain": [
       "{'RandomForest_median': Pipeline(steps=[('preprocessing',\n",
       "                  ColumnTransformer(transformers=[('num',\n",
       "                                                   Pipeline(steps=[('imputer',\n",
       "                                                                    SimpleImputer(strategy='median'))]),\n",
       "                                                   ['age',\n",
       "                                                    'creatinine_phosphokinase',\n",
       "                                                    'ejection_fraction',\n",
       "                                                    'platelets',\n",
       "                                                    'serum_creatinine',\n",
       "                                                    'serum_sodium', 'time']),\n",
       "                                                  ('bool',\n",
       "                                                   Pipeline(steps=[('imputer',\n",
       "                                                                    SimpleImputer(strategy='most_frequent')),\n",
       "                                                                   ('encoder',\n",
       "                                                                    OneHotEncoder(drop='if_binary'))]),\n",
       "                                                   ['anaemia', 'diabetes',\n",
       "                                                    'high_blood_pressure', 'sex',\n",
       "                                                    'smoking'])],\n",
       "                                    verbose=True)),\n",
       "                 ('classifier', RandomForestClassifier(random_state=42))]),\n",
       " 'RandomForest_scale': Pipeline(steps=[('preprocessing',\n",
       "                  ColumnTransformer(transformers=[('num',\n",
       "                                                   Pipeline(steps=[('imputer',\n",
       "                                                                    SimpleImputer(strategy='median')),\n",
       "                                                                   ('scaler',\n",
       "                                                                    StandardScaler())]),\n",
       "                                                   ['age',\n",
       "                                                    'creatinine_phosphokinase',\n",
       "                                                    'ejection_fraction',\n",
       "                                                    'platelets',\n",
       "                                                    'serum_creatinine',\n",
       "                                                    'serum_sodium', 'time']),\n",
       "                                                  ('bool',\n",
       "                                                   Pipeline(steps=[('imputer',\n",
       "                                                                    SimpleImputer(strategy='most_frequent')),\n",
       "                                                                   ('encoder',\n",
       "                                                                    OneHotEncoder(drop='if_binary'))]),\n",
       "                                                   ['anaemia', 'diabetes',\n",
       "                                                    'high_blood_pressure', 'sex',\n",
       "                                                    'smoking'])],\n",
       "                                    verbose=True)),\n",
       "                 ('classifier', RandomForestClassifier(random_state=42))]),\n",
       " 'LogisticRegression_median': Pipeline(steps=[('preprocessing',\n",
       "                  ColumnTransformer(transformers=[('num',\n",
       "                                                   Pipeline(steps=[('imputer',\n",
       "                                                                    SimpleImputer(strategy='median'))]),\n",
       "                                                   ['age',\n",
       "                                                    'creatinine_phosphokinase',\n",
       "                                                    'ejection_fraction',\n",
       "                                                    'platelets',\n",
       "                                                    'serum_creatinine',\n",
       "                                                    'serum_sodium', 'time']),\n",
       "                                                  ('bool',\n",
       "                                                   Pipeline(steps=[('imputer',\n",
       "                                                                    SimpleImputer(strategy='most_frequent')),\n",
       "                                                                   ('encoder',\n",
       "                                                                    OneHotEncoder(drop='if_binary'))]),\n",
       "                                                   ['anaemia', 'diabetes',\n",
       "                                                    'high_blood_pressure', 'sex',\n",
       "                                                    'smoking'])],\n",
       "                                    verbose=True)),\n",
       "                 ('classifier',\n",
       "                  LogisticRegression(max_iter=1000, random_state=42))]),\n",
       " 'LogisticRegression_scale': Pipeline(steps=[('preprocessing',\n",
       "                  ColumnTransformer(transformers=[('num',\n",
       "                                                   Pipeline(steps=[('imputer',\n",
       "                                                                    SimpleImputer(strategy='median')),\n",
       "                                                                   ('scaler',\n",
       "                                                                    StandardScaler())]),\n",
       "                                                   ['age',\n",
       "                                                    'creatinine_phosphokinase',\n",
       "                                                    'ejection_fraction',\n",
       "                                                    'platelets',\n",
       "                                                    'serum_creatinine',\n",
       "                                                    'serum_sodium', 'time']),\n",
       "                                                  ('bool',\n",
       "                                                   Pipeline(steps=[('imputer',\n",
       "                                                                    SimpleImputer(strategy='most_frequent')),\n",
       "                                                                   ('encoder',\n",
       "                                                                    OneHotEncoder(drop='if_binary'))]),\n",
       "                                                   ['anaemia', 'diabetes',\n",
       "                                                    'high_blood_pressure', 'sex',\n",
       "                                                    'smoking'])],\n",
       "                                    verbose=True)),\n",
       "                 ('classifier',\n",
       "                  LogisticRegression(max_iter=1000, random_state=42))])}"
      ]
     },
     "metadata": {},
     "output_type": "display_data"
    },
    {
     "name": "stdout",
     "output_type": "stream",
     "text": [
      "[ColumnTransformer] ........... (1 of 2) Processing num, total=   0.0s\n",
      "[ColumnTransformer] .......... (2 of 2) Processing bool, total=   0.0s\n",
      "[ColumnTransformer] ........... (1 of 2) Processing num, total=   0.0s\n",
      "[ColumnTransformer] .......... (2 of 2) Processing bool, total=   0.0s\n",
      "[ColumnTransformer] ........... (1 of 2) Processing num, total=   0.0s\n",
      "[ColumnTransformer] .......... (2 of 2) Processing bool, total=   0.0s\n",
      "[ColumnTransformer] ........... (1 of 2) Processing num, total=   0.0s\n",
      "[ColumnTransformer] .......... (2 of 2) Processing bool, total=   0.0s\n"
     ]
    }
   ],
   "source": [
    "\n",
    "# Definir los modelos a probar\n",
    "\n",
    "modelos = {\n",
    "    \"RandomForest\": RandomForestClassifier(random_state=42),\n",
    "    \"LogisticRegression\": LogisticRegression(max_iter=1000, random_state=42)\n",
    "}\n",
    "\n",
    "print(modelos)\n",
    "print(\"----\")\n",
    "print(type(modelos))\n",
    "\n",
    "\n",
    "# Crear pipelines completos para cada combinación de modelo y preprocesador\n",
    "pipelines = {} #Nótese que es un diccionario\n",
    "\n",
    "for modelo_nombre, modelo in modelos.items():\n",
    "    # Pipeline con imputación mediana (sin escalado)\n",
    "    pipelines[f\"{modelo_nombre}_median\"] = Pipeline([\n",
    "        (\"preprocessing\", preprocessor_median),\n",
    "        (\"classifier\", modelo)\n",
    "    ])\n",
    "    # Pipeline con imputación con media + escalado\n",
    "    pipelines[f\"{modelo_nombre}_scale\"] = Pipeline([\n",
    "        (\"preprocessing\", preprocessor_scaled),\n",
    "        (\"classifier\", modelo)\n",
    "    ])\n",
    "\n",
    "display(pipelines)\n",
    "\n",
    "# Entrenar y evaluar cada pipeline\n",
    "resultados = {}\n",
    "\n",
    "for nombre_pipeline, pipeline in pipelines.items():\n",
    "    pipeline.fit(X_train, y_train)\n",
    "    y_pred = pipeline.predict(X_test)\n",
    "    resultados[nombre_pipeline] = resumen_clasificación(y_test, y_pred)\n"
   ]
  },
  {
   "cell_type": "code",
   "execution_count": 37,
   "id": "f208524e",
   "metadata": {},
   "outputs": [
    {
     "data": {
      "application/vnd.microsoft.datawrangler.viewer.v0+json": {
       "columns": [
        {
         "name": "index",
         "rawType": "object",
         "type": "string"
        },
        {
         "name": "exactitud",
         "rawType": "float64",
         "type": "float"
        },
        {
         "name": "precision",
         "rawType": "float64",
         "type": "float"
        },
        {
         "name": "recall",
         "rawType": "float64",
         "type": "float"
        },
        {
         "name": "f1",
         "rawType": "float64",
         "type": "float"
        },
        {
         "name": "roc",
         "rawType": "float64",
         "type": "float"
        }
       ],
       "ref": "fb6970f7-426d-4833-9323-b782265a5e64",
       "rows": [
        [
         "LogisticRegression_scale",
         "0.7953367875647669",
         "0.7441860465116279",
         "0.5289256198347108",
         "0.6183574879227053",
         "0.7229533759550912"
        ],
        [
         "LogisticRegression_median",
         "0.7953367875647669",
         "0.75",
         "0.5206611570247934",
         "0.6146341463414634",
         "0.7207079370029628"
        ],
        [
         "RandomForest_median",
         "0.7512953367875648",
         "0.6373626373626373",
         "0.4793388429752066",
         "0.5471698113207547",
         "0.6774052705442072"
        ],
        [
         "RandomForest_scale",
         "0.7461139896373057",
         "0.6263736263736264",
         "0.47107438016528924",
         "0.5377358490566038",
         "0.6713862466864182"
        ]
       ],
       "shape": {
        "columns": 5,
        "rows": 4
       }
      },
      "text/html": [
       "<div>\n",
       "<style scoped>\n",
       "    .dataframe tbody tr th:only-of-type {\n",
       "        vertical-align: middle;\n",
       "    }\n",
       "\n",
       "    .dataframe tbody tr th {\n",
       "        vertical-align: top;\n",
       "    }\n",
       "\n",
       "    .dataframe thead th {\n",
       "        text-align: right;\n",
       "    }\n",
       "</style>\n",
       "<table border=\"1\" class=\"dataframe\">\n",
       "  <thead>\n",
       "    <tr style=\"text-align: right;\">\n",
       "      <th></th>\n",
       "      <th>exactitud</th>\n",
       "      <th>precision</th>\n",
       "      <th>recall</th>\n",
       "      <th>f1</th>\n",
       "      <th>roc</th>\n",
       "    </tr>\n",
       "  </thead>\n",
       "  <tbody>\n",
       "    <tr>\n",
       "      <th>LogisticRegression_scale</th>\n",
       "      <td>0.795337</td>\n",
       "      <td>0.744186</td>\n",
       "      <td>0.528926</td>\n",
       "      <td>0.618357</td>\n",
       "      <td>0.722953</td>\n",
       "    </tr>\n",
       "    <tr>\n",
       "      <th>LogisticRegression_median</th>\n",
       "      <td>0.795337</td>\n",
       "      <td>0.750000</td>\n",
       "      <td>0.520661</td>\n",
       "      <td>0.614634</td>\n",
       "      <td>0.720708</td>\n",
       "    </tr>\n",
       "    <tr>\n",
       "      <th>RandomForest_median</th>\n",
       "      <td>0.751295</td>\n",
       "      <td>0.637363</td>\n",
       "      <td>0.479339</td>\n",
       "      <td>0.547170</td>\n",
       "      <td>0.677405</td>\n",
       "    </tr>\n",
       "    <tr>\n",
       "      <th>RandomForest_scale</th>\n",
       "      <td>0.746114</td>\n",
       "      <td>0.626374</td>\n",
       "      <td>0.471074</td>\n",
       "      <td>0.537736</td>\n",
       "      <td>0.671386</td>\n",
       "    </tr>\n",
       "  </tbody>\n",
       "</table>\n",
       "</div>"
      ],
      "text/plain": [
       "                           exactitud  precision    recall        f1       roc\n",
       "LogisticRegression_scale    0.795337   0.744186  0.528926  0.618357  0.722953\n",
       "LogisticRegression_median   0.795337   0.750000  0.520661  0.614634  0.720708\n",
       "RandomForest_median         0.751295   0.637363  0.479339  0.547170  0.677405\n",
       "RandomForest_scale          0.746114   0.626374  0.471074  0.537736  0.671386"
      ]
     },
     "execution_count": 37,
     "metadata": {},
     "output_type": "execute_result"
    }
   ],
   "source": [
    "# 1. Convertir el diccionario 'resultados' en un DataFrame\n",
    "df_resultados = pd.DataFrame(resultados).T\n",
    "\n",
    "# 2. Ordenar por la columna 'exactitud' de manera descendente\n",
    "df_resultados_sorted = df_resultados.sort_values(by=\"exactitud\", ascending=False)\n",
    "\n",
    "# 3. Visualizar el DataFrame resultante\n",
    "df_resultados_sorted"
   ]
  },
  {
   "cell_type": "code",
   "execution_count": 38,
   "id": "1edb330a",
   "metadata": {},
   "outputs": [
    {
     "data": {
      "text/plain": [
       "{'RandomForest_median': Pipeline(steps=[('preprocessing',\n",
       "                  ColumnTransformer(transformers=[('num',\n",
       "                                                   Pipeline(steps=[('imputer',\n",
       "                                                                    SimpleImputer(strategy='median'))]),\n",
       "                                                   ['age',\n",
       "                                                    'creatinine_phosphokinase',\n",
       "                                                    'ejection_fraction',\n",
       "                                                    'platelets',\n",
       "                                                    'serum_creatinine',\n",
       "                                                    'serum_sodium', 'time']),\n",
       "                                                  ('bool',\n",
       "                                                   Pipeline(steps=[('imputer',\n",
       "                                                                    SimpleImputer(strategy='most_frequent')),\n",
       "                                                                   ('encoder',\n",
       "                                                                    OneHotEncoder(drop='if_binary'))]),\n",
       "                                                   ['anaemia', 'diabetes',\n",
       "                                                    'high_blood_pressure', 'sex',\n",
       "                                                    'smoking'])],\n",
       "                                    verbose=True)),\n",
       "                 ('classifier', RandomForestClassifier(random_state=42))]),\n",
       " 'RandomForest_scale': Pipeline(steps=[('preprocessing',\n",
       "                  ColumnTransformer(transformers=[('num',\n",
       "                                                   Pipeline(steps=[('imputer',\n",
       "                                                                    SimpleImputer(strategy='median')),\n",
       "                                                                   ('scaler',\n",
       "                                                                    StandardScaler())]),\n",
       "                                                   ['age',\n",
       "                                                    'creatinine_phosphokinase',\n",
       "                                                    'ejection_fraction',\n",
       "                                                    'platelets',\n",
       "                                                    'serum_creatinine',\n",
       "                                                    'serum_sodium', 'time']),\n",
       "                                                  ('bool',\n",
       "                                                   Pipeline(steps=[('imputer',\n",
       "                                                                    SimpleImputer(strategy='most_frequent')),\n",
       "                                                                   ('encoder',\n",
       "                                                                    OneHotEncoder(drop='if_binary'))]),\n",
       "                                                   ['anaemia', 'diabetes',\n",
       "                                                    'high_blood_pressure', 'sex',\n",
       "                                                    'smoking'])],\n",
       "                                    verbose=True)),\n",
       "                 ('classifier', RandomForestClassifier(random_state=42))]),\n",
       " 'LogisticRegression_median': Pipeline(steps=[('preprocessing',\n",
       "                  ColumnTransformer(transformers=[('num',\n",
       "                                                   Pipeline(steps=[('imputer',\n",
       "                                                                    SimpleImputer(strategy='median'))]),\n",
       "                                                   ['age',\n",
       "                                                    'creatinine_phosphokinase',\n",
       "                                                    'ejection_fraction',\n",
       "                                                    'platelets',\n",
       "                                                    'serum_creatinine',\n",
       "                                                    'serum_sodium', 'time']),\n",
       "                                                  ('bool',\n",
       "                                                   Pipeline(steps=[('imputer',\n",
       "                                                                    SimpleImputer(strategy='most_frequent')),\n",
       "                                                                   ('encoder',\n",
       "                                                                    OneHotEncoder(drop='if_binary'))]),\n",
       "                                                   ['anaemia', 'diabetes',\n",
       "                                                    'high_blood_pressure', 'sex',\n",
       "                                                    'smoking'])],\n",
       "                                    verbose=True)),\n",
       "                 ('classifier',\n",
       "                  LogisticRegression(max_iter=1000, random_state=42))]),\n",
       " 'LogisticRegression_scale': Pipeline(steps=[('preprocessing',\n",
       "                  ColumnTransformer(transformers=[('num',\n",
       "                                                   Pipeline(steps=[('imputer',\n",
       "                                                                    SimpleImputer(strategy='median')),\n",
       "                                                                   ('scaler',\n",
       "                                                                    StandardScaler())]),\n",
       "                                                   ['age',\n",
       "                                                    'creatinine_phosphokinase',\n",
       "                                                    'ejection_fraction',\n",
       "                                                    'platelets',\n",
       "                                                    'serum_creatinine',\n",
       "                                                    'serum_sodium', 'time']),\n",
       "                                                  ('bool',\n",
       "                                                   Pipeline(steps=[('imputer',\n",
       "                                                                    SimpleImputer(strategy='most_frequent')),\n",
       "                                                                   ('encoder',\n",
       "                                                                    OneHotEncoder(drop='if_binary'))]),\n",
       "                                                   ['anaemia', 'diabetes',\n",
       "                                                    'high_blood_pressure', 'sex',\n",
       "                                                    'smoking'])],\n",
       "                                    verbose=True)),\n",
       "                 ('classifier',\n",
       "                  LogisticRegression(max_iter=1000, random_state=42))])}"
      ]
     },
     "execution_count": 38,
     "metadata": {},
     "output_type": "execute_result"
    }
   ],
   "source": [
    "# DataFrame para guardar los resultados de cada fold\n",
    "df_cv_results = pd.DataFrame(columns=[\"pipeline\", \"fold\", \"accuracy\"])\n",
    "\n",
    "# Número de folds\n",
    "cv_folds = 5\n",
    "\n",
    "pipelines"
   ]
  },
  {
   "cell_type": "code",
   "execution_count": 39,
   "id": "736aae39",
   "metadata": {},
   "outputs": [
    {
     "name": "stdout",
     "output_type": "stream",
     "text": [
      "[ColumnTransformer] ........... (1 of 2) Processing num, total=   0.0s\n",
      "[ColumnTransformer] .......... (2 of 2) Processing bool, total=   0.0s\n",
      "[ColumnTransformer] ........... (1 of 2) Processing num, total=   0.0s\n",
      "[ColumnTransformer] .......... (2 of 2) Processing bool, total=   0.0s\n",
      "[ColumnTransformer] ........... (1 of 2) Processing num, total=   0.0s\n",
      "[ColumnTransformer] .......... (2 of 2) Processing bool, total=   0.0s\n",
      "[ColumnTransformer] ........... (1 of 2) Processing num, total=   0.0s\n",
      "[ColumnTransformer] .......... (2 of 2) Processing bool, total=   0.0s\n",
      "[ColumnTransformer] ........... (1 of 2) Processing num, total=   0.0s\n",
      "[ColumnTransformer] .......... (2 of 2) Processing bool, total=   0.0s\n"
     ]
    },
    {
     "name": "stderr",
     "output_type": "stream",
     "text": [
      "C:\\Users\\c_cam\\AppData\\Local\\Temp\\ipykernel_3608\\2089431394.py:13: FutureWarning: The behavior of DataFrame concatenation with empty or all-NA entries is deprecated. In a future version, this will no longer exclude empty or all-NA columns when determining the result dtypes. To retain the old behavior, exclude the relevant entries before the concat operation.\n",
      "  df_cv_results = pd.concat([df_cv_results, temp_df], ignore_index=True)\n"
     ]
    },
    {
     "name": "stdout",
     "output_type": "stream",
     "text": [
      "[ColumnTransformer] ........... (1 of 2) Processing num, total=   0.0s\n",
      "[ColumnTransformer] .......... (2 of 2) Processing bool, total=   0.0s\n",
      "[ColumnTransformer] ........... (1 of 2) Processing num, total=   0.0s\n",
      "[ColumnTransformer] .......... (2 of 2) Processing bool, total=   0.0s\n",
      "[ColumnTransformer] ........... (1 of 2) Processing num, total=   0.0s\n",
      "[ColumnTransformer] .......... (2 of 2) Processing bool, total=   0.0s\n",
      "[ColumnTransformer] ........... (1 of 2) Processing num, total=   0.0s\n",
      "[ColumnTransformer] .......... (2 of 2) Processing bool, total=   0.0s\n",
      "[ColumnTransformer] ........... (1 of 2) Processing num, total=   0.0s\n",
      "[ColumnTransformer] .......... (2 of 2) Processing bool, total=   0.0s\n",
      "[ColumnTransformer] ........... (1 of 2) Processing num, total=   0.0s\n",
      "[ColumnTransformer] .......... (2 of 2) Processing bool, total=   0.0s\n",
      "[ColumnTransformer] ........... (1 of 2) Processing num, total=   0.0s\n",
      "[ColumnTransformer] .......... (2 of 2) Processing bool, total=   0.0s\n",
      "[ColumnTransformer] ........... (1 of 2) Processing num, total=   0.0s\n",
      "[ColumnTransformer] .......... (2 of 2) Processing bool, total=   0.0s\n"
     ]
    },
    {
     "name": "stderr",
     "output_type": "stream",
     "text": [
      "c:\\Users\\c_cam\\Downloads\\ProyectoCienciaDatos\\.venv\\Lib\\site-packages\\sklearn\\linear_model\\_logistic.py:473: ConvergenceWarning: lbfgs failed to converge after 1000 iteration(s) (status=1):\n",
      "STOP: TOTAL NO. OF ITERATIONS REACHED LIMIT\n",
      "\n",
      "Increase the number of iterations to improve the convergence (max_iter=1000).\n",
      "You might also want to scale the data as shown in:\n",
      "    https://scikit-learn.org/stable/modules/preprocessing.html\n",
      "Please also refer to the documentation for alternative solver options:\n",
      "    https://scikit-learn.org/stable/modules/linear_model.html#logistic-regression\n",
      "  n_iter_i = _check_optimize_result(\n"
     ]
    },
    {
     "name": "stdout",
     "output_type": "stream",
     "text": [
      "[ColumnTransformer] ........... (1 of 2) Processing num, total=   0.0s\n",
      "[ColumnTransformer] .......... (2 of 2) Processing bool, total=   0.0s\n",
      "[ColumnTransformer] ........... (1 of 2) Processing num, total=   0.0s\n",
      "[ColumnTransformer] .......... (2 of 2) Processing bool, total=   0.0s\n",
      "[ColumnTransformer] ........... (1 of 2) Processing num, total=   0.0s\n",
      "[ColumnTransformer] .......... (2 of 2) Processing bool, total=   0.0s\n",
      "[ColumnTransformer] ........... (1 of 2) Processing num, total=   0.0s\n",
      "[ColumnTransformer] .......... (2 of 2) Processing bool, total=   0.0s\n",
      "[ColumnTransformer] ........... (1 of 2) Processing num, total=   0.0s\n",
      "[ColumnTransformer] .......... (2 of 2) Processing bool, total=   0.0s\n",
      "[ColumnTransformer] ........... (1 of 2) Processing num, total=   0.0s\n",
      "[ColumnTransformer] .......... (2 of 2) Processing bool, total=   0.0s\n",
      "[ColumnTransformer] ........... (1 of 2) Processing num, total=   0.0s\n",
      "[ColumnTransformer] .......... (2 of 2) Processing bool, total=   0.0s\n"
     ]
    }
   ],
   "source": [
    "for pipeline_name, pipeline_obj in pipelines.items():\n",
    "    # cross_val_score entrena y evalúa en 5 folds, devolviendo un array con 5 valores de accuracy\n",
    "    scores = cross_val_score(pipeline_obj, X_train, y_train, cv=cv_folds, scoring=\"accuracy\")\n",
    "\n",
    "    # Crear un DataFrame temporal con la información de cada fold\n",
    "    temp_df = pd.DataFrame({\n",
    "        \"pipeline\": [pipeline_name]*cv_folds,\n",
    "        \"fold\": list(range(1, cv_folds+1)),\n",
    "        \"accuracy\": scores\n",
    "    })\n",
    "\n",
    "    # Concatenar al DataFrame global\n",
    "    df_cv_results = pd.concat([df_cv_results, temp_df], ignore_index=True)"
   ]
  },
  {
   "cell_type": "code",
   "execution_count": 40,
   "id": "fa17b866",
   "metadata": {},
   "outputs": [
    {
     "data": {
      "application/vnd.microsoft.datawrangler.viewer.v0+json": {
       "columns": [
        {
         "name": "index",
         "rawType": "int64",
         "type": "integer"
        },
        {
         "name": "pipeline",
         "rawType": "object",
         "type": "string"
        },
        {
         "name": "fold",
         "rawType": "object",
         "type": "unknown"
        },
        {
         "name": "accuracy",
         "rawType": "float64",
         "type": "float"
        }
       ],
       "ref": "4f9c3374-c293-48e5-bf7d-72e8c65f0de5",
       "rows": [
        [
         "0",
         "RandomForest_median",
         "1",
         "0.7508090614886731"
        ],
        [
         "1",
         "RandomForest_median",
         "2",
         "0.7572815533980582"
        ],
        [
         "2",
         "RandomForest_median",
         "3",
         "0.7864077669902912"
        ],
        [
         "3",
         "RandomForest_median",
         "4",
         "0.7922077922077922"
        ],
        [
         "4",
         "RandomForest_median",
         "5",
         "0.7954545454545454"
        ],
        [
         "5",
         "RandomForest_scale",
         "1",
         "0.7572815533980582"
        ],
        [
         "6",
         "RandomForest_scale",
         "2",
         "0.7572815533980582"
        ],
        [
         "7",
         "RandomForest_scale",
         "3",
         "0.7864077669902912"
        ],
        [
         "8",
         "RandomForest_scale",
         "4",
         "0.7954545454545454"
        ],
        [
         "9",
         "RandomForest_scale",
         "5",
         "0.7987012987012987"
        ],
        [
         "10",
         "LogisticRegression_median",
         "1",
         "0.7799352750809061"
        ],
        [
         "11",
         "LogisticRegression_median",
         "2",
         "0.7540453074433657"
        ],
        [
         "12",
         "LogisticRegression_median",
         "3",
         "0.7443365695792881"
        ],
        [
         "13",
         "LogisticRegression_median",
         "4",
         "0.7792207792207793"
        ],
        [
         "14",
         "LogisticRegression_median",
         "5",
         "0.7532467532467533"
        ],
        [
         "15",
         "LogisticRegression_scale",
         "1",
         "0.7831715210355987"
        ],
        [
         "16",
         "LogisticRegression_scale",
         "2",
         "0.7475728155339806"
        ],
        [
         "17",
         "LogisticRegression_scale",
         "3",
         "0.7443365695792881"
        ],
        [
         "18",
         "LogisticRegression_scale",
         "4",
         "0.788961038961039"
        ],
        [
         "19",
         "LogisticRegression_scale",
         "5",
         "0.7532467532467533"
        ]
       ],
       "shape": {
        "columns": 3,
        "rows": 20
       }
      },
      "text/html": [
       "<div>\n",
       "<style scoped>\n",
       "    .dataframe tbody tr th:only-of-type {\n",
       "        vertical-align: middle;\n",
       "    }\n",
       "\n",
       "    .dataframe tbody tr th {\n",
       "        vertical-align: top;\n",
       "    }\n",
       "\n",
       "    .dataframe thead th {\n",
       "        text-align: right;\n",
       "    }\n",
       "</style>\n",
       "<table border=\"1\" class=\"dataframe\">\n",
       "  <thead>\n",
       "    <tr style=\"text-align: right;\">\n",
       "      <th></th>\n",
       "      <th>pipeline</th>\n",
       "      <th>fold</th>\n",
       "      <th>accuracy</th>\n",
       "    </tr>\n",
       "  </thead>\n",
       "  <tbody>\n",
       "    <tr>\n",
       "      <th>0</th>\n",
       "      <td>RandomForest_median</td>\n",
       "      <td>1</td>\n",
       "      <td>0.750809</td>\n",
       "    </tr>\n",
       "    <tr>\n",
       "      <th>1</th>\n",
       "      <td>RandomForest_median</td>\n",
       "      <td>2</td>\n",
       "      <td>0.757282</td>\n",
       "    </tr>\n",
       "    <tr>\n",
       "      <th>2</th>\n",
       "      <td>RandomForest_median</td>\n",
       "      <td>3</td>\n",
       "      <td>0.786408</td>\n",
       "    </tr>\n",
       "    <tr>\n",
       "      <th>3</th>\n",
       "      <td>RandomForest_median</td>\n",
       "      <td>4</td>\n",
       "      <td>0.792208</td>\n",
       "    </tr>\n",
       "    <tr>\n",
       "      <th>4</th>\n",
       "      <td>RandomForest_median</td>\n",
       "      <td>5</td>\n",
       "      <td>0.795455</td>\n",
       "    </tr>\n",
       "    <tr>\n",
       "      <th>5</th>\n",
       "      <td>RandomForest_scale</td>\n",
       "      <td>1</td>\n",
       "      <td>0.757282</td>\n",
       "    </tr>\n",
       "    <tr>\n",
       "      <th>6</th>\n",
       "      <td>RandomForest_scale</td>\n",
       "      <td>2</td>\n",
       "      <td>0.757282</td>\n",
       "    </tr>\n",
       "    <tr>\n",
       "      <th>7</th>\n",
       "      <td>RandomForest_scale</td>\n",
       "      <td>3</td>\n",
       "      <td>0.786408</td>\n",
       "    </tr>\n",
       "    <tr>\n",
       "      <th>8</th>\n",
       "      <td>RandomForest_scale</td>\n",
       "      <td>4</td>\n",
       "      <td>0.795455</td>\n",
       "    </tr>\n",
       "    <tr>\n",
       "      <th>9</th>\n",
       "      <td>RandomForest_scale</td>\n",
       "      <td>5</td>\n",
       "      <td>0.798701</td>\n",
       "    </tr>\n",
       "    <tr>\n",
       "      <th>10</th>\n",
       "      <td>LogisticRegression_median</td>\n",
       "      <td>1</td>\n",
       "      <td>0.779935</td>\n",
       "    </tr>\n",
       "    <tr>\n",
       "      <th>11</th>\n",
       "      <td>LogisticRegression_median</td>\n",
       "      <td>2</td>\n",
       "      <td>0.754045</td>\n",
       "    </tr>\n",
       "    <tr>\n",
       "      <th>12</th>\n",
       "      <td>LogisticRegression_median</td>\n",
       "      <td>3</td>\n",
       "      <td>0.744337</td>\n",
       "    </tr>\n",
       "    <tr>\n",
       "      <th>13</th>\n",
       "      <td>LogisticRegression_median</td>\n",
       "      <td>4</td>\n",
       "      <td>0.779221</td>\n",
       "    </tr>\n",
       "    <tr>\n",
       "      <th>14</th>\n",
       "      <td>LogisticRegression_median</td>\n",
       "      <td>5</td>\n",
       "      <td>0.753247</td>\n",
       "    </tr>\n",
       "    <tr>\n",
       "      <th>15</th>\n",
       "      <td>LogisticRegression_scale</td>\n",
       "      <td>1</td>\n",
       "      <td>0.783172</td>\n",
       "    </tr>\n",
       "    <tr>\n",
       "      <th>16</th>\n",
       "      <td>LogisticRegression_scale</td>\n",
       "      <td>2</td>\n",
       "      <td>0.747573</td>\n",
       "    </tr>\n",
       "    <tr>\n",
       "      <th>17</th>\n",
       "      <td>LogisticRegression_scale</td>\n",
       "      <td>3</td>\n",
       "      <td>0.744337</td>\n",
       "    </tr>\n",
       "    <tr>\n",
       "      <th>18</th>\n",
       "      <td>LogisticRegression_scale</td>\n",
       "      <td>4</td>\n",
       "      <td>0.788961</td>\n",
       "    </tr>\n",
       "    <tr>\n",
       "      <th>19</th>\n",
       "      <td>LogisticRegression_scale</td>\n",
       "      <td>5</td>\n",
       "      <td>0.753247</td>\n",
       "    </tr>\n",
       "  </tbody>\n",
       "</table>\n",
       "</div>"
      ],
      "text/plain": [
       "                     pipeline fold  accuracy\n",
       "0         RandomForest_median    1  0.750809\n",
       "1         RandomForest_median    2  0.757282\n",
       "2         RandomForest_median    3  0.786408\n",
       "3         RandomForest_median    4  0.792208\n",
       "4         RandomForest_median    5  0.795455\n",
       "5          RandomForest_scale    1  0.757282\n",
       "6          RandomForest_scale    2  0.757282\n",
       "7          RandomForest_scale    3  0.786408\n",
       "8          RandomForest_scale    4  0.795455\n",
       "9          RandomForest_scale    5  0.798701\n",
       "10  LogisticRegression_median    1  0.779935\n",
       "11  LogisticRegression_median    2  0.754045\n",
       "12  LogisticRegression_median    3  0.744337\n",
       "13  LogisticRegression_median    4  0.779221\n",
       "14  LogisticRegression_median    5  0.753247\n",
       "15   LogisticRegression_scale    1  0.783172\n",
       "16   LogisticRegression_scale    2  0.747573\n",
       "17   LogisticRegression_scale    3  0.744337\n",
       "18   LogisticRegression_scale    4  0.788961\n",
       "19   LogisticRegression_scale    5  0.753247"
      ]
     },
     "execution_count": 40,
     "metadata": {},
     "output_type": "execute_result"
    }
   ],
   "source": [
    "# Observa los resultados\n",
    "df_cv_results.head(20)"
   ]
  },
  {
   "cell_type": "markdown",
   "id": "b2e994ad",
   "metadata": {},
   "source": [
    "### Después de la revisión se encuentra que en general, la regresión logistica da un resultado similar, pero el modelo con la imputación por mediana tiene un resultado un poco mejor"
   ]
  },
  {
   "cell_type": "code",
   "execution_count": 41,
   "id": "6844a638",
   "metadata": {},
   "outputs": [
    {
     "name": "stdout",
     "output_type": "stream",
     "text": [
      "[ColumnTransformer] ........... (1 of 2) Processing num, total=   0.0s\n",
      "[ColumnTransformer] .......... (2 of 2) Processing bool, total=   0.0s\n",
      "Mejores parámetros: {'classifier__max_depth': None, 'classifier__min_samples_split': 10, 'classifier__n_estimators': 50}\n",
      "Mejor accuracy (CV): 0.7958664313033246\n"
     ]
    }
   ],
   "source": [
    "# Creamos el pipeline que integra el preprocesador (preprocessor_median) y el clasificador\n",
    "pipeline_rf_median = Pipeline([\n",
    "    (\"preprocessing\", preprocessor_median),\n",
    "    (\"classifier\", RandomForestClassifier(random_state=42))\n",
    "])\n",
    "# Definimos el grid de hiperparámetros a explorar\n",
    "param_grid = {\n",
    "    \"classifier__n_estimators\": [50, 100, 200],    # Número de árboles\n",
    "    \"classifier__max_depth\": [None, 5, 10],          # Profundidad máxima del árbol (None para sin límite)\n",
    "    \"classifier__min_samples_split\": [2, 5, 10]      # Número mínimo de muestras para dividir un nodo\n",
    "}\n",
    "# Configuramos GridSearchCV para evaluar con 5 folds y usando la métrica \"accuracy\"\n",
    "grid_search = GridSearchCV(\n",
    "    pipeline_rf_median,\n",
    "    param_grid,\n",
    "    cv=5,\n",
    "    scoring=\"accuracy\",\n",
    "    n_jobs=-1  # Utiliza todos los cores disponibles\n",
    ")\n",
    "# Ejecutamos el grid search usando los datos de entrenamiento\n",
    "grid_search.fit(X_train, y_train)\n",
    "\n",
    "# Mostramos los mejores parámetros y el mejor accuracy obtenido en validación cruzada\n",
    "print(\"Mejores parámetros:\", grid_search.best_params_)\n",
    "print(\"Mejor accuracy (CV):\", grid_search.best_score_)"
   ]
  },
  {
   "cell_type": "code",
   "execution_count": 42,
   "id": "609e33b0",
   "metadata": {},
   "outputs": [
    {
     "name": "stdout",
     "output_type": "stream",
     "text": [
      "Fitting 5 folds for each of 108 candidates, totalling 540 fits\n"
     ]
    },
    {
     "name": "stderr",
     "output_type": "stream",
     "text": [
      "c:\\Users\\c_cam\\Downloads\\ProyectoCienciaDatos\\.venv\\Lib\\site-packages\\sklearn\\model_selection\\_validation.py:516: FitFailedWarning: \n",
      "270 fits failed out of a total of 540.\n",
      "The score on these train-test partitions for these parameters will be set to nan.\n",
      "If these failures are not expected, you can try to debug them by setting error_score='raise'.\n",
      "\n",
      "Below are more details about the failures:\n",
      "--------------------------------------------------------------------------------\n",
      "59 fits failed with the following error:\n",
      "Traceback (most recent call last):\n",
      "  File \"c:\\Users\\c_cam\\Downloads\\ProyectoCienciaDatos\\.venv\\Lib\\site-packages\\sklearn\\model_selection\\_validation.py\", line 859, in _fit_and_score\n",
      "    estimator.fit(X_train, y_train, **fit_params)\n",
      "    ~~~~~~~~~~~~~^^^^^^^^^^^^^^^^^^^^^^^^^^^^^^^^\n",
      "  File \"c:\\Users\\c_cam\\Downloads\\ProyectoCienciaDatos\\.venv\\Lib\\site-packages\\sklearn\\base.py\", line 1365, in wrapper\n",
      "    return fit_method(estimator, *args, **kwargs)\n",
      "  File \"c:\\Users\\c_cam\\Downloads\\ProyectoCienciaDatos\\.venv\\Lib\\site-packages\\sklearn\\pipeline.py\", line 663, in fit\n",
      "    self._final_estimator.fit(Xt, y, **last_step_params[\"fit\"])\n",
      "    ~~~~~~~~~~~~~~~~~~~~~~~~~^^^^^^^^^^^^^^^^^^^^^^^^^^^^^^^^^^\n",
      "  File \"c:\\Users\\c_cam\\Downloads\\ProyectoCienciaDatos\\.venv\\Lib\\site-packages\\sklearn\\base.py\", line 1358, in wrapper\n",
      "    estimator._validate_params()\n",
      "    ~~~~~~~~~~~~~~~~~~~~~~~~~~^^\n",
      "  File \"c:\\Users\\c_cam\\Downloads\\ProyectoCienciaDatos\\.venv\\Lib\\site-packages\\sklearn\\base.py\", line 471, in _validate_params\n",
      "    validate_parameter_constraints(\n",
      "    ~~~~~~~~~~~~~~~~~~~~~~~~~~~~~~^\n",
      "        self._parameter_constraints,\n",
      "        ^^^^^^^^^^^^^^^^^^^^^^^^^^^^\n",
      "        self.get_params(deep=False),\n",
      "        ^^^^^^^^^^^^^^^^^^^^^^^^^^^^\n",
      "        caller_name=self.__class__.__name__,\n",
      "        ^^^^^^^^^^^^^^^^^^^^^^^^^^^^^^^^^^^^\n",
      "    )\n",
      "    ^\n",
      "  File \"c:\\Users\\c_cam\\Downloads\\ProyectoCienciaDatos\\.venv\\Lib\\site-packages\\sklearn\\utils\\_param_validation.py\", line 98, in validate_parameter_constraints\n",
      "    raise InvalidParameterError(\n",
      "    ...<2 lines>...\n",
      "    )\n",
      "sklearn.utils._param_validation.InvalidParameterError: The 'penalty' parameter of LogisticRegression must be a str among {'l1', 'l2', 'elasticnet'} or None. Got 'none' instead.\n",
      "\n",
      "--------------------------------------------------------------------------------\n",
      "99 fits failed with the following error:\n",
      "Traceback (most recent call last):\n",
      "  File \"c:\\Users\\c_cam\\Downloads\\ProyectoCienciaDatos\\.venv\\Lib\\site-packages\\sklearn\\model_selection\\_validation.py\", line 859, in _fit_and_score\n",
      "    estimator.fit(X_train, y_train, **fit_params)\n",
      "    ~~~~~~~~~~~~~^^^^^^^^^^^^^^^^^^^^^^^^^^^^^^^^\n",
      "  File \"c:\\Users\\c_cam\\Downloads\\ProyectoCienciaDatos\\.venv\\Lib\\site-packages\\sklearn\\base.py\", line 1365, in wrapper\n",
      "    return fit_method(estimator, *args, **kwargs)\n",
      "  File \"c:\\Users\\c_cam\\Downloads\\ProyectoCienciaDatos\\.venv\\Lib\\site-packages\\sklearn\\pipeline.py\", line 663, in fit\n",
      "    self._final_estimator.fit(Xt, y, **last_step_params[\"fit\"])\n",
      "    ~~~~~~~~~~~~~~~~~~~~~~~~~^^^^^^^^^^^^^^^^^^^^^^^^^^^^^^^^^^\n",
      "  File \"c:\\Users\\c_cam\\Downloads\\ProyectoCienciaDatos\\.venv\\Lib\\site-packages\\sklearn\\base.py\", line 1358, in wrapper\n",
      "    estimator._validate_params()\n",
      "    ~~~~~~~~~~~~~~~~~~~~~~~~~~^^\n",
      "  File \"c:\\Users\\c_cam\\Downloads\\ProyectoCienciaDatos\\.venv\\Lib\\site-packages\\sklearn\\base.py\", line 471, in _validate_params\n",
      "    validate_parameter_constraints(\n",
      "    ~~~~~~~~~~~~~~~~~~~~~~~~~~~~~~^\n",
      "        self._parameter_constraints,\n",
      "        ^^^^^^^^^^^^^^^^^^^^^^^^^^^^\n",
      "        self.get_params(deep=False),\n",
      "        ^^^^^^^^^^^^^^^^^^^^^^^^^^^^\n",
      "        caller_name=self.__class__.__name__,\n",
      "        ^^^^^^^^^^^^^^^^^^^^^^^^^^^^^^^^^^^^\n",
      "    )\n",
      "    ^\n",
      "  File \"c:\\Users\\c_cam\\Downloads\\ProyectoCienciaDatos\\.venv\\Lib\\site-packages\\sklearn\\utils\\_param_validation.py\", line 98, in validate_parameter_constraints\n",
      "    raise InvalidParameterError(\n",
      "    ...<2 lines>...\n",
      "    )\n",
      "sklearn.utils._param_validation.InvalidParameterError: The 'penalty' parameter of LogisticRegression must be a str among {'elasticnet', 'l1', 'l2'} or None. Got 'none' instead.\n",
      "\n",
      "--------------------------------------------------------------------------------\n",
      "31 fits failed with the following error:\n",
      "Traceback (most recent call last):\n",
      "  File \"c:\\Users\\c_cam\\Downloads\\ProyectoCienciaDatos\\.venv\\Lib\\site-packages\\sklearn\\model_selection\\_validation.py\", line 859, in _fit_and_score\n",
      "    estimator.fit(X_train, y_train, **fit_params)\n",
      "    ~~~~~~~~~~~~~^^^^^^^^^^^^^^^^^^^^^^^^^^^^^^^^\n",
      "  File \"c:\\Users\\c_cam\\Downloads\\ProyectoCienciaDatos\\.venv\\Lib\\site-packages\\sklearn\\base.py\", line 1365, in wrapper\n",
      "    return fit_method(estimator, *args, **kwargs)\n",
      "  File \"c:\\Users\\c_cam\\Downloads\\ProyectoCienciaDatos\\.venv\\Lib\\site-packages\\sklearn\\pipeline.py\", line 663, in fit\n",
      "    self._final_estimator.fit(Xt, y, **last_step_params[\"fit\"])\n",
      "    ~~~~~~~~~~~~~~~~~~~~~~~~~^^^^^^^^^^^^^^^^^^^^^^^^^^^^^^^^^^\n",
      "  File \"c:\\Users\\c_cam\\Downloads\\ProyectoCienciaDatos\\.venv\\Lib\\site-packages\\sklearn\\base.py\", line 1358, in wrapper\n",
      "    estimator._validate_params()\n",
      "    ~~~~~~~~~~~~~~~~~~~~~~~~~~^^\n",
      "  File \"c:\\Users\\c_cam\\Downloads\\ProyectoCienciaDatos\\.venv\\Lib\\site-packages\\sklearn\\base.py\", line 471, in _validate_params\n",
      "    validate_parameter_constraints(\n",
      "    ~~~~~~~~~~~~~~~~~~~~~~~~~~~~~~^\n",
      "        self._parameter_constraints,\n",
      "        ^^^^^^^^^^^^^^^^^^^^^^^^^^^^\n",
      "        self.get_params(deep=False),\n",
      "        ^^^^^^^^^^^^^^^^^^^^^^^^^^^^\n",
      "        caller_name=self.__class__.__name__,\n",
      "        ^^^^^^^^^^^^^^^^^^^^^^^^^^^^^^^^^^^^\n",
      "    )\n",
      "    ^\n",
      "  File \"c:\\Users\\c_cam\\Downloads\\ProyectoCienciaDatos\\.venv\\Lib\\site-packages\\sklearn\\utils\\_param_validation.py\", line 98, in validate_parameter_constraints\n",
      "    raise InvalidParameterError(\n",
      "    ...<2 lines>...\n",
      "    )\n",
      "sklearn.utils._param_validation.InvalidParameterError: The 'penalty' parameter of LogisticRegression must be a str among {'l2', 'elasticnet', 'l1'} or None. Got 'none' instead.\n",
      "\n",
      "--------------------------------------------------------------------------------\n",
      "25 fits failed with the following error:\n",
      "Traceback (most recent call last):\n",
      "  File \"c:\\Users\\c_cam\\Downloads\\ProyectoCienciaDatos\\.venv\\Lib\\site-packages\\sklearn\\model_selection\\_validation.py\", line 859, in _fit_and_score\n",
      "    estimator.fit(X_train, y_train, **fit_params)\n",
      "    ~~~~~~~~~~~~~^^^^^^^^^^^^^^^^^^^^^^^^^^^^^^^^\n",
      "  File \"c:\\Users\\c_cam\\Downloads\\ProyectoCienciaDatos\\.venv\\Lib\\site-packages\\sklearn\\base.py\", line 1365, in wrapper\n",
      "    return fit_method(estimator, *args, **kwargs)\n",
      "  File \"c:\\Users\\c_cam\\Downloads\\ProyectoCienciaDatos\\.venv\\Lib\\site-packages\\sklearn\\pipeline.py\", line 663, in fit\n",
      "    self._final_estimator.fit(Xt, y, **last_step_params[\"fit\"])\n",
      "    ~~~~~~~~~~~~~~~~~~~~~~~~~^^^^^^^^^^^^^^^^^^^^^^^^^^^^^^^^^^\n",
      "  File \"c:\\Users\\c_cam\\Downloads\\ProyectoCienciaDatos\\.venv\\Lib\\site-packages\\sklearn\\base.py\", line 1358, in wrapper\n",
      "    estimator._validate_params()\n",
      "    ~~~~~~~~~~~~~~~~~~~~~~~~~~^^\n",
      "  File \"c:\\Users\\c_cam\\Downloads\\ProyectoCienciaDatos\\.venv\\Lib\\site-packages\\sklearn\\base.py\", line 471, in _validate_params\n",
      "    validate_parameter_constraints(\n",
      "    ~~~~~~~~~~~~~~~~~~~~~~~~~~~~~~^\n",
      "        self._parameter_constraints,\n",
      "        ^^^^^^^^^^^^^^^^^^^^^^^^^^^^\n",
      "        self.get_params(deep=False),\n",
      "        ^^^^^^^^^^^^^^^^^^^^^^^^^^^^\n",
      "        caller_name=self.__class__.__name__,\n",
      "        ^^^^^^^^^^^^^^^^^^^^^^^^^^^^^^^^^^^^\n",
      "    )\n",
      "    ^\n",
      "  File \"c:\\Users\\c_cam\\Downloads\\ProyectoCienciaDatos\\.venv\\Lib\\site-packages\\sklearn\\utils\\_param_validation.py\", line 98, in validate_parameter_constraints\n",
      "    raise InvalidParameterError(\n",
      "    ...<2 lines>...\n",
      "    )\n",
      "sklearn.utils._param_validation.InvalidParameterError: The 'penalty' parameter of LogisticRegression must be a str among {'l2', 'l1', 'elasticnet'} or None. Got 'none' instead.\n",
      "\n",
      "--------------------------------------------------------------------------------\n",
      "56 fits failed with the following error:\n",
      "Traceback (most recent call last):\n",
      "  File \"c:\\Users\\c_cam\\Downloads\\ProyectoCienciaDatos\\.venv\\Lib\\site-packages\\sklearn\\model_selection\\_validation.py\", line 859, in _fit_and_score\n",
      "    estimator.fit(X_train, y_train, **fit_params)\n",
      "    ~~~~~~~~~~~~~^^^^^^^^^^^^^^^^^^^^^^^^^^^^^^^^\n",
      "  File \"c:\\Users\\c_cam\\Downloads\\ProyectoCienciaDatos\\.venv\\Lib\\site-packages\\sklearn\\base.py\", line 1365, in wrapper\n",
      "    return fit_method(estimator, *args, **kwargs)\n",
      "  File \"c:\\Users\\c_cam\\Downloads\\ProyectoCienciaDatos\\.venv\\Lib\\site-packages\\sklearn\\pipeline.py\", line 663, in fit\n",
      "    self._final_estimator.fit(Xt, y, **last_step_params[\"fit\"])\n",
      "    ~~~~~~~~~~~~~~~~~~~~~~~~~^^^^^^^^^^^^^^^^^^^^^^^^^^^^^^^^^^\n",
      "  File \"c:\\Users\\c_cam\\Downloads\\ProyectoCienciaDatos\\.venv\\Lib\\site-packages\\sklearn\\base.py\", line 1358, in wrapper\n",
      "    estimator._validate_params()\n",
      "    ~~~~~~~~~~~~~~~~~~~~~~~~~~^^\n",
      "  File \"c:\\Users\\c_cam\\Downloads\\ProyectoCienciaDatos\\.venv\\Lib\\site-packages\\sklearn\\base.py\", line 471, in _validate_params\n",
      "    validate_parameter_constraints(\n",
      "    ~~~~~~~~~~~~~~~~~~~~~~~~~~~~~~^\n",
      "        self._parameter_constraints,\n",
      "        ^^^^^^^^^^^^^^^^^^^^^^^^^^^^\n",
      "        self.get_params(deep=False),\n",
      "        ^^^^^^^^^^^^^^^^^^^^^^^^^^^^\n",
      "        caller_name=self.__class__.__name__,\n",
      "        ^^^^^^^^^^^^^^^^^^^^^^^^^^^^^^^^^^^^\n",
      "    )\n",
      "    ^\n",
      "  File \"c:\\Users\\c_cam\\Downloads\\ProyectoCienciaDatos\\.venv\\Lib\\site-packages\\sklearn\\utils\\_param_validation.py\", line 98, in validate_parameter_constraints\n",
      "    raise InvalidParameterError(\n",
      "    ...<2 lines>...\n",
      "    )\n",
      "sklearn.utils._param_validation.InvalidParameterError: The 'penalty' parameter of LogisticRegression must be a str among {'elasticnet', 'l2', 'l1'} or None. Got 'none' instead.\n",
      "\n",
      "  warnings.warn(some_fits_failed_message, FitFailedWarning)\n",
      "c:\\Users\\c_cam\\Downloads\\ProyectoCienciaDatos\\.venv\\Lib\\site-packages\\sklearn\\model_selection\\_search.py:1135: UserWarning: One or more of the test scores are non-finite: [0.76929559 0.76669609 0.68114151        nan        nan        nan\n",
      " 0.76929559 0.76669609 0.68114361        nan        nan        nan\n",
      " 0.76929559 0.76669609 0.68049636        nan        nan        nan\n",
      " 0.77058168 0.76993654 0.68114151        nan        nan        nan\n",
      " 0.77058168 0.76993654 0.68114361        nan        nan        nan\n",
      " 0.77058168 0.76993654 0.68049636        nan        nan        nan\n",
      " 0.76604674 0.76475224 0.68114151        nan        nan        nan\n",
      " 0.76604674 0.76475224 0.68114361        nan        nan        nan\n",
      " 0.76604674 0.76475224 0.68049636        nan        nan        nan\n",
      " 0.76215694 0.76280839 0.68114151        nan        nan        nan\n",
      " 0.76215694 0.76280839 0.68114361        nan        nan        nan\n",
      " 0.76215694 0.76280839 0.68049636        nan        nan        nan\n",
      " 0.76280419 0.76151389 0.68114151        nan        nan        nan\n",
      " 0.76280419 0.76151389 0.68114361        nan        nan        nan\n",
      " 0.76280419 0.76151389 0.68049636        nan        nan        nan\n",
      " 0.76345774 0.76151389 0.68114151        nan        nan        nan\n",
      " 0.76280419 0.76151389 0.68114361        nan        nan        nan\n",
      " 0.76280419 0.76151389 0.68049636        nan        nan        nan]\n",
      "  warnings.warn(\n"
     ]
    },
    {
     "name": "stdout",
     "output_type": "stream",
     "text": [
      "[ColumnTransformer] ........... (1 of 2) Processing num, total=   0.0s\n",
      "[ColumnTransformer] .......... (2 of 2) Processing bool, total=   0.0s\n",
      "Mejores parámetros: {'classifier__C': 0.01, 'classifier__max_iter': 1000, 'classifier__penalty': 'l2', 'classifier__solver': 'lbfgs'}\n",
      "Mejor accuracy (CV): 0.7705816836884798\n"
     ]
    },
    {
     "data": {
      "application/vnd.microsoft.datawrangler.viewer.v0+json": {
       "columns": [
        {
         "name": "index",
         "rawType": "int64",
         "type": "integer"
        },
        {
         "name": "params",
         "rawType": "object",
         "type": "unknown"
        },
        {
         "name": "mean_test_score",
         "rawType": "float64",
         "type": "float"
        },
        {
         "name": "std_test_score",
         "rawType": "float64",
         "type": "float"
        }
       ],
       "ref": "8d832887-8ff8-46a2-bcaf-5839cca3fee3",
       "rows": [
        [
         "24",
         "{'classifier__C': 0.01, 'classifier__max_iter': 2500, 'classifier__penalty': 'l2', 'classifier__solver': 'lbfgs'}",
         "0.7705816836884798",
         "0.016750575124284788"
        ],
        [
         "18",
         "{'classifier__C': 0.01, 'classifier__max_iter': 1000, 'classifier__penalty': 'l2', 'classifier__solver': 'lbfgs'}",
         "0.7705816836884798",
         "0.016750575124284788"
        ],
        [
         "30",
         "{'classifier__C': 0.01, 'classifier__max_iter': 5000, 'classifier__penalty': 'l2', 'classifier__solver': 'lbfgs'}",
         "0.7705816836884798",
         "0.016750575124284788"
        ],
        [
         "19",
         "{'classifier__C': 0.01, 'classifier__max_iter': 1000, 'classifier__penalty': 'l2', 'classifier__solver': 'newton-cg'}",
         "0.7699365359559535",
         "0.014076235448789883"
        ],
        [
         "25",
         "{'classifier__C': 0.01, 'classifier__max_iter': 2500, 'classifier__penalty': 'l2', 'classifier__solver': 'newton-cg'}",
         "0.7699365359559535",
         "0.014076235448789883"
        ]
       ],
       "shape": {
        "columns": 3,
        "rows": 5
       }
      },
      "text/html": [
       "<div>\n",
       "<style scoped>\n",
       "    .dataframe tbody tr th:only-of-type {\n",
       "        vertical-align: middle;\n",
       "    }\n",
       "\n",
       "    .dataframe tbody tr th {\n",
       "        vertical-align: top;\n",
       "    }\n",
       "\n",
       "    .dataframe thead th {\n",
       "        text-align: right;\n",
       "    }\n",
       "</style>\n",
       "<table border=\"1\" class=\"dataframe\">\n",
       "  <thead>\n",
       "    <tr style=\"text-align: right;\">\n",
       "      <th></th>\n",
       "      <th>params</th>\n",
       "      <th>mean_test_score</th>\n",
       "      <th>std_test_score</th>\n",
       "    </tr>\n",
       "  </thead>\n",
       "  <tbody>\n",
       "    <tr>\n",
       "      <th>24</th>\n",
       "      <td>{'classifier__C': 0.01, 'classifier__max_iter'...</td>\n",
       "      <td>0.770582</td>\n",
       "      <td>0.016751</td>\n",
       "    </tr>\n",
       "    <tr>\n",
       "      <th>18</th>\n",
       "      <td>{'classifier__C': 0.01, 'classifier__max_iter'...</td>\n",
       "      <td>0.770582</td>\n",
       "      <td>0.016751</td>\n",
       "    </tr>\n",
       "    <tr>\n",
       "      <th>30</th>\n",
       "      <td>{'classifier__C': 0.01, 'classifier__max_iter'...</td>\n",
       "      <td>0.770582</td>\n",
       "      <td>0.016751</td>\n",
       "    </tr>\n",
       "    <tr>\n",
       "      <th>19</th>\n",
       "      <td>{'classifier__C': 0.01, 'classifier__max_iter'...</td>\n",
       "      <td>0.769937</td>\n",
       "      <td>0.014076</td>\n",
       "    </tr>\n",
       "    <tr>\n",
       "      <th>25</th>\n",
       "      <td>{'classifier__C': 0.01, 'classifier__max_iter'...</td>\n",
       "      <td>0.769937</td>\n",
       "      <td>0.014076</td>\n",
       "    </tr>\n",
       "  </tbody>\n",
       "</table>\n",
       "</div>"
      ],
      "text/plain": [
       "                                               params  mean_test_score  \\\n",
       "24  {'classifier__C': 0.01, 'classifier__max_iter'...         0.770582   \n",
       "18  {'classifier__C': 0.01, 'classifier__max_iter'...         0.770582   \n",
       "30  {'classifier__C': 0.01, 'classifier__max_iter'...         0.770582   \n",
       "19  {'classifier__C': 0.01, 'classifier__max_iter'...         0.769937   \n",
       "25  {'classifier__C': 0.01, 'classifier__max_iter'...         0.769937   \n",
       "\n",
       "    std_test_score  \n",
       "24        0.016751  \n",
       "18        0.016751  \n",
       "30        0.016751  \n",
       "19        0.014076  \n",
       "25        0.014076  "
      ]
     },
     "metadata": {},
     "output_type": "display_data"
    }
   ],
   "source": [
    "# Creamos el pipeline que integra el preprocesador (preprocessor_median) y el clasificador\n",
    "pipeline_rf_median = Pipeline([\n",
    "    (\"preprocessing\", preprocessor_median),\n",
    "    (\"classifier\", LogisticRegression(random_state=42))\n",
    "])\n",
    "\n",
    "# Definimos el grid de hiperparámetros a explorar\n",
    "param_grid = {\n",
    "    \"classifier__penalty\": [\"l2\", \"none\"],  # l1 y elasticnet solo funcionan con solver='saga'\n",
    "    \"classifier__C\": [0.001, 0.01, 0.1, 1, 10, 100],  # Inverso de la regularización\n",
    "    \"classifier__solver\": [\"lbfgs\", \"newton-cg\", \"sag\"],  # Algoritmos de optimización\n",
    "    \"classifier__max_iter\": [1000, 2500, 5000]  # Número máximo de iteraciones\n",
    "}\n",
    "\n",
    "# Configuramos GridSearchCV\n",
    "grid_search = GridSearchCV(\n",
    "    pipeline_rf_median,\n",
    "    param_grid,\n",
    "    cv=5,\n",
    "    scoring=\"accuracy\",\n",
    "    n_jobs=-1,  # Utiliza todos los cores disponibles\n",
    "    verbose=1\n",
    ")\n",
    "\n",
    "# Ejecutamos el grid search\n",
    "grid_search.fit(X_train, y_train)\n",
    "\n",
    "# Mostramos los mejores parámetros y el mejor accuracy\n",
    "print(\"Mejores parámetros:\", grid_search.best_params_)\n",
    "print(\"Mejor accuracy (CV):\", grid_search.best_score_)\n",
    "\n",
    "# Opcional: mostrar todos los resultados ordenados\n",
    "resultados_df = pd.DataFrame(grid_search.cv_results_)\n",
    "resultados_df = resultados_df.sort_values(\"mean_test_score\", ascending=False)\n",
    "display(resultados_df[[\"params\", \"mean_test_score\", \"std_test_score\"]].head())"
   ]
  },
  {
   "cell_type": "markdown",
   "id": "a43a94ae",
   "metadata": {},
   "source": [
    "# Guardar los modelos"
   ]
  },
  {
   "cell_type": "code",
   "execution_count": null,
   "id": "24730cbc",
   "metadata": {},
   "outputs": [
    {
     "name": "stdout",
     "output_type": "stream",
     "text": [
      "El mejor modelo es:\n",
      "Pipeline(steps=[('preprocessing',\n",
      "                 ColumnTransformer(transformers=[('num',\n",
      "                                                  Pipeline(steps=[('imputer',\n",
      "                                                                   SimpleImputer(strategy='median'))]),\n",
      "                                                  ['age',\n",
      "                                                   'creatinine_phosphokinase',\n",
      "                                                   'ejection_fraction',\n",
      "                                                   'platelets',\n",
      "                                                   'serum_creatinine',\n",
      "                                                   'serum_sodium', 'time']),\n",
      "                                                 ('bool',\n",
      "                                                  Pipeline(steps=[('imputer',\n",
      "                                                                   SimpleImputer(strategy='most_frequent')),\n",
      "                                                                  ('encoder',\n",
      "                                                                   OneHotEncoder(drop='if_binary'))]),\n",
      "                                                  ['anaemia', 'diabetes',\n",
      "                                                   'high_blood_pressure', 'sex',\n",
      "                                                   'smoking'])],\n",
      "                                   verbose=True)),\n",
      "                ('classifier',\n",
      "                 LogisticRegression(C=0.01, max_iter=1000, random_state=42))])\n"
     ]
    },
    {
     "ename": "FileNotFoundError",
     "evalue": "[Errno 2] No such file or directory: 'c:\\\\Users\\\\c_cam\\\\Downloads\\\\ProyectoCienciaDatos\\\\src\\\\notebook\\\\models\\\\trained\\\\heart_failure_clinical_records-logistic_regression-v1.joblib'",
     "output_type": "error",
     "traceback": [
      "\u001b[31m---------------------------------------------------------------------------\u001b[39m",
      "\u001b[31mFileNotFoundError\u001b[39m                         Traceback (most recent call last)",
      "\u001b[36mCell\u001b[39m\u001b[36m \u001b[39m\u001b[32mIn[44]\u001b[39m\u001b[32m, line 14\u001b[39m\n\u001b[32m     11\u001b[39m \u001b[38;5;28mprint\u001b[39m(best_model)\n\u001b[32m     13\u001b[39m \u001b[38;5;66;03m# Guardar el modelo usando joblib con el nombre especificado\u001b[39;00m\n\u001b[32m---> \u001b[39m\u001b[32m14\u001b[39m \u001b[43mjoblib\u001b[49m\u001b[43m.\u001b[49m\u001b[43mdump\u001b[49m\u001b[43m(\u001b[49m\u001b[43mbest_model\u001b[49m\u001b[43m,\u001b[49m\u001b[43m \u001b[49m\u001b[43mDATA_DIR\u001b[49m\u001b[43m  \u001b[49m\u001b[43m/\u001b[49m\u001b[43m \u001b[49m\u001b[33;43m\"\u001b[39;49m\u001b[33;43mmodels\u001b[39;49m\u001b[33;43m\"\u001b[39;49m\u001b[43m \u001b[49m\u001b[43m/\u001b[49m\u001b[43m \u001b[49m\u001b[33;43m\"\u001b[39;49m\u001b[33;43mtrained\u001b[39;49m\u001b[33;43m\"\u001b[39;49m\u001b[43m/\u001b[49m\u001b[43m \u001b[49m\u001b[33;43m\"\u001b[39;49m\u001b[33;43mheart_failure_clinical_records-logistic_regression-v1.joblib\u001b[39;49m\u001b[33;43m\"\u001b[39;49m\u001b[43m)\u001b[49m\n\u001b[32m     16\u001b[39m \u001b[38;5;28mprint\u001b[39m(\u001b[33m\"\u001b[39m\u001b[33mModelo guardado como \u001b[39m\u001b[33m'\u001b[39m\u001b[33mheart_failure_clinical_records-logistic_regression-v1.joblib\u001b[39m\u001b[33m'\u001b[39m\u001b[33m\"\u001b[39m)\n",
      "\u001b[36mFile \u001b[39m\u001b[32mc:\\Users\\c_cam\\Downloads\\ProyectoCienciaDatos\\.venv\\Lib\\site-packages\\joblib\\numpy_pickle.py:599\u001b[39m, in \u001b[36mdump\u001b[39m\u001b[34m(value, filename, compress, protocol)\u001b[39m\n\u001b[32m    597\u001b[39m         NumpyPickler(f, protocol=protocol).dump(value)\n\u001b[32m    598\u001b[39m \u001b[38;5;28;01melif\u001b[39;00m is_filename:\n\u001b[32m--> \u001b[39m\u001b[32m599\u001b[39m     \u001b[38;5;28;01mwith\u001b[39;00m \u001b[38;5;28;43mopen\u001b[39;49m\u001b[43m(\u001b[49m\u001b[43mfilename\u001b[49m\u001b[43m,\u001b[49m\u001b[43m \u001b[49m\u001b[33;43m\"\u001b[39;49m\u001b[33;43mwb\u001b[39;49m\u001b[33;43m\"\u001b[39;49m\u001b[43m)\u001b[49m \u001b[38;5;28;01mas\u001b[39;00m f:\n\u001b[32m    600\u001b[39m         NumpyPickler(f, protocol=protocol).dump(value)\n\u001b[32m    601\u001b[39m \u001b[38;5;28;01melse\u001b[39;00m:\n",
      "\u001b[31mFileNotFoundError\u001b[39m: [Errno 2] No such file or directory: 'c:\\\\Users\\\\c_cam\\\\Downloads\\\\ProyectoCienciaDatos\\\\src\\\\notebook\\\\models\\\\trained\\\\heart_failure_clinical_records-logistic_regression-v1.joblib'"
     ]
    }
   ],
   "source": [
    "import joblib\n",
    "from pathlib import Path\n",
    "\n",
    "DATA_DIR = Path.cwd() #/ \"Modelos\"\n",
    "\n",
    "# Suponiendo que 'grid_search' es el objeto de GridSearchCV que usamos para el fine-tuning\n",
    "best_model = grid_search.best_estimator_\n",
    "\n",
    "# Imprimir el mejor modelo\n",
    "print(\"El mejor modelo es:\")\n",
    "print(best_model)\n",
    "\n",
    "# Guardar el modelo usando joblib con el nombre especificado\n",
    "joblib.dump(best_model, DATA_DIR / \"heart_failure_clinical_records-logistic_regression-v1.joblib\")\n",
    "\n",
    "print(\"Modelo guardado como 'heart_failure_clinical_records-logistic_regression-v1.joblib'\")"
   ]
  }
 ],
 "metadata": {
  "kernelspec": {
   "display_name": "proyectocienciadatos (3.13.5)",
   "language": "python",
   "name": "python3"
  },
  "language_info": {
   "codemirror_mode": {
    "name": "ipython",
    "version": 3
   },
   "file_extension": ".py",
   "mimetype": "text/x-python",
   "name": "python",
   "nbconvert_exporter": "python",
   "pygments_lexer": "ipython3",
   "version": "3.13.5"
  }
 },
 "nbformat": 4,
 "nbformat_minor": 5
}
