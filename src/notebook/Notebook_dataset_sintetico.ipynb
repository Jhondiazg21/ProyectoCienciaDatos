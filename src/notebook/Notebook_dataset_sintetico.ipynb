{
 "cells": [
  {
   "cell_type": "markdown",
   "id": "8e590d52",
   "metadata": {},
   "source": [
    "## *Análisis del Dataset de insuficiencia cardiaca* heart_failure_clinical_records_dataset.csv de Kaggle"
   ]
  },
  {
   "cell_type": "markdown",
   "id": "38baf46f",
   "metadata": {},
   "source": [
    "### **Presentado por:**\n",
    "\n",
    "Angélica Órtiz Álvarez (aortiz016@soyudemedellin.edu.co)\n",
    "\n",
    "Jhon Jader Diaz Gomez (jdiaz510@soyudemedellin.edu.co)\n",
    "\n",
    "Cristian Camilo Ospina Metaute (cospina149@soyudemedellin.edu.co)"
   ]
  },
  {
   "cell_type": "markdown",
   "id": "95eece2d",
   "metadata": {},
   "source": [
    "##### Para iniciar, se importan las librerías requeridas para manipulación de datos y manejo de modelos"
   ]
  },
  {
   "cell_type": "code",
   "execution_count": null,
   "id": "a1ab86b8",
   "metadata": {},
   "outputs": [],
   "source": [
    "import numpy as np \n",
    "import pandas as pd\n",
    "import random\n",
    "import re\n",
    "import os\n",
    "import matplotlib.pyplot as plt\n",
    "import seaborn as sns\n",
    "from sklearn.impute import SimpleImputer\n",
    "from sklearn.pipeline import Pipeline\n",
    "from sklearn.compose import ColumnTransformer\n",
    "from sklearn.preprocessing import StandardScaler, OneHotEncoder\n",
    "from sklearn.ensemble import RandomForestClassifier\n",
    "from sklearn.linear_model import LogisticRegression\n",
    "from sklearn.model_selection import train_test_split, GridSearchCV, cross_val_score\n",
    "from sklearn.metrics import accuracy_score, precision_score, recall_score, f1_score, roc_auc_score, classification_report, confusion_matrix"
   ]
  },
  {
   "cell_type": "markdown",
   "id": "c70dab85",
   "metadata": {},
   "source": [
    "##### Posteriormente, se carga el dataset heart_failure_clinical_records_dataset.csv de [Kaggle](https://www.kaggle.com/code/arjunamla02/logistic-regession-vs-decision-tree-vs-rf/notebook) - [UCI Irvine](https://archive.ics.uci.edu/dataset/519/heart+failure+clinical+records)\n"
   ]
  },
  {
   "cell_type": "code",
   "execution_count": null,
   "id": "71afd076",
   "metadata": {},
   "outputs": [
    {
     "data": {
      "application/vnd.microsoft.datawrangler.viewer.v0+json": {
       "columns": [
        {
         "name": "index",
         "rawType": "int64",
         "type": "integer"
        },
        {
         "name": "age",
         "rawType": "float64",
         "type": "float"
        },
        {
         "name": "anaemia",
         "rawType": "int64",
         "type": "integer"
        },
        {
         "name": "creatinine_phosphokinase",
         "rawType": "int64",
         "type": "integer"
        },
        {
         "name": "diabetes",
         "rawType": "int64",
         "type": "integer"
        },
        {
         "name": "ejection_fraction",
         "rawType": "int64",
         "type": "integer"
        },
        {
         "name": "high_blood_pressure",
         "rawType": "int64",
         "type": "integer"
        },
        {
         "name": "platelets",
         "rawType": "float64",
         "type": "float"
        },
        {
         "name": "serum_creatinine",
         "rawType": "float64",
         "type": "float"
        },
        {
         "name": "serum_sodium",
         "rawType": "int64",
         "type": "integer"
        },
        {
         "name": "sex",
         "rawType": "int64",
         "type": "integer"
        },
        {
         "name": "smoking",
         "rawType": "int64",
         "type": "integer"
        },
        {
         "name": "time",
         "rawType": "int64",
         "type": "integer"
        },
        {
         "name": "DEATH_EVENT",
         "rawType": "int64",
         "type": "integer"
        }
       ],
       "ref": "9aadfbae-74f9-40d6-ac4c-386a0a487219",
       "rows": [
        [
         "0",
         "75.0",
         "0",
         "582",
         "0",
         "20",
         "1",
         "265000.0",
         "1.9",
         "130",
         "1",
         "0",
         "4",
         "1"
        ],
        [
         "1",
         "55.0",
         "0",
         "7861",
         "0",
         "38",
         "0",
         "263358.03",
         "1.1",
         "136",
         "1",
         "0",
         "6",
         "1"
        ],
        [
         "2",
         "65.0",
         "0",
         "146",
         "0",
         "20",
         "0",
         "162000.0",
         "1.3",
         "129",
         "1",
         "1",
         "7",
         "1"
        ],
        [
         "3",
         "50.0",
         "1",
         "111",
         "0",
         "20",
         "0",
         "210000.0",
         "1.9",
         "137",
         "1",
         "0",
         "7",
         "1"
        ],
        [
         "4",
         "65.0",
         "1",
         "160",
         "1",
         "20",
         "0",
         "327000.0",
         "2.7",
         "116",
         "0",
         "0",
         "8",
         "1"
        ]
       ],
       "shape": {
        "columns": 13,
        "rows": 5
       }
      },
      "text/html": [
       "<div>\n",
       "<style scoped>\n",
       "    .dataframe tbody tr th:only-of-type {\n",
       "        vertical-align: middle;\n",
       "    }\n",
       "\n",
       "    .dataframe tbody tr th {\n",
       "        vertical-align: top;\n",
       "    }\n",
       "\n",
       "    .dataframe thead th {\n",
       "        text-align: right;\n",
       "    }\n",
       "</style>\n",
       "<table border=\"1\" class=\"dataframe\">\n",
       "  <thead>\n",
       "    <tr style=\"text-align: right;\">\n",
       "      <th></th>\n",
       "      <th>age</th>\n",
       "      <th>anaemia</th>\n",
       "      <th>creatinine_phosphokinase</th>\n",
       "      <th>diabetes</th>\n",
       "      <th>ejection_fraction</th>\n",
       "      <th>high_blood_pressure</th>\n",
       "      <th>platelets</th>\n",
       "      <th>serum_creatinine</th>\n",
       "      <th>serum_sodium</th>\n",
       "      <th>sex</th>\n",
       "      <th>smoking</th>\n",
       "      <th>time</th>\n",
       "      <th>DEATH_EVENT</th>\n",
       "    </tr>\n",
       "  </thead>\n",
       "  <tbody>\n",
       "    <tr>\n",
       "      <th>0</th>\n",
       "      <td>75.0</td>\n",
       "      <td>0</td>\n",
       "      <td>582</td>\n",
       "      <td>0</td>\n",
       "      <td>20</td>\n",
       "      <td>1</td>\n",
       "      <td>265000.00</td>\n",
       "      <td>1.9</td>\n",
       "      <td>130</td>\n",
       "      <td>1</td>\n",
       "      <td>0</td>\n",
       "      <td>4</td>\n",
       "      <td>1</td>\n",
       "    </tr>\n",
       "    <tr>\n",
       "      <th>1</th>\n",
       "      <td>55.0</td>\n",
       "      <td>0</td>\n",
       "      <td>7861</td>\n",
       "      <td>0</td>\n",
       "      <td>38</td>\n",
       "      <td>0</td>\n",
       "      <td>263358.03</td>\n",
       "      <td>1.1</td>\n",
       "      <td>136</td>\n",
       "      <td>1</td>\n",
       "      <td>0</td>\n",
       "      <td>6</td>\n",
       "      <td>1</td>\n",
       "    </tr>\n",
       "    <tr>\n",
       "      <th>2</th>\n",
       "      <td>65.0</td>\n",
       "      <td>0</td>\n",
       "      <td>146</td>\n",
       "      <td>0</td>\n",
       "      <td>20</td>\n",
       "      <td>0</td>\n",
       "      <td>162000.00</td>\n",
       "      <td>1.3</td>\n",
       "      <td>129</td>\n",
       "      <td>1</td>\n",
       "      <td>1</td>\n",
       "      <td>7</td>\n",
       "      <td>1</td>\n",
       "    </tr>\n",
       "    <tr>\n",
       "      <th>3</th>\n",
       "      <td>50.0</td>\n",
       "      <td>1</td>\n",
       "      <td>111</td>\n",
       "      <td>0</td>\n",
       "      <td>20</td>\n",
       "      <td>0</td>\n",
       "      <td>210000.00</td>\n",
       "      <td>1.9</td>\n",
       "      <td>137</td>\n",
       "      <td>1</td>\n",
       "      <td>0</td>\n",
       "      <td>7</td>\n",
       "      <td>1</td>\n",
       "    </tr>\n",
       "    <tr>\n",
       "      <th>4</th>\n",
       "      <td>65.0</td>\n",
       "      <td>1</td>\n",
       "      <td>160</td>\n",
       "      <td>1</td>\n",
       "      <td>20</td>\n",
       "      <td>0</td>\n",
       "      <td>327000.00</td>\n",
       "      <td>2.7</td>\n",
       "      <td>116</td>\n",
       "      <td>0</td>\n",
       "      <td>0</td>\n",
       "      <td>8</td>\n",
       "      <td>1</td>\n",
       "    </tr>\n",
       "  </tbody>\n",
       "</table>\n",
       "</div>"
      ],
      "text/plain": [
       "    age  anaemia  creatinine_phosphokinase  diabetes  ejection_fraction  \\\n",
       "0  75.0        0                       582         0                 20   \n",
       "1  55.0        0                      7861         0                 38   \n",
       "2  65.0        0                       146         0                 20   \n",
       "3  50.0        1                       111         0                 20   \n",
       "4  65.0        1                       160         1                 20   \n",
       "\n",
       "   high_blood_pressure  platelets  serum_creatinine  serum_sodium  sex  \\\n",
       "0                    1  265000.00               1.9           130    1   \n",
       "1                    0  263358.03               1.1           136    1   \n",
       "2                    0  162000.00               1.3           129    1   \n",
       "3                    0  210000.00               1.9           137    1   \n",
       "4                    0  327000.00               2.7           116    0   \n",
       "\n",
       "   smoking  time  DEATH_EVENT  \n",
       "0        0     4            1  \n",
       "1        0     6            1  \n",
       "2        1     7            1  \n",
       "3        0     7            1  \n",
       "4        0     8            1  "
      ]
     },
     "execution_count": 334,
     "metadata": {},
     "output_type": "execute_result"
    }
   ],
   "source": [
    "# Buscar la carpeta raíz del proyecto por nombre\n",
    "carpeta_actual = os.getcwd()\n",
    "nombre_proyecto = \"ProyectoCienciaDatos\"\n",
    "\n",
    "# Recorrer hacia arriba hasta encontrar la carpeta raíz\n",
    "while os.path.basename(carpeta_actual) != nombre_proyecto:\n",
    "    carpeta_actual = os.path.dirname(carpeta_actual)\n",
    "    if carpeta_actual == os.path.dirname(carpeta_actual):  # Llegamos al tope\n",
    "        raise FileNotFoundError(f\"No se encontró la carpeta raíz '{nombre_proyecto}'.\")\n",
    "\n",
    "# Construir la ruta al archivo CSV\n",
    "ruta_csv = os.path.join(carpeta_actual, \"data\", \"raw\", \"heart_failure_clinical_records_dataset.csv\")\n",
    "\n",
    "# Leer el archivo\n",
    "df = pd.read_csv(ruta_csv)\n",
    "df.head()  \n"
   ]
  },
  {
   "cell_type": "markdown",
   "id": "6cd26e62",
   "metadata": {},
   "source": [
    "##### Se imprime el resumen de la estructura del DataFrame, con el objetivo de inspeccionar los datos."
   ]
  },
  {
   "cell_type": "code",
   "execution_count": 335,
   "id": "74b11ec1",
   "metadata": {},
   "outputs": [
    {
     "name": "stdout",
     "output_type": "stream",
     "text": [
      "<class 'pandas.core.frame.DataFrame'>\n",
      "RangeIndex: 299 entries, 0 to 298\n",
      "Data columns (total 13 columns):\n",
      " #   Column                    Non-Null Count  Dtype  \n",
      "---  ------                    --------------  -----  \n",
      " 0   age                       299 non-null    float64\n",
      " 1   anaemia                   299 non-null    int64  \n",
      " 2   creatinine_phosphokinase  299 non-null    int64  \n",
      " 3   diabetes                  299 non-null    int64  \n",
      " 4   ejection_fraction         299 non-null    int64  \n",
      " 5   high_blood_pressure       299 non-null    int64  \n",
      " 6   platelets                 299 non-null    float64\n",
      " 7   serum_creatinine          299 non-null    float64\n",
      " 8   serum_sodium              299 non-null    int64  \n",
      " 9   sex                       299 non-null    int64  \n",
      " 10  smoking                   299 non-null    int64  \n",
      " 11  time                      299 non-null    int64  \n",
      " 12  DEATH_EVENT               299 non-null    int64  \n",
      "dtypes: float64(3), int64(10)\n",
      "memory usage: 30.5 KB\n"
     ]
    }
   ],
   "source": [
    "df.info()"
   ]
  },
  {
   "cell_type": "markdown",
   "id": "b7c77655",
   "metadata": {},
   "source": [
    "## 🧾 Descripción del Dataset\n",
    "\n",
    "**Nombre del dataset:** `heart-failure-clinical-data`  \n",
    "**Fuente:** Kaggle  \n",
    "**Tipo de problema:** Clasificación binaria  \n",
    "**Licencia:** Apache 2.0\n",
    "\n",
    "### 🔍 Variables incluidas:\n",
    "El dataset contiene variables clínicas relevantes para pacientes con insuficiencia cardíaca. Algunas de las variables clave incluyen:\n",
    "\n",
    "- `age`: Edad del paciente\n",
    "- `anaemia`: Presencia de anemia (booleano)\n",
    "- `creatinine_phosphokinase`: Nivel de la enzima CPK\n",
    "- `diabetes`: Diagnóstico de diabetes (booleano)\n",
    "- `ejection_fraction`: Porcentaje de sangre expulsada por el corazón\n",
    "- `high_blood_pressure`: Presión arterial alta (booleano)\n",
    "- `platelets`: Recuento de plaquetas\n",
    "- `serum_creatinine`: Nivel de creatinina en sangre\n",
    "- `serum_sodium`: Nivel de sodio en sangre\n",
    "- `sex`: Sexo del paciente\n",
    "- `smoking`: Fumador (booleano)\n",
    "- `time`: Tiempo de seguimiento en días\n",
    "- `DEATH_EVENT`: Variable objetivo (0 = sobrevivió, 1 = falleció)\n",
    "\n",
    "## 🎯 Objetivo del Estudio\n",
    "\n",
    "El propósito principal del notebook es comparar el rendimiento de dos modelos de clasificación ampliamente utilizados en la industria:\n",
    "\n",
    "1. **Regresión Logística**\n",
    "3. **Bosque Aleatorio (Random Forest)**\n",
    "\n",
    "### Objetivos específicos:\n",
    "\n",
    "- Evaluar la capacidad predictiva de cada modelo sobre la variable `DEATH_EVENT`.\n",
    "- Analizar las ventajas y desventajas de cada enfoque en términos de:\n",
    "  - Interpretabilidad\n",
    "  - Precisión\n",
    "  - Curvas ROC y PR\n",
    "  - Robustez frente al sobreajuste\n",
    "\n",
    "## 📈 Aplicaciones del análisis\n",
    "\n",
    "Este tipo de estudio es útil para:\n",
    "\n",
    "- Profesionales de la salud que buscan herramientas predictivas para evaluar riesgos clínicos.\n",
    "- Científicos de datos que desean entender el comportamiento de distintos algoritmos de clasificación en contextos médicos.\n",
    "- Estudiantes y desarrolladores que exploran técnicas de machine learning aplicadas a datos reales.\n"
   ]
  },
  {
   "cell_type": "markdown",
   "id": "af44cc21",
   "metadata": {},
   "source": [
    "## 🧬 Estructura del Dataset `heart-failure-clinical-data`\n",
    "\n",
    "Este dataset contiene información clínica de pacientes con insuficiencia cardíaca. La tabla siguiente describe cada columna, su tipo de dato y su significado clínico:\n",
    "\n",
    "| Columna                    | Tipo de dato | Descripción                                                                 |\n",
    "|----------------------------|--------------|------------------------------------------------------------------------------|\n",
    "| `age`                      | Numérico     | Edad del paciente en años.                                                  |\n",
    "| `anaemia`                  | Binario      | Disminución de glóbulos rojos o hemoglobina (1 = sí, 0 = no).               |\n",
    "| `creatinine_phosphokinase`| Numérico     | Nivel de la enzima CPK en sangre (mcg/L).                                   |\n",
    "| `diabetes`                 | Binario      | Indica si el paciente tiene diabetes (1 = sí, 0 = no).                      |\n",
    "| `ejection_fraction`        | Numérico     | Porcentaje de sangre expulsada por el corazón en cada contracción.         |\n",
    "| `high_blood_pressure`      | Binario      | Indica si el paciente tiene hipertensión (1 = sí, 0 = no).                  |\n",
    "| `platelets`                | Numérico     | Número de plaquetas en sangre (kiloplaquetas/mL).                           |\n",
    "| `serum_creatinine`         | Numérico     | Nivel de creatinina en sangre (mg/dL).                                      |\n",
    "| `serum_sodium`             | Numérico     | Nivel de sodio en sangre (mEq/L).                                           |\n",
    "| `sex`                      | Binario      | Sexo del paciente (1 = masculino, 0 = femenino).                            |\n",
    "| `smoking`                  | Binario      | Indica si el paciente fuma (1 = sí, 0 = no).                                |\n",
    "| `time`                     | Numérico     | Tiempo de seguimiento del paciente (en días).                               |\n",
    "| `DEATH_EVENT`              | Binario      | Variable objetivo: indica si el paciente falleció durante el seguimiento.  |\n"
   ]
  },
  {
   "cell_type": "markdown",
   "id": "fc9c1938",
   "metadata": {},
   "source": [
    "##### Debido a que la base de datos original tiene solo 299 registros, se simula 2700 adicionales para completar 3000, de manera que tengamos una base de datos con suficientes datos y con ruido para hacer el ejercicio de manipulación de datos."
   ]
  },
  {
   "cell_type": "code",
   "execution_count": 336,
   "id": "25a97de7",
   "metadata": {},
   "outputs": [
    {
     "name": "stdout",
     "output_type": "stream",
     "text": [
      "Base de datos generada: heart_failure_clinical_records_extended.csv\n",
      "Total de registros: 3000\n",
      "Registros originales (simulados): 299\n",
      "Registros nuevos (con errores): 2701\n",
      "\n",
      "Primeras filas del CSV final:\n",
      "     age  anaemia  creatinine_phosphokinase diabetes  ejection_fraction  \\\n",
      "0   78.0        0                    1702.0        0                 51   \n",
      "1   91.0        0                    3529.0        0                 28   \n",
      "2   68.0        1                    5115.0        1                 77   \n",
      "3   54.0        0                    7276.0        1                 41   \n",
      "4   82.0        0                    2767.0        1                 52   \n",
      "5   47.0        1                    3379.0        1                 70   \n",
      "6   60.0        1                    4068.0        1                 30   \n",
      "7   78.0        0                    1266.0        1                 57   \n",
      "8   58.0        0                    5211.0        1                 38   \n",
      "9   62.0        1                    3141.0        1                 30   \n",
      "10  50.0        1                    5127.0        1                 26   \n",
      "11  50.0        1                    2164.0        0                 38   \n",
      "12  63.0        1                    5892.0        1                 23   \n",
      "13  92.0        0                    5076.0        1                 80   \n",
      "14  75.0        1                    3082.0        1                 31   \n",
      "15  79.0        1                    4571.0        1                 47   \n",
      "16  63.0        0                    5346.0        1                 21   \n",
      "17  42.0        1                    2982.0        1                 53   \n",
      "18  61.0        0                    2288.0        1                 55   \n",
      "19  92.0        1                    6640.0        1                 54   \n",
      "20  41.0        1                    2502.0        1                 19   \n",
      "21  63.0        1                    6507.0        1                 65   \n",
      "22  83.0        0                    4669.0        1                 39   \n",
      "23  69.0        0                    1658.0        0                 77   \n",
      "24  77.0        1                    5431.0        0                 72   \n",
      "25  41.0        0                    7444.0        1                 69   \n",
      "26  60.0        0                    1780.0        1                 72   \n",
      "27  72.0        0                    4475.0        0                 46   \n",
      "28  51.0        0                    2093.0        1                 66   \n",
      "29  61.0        0                    5904.0        0                 35   \n",
      "\n",
      "    high_blood_pressure  platelets serum_creatinine  serum_sodium sex  \\\n",
      "0                     0  699087.43              4.4        123.61   1   \n",
      "1                     1  848450.58             6.95        122.21   0   \n",
      "2                     1  363033.86             4.83        125.60   1   \n",
      "3                     1  675391.22             8.27        116.07   0   \n",
      "4                     0  401448.19             8.52        145.79   0   \n",
      "5                     0  459906.72             4.25        132.38   1   \n",
      "6                     0  570629.10             2.96        123.69   0   \n",
      "7                     1  755257.84             5.77        126.89   0   \n",
      "8                     0  838062.60             8.62        128.65   0   \n",
      "9                     1  676205.06             2.37        134.02   0   \n",
      "10                    0  413325.09             6.04        131.05   1   \n",
      "11                    1  416017.75             6.12        145.18   1   \n",
      "12                    0  653186.73             7.02        130.39   0   \n",
      "13                    0  279082.86             1.67        147.73   0   \n",
      "14                    0  182855.58             6.87        142.80   0   \n",
      "15                    1  365966.62             8.59        120.30   1   \n",
      "16                    1  315429.24              2.1        145.57   1   \n",
      "17                    0  322231.09             2.61        117.07   1   \n",
      "18                    0  275205.81             9.15        141.61   1   \n",
      "19                    1  131569.89             2.11        126.32   0   \n",
      "20                    1  113405.45              8.1        143.73   0   \n",
      "21                    1  840791.79             4.88        143.38   0   \n",
      "22                    0  420829.85              2.7        141.21   1   \n",
      "23                    1  388244.99             8.25        140.65   0   \n",
      "24                    0  609735.46             4.46        123.66   1   \n",
      "25                    1  263690.42             5.08        115.83   1   \n",
      "26                    0  812470.89              3.7        127.10   0   \n",
      "27                    1  689758.76             5.78        119.07   0   \n",
      "28                    1  167058.25             1.96        137.32   0   \n",
      "29                    1  413185.58             3.98        125.11   1   \n",
      "\n",
      "    smoking  time  DEATH_EVENT  \n",
      "0         0   204          0.0  \n",
      "1         1    38          1.0  \n",
      "2         1   219          1.0  \n",
      "3         1    68          0.0  \n",
      "4         1    11          1.0  \n",
      "5         1    79          1.0  \n",
      "6         1   177          0.0  \n",
      "7         1    50          0.0  \n",
      "8         1    18          0.0  \n",
      "9         1   150          1.0  \n",
      "10        1    29          0.0  \n",
      "11        0    96          1.0  \n",
      "12        1   235          0.0  \n",
      "13        0    24          1.0  \n",
      "14        0    41          0.0  \n",
      "15        0   279          0.0  \n",
      "16        0   160          1.0  \n",
      "17        1   182          1.0  \n",
      "18        0   135          1.0  \n",
      "19        1    31          1.0  \n",
      "20        1   263          1.0  \n",
      "21        0    79          1.0  \n",
      "22        1    70          0.0  \n",
      "23        0   197          1.0  \n",
      "24        0   165          0.0  \n",
      "25        1   260          0.0  \n",
      "26        1    75          1.0  \n",
      "27        0    90          0.0  \n",
      "28        1   265          1.0  \n",
      "29        1   217          1.0  \n",
      "\n",
      "Últimas filas del CSV final (donde se concentran los errores):\n",
      "       age  anaemia  creatinine_phosphokinase diabetes  ejection_fraction  \\\n",
      "2970  46.0        1                    5244.0        1                 18   \n",
      "2971  50.0        1                    4428.0        0                 54   \n",
      "2972  78.0        0                    3876.0        0                 74   \n",
      "2973   NaN        0                    5434.0        0                 68   \n",
      "2974  64.0        0                    1768.0        1                 26   \n",
      "2975  51.0        1                    6661.0        0                 27   \n",
      "2976  65.0        1                    3455.0        1                 73   \n",
      "2977  77.0        1                     360.0        1                 38   \n",
      "2978  85.0        1                    6745.0        2                 57   \n",
      "2979  51.0        0                      32.0        0                 23   \n",
      "2980  82.0        1                    4167.0        1                 63   \n",
      "2981   NaN        1                    5629.0        1                 57   \n",
      "2982  92.0        0                    6789.0        0                 27   \n",
      "2983  76.0        0                       NaN        1                 28   \n",
      "2984  85.0        1                     753.0        1                 29   \n",
      "2985  92.0        1                    7759.0        0                 15   \n",
      "2986  63.0        1                    4913.0        1                 43   \n",
      "2987  55.0        1                    7137.0        0                 43   \n",
      "2988  52.0        0                    1671.0        1                 44   \n",
      "2989  64.0        0                    4251.0        1                 33   \n",
      "2990  93.0        1                    3677.0        0                 62   \n",
      "2991  93.0        1                    2153.0        1                 48   \n",
      "2992  91.0        1                    6223.0        1                 36   \n",
      "2993  93.0        1                    4494.0        1                 74   \n",
      "2994  43.0        1                    2419.0        0                 68   \n",
      "2995  50.0        0                    4389.0        0                 80   \n",
      "2996  71.0        0                    1529.0        0                 21   \n",
      "2997  88.0        0                    2181.0        0                 53   \n",
      "2998  46.0        1                    2939.0       NO                 72   \n",
      "2999  85.0        1                    7053.0        1                 45   \n",
      "\n",
      "      high_blood_pressure  platelets serum_creatinine  serum_sodium     sex  \\\n",
      "2970                    1  766781.59             8.68        127.81       0   \n",
      "2971                    1  726840.58             1.22        121.83       0   \n",
      "2972                    1  556231.77             8.64        147.42       0   \n",
      "2973                    0  391294.89             4.87        123.64  FEMALE   \n",
      "2974                    0  477403.50             4.49        124.33       0   \n",
      "2975                    0  676551.10             9.16        147.64       0   \n",
      "2976                    1  758159.16             9.31        117.69       1   \n",
      "2977                    0  177836.45              NaN        139.62       1   \n",
      "2978                    0  388642.20       1.63 mg/dL        145.75       1   \n",
      "2979                    1  682087.45       5.00 mg/dL        130.91       0   \n",
      "2980                    1  423738.82             5.21        113.09       1   \n",
      "2981                    1        NaN             5.08        126.13       1   \n",
      "2982                    0  408492.02             5.57        116.90       1   \n",
      "2983                    0  552133.56             0.67        127.57       1   \n",
      "2984                    1  849853.86       6.83 mg/dL        140.65       0   \n",
      "2985                    0  469744.32             6.84        128.35       0   \n",
      "2986                    0  256370.86             1.53        128.12       0   \n",
      "2987                    1        NaN             5.58        132.49    MALE   \n",
      "2988                    0        NaN             5.56        133.36       0   \n",
      "2989                    1  519112.93             6.57        142.97    male   \n",
      "2990                    0  508429.07             1.26        123.79       0   \n",
      "2991                    1  253925.45             6.08        141.76       0   \n",
      "2992                    0  621497.05              3.0        132.81       1   \n",
      "2993                    0        NaN             5.01        123.52       1   \n",
      "2994                    1  294323.65             7.38        123.33  FEMALE   \n",
      "2995                    1  358074.82             6.78        125.64       0   \n",
      "2996                    1  842853.75             1.56        134.79       0   \n",
      "2997                    1  380698.35             5.76        121.08       1   \n",
      "2998                    0  670601.25       9.13 mg/dL        145.21       1   \n",
      "2999                    1        NaN              1.9        133.12       1   \n",
      "\n",
      "      smoking  time  DEATH_EVENT  \n",
      "2970        0    35          1.0  \n",
      "2971        1    10          NaN  \n",
      "2972        1   177          1.0  \n",
      "2973        0   149          1.0  \n",
      "2974        0   255          1.0  \n",
      "2975        1   169          1.0  \n",
      "2976        1   106          0.0  \n",
      "2977        1   196          1.0  \n",
      "2978        1    20          0.0  \n",
      "2979        0    93          0.0  \n",
      "2980        0    89          0.0  \n",
      "2981        0   106          0.0  \n",
      "2982        0    85          1.0  \n",
      "2983        0   129          1.0  \n",
      "2984        0    41          0.0  \n",
      "2985        1   216          0.0  \n",
      "2986        0   228          1.0  \n",
      "2987        1   225          NaN  \n",
      "2988        1   250          1.0  \n",
      "2989        0   139          NaN  \n",
      "2990        1   234          1.0  \n",
      "2991        0    12          1.0  \n",
      "2992        0   228          0.0  \n",
      "2993        1   110          0.0  \n",
      "2994        1   190          1.0  \n",
      "2995        1   224          0.0  \n",
      "2996        1    98          0.0  \n",
      "2997        1   198          0.0  \n",
      "2998        1   245          0.0  \n",
      "2999        1   233          0.0  \n"
     ]
    },
    {
     "name": "stderr",
     "output_type": "stream",
     "text": [
      "C:\\Users\\c_cam\\AppData\\Local\\Temp\\ipykernel_12800\\492679449.py:106: FutureWarning: Setting an item of incompatible dtype is deprecated and will raise an error in a future version of pandas. Value 'male' has dtype incompatible with int32, please explicitly cast to a compatible dtype first.\n",
      "  df_new.loc[i, 'sex'] = random.choice(['MALE', 'male'])\n",
      "C:\\Users\\c_cam\\AppData\\Local\\Temp\\ipykernel_12800\\492679449.py:118: FutureWarning: Setting an item of incompatible dtype is deprecated and will raise an error in a future version of pandas. Value '1.24 mg/dL' has dtype incompatible with float64, please explicitly cast to a compatible dtype first.\n",
      "  df_new.loc[i, 'serum_creatinine'] = f\"{original_value:.2f} mg/dL\"\n",
      "C:\\Users\\c_cam\\AppData\\Local\\Temp\\ipykernel_12800\\492679449.py:129: FutureWarning: Setting an item of incompatible dtype is deprecated and will raise an error in a future version of pandas. Value 'YES' has dtype incompatible with int32, please explicitly cast to a compatible dtype first.\n",
      "  df_new.loc[i, 'diabetes'] = random.choice(['YES', 2]) # Mezcla de string y otro entero\n"
     ]
    }
   ],
   "source": [
    "# Definición de las columnas y sus tipos de datos esperados\n",
    "# Basado en la estructura del dataset \"heart_failure_clinical_records_dataset\"\n",
    "columns = [\n",
    "    'age', 'anaemia', 'creatinine_phosphokinase', 'diabetes',\n",
    "    'ejection_fraction', 'high_blood_pressure', 'platelets',\n",
    "    'serum_creatinine', 'serum_sodium', 'sex', 'smoking', 'time',\n",
    "    'DEATH_EVENT'\n",
    "]\n",
    "\n",
    "# Rango de valores (aproximados, basados en el dataset original) para la generación sintética\n",
    "data_ranges = {\n",
    "    'age': (40, 95),\n",
    "    'anaemia': (0, 1), # Binario\n",
    "    'creatinine_phosphokinase': (23, 7861), # Valor alto para simular la dispersión\n",
    "    'diabetes': (0, 1), # Binario\n",
    "    'ejection_fraction': (14, 80),\n",
    "    'high_blood_pressure': (0, 1), # Binario\n",
    "    'platelets': (100000, 850000), # Rango amplio\n",
    "    'serum_creatinine': (0.5, 9.4),\n",
    "    'serum_sodium': (113, 148),\n",
    "    'sex': (0, 1), # Binario (Mujer=0, Hombre=1 o viceversa, solo necesitamos el binario)\n",
    "    'smoking': (0, 1), # Binario\n",
    "    'time': (4, 285),\n",
    "    'DEATH_EVENT': (0, 1) # Binario (Target)\n",
    "}\n",
    "\n",
    "# --- 1. Simulación de los 299 Registros Originales (Base) ---\n",
    "# Creamos un DataFrame base de 299 filas con datos limpios y aleatorios dentro del rango,\n",
    "# para simular la parte original del dataset.\n",
    "\n",
    "np.random.seed(42) # Para reproducibilidad\n",
    "\n",
    "base_records = 299\n",
    "data_base = {}\n",
    "\n",
    "# Generar datos limpios para la base\n",
    "for col in columns:\n",
    "    min_val, max_val = data_ranges[col]\n",
    "\n",
    "    if col in ['age', 'creatinine_phosphokinase', 'ejection_fraction', 'time']:\n",
    "        data_base[col] = np.random.randint(min_val, max_val + 1, base_records)\n",
    "    elif col in ['anaemia', 'diabetes', 'high_blood_pressure', 'sex', 'smoking', 'DEATH_EVENT']:\n",
    "        data_base[col] = np.random.randint(min_val, max_val + 1, base_records)\n",
    "    elif col in ['platelets']:\n",
    "        # Simular números grandes, a veces con decimales como en el dataset original\n",
    "        data_base[col] = np.round(np.random.uniform(min_val, max_val, base_records), 2)\n",
    "    elif col in ['serum_creatinine', 'serum_sodium']:\n",
    "        data_base[col] = np.round(np.random.uniform(min_val, max_val, base_records), 2)\n",
    "\n",
    "df_base = pd.DataFrame(data_base)\n",
    "\n",
    "# Asegurar que las columnas binarias y enteras sean de tipo entero en la base\n",
    "int_cols = ['age', 'anaemia', 'creatinine_phosphokinase', 'diabetes',\n",
    "            'ejection_fraction', 'high_blood_pressure', 'sex', 'smoking',\n",
    "            'time', 'DEATH_EVENT']\n",
    "for col in int_cols:\n",
    "    df_base[col] = df_base[col].astype(int)\n",
    "\n",
    "\n",
    "# --- 2. y 3. Generación de 2701 Registros Sintéticos con Errores ---\n",
    "\n",
    "new_records = 3000 - base_records\n",
    "data_new = {}\n",
    "\n",
    "# Generar datos base para los nuevos registros\n",
    "for col in columns:\n",
    "    min_val, max_val = data_ranges[col]\n",
    "\n",
    "    if col in ['age', 'creatinine_phosphokinase', 'ejection_fraction', 'time']:\n",
    "        data_new[col] = np.random.randint(min_val, max_val + 1, new_records)\n",
    "    elif col in ['anaemia', 'diabetes', 'high_blood_pressure', 'sex', 'smoking', 'DEATH_EVENT']:\n",
    "        data_new[col] = np.random.randint(min_val, max_val + 1, new_records)\n",
    "    elif col in ['platelets']:\n",
    "        data_new[col] = np.round(np.random.uniform(min_val, max_val, new_records), 2)\n",
    "    elif col in ['serum_creatinine', 'serum_sodium']:\n",
    "        data_new[col] = np.round(np.random.uniform(min_val, max_val, new_records), 2)\n",
    "\n",
    "df_new = pd.DataFrame(data_new)\n",
    "\n",
    "\n",
    "### INTRODUCCIÓN DE AJUSTES Y ERRORES (Nulos y Tipos de Datos) ###\n",
    "\n",
    "# 1. VALORES NULOS (NaN)\n",
    "# Se introduce NaN en aproximadamente el 5% al 15% de los nuevos registros para algunas columnas\n",
    "np.random.seed(43) # Nueva semilla para la introducción de errores\n",
    "\n",
    "# Columnas seleccionadas para nulos (mezclando tipos)\n",
    "null_cols = ['age', 'creatinine_phosphokinase', 'platelets', 'serum_creatinine', 'DEATH_EVENT']\n",
    "\n",
    "for col in null_cols:\n",
    "    nan_count = int(new_records * random.uniform(0.05, 0.15))\n",
    "    nan_indices = np.random.choice(df_new.index, nan_count, replace=False)\n",
    "    df_new.loc[nan_indices, col] = np.nan\n",
    "\n",
    "# 2. CAMBIOS EN EL TIPO DE DATO (para forzar conversión o limpieza)\n",
    "\n",
    "# a) Conversión de Binarias/Enteras a Texto (String) o Nombres\n",
    "# La columna 'sex' (0 o 1) se convierte a 'MALE'/'FEMALE' en algunos registros para requerir mapeo\n",
    "string_conversion_count = int(new_records * 0.10)\n",
    "string_indices = np.random.choice(df_new.index, string_conversion_count, replace=False)\n",
    "\n",
    "for i in string_indices:\n",
    "    # Si es 1, conviértelo a 'Male', si es 0, conviértelo a 'Female'.\n",
    "    # Usamos una mezcla de 'Male'/'male' para simular inconsistencias\n",
    "    if df_new.loc[i, 'sex'] == 1:\n",
    "        df_new.loc[i, 'sex'] = random.choice(['MALE', 'male'])\n",
    "    else:\n",
    "        df_new.loc[i, 'sex'] = random.choice(['FEMALE', 'female'])\n",
    "\n",
    "# b) Conversión de Decimales a Texto con caracteres no numéricos\n",
    "# La columna 'serum_creatinine' se convierte a string con un símbolo/unidad en algunos casos\n",
    "string_unit_count = int(new_records * 0.08)\n",
    "string_unit_indices = np.random.choice(df_new.index, string_unit_count, replace=False)\n",
    "\n",
    "for i in string_unit_indices:\n",
    "    original_value = df_new.loc[i, 'serum_creatinine']\n",
    "    if not pd.isna(original_value): # No modificar si ya es NaN\n",
    "        df_new.loc[i, 'serum_creatinine'] = f\"{original_value:.2f} mg/dL\"\n",
    "    else:\n",
    "        df_new.loc[i, 'serum_creatinine'] = 'Desconocido' # Otro valor no numérico\n",
    "\n",
    "# c) Valores inconsistentes para booleanas/binarias\n",
    "# La columna 'diabetes' (0 o 1) se convierte a 'YES'/'NO'/'N/A'/'2' en algunos registros\n",
    "inconsistent_count = int(new_records * 0.12)\n",
    "inconsistent_indices = np.random.choice(df_new.index, inconsistent_count, replace=False)\n",
    "\n",
    "for i in inconsistent_indices:\n",
    "    if df_new.loc[i, 'diabetes'] == 1:\n",
    "        df_new.loc[i, 'diabetes'] = random.choice(['YES', 2]) # Mezcla de string y otro entero\n",
    "    else:\n",
    "        df_new.loc[i, 'diabetes'] = random.choice(['NO', 'N/A', 0]) # Mezcla de string y valor correcto\n",
    "\n",
    "# d) Valores extremos no válidos o placeholders\n",
    "# En 'ejection_fraction' (debería ser 14-80%), se introducen valores como -1 o 999\n",
    "extreme_count = int(new_records * 0.04)\n",
    "extreme_indices = np.random.choice(df_new.index, extreme_count, replace=False)\n",
    "for i in extreme_indices:\n",
    "    df_new.loc[i, 'ejection_fraction'] = random.choice([-1, 999])\n",
    "\n",
    "# --- 4. Combinar y Guardar ---\n",
    "\n",
    "# Concatenar la base (limpia) y los nuevos registros (con errores)\n",
    "df_final = pd.concat([df_base, df_new], ignore_index=True)\n",
    "\n",
    "# Reordenar las columnas para asegurar el formato original\n",
    "df_final = df_final[columns]\n",
    "\n",
    "# Guardar el DataFrame final en un archivo CSV\n",
    "output_filename = 'heart_failure_clinical_records_extended.csv'\n",
    "df_final.to_csv(output_filename, index=False)\n",
    "\n",
    "print(f\"Base de datos generada: {output_filename}\")\n",
    "print(f\"Total de registros: {len(df_final)}\")\n",
    "print(f\"Registros originales (simulados): {len(df_base)}\")\n",
    "print(f\"Registros nuevos (con errores): {len(df_new)}\")\n",
    "\n",
    "# Muestra de las primeras filas con los errores introducidos\n",
    "print(\"\\nPrimeras filas del CSV final:\")\n",
    "print(df_final.head(30))\n",
    "print(\"\\nÚltimas filas del CSV final (donde se concentran los errores):\")\n",
    "print(df_final.tail(30))\n",
    "\n",
    "df = df_final.copy()"
   ]
  },
  {
   "cell_type": "markdown",
   "id": "2c523007",
   "metadata": {},
   "source": [
    "## 🔎 Exploración Rápida de Datos (EDA)\n",
    "\n",
    "Este bloque de código realiza un análisis exploratorio inicial sobre un DataFrame `df`, con el objetivo de comprender su estructura, calidad de datos y detectar la variable objetivo para tareas de clasificación o regresión.\n",
    "\n",
    "### 🧩 1. Información general del dataset\n",
    "- **`df.shape`**: Muestra el número de filas y columnas del dataset.\n",
    "- **`df.columns.tolist()`**: Lista los nombres de las columnas presentes.\n",
    "- **`df.info()`**: Proporciona información sobre el tipo de datos de cada columna, cantidad de valores no nulos y uso de memoria.\n",
    "\n",
    "### 📊 2. Estadísticas descriptivas\n",
    "\n",
    "- Se genera un resumen estadístico de las columnas numéricas: media, desviación estándar, valores mínimos, máximos y percentiles.\n",
    "- La transposición (`.T`) permite visualizar las estadísticas en formato vertical, facilitando la lectura.\n",
    "\n",
    "### 🧼 3. Detección de valores nulos\n",
    "\n",
    "- Se calcula el número de valores nulos por columna para evaluar la calidad del dataset y decidir si es necesario imputar o eliminar datos.\n",
    "\n",
    "### 🎯 4. Identificación de la variable objetivo\n",
    "\n",
    "- Se busca automáticamente una columna llamada `target` o `label`, que comúnmente representa la variable objetivo.\n",
    "- Si no se encuentra, se asume que la última columna podría ser la etiqueta.\n",
    "\n",
    "### 📈 5. Distribución de la variable objetivo\n",
    "\n",
    "- Se muestra la distribución de clases en la variable objetivo, útil para detectar desbalance de clases.\n",
    "- Si no se detecta una columna explícita como `target` o `label`, se analiza la última columna como posible candidata."
   ]
  },
  {
   "cell_type": "markdown",
   "id": "469aa780",
   "metadata": {},
   "source": []
  },
  {
   "cell_type": "code",
   "execution_count": 337,
   "id": "d867c24b",
   "metadata": {},
   "outputs": [
    {
     "name": "stdout",
     "output_type": "stream",
     "text": [
      "Shape: (3000, 13)\n",
      "\n",
      "Columnas: ['age', 'anaemia', 'creatinine_phosphokinase', 'diabetes', 'ejection_fraction', 'high_blood_pressure', 'platelets', 'serum_creatinine', 'serum_sodium', 'sex', 'smoking', 'time', 'DEATH_EVENT']\n",
      "\n",
      "Info:\n",
      "<class 'pandas.core.frame.DataFrame'>\n",
      "RangeIndex: 3000 entries, 0 to 2999\n",
      "Data columns (total 13 columns):\n",
      " #   Column                    Non-Null Count  Dtype  \n",
      "---  ------                    --------------  -----  \n",
      " 0   age                       2840 non-null   float64\n",
      " 1   anaemia                   3000 non-null   int64  \n",
      " 2   creatinine_phosphokinase  2786 non-null   float64\n",
      " 3   diabetes                  3000 non-null   object \n",
      " 4   ejection_fraction         3000 non-null   int64  \n",
      " 5   high_blood_pressure       3000 non-null   int64  \n",
      " 6   platelets                 2686 non-null   float64\n",
      " 7   serum_creatinine          2845 non-null   object \n",
      " 8   serum_sodium              3000 non-null   float64\n",
      " 9   sex                       3000 non-null   object \n",
      " 10  smoking                   3000 non-null   int64  \n",
      " 11  time                      3000 non-null   int64  \n",
      " 12  DEATH_EVENT               2796 non-null   float64\n",
      "dtypes: float64(5), int64(5), object(3)\n",
      "memory usage: 304.8+ KB\n"
     ]
    },
    {
     "data": {
      "text/plain": [
       "None"
      ]
     },
     "metadata": {},
     "output_type": "display_data"
    },
    {
     "name": "stdout",
     "output_type": "stream",
     "text": [
      "\n",
      "Descripción numérica:\n"
     ]
    },
    {
     "data": {
      "application/vnd.microsoft.datawrangler.viewer.v0+json": {
       "columns": [
        {
         "name": "index",
         "rawType": "object",
         "type": "string"
        },
        {
         "name": "count",
         "rawType": "float64",
         "type": "float"
        },
        {
         "name": "mean",
         "rawType": "float64",
         "type": "float"
        },
        {
         "name": "std",
         "rawType": "float64",
         "type": "float"
        },
        {
         "name": "min",
         "rawType": "float64",
         "type": "float"
        },
        {
         "name": "25%",
         "rawType": "float64",
         "type": "float"
        },
        {
         "name": "50%",
         "rawType": "float64",
         "type": "float"
        },
        {
         "name": "75%",
         "rawType": "float64",
         "type": "float"
        },
        {
         "name": "max",
         "rawType": "float64",
         "type": "float"
        }
       ],
       "ref": "f1fc7777-d84e-474c-84bd-08be5fef4d38",
       "rows": [
        [
         "age",
         "2840.0",
         "67.66161971830986",
         "16.216653720476803",
         "40.0",
         "54.0",
         "67.0",
         "82.0",
         "95.0"
        ],
        [
         "anaemia",
         "3000.0",
         "0.505",
         "0.5000583493796114",
         "0.0",
         "0.0",
         "1.0",
         "1.0",
         "1.0"
        ],
        [
         "creatinine_phosphokinase",
         "2786.0",
         "3861.659727207466",
         "2242.3935159962866",
         "25.0",
         "1856.25",
         "3793.5",
         "5754.75",
         "7856.0"
        ],
        [
         "ejection_fraction",
         "3000.0",
         "60.24733333333333",
         "117.57692065329967",
         "-1.0",
         "30.0",
         "47.0",
         "64.0",
         "999.0"
        ],
        [
         "high_blood_pressure",
         "3000.0",
         "0.49333333333333335",
         "0.5000389003429376",
         "0.0",
         "0.0",
         "0.0",
         "1.0",
         "1.0"
        ],
        [
         "platelets",
         "2686.0",
         "474664.1749255399",
         "218736.29102237857",
         "100902.71",
         "278418.33249999996",
         "470766.435",
         "670618.8675",
         "849853.86"
        ],
        [
         "serum_sodium",
         "3000.0",
         "130.77063333333334",
         "10.069368943940757",
         "113.02",
         "122.2475",
         "130.735",
         "139.42249999999999",
         "148.0"
        ],
        [
         "smoking",
         "3000.0",
         "0.48033333333333333",
         "0.4996963621777531",
         "0.0",
         "0.0",
         "0.0",
         "1.0",
         "1.0"
        ],
        [
         "time",
         "3000.0",
         "141.50566666666666",
         "81.53105996572882",
         "4.0",
         "71.75",
         "137.0",
         "214.0",
         "285.0"
        ],
        [
         "DEATH_EVENT",
         "2796.0",
         "0.4896280400572246",
         "0.49998182906575966",
         "0.0",
         "0.0",
         "0.0",
         "1.0",
         "1.0"
        ]
       ],
       "shape": {
        "columns": 8,
        "rows": 10
       }
      },
      "text/html": [
       "<div>\n",
       "<style scoped>\n",
       "    .dataframe tbody tr th:only-of-type {\n",
       "        vertical-align: middle;\n",
       "    }\n",
       "\n",
       "    .dataframe tbody tr th {\n",
       "        vertical-align: top;\n",
       "    }\n",
       "\n",
       "    .dataframe thead th {\n",
       "        text-align: right;\n",
       "    }\n",
       "</style>\n",
       "<table border=\"1\" class=\"dataframe\">\n",
       "  <thead>\n",
       "    <tr style=\"text-align: right;\">\n",
       "      <th></th>\n",
       "      <th>count</th>\n",
       "      <th>mean</th>\n",
       "      <th>std</th>\n",
       "      <th>min</th>\n",
       "      <th>25%</th>\n",
       "      <th>50%</th>\n",
       "      <th>75%</th>\n",
       "      <th>max</th>\n",
       "    </tr>\n",
       "  </thead>\n",
       "  <tbody>\n",
       "    <tr>\n",
       "      <th>age</th>\n",
       "      <td>2840.0</td>\n",
       "      <td>67.661620</td>\n",
       "      <td>16.216654</td>\n",
       "      <td>40.00</td>\n",
       "      <td>54.0000</td>\n",
       "      <td>67.000</td>\n",
       "      <td>82.0000</td>\n",
       "      <td>95.00</td>\n",
       "    </tr>\n",
       "    <tr>\n",
       "      <th>anaemia</th>\n",
       "      <td>3000.0</td>\n",
       "      <td>0.505000</td>\n",
       "      <td>0.500058</td>\n",
       "      <td>0.00</td>\n",
       "      <td>0.0000</td>\n",
       "      <td>1.000</td>\n",
       "      <td>1.0000</td>\n",
       "      <td>1.00</td>\n",
       "    </tr>\n",
       "    <tr>\n",
       "      <th>creatinine_phosphokinase</th>\n",
       "      <td>2786.0</td>\n",
       "      <td>3861.659727</td>\n",
       "      <td>2242.393516</td>\n",
       "      <td>25.00</td>\n",
       "      <td>1856.2500</td>\n",
       "      <td>3793.500</td>\n",
       "      <td>5754.7500</td>\n",
       "      <td>7856.00</td>\n",
       "    </tr>\n",
       "    <tr>\n",
       "      <th>ejection_fraction</th>\n",
       "      <td>3000.0</td>\n",
       "      <td>60.247333</td>\n",
       "      <td>117.576921</td>\n",
       "      <td>-1.00</td>\n",
       "      <td>30.0000</td>\n",
       "      <td>47.000</td>\n",
       "      <td>64.0000</td>\n",
       "      <td>999.00</td>\n",
       "    </tr>\n",
       "    <tr>\n",
       "      <th>high_blood_pressure</th>\n",
       "      <td>3000.0</td>\n",
       "      <td>0.493333</td>\n",
       "      <td>0.500039</td>\n",
       "      <td>0.00</td>\n",
       "      <td>0.0000</td>\n",
       "      <td>0.000</td>\n",
       "      <td>1.0000</td>\n",
       "      <td>1.00</td>\n",
       "    </tr>\n",
       "    <tr>\n",
       "      <th>platelets</th>\n",
       "      <td>2686.0</td>\n",
       "      <td>474664.174926</td>\n",
       "      <td>218736.291022</td>\n",
       "      <td>100902.71</td>\n",
       "      <td>278418.3325</td>\n",
       "      <td>470766.435</td>\n",
       "      <td>670618.8675</td>\n",
       "      <td>849853.86</td>\n",
       "    </tr>\n",
       "    <tr>\n",
       "      <th>serum_sodium</th>\n",
       "      <td>3000.0</td>\n",
       "      <td>130.770633</td>\n",
       "      <td>10.069369</td>\n",
       "      <td>113.02</td>\n",
       "      <td>122.2475</td>\n",
       "      <td>130.735</td>\n",
       "      <td>139.4225</td>\n",
       "      <td>148.00</td>\n",
       "    </tr>\n",
       "    <tr>\n",
       "      <th>smoking</th>\n",
       "      <td>3000.0</td>\n",
       "      <td>0.480333</td>\n",
       "      <td>0.499696</td>\n",
       "      <td>0.00</td>\n",
       "      <td>0.0000</td>\n",
       "      <td>0.000</td>\n",
       "      <td>1.0000</td>\n",
       "      <td>1.00</td>\n",
       "    </tr>\n",
       "    <tr>\n",
       "      <th>time</th>\n",
       "      <td>3000.0</td>\n",
       "      <td>141.505667</td>\n",
       "      <td>81.531060</td>\n",
       "      <td>4.00</td>\n",
       "      <td>71.7500</td>\n",
       "      <td>137.000</td>\n",
       "      <td>214.0000</td>\n",
       "      <td>285.00</td>\n",
       "    </tr>\n",
       "    <tr>\n",
       "      <th>DEATH_EVENT</th>\n",
       "      <td>2796.0</td>\n",
       "      <td>0.489628</td>\n",
       "      <td>0.499982</td>\n",
       "      <td>0.00</td>\n",
       "      <td>0.0000</td>\n",
       "      <td>0.000</td>\n",
       "      <td>1.0000</td>\n",
       "      <td>1.00</td>\n",
       "    </tr>\n",
       "  </tbody>\n",
       "</table>\n",
       "</div>"
      ],
      "text/plain": [
       "                           count           mean            std        min  \\\n",
       "age                       2840.0      67.661620      16.216654      40.00   \n",
       "anaemia                   3000.0       0.505000       0.500058       0.00   \n",
       "creatinine_phosphokinase  2786.0    3861.659727    2242.393516      25.00   \n",
       "ejection_fraction         3000.0      60.247333     117.576921      -1.00   \n",
       "high_blood_pressure       3000.0       0.493333       0.500039       0.00   \n",
       "platelets                 2686.0  474664.174926  218736.291022  100902.71   \n",
       "serum_sodium              3000.0     130.770633      10.069369     113.02   \n",
       "smoking                   3000.0       0.480333       0.499696       0.00   \n",
       "time                      3000.0     141.505667      81.531060       4.00   \n",
       "DEATH_EVENT               2796.0       0.489628       0.499982       0.00   \n",
       "\n",
       "                                  25%         50%          75%        max  \n",
       "age                           54.0000      67.000      82.0000      95.00  \n",
       "anaemia                        0.0000       1.000       1.0000       1.00  \n",
       "creatinine_phosphokinase    1856.2500    3793.500    5754.7500    7856.00  \n",
       "ejection_fraction             30.0000      47.000      64.0000     999.00  \n",
       "high_blood_pressure            0.0000       0.000       1.0000       1.00  \n",
       "platelets                 278418.3325  470766.435  670618.8675  849853.86  \n",
       "serum_sodium                 122.2475     130.735     139.4225     148.00  \n",
       "smoking                        0.0000       0.000       1.0000       1.00  \n",
       "time                          71.7500     137.000     214.0000     285.00  \n",
       "DEATH_EVENT                    0.0000       0.000       1.0000       1.00  "
      ]
     },
     "metadata": {},
     "output_type": "display_data"
    }
   ],
   "source": [
    "print(\"Shape:\", df.shape)\n",
    "print(\"\\nColumnas:\", df.columns.tolist())\n",
    "print(\"\\nInfo:\")\n",
    "display(df.info())\n",
    "\n",
    "print(\"\\nDescripción numérica:\")\n",
    "display(df.describe().T)"
   ]
  },
  {
   "cell_type": "code",
   "execution_count": 338,
   "id": "ad5ea1a6",
   "metadata": {},
   "outputs": [
    {
     "name": "stdout",
     "output_type": "stream",
     "text": [
      "Tipos de datos:\n"
     ]
    },
    {
     "data": {
      "application/vnd.microsoft.datawrangler.viewer.v0+json": {
       "columns": [
        {
         "name": "index",
         "rawType": "object",
         "type": "string"
        },
        {
         "name": "0",
         "rawType": "object",
         "type": "unknown"
        }
       ],
       "ref": "1544d32f-f6a8-4a9b-afed-08ab68530b09",
       "rows": [
        [
         "age",
         "float64"
        ],
        [
         "anaemia",
         "int64"
        ],
        [
         "creatinine_phosphokinase",
         "float64"
        ],
        [
         "diabetes",
         "object"
        ],
        [
         "ejection_fraction",
         "int64"
        ],
        [
         "high_blood_pressure",
         "int64"
        ],
        [
         "platelets",
         "float64"
        ],
        [
         "serum_creatinine",
         "object"
        ],
        [
         "serum_sodium",
         "float64"
        ],
        [
         "sex",
         "object"
        ],
        [
         "smoking",
         "int64"
        ],
        [
         "time",
         "int64"
        ],
        [
         "DEATH_EVENT",
         "float64"
        ]
       ],
       "shape": {
        "columns": 1,
        "rows": 13
       }
      },
      "text/plain": [
       "age                         float64\n",
       "anaemia                       int64\n",
       "creatinine_phosphokinase    float64\n",
       "diabetes                     object\n",
       "ejection_fraction             int64\n",
       "high_blood_pressure           int64\n",
       "platelets                   float64\n",
       "serum_creatinine             object\n",
       "serum_sodium                float64\n",
       "sex                          object\n",
       "smoking                       int64\n",
       "time                          int64\n",
       "DEATH_EVENT                 float64\n",
       "dtype: object"
      ]
     },
     "metadata": {},
     "output_type": "display_data"
    },
    {
     "name": "stdout",
     "output_type": "stream",
     "text": [
      "\n",
      "Valores nulos por columna:\n"
     ]
    },
    {
     "data": {
      "application/vnd.microsoft.datawrangler.viewer.v0+json": {
       "columns": [
        {
         "name": "index",
         "rawType": "object",
         "type": "string"
        },
        {
         "name": "0",
         "rawType": "int64",
         "type": "integer"
        }
       ],
       "ref": "0ae1e927-1115-49fb-923a-50e288a727e9",
       "rows": [
        [
         "age",
         "160"
        ],
        [
         "anaemia",
         "0"
        ],
        [
         "creatinine_phosphokinase",
         "214"
        ],
        [
         "diabetes",
         "0"
        ],
        [
         "ejection_fraction",
         "0"
        ],
        [
         "high_blood_pressure",
         "0"
        ],
        [
         "platelets",
         "314"
        ],
        [
         "serum_creatinine",
         "155"
        ],
        [
         "serum_sodium",
         "0"
        ],
        [
         "sex",
         "0"
        ],
        [
         "smoking",
         "0"
        ],
        [
         "time",
         "0"
        ],
        [
         "DEATH_EVENT",
         "204"
        ]
       ],
       "shape": {
        "columns": 1,
        "rows": 13
       }
      },
      "text/plain": [
       "age                         160\n",
       "anaemia                       0\n",
       "creatinine_phosphokinase    214\n",
       "diabetes                      0\n",
       "ejection_fraction             0\n",
       "high_blood_pressure           0\n",
       "platelets                   314\n",
       "serum_creatinine            155\n",
       "serum_sodium                  0\n",
       "sex                           0\n",
       "smoking                       0\n",
       "time                          0\n",
       "DEATH_EVENT                 204\n",
       "dtype: int64"
      ]
     },
     "metadata": {},
     "output_type": "display_data"
    },
    {
     "name": "stdout",
     "output_type": "stream",
     "text": [
      "\n",
      "Conteos únicos por columna (hasta 10 mostrados):\n"
     ]
    },
    {
     "data": {
      "application/vnd.microsoft.datawrangler.viewer.v0+json": {
       "columns": [
        {
         "name": "index",
         "rawType": "object",
         "type": "string"
        },
        {
         "name": "0",
         "rawType": "int64",
         "type": "integer"
        }
       ],
       "ref": "52fe23eb-9a6b-4392-bf1c-7c91536fb093",
       "rows": [
        [
         "platelets",
         "2686"
        ],
        [
         "creatinine_phosphokinase",
         "2323"
        ],
        [
         "serum_sodium",
         "1993"
        ],
        [
         "serum_creatinine",
         "1030"
        ],
        [
         "time",
         "282"
        ],
        [
         "ejection_fraction",
         "69"
        ],
        [
         "age",
         "56"
        ],
        [
         "sex",
         "6"
        ],
        [
         "diabetes",
         "6"
        ],
        [
         "anaemia",
         "2"
        ],
        [
         "high_blood_pressure",
         "2"
        ],
        [
         "smoking",
         "2"
        ],
        [
         "DEATH_EVENT",
         "2"
        ]
       ],
       "shape": {
        "columns": 1,
        "rows": 13
       }
      },
      "text/plain": [
       "platelets                   2686\n",
       "creatinine_phosphokinase    2323\n",
       "serum_sodium                1993\n",
       "serum_creatinine            1030\n",
       "time                         282\n",
       "ejection_fraction             69\n",
       "age                           56\n",
       "sex                            6\n",
       "diabetes                       6\n",
       "anaemia                        2\n",
       "high_blood_pressure            2\n",
       "smoking                        2\n",
       "DEATH_EVENT                    2\n",
       "dtype: int64"
      ]
     },
     "metadata": {},
     "output_type": "display_data"
    },
    {
     "name": "stdout",
     "output_type": "stream",
     "text": [
      "\n",
      "Distribución de DEATH_EVENT:\n"
     ]
    },
    {
     "data": {
      "application/vnd.microsoft.datawrangler.viewer.v0+json": {
       "columns": [
        {
         "name": "DEATH_EVENT",
         "rawType": "Int64",
         "type": "integer"
        },
        {
         "name": "count",
         "rawType": "Int64",
         "type": "integer"
        }
       ],
       "ref": "84a885da-a72e-4ba8-bee2-c033f5b98a3a",
       "rows": [
        [
         "0",
         "1427"
        ],
        [
         "1",
         "1369"
        ],
        [
         null,
         "204"
        ]
       ],
       "shape": {
        "columns": 1,
        "rows": 3
       }
      },
      "text/plain": [
       "DEATH_EVENT\n",
       "0       1427\n",
       "1       1369\n",
       "<NA>     204\n",
       "Name: count, dtype: Int64"
      ]
     },
     "metadata": {},
     "output_type": "display_data"
    }
   ],
   "source": [
    "# Tipos, nulos, valores únicos\n",
    "print(\"Tipos de datos:\")\n",
    "display(df.dtypes)\n",
    "print(\"\\nValores nulos por columna:\")\n",
    "display(df.isnull().sum())\n",
    "print(\"\\nConteos únicos por columna (hasta 10 mostrados):\")\n",
    "display(df.nunique().sort_values(ascending=False).head(20))\n",
    "\n",
    "# Asegurar que la columna target está presente y es entera\n",
    "target_col = \"DEATH_EVENT\"\n",
    "if target_col not in df.columns:\n",
    "    raise KeyError(f\"No se encontró la columna objetivo '{target_col}' en el dataset.\")\n",
    "df[target_col] = pd.to_numeric(df[target_col], errors=\"coerce\").astype(\"Int64\")\n",
    "print(f\"\\nDistribución de {target_col}:\")\n",
    "display(df[target_col].value_counts(dropna=False))\n",
    "\n",
    "# Corregir posibles columnas numéricas mal tipadas (por ejemplo ages con float)\n",
    "for c in df.columns:\n",
    "    if df[c].dtype == \"float64\" and df[c].dropna().apply(float.is_integer).all():\n",
    "        # si son floats que representan enteros, convertir a int\n",
    "        df[c] = df[c].astype(\"Int64\")"
   ]
  },
  {
   "cell_type": "markdown",
   "id": "53e6c3a3",
   "metadata": {},
   "source": [
    "##### Después de hacer la exploración inicial, identificamos lo siguiente:\n",
    "- Hay 13 columnas y 3000 registros. \n",
    "- Las columnas `age`, ``creatinine``, ``platelets``, ``serum_cretinine`` y ``Death_event`` tienen nulos y los tipos de datos son númericos y objetos\n",
    "- De las 13 columnas existentes, hay 6 columnas booleanas que indican si se da o no esa situación: ``diabetes``, ``anaemia``, ``high_blood_pressure``, ``sex``, ``smoking``, ``DEATH_EVENT``"
   ]
  },
  {
   "cell_type": "markdown",
   "id": "f9761ad8",
   "metadata": {},
   "source": [
    "##### Preprocesamiento inicial de datos\n",
    "Se eliminan los registros nulos de la variable objetivo ``Death_event`` debido a que consideramos que es un valor relevante para la predicción"
   ]
  },
  {
   "cell_type": "code",
   "execution_count": 339,
   "id": "adf5fc4f",
   "metadata": {},
   "outputs": [
    {
     "name": "stdout",
     "output_type": "stream",
     "text": [
      "\n",
      "Valores nulos por columna:\n"
     ]
    },
    {
     "data": {
      "application/vnd.microsoft.datawrangler.viewer.v0+json": {
       "columns": [
        {
         "name": "index",
         "rawType": "object",
         "type": "string"
        },
        {
         "name": "0",
         "rawType": "int64",
         "type": "integer"
        }
       ],
       "ref": "f994e2e6-a77a-4e5b-8b7e-edd7b8f32b9b",
       "rows": [
        [
         "age",
         "144"
        ],
        [
         "anaemia",
         "0"
        ],
        [
         "creatinine_phosphokinase",
         "198"
        ],
        [
         "diabetes",
         "0"
        ],
        [
         "ejection_fraction",
         "0"
        ],
        [
         "high_blood_pressure",
         "0"
        ],
        [
         "platelets",
         "295"
        ],
        [
         "serum_creatinine",
         "147"
        ],
        [
         "serum_sodium",
         "0"
        ],
        [
         "sex",
         "0"
        ],
        [
         "smoking",
         "0"
        ],
        [
         "time",
         "0"
        ],
        [
         "DEATH_EVENT",
         "0"
        ]
       ],
       "shape": {
        "columns": 1,
        "rows": 13
       }
      },
      "text/plain": [
       "age                         144\n",
       "anaemia                       0\n",
       "creatinine_phosphokinase    198\n",
       "diabetes                      0\n",
       "ejection_fraction             0\n",
       "high_blood_pressure           0\n",
       "platelets                   295\n",
       "serum_creatinine            147\n",
       "serum_sodium                  0\n",
       "sex                           0\n",
       "smoking                       0\n",
       "time                          0\n",
       "DEATH_EVENT                   0\n",
       "dtype: int64"
      ]
     },
     "metadata": {},
     "output_type": "display_data"
    }
   ],
   "source": [
    "df.dropna(subset=['DEATH_EVENT'], inplace=True)\n",
    "print(\"\\nValores nulos por columna:\")\n",
    "display(df.isnull().sum())"
   ]
  },
  {
   "cell_type": "code",
   "execution_count": 340,
   "id": "380a33b7",
   "metadata": {},
   "outputs": [
    {
     "name": "stdout",
     "output_type": "stream",
     "text": [
      "\n",
      "=== Columna: age ===\n",
      "Tipos por elemento:\n",
      "{<class 'float'>: 2796}\n",
      "\n",
      "=== Columna: anaemia ===\n",
      "Tipos por elemento:\n",
      "{<class 'int'>: 2796}\n",
      "\n",
      "=== Columna: creatinine_phosphokinase ===\n",
      "Tipos por elemento:\n",
      "{<class 'float'>: 2796}\n",
      "\n",
      "=== Columna: diabetes ===\n",
      "Tipos por elemento:\n",
      "{<class 'int'>: 2632, <class 'str'>: 164}\n",
      "\n",
      "=== Columna: ejection_fraction ===\n",
      "Tipos por elemento:\n",
      "{<class 'int'>: 2796}\n",
      "\n",
      "=== Columna: high_blood_pressure ===\n",
      "Tipos por elemento:\n",
      "{<class 'int'>: 2796}\n",
      "\n",
      "=== Columna: platelets ===\n",
      "Tipos por elemento:\n",
      "{<class 'float'>: 2796}\n",
      "\n",
      "=== Columna: serum_creatinine ===\n",
      "Tipos por elemento:\n",
      "{<class 'float'>: 2597, <class 'str'>: 199}\n",
      "\n",
      "=== Columna: serum_sodium ===\n",
      "Tipos por elemento:\n",
      "{<class 'float'>: 2796}\n",
      "\n",
      "=== Columna: sex ===\n",
      "Tipos por elemento:\n",
      "{<class 'int'>: 2552, <class 'str'>: 244}\n",
      "\n",
      "=== Columna: smoking ===\n",
      "Tipos por elemento:\n",
      "{<class 'int'>: 2796}\n",
      "\n",
      "=== Columna: time ===\n",
      "Tipos por elemento:\n",
      "{<class 'int'>: 2796}\n",
      "\n",
      "=== Columna: DEATH_EVENT ===\n",
      "Tipos por elemento:\n",
      "{<class 'int'>: 2796}\n"
     ]
    }
   ],
   "source": [
    "# Reemplaza la celda incompleta por el siguiente código:\n",
    "for col in df.columns:\n",
    "    print(f\"\\n=== Columna: {col} ===\")\n",
    "    # Tipos por elemento\n",
    "    tipos = df[col].apply(type).value_counts()\n",
    "    print(\"Tipos por elemento:\")\n",
    "    print(tipos.to_dict())\n"
   ]
  },
  {
   "cell_type": "markdown",
   "id": "718c9e30",
   "metadata": {},
   "source": [
    "De la revisión anterior, se identifica que las columnas `serum_creatinine`, `sex` y `diabetes`\n",
    "tienen valores que son de tipo *string*, cuando se espera que sean todos numéricos.\n",
    "Se realiza un procesamiento especial para estas columnas."
   ]
  },
  {
   "cell_type": "markdown",
   "id": "c1cbbfa8",
   "metadata": {},
   "source": [
    "##### Transformación y limpieza de la columna `serum_creatine`\n",
    "\n",
    "Este proceso tiene como objetivo estandarizar los datos de la columna `serum_creatine` a un tipo booleano, identificando y transformando los valores de texto y gestionando los valores nulos."
   ]
  },
  {
   "cell_type": "code",
   "execution_count": null,
   "id": "e15c8677",
   "metadata": {},
   "outputs": [
    {
     "data": {
      "application/vnd.microsoft.datawrangler.viewer.v0+json": {
       "columns": [
        {
         "name": "index",
         "rawType": "int64",
         "type": "integer"
        },
        {
         "name": "serum_creatinine",
         "rawType": "object",
         "type": "string"
        }
       ],
       "ref": "d927ad5e-d854-41db-ae91-a6eed94915d3",
       "rows": [
        [
         "301",
         "6.44 mg/dL"
        ],
        [
         "327",
         "8.22 mg/dL"
        ],
        [
         "360",
         "4.46 mg/dL"
        ],
        [
         "370",
         "Desconocido"
        ],
        [
         "372",
         "4.40 mg/dL"
        ],
        [
         "398",
         "1.39 mg/dL"
        ],
        [
         "404",
         "6.19 mg/dL"
        ],
        [
         "419",
         "Desconocido"
        ],
        [
         "420",
         "4.23 mg/dL"
        ],
        [
         "433",
         "5.56 mg/dL"
        ],
        [
         "462",
         "1.51 mg/dL"
        ],
        [
         "581",
         "2.58 mg/dL"
        ],
        [
         "582",
         "1.21 mg/dL"
        ],
        [
         "589",
         "Desconocido"
        ],
        [
         "604",
         "7.91 mg/dL"
        ],
        [
         "618",
         "1.18 mg/dL"
        ],
        [
         "624",
         "6.72 mg/dL"
        ],
        [
         "654",
         "4.00 mg/dL"
        ],
        [
         "664",
         "4.85 mg/dL"
        ],
        [
         "677",
         "8.00 mg/dL"
        ],
        [
         "706",
         "7.70 mg/dL"
        ],
        [
         "715",
         "8.02 mg/dL"
        ],
        [
         "724",
         "Desconocido"
        ],
        [
         "744",
         "9.21 mg/dL"
        ],
        [
         "745",
         "5.80 mg/dL"
        ],
        [
         "764",
         "2.62 mg/dL"
        ],
        [
         "803",
         "4.94 mg/dL"
        ],
        [
         "822",
         "2.16 mg/dL"
        ],
        [
         "827",
         "4.64 mg/dL"
        ],
        [
         "847",
         "2.85 mg/dL"
        ],
        [
         "856",
         "7.12 mg/dL"
        ],
        [
         "862",
         "7.70 mg/dL"
        ],
        [
         "867",
         "3.60 mg/dL"
        ],
        [
         "889",
         "4.62 mg/dL"
        ],
        [
         "899",
         "2.35 mg/dL"
        ],
        [
         "909",
         "1.65 mg/dL"
        ],
        [
         "940",
         "Desconocido"
        ],
        [
         "956",
         "3.07 mg/dL"
        ],
        [
         "959",
         "7.70 mg/dL"
        ],
        [
         "971",
         "2.68 mg/dL"
        ],
        [
         "981",
         "6.01 mg/dL"
        ],
        [
         "983",
         "Desconocido"
        ],
        [
         "986",
         "7.79 mg/dL"
        ],
        [
         "987",
         "8.61 mg/dL"
        ],
        [
         "994",
         "0.58 mg/dL"
        ],
        [
         "1002",
         "8.54 mg/dL"
        ],
        [
         "1020",
         "0.89 mg/dL"
        ],
        [
         "1030",
         "7.24 mg/dL"
        ],
        [
         "1059",
         "6.20 mg/dL"
        ],
        [
         "1060",
         "1.04 mg/dL"
        ]
       ],
       "shape": {
        "columns": 1,
        "rows": 199
       }
      },
      "text/plain": [
       "301      6.44 mg/dL\n",
       "327      8.22 mg/dL\n",
       "360      4.46 mg/dL\n",
       "370     Desconocido\n",
       "372      4.40 mg/dL\n",
       "           ...     \n",
       "2956     1.43 mg/dL\n",
       "2978     1.63 mg/dL\n",
       "2979     5.00 mg/dL\n",
       "2984     6.83 mg/dL\n",
       "2998     9.13 mg/dL\n",
       "Name: serum_creatinine, Length: 199, dtype: object"
      ]
     },
     "execution_count": 341,
     "metadata": {},
     "output_type": "execute_result"
    }
   ],
   "source": [
    "strings_serum_creatinine = df['serum_creatinine'][df['serum_creatinine'].apply(lambda x: isinstance(x, str))]\n",
    "strings_serum_creatinine"
   ]
  },
  {
   "cell_type": "code",
   "execution_count": null,
   "id": "867ca050",
   "metadata": {},
   "outputs": [
    {
     "name": "stdout",
     "output_type": "stream",
     "text": [
      "\n",
      "Resumen post-limpieza serum_creatinine:\n",
      "count    2637.000000\n",
      "mean        5.004494\n",
      "std         2.542980\n",
      "min         0.500000\n",
      "25%         2.820000\n",
      "50%         5.080000\n",
      "75%         7.140000\n",
      "max         9.400000\n",
      "Name: serum_creatinine, dtype: float64\n",
      "Nulos en serum_creatinine: 159\n"
     ]
    }
   ],
   "source": [
    "def clean_serum_creatinine(v):\n",
    "    if pd.isna(v):\n",
    "        return np.nan\n",
    "    if isinstance(v, str):\n",
    "        s = v.strip()\n",
    "        if s.lower() == 'desconocido':\n",
    "            return np.nan\n",
    "        s = s.replace(',', '.')\n",
    "        m = re.search(r'[-+]?\\d*\\.?\\d+(?:[eE][-+]?\\d+)?', s)\n",
    "        return float(m.group()) if m else np.nan\n",
    "    try:\n",
    "        return float(v)\n",
    "    except Exception:\n",
    "        return np.nan\n",
    "\n",
    "df['serum_creatinine'] = df['serum_creatinine'].apply(clean_serum_creatinine)\n",
    "df['serum_creatinine'] = pd.to_numeric(df['serum_creatinine'], errors='coerce')\n",
    "\n",
    "print(\"\\nResumen post-limpieza serum_creatinine:\")\n",
    "print(df['serum_creatinine'].describe())\n",
    "print(\"Nulos en serum_creatinine:\", df['serum_creatinine'].isna().sum())"
   ]
  },
  {
   "cell_type": "markdown",
   "id": "78a35bda",
   "metadata": {},
   "source": [
    "##### Transformación y limpieza de la columna `sex`\n",
    "\n",
    "Este proceso tiene como objetivo estandarizar los datos de la columna `sex` a un tipo booleano, identificando y transformando los valores de texto y gestionando los valores nulos (NaN)."
   ]
  },
  {
   "cell_type": "code",
   "execution_count": null,
   "id": "f2dd59dd",
   "metadata": {},
   "outputs": [
    {
     "data": {
      "application/vnd.microsoft.datawrangler.viewer.v0+json": {
       "columns": [
        {
         "name": "index",
         "rawType": "int64",
         "type": "integer"
        },
        {
         "name": "sex",
         "rawType": "object",
         "type": "string"
        }
       ],
       "ref": "671474a8-2adc-463d-92c6-d9f5fe5a0f49",
       "rows": [
        [
         "300",
         "FEMALE"
        ],
        [
         "336",
         "MALE"
        ],
        [
         "339",
         "MALE"
        ],
        [
         "349",
         "male"
        ],
        [
         "351",
         "male"
        ],
        [
         "355",
         "MALE"
        ],
        [
         "360",
         "female"
        ],
        [
         "361",
         "female"
        ],
        [
         "373",
         "male"
        ],
        [
         "382",
         "FEMALE"
        ],
        [
         "383",
         "female"
        ],
        [
         "388",
         "male"
        ],
        [
         "409",
         "female"
        ],
        [
         "426",
         "female"
        ],
        [
         "433",
         "male"
        ],
        [
         "437",
         "MALE"
        ],
        [
         "482",
         "MALE"
        ],
        [
         "492",
         "male"
        ],
        [
         "493",
         "male"
        ],
        [
         "496",
         "male"
        ],
        [
         "505",
         "male"
        ],
        [
         "507",
         "female"
        ],
        [
         "526",
         "FEMALE"
        ],
        [
         "541",
         "FEMALE"
        ],
        [
         "555",
         "MALE"
        ],
        [
         "568",
         "female"
        ],
        [
         "573",
         "female"
        ],
        [
         "578",
         "MALE"
        ],
        [
         "579",
         "MALE"
        ],
        [
         "599",
         "male"
        ],
        [
         "613",
         "male"
        ],
        [
         "633",
         "FEMALE"
        ],
        [
         "662",
         "male"
        ],
        [
         "668",
         "FEMALE"
        ],
        [
         "708",
         "MALE"
        ],
        [
         "746",
         "MALE"
        ],
        [
         "767",
         "FEMALE"
        ],
        [
         "768",
         "male"
        ],
        [
         "782",
         "female"
        ],
        [
         "788",
         "FEMALE"
        ],
        [
         "813",
         "male"
        ],
        [
         "835",
         "MALE"
        ],
        [
         "851",
         "female"
        ],
        [
         "852",
         "male"
        ],
        [
         "862",
         "MALE"
        ],
        [
         "864",
         "MALE"
        ],
        [
         "867",
         "female"
        ],
        [
         "869",
         "MALE"
        ],
        [
         "916",
         "female"
        ],
        [
         "919",
         "female"
        ]
       ],
       "shape": {
        "columns": 1,
        "rows": 244
       }
      },
      "text/plain": [
       "300     FEMALE\n",
       "336       MALE\n",
       "339       MALE\n",
       "349       male\n",
       "351       male\n",
       "         ...  \n",
       "2946    female\n",
       "2949    FEMALE\n",
       "2969    female\n",
       "2973    FEMALE\n",
       "2994    FEMALE\n",
       "Name: sex, Length: 244, dtype: object"
      ]
     },
     "execution_count": 343,
     "metadata": {},
     "output_type": "execute_result"
    }
   ],
   "source": [
    "strings_sex = df['sex'][df['sex'].apply(lambda x: isinstance(x, str))]\n",
    "strings_sex"
   ]
  },
  {
   "cell_type": "code",
   "execution_count": 344,
   "id": "8d69a17a",
   "metadata": {},
   "outputs": [
    {
     "data": {
      "text/plain": [
       "array([1, 0, 'FEMALE', 'MALE', 'male', 'female'], dtype=object)"
      ]
     },
     "execution_count": 344,
     "metadata": {},
     "output_type": "execute_result"
    }
   ],
   "source": [
    "df['sex'].unique()"
   ]
  },
  {
   "cell_type": "code",
   "execution_count": null,
   "id": "26bc448d",
   "metadata": {},
   "outputs": [
    {
     "name": "stdout",
     "output_type": "stream",
     "text": [
      "\n",
      "Conteos en 'sex' después de la limpieza (incluye NA):\n"
     ]
    },
    {
     "data": {
      "application/vnd.microsoft.datawrangler.viewer.v0+json": {
       "columns": [
        {
         "name": "sex",
         "rawType": "int64",
         "type": "integer"
        },
        {
         "name": "count",
         "rawType": "int64",
         "type": "integer"
        }
       ],
       "ref": "2a1b644c-43d8-4688-b1a2-3af14d17bbba",
       "rows": [
        [
         "1",
         "1422"
        ],
        [
         "0",
         "1374"
        ]
       ],
       "shape": {
        "columns": 1,
        "rows": 2
       }
      },
      "text/plain": [
       "sex\n",
       "1    1422\n",
       "0    1374\n",
       "Name: count, dtype: int64"
      ]
     },
     "metadata": {},
     "output_type": "display_data"
    }
   ],
   "source": [
    "def clean_sex(v):\n",
    "    if isinstance(v, str):\n",
    "        s = v.lower()\n",
    "        if s in ('male'):\n",
    "            return 1\n",
    "        if s in ('female'):\n",
    "            return 0\n",
    "    else:\n",
    "        return v\n",
    "\n",
    "df['sex'] = df['sex'].apply(clean_sex)\n",
    "\n",
    "print(\"\\nConteos en 'sex' después de la limpieza (incluye NA):\")\n",
    "display(df['sex'].value_counts(dropna=False))\n"
   ]
  },
  {
   "cell_type": "markdown",
   "id": "f135c2be",
   "metadata": {},
   "source": [
    "##### Transformación y limpieza de la columna `diabetes`\n",
    "\n",
    "Este proceso tiene como objetivo estandarizar los datos de la columna `diabetes` a un tipo booleano, identificando y transformando los valores de texto y gestionando los valores nulos (NaN)."
   ]
  },
  {
   "cell_type": "code",
   "execution_count": 346,
   "id": "4bc71ce1",
   "metadata": {},
   "outputs": [
    {
     "data": {
      "text/plain": [
       "array([0, 1, 'YES', 'NO', 2, 'N/A'], dtype=object)"
      ]
     },
     "execution_count": 346,
     "metadata": {},
     "output_type": "execute_result"
    }
   ],
   "source": [
    "df['diabetes'].unique()"
   ]
  },
  {
   "cell_type": "code",
   "execution_count": null,
   "id": "ffa4da3b",
   "metadata": {},
   "outputs": [
    {
     "data": {
      "application/vnd.microsoft.datawrangler.viewer.v0+json": {
       "columns": [
        {
         "name": "index",
         "rawType": "int64",
         "type": "integer"
        },
        {
         "name": "diabetes",
         "rawType": "object",
         "type": "string"
        }
       ],
       "ref": "725f49c6-dc7f-4224-828a-fc5378ad18b4",
       "rows": [
        [
         "301",
         "YES"
        ],
        [
         "313",
         "NO"
        ],
        [
         "317",
         "YES"
        ],
        [
         "331",
         "YES"
        ],
        [
         "361",
         "YES"
        ],
        [
         "373",
         "N/A"
        ],
        [
         "375",
         "YES"
        ],
        [
         "383",
         "YES"
        ],
        [
         "388",
         "NO"
        ],
        [
         "393",
         "YES"
        ],
        [
         "396",
         "YES"
        ],
        [
         "427",
         "YES"
        ],
        [
         "433",
         "N/A"
        ],
        [
         "437",
         "YES"
        ],
        [
         "450",
         "YES"
        ],
        [
         "497",
         "YES"
        ],
        [
         "518",
         "N/A"
        ],
        [
         "532",
         "YES"
        ],
        [
         "559",
         "NO"
        ],
        [
         "566",
         "N/A"
        ],
        [
         "581",
         "N/A"
        ],
        [
         "587",
         "NO"
        ],
        [
         "610",
         "NO"
        ],
        [
         "616",
         "N/A"
        ],
        [
         "617",
         "YES"
        ],
        [
         "618",
         "YES"
        ],
        [
         "621",
         "YES"
        ],
        [
         "665",
         "NO"
        ],
        [
         "666",
         "YES"
        ],
        [
         "669",
         "N/A"
        ],
        [
         "687",
         "YES"
        ],
        [
         "696",
         "N/A"
        ],
        [
         "697",
         "NO"
        ],
        [
         "698",
         "NO"
        ],
        [
         "735",
         "NO"
        ],
        [
         "737",
         "YES"
        ],
        [
         "738",
         "N/A"
        ],
        [
         "742",
         "N/A"
        ],
        [
         "746",
         "NO"
        ],
        [
         "763",
         "YES"
        ],
        [
         "764",
         "YES"
        ],
        [
         "766",
         "YES"
        ],
        [
         "791",
         "YES"
        ],
        [
         "818",
         "YES"
        ],
        [
         "852",
         "N/A"
        ],
        [
         "886",
         "YES"
        ],
        [
         "916",
         "YES"
        ],
        [
         "932",
         "NO"
        ],
        [
         "948",
         "NO"
        ],
        [
         "949",
         "N/A"
        ]
       ],
       "shape": {
        "columns": 1,
        "rows": 164
       }
      },
      "text/plain": [
       "301     YES\n",
       "313      NO\n",
       "317     YES\n",
       "331     YES\n",
       "361     YES\n",
       "       ... \n",
       "2916    N/A\n",
       "2926    YES\n",
       "2948    N/A\n",
       "2962    YES\n",
       "2998     NO\n",
       "Name: diabetes, Length: 164, dtype: object"
      ]
     },
     "execution_count": 347,
     "metadata": {},
     "output_type": "execute_result"
    }
   ],
   "source": [
    "strings_diabetes = df['diabetes'][df['diabetes'].apply(lambda x: isinstance(x, str))]\n",
    "strings_diabetes"
   ]
  },
  {
   "cell_type": "code",
   "execution_count": null,
   "id": "534aa026",
   "metadata": {},
   "outputs": [
    {
     "name": "stdout",
     "output_type": "stream",
     "text": [
      "\n",
      "Conteos en 'diabetes' después de la limpieza (incluye NA):\n"
     ]
    },
    {
     "data": {
      "application/vnd.microsoft.datawrangler.viewer.v0+json": {
       "columns": [
        {
         "name": "diabetes",
         "rawType": "Int64",
         "type": "integer"
        },
        {
         "name": "count",
         "rawType": "Int64",
         "type": "integer"
        }
       ],
       "ref": "d681c087-4241-47ea-8803-4b5832cabf1d",
       "rows": [
        [
         "0",
         "1406"
        ],
        [
         "1",
         "1261"
        ],
        [
         null,
         "129"
        ]
       ],
       "shape": {
        "columns": 1,
        "rows": 3
       }
      },
      "text/plain": [
       "diabetes\n",
       "0       1406\n",
       "1       1261\n",
       "<NA>     129\n",
       "Name: count, dtype: Int64"
      ]
     },
     "metadata": {},
     "output_type": "display_data"
    }
   ],
   "source": [
    "def clean_diabetes(v):\n",
    "    if isinstance(v, str):\n",
    "        s = v.lower()\n",
    "        if s in ('yes'):\n",
    "            return 1\n",
    "        if s in ('no'):\n",
    "            return 0\n",
    "        if s in ('n/a'):\n",
    "            return np.nan\n",
    "    elif v == 2:\n",
    "        return np.nan\n",
    "    else:\n",
    "        return v\n",
    "\n",
    "df['diabetes'] = df['diabetes'].apply(clean_diabetes).astype('Int64')\n",
    "\n",
    "\n",
    "print(\"\\nConteos en 'diabetes' después de la limpieza (incluye NA):\")\n",
    "display(df['diabetes'].value_counts(dropna=False))"
   ]
  },
  {
   "cell_type": "code",
   "execution_count": 349,
   "id": "972093d8",
   "metadata": {},
   "outputs": [
    {
     "name": "stdout",
     "output_type": "stream",
     "text": [
      "\n",
      "=== Columna: age ===\n",
      "Tipos por elemento:\n",
      "{<class 'float'>: 2796}\n",
      "\n",
      "=== Columna: anaemia ===\n",
      "Tipos por elemento:\n",
      "{<class 'int'>: 2796}\n",
      "\n",
      "=== Columna: creatinine_phosphokinase ===\n",
      "Tipos por elemento:\n",
      "{<class 'float'>: 2796}\n",
      "\n",
      "=== Columna: diabetes ===\n"
     ]
    },
    {
     "name": "stdout",
     "output_type": "stream",
     "text": [
      "Tipos por elemento:\n",
      "{<class 'float'>: 2796}\n",
      "\n",
      "=== Columna: ejection_fraction ===\n",
      "Tipos por elemento:\n",
      "{<class 'int'>: 2796}\n",
      "\n",
      "=== Columna: high_blood_pressure ===\n",
      "Tipos por elemento:\n",
      "{<class 'int'>: 2796}\n",
      "\n",
      "=== Columna: platelets ===\n",
      "Tipos por elemento:\n",
      "{<class 'float'>: 2796}\n",
      "\n",
      "=== Columna: serum_creatinine ===\n",
      "Tipos por elemento:\n",
      "{<class 'float'>: 2796}\n",
      "\n",
      "=== Columna: serum_sodium ===\n",
      "Tipos por elemento:\n",
      "{<class 'float'>: 2796}\n",
      "\n",
      "=== Columna: sex ===\n",
      "Tipos por elemento:\n",
      "{<class 'int'>: 2796}\n",
      "\n",
      "=== Columna: smoking ===\n",
      "Tipos por elemento:\n",
      "{<class 'int'>: 2796}\n",
      "\n",
      "=== Columna: time ===\n",
      "Tipos por elemento:\n",
      "{<class 'int'>: 2796}\n",
      "\n",
      "=== Columna: DEATH_EVENT ===\n",
      "Tipos por elemento:\n",
      "{<class 'int'>: 2796}\n"
     ]
    }
   ],
   "source": [
    "# Reemplaza la celda incompleta por el siguiente código:\n",
    "for col in df.columns:\n",
    "    print(f\"\\n=== Columna: {col} ===\")\n",
    "    # Tipos por elemento\n",
    "    tipos = df[col].apply(type).value_counts()\n",
    "    print(\"Tipos por elemento:\")\n",
    "    print(tipos.to_dict())\n"
   ]
  },
  {
   "cell_type": "markdown",
   "id": "d5cb632a",
   "metadata": {},
   "source": [
    "### Se valida que no hay valores tipo  string en las columnas numéricas"
   ]
  },
  {
   "cell_type": "markdown",
   "id": "3f5a2ce9",
   "metadata": {},
   "source": [
    "## Imputación y manejo de nulos\n",
    "\n",
    "Debido al ruido que puede generar la imputación de las variables booleanas, se elimina los registros nulos de ellas\n",
    "\n",
    "Por otro lado, para las variables flotantes, procedemos a hacer imputación según el tipo"
   ]
  },
  {
   "cell_type": "code",
   "execution_count": 350,
   "id": "3aaf65a2",
   "metadata": {},
   "outputs": [],
   "source": [
    "# Se identifica que de las 13 columnas existentes, hay 6 columnas booleanas que indican si se da o no esa situación.\n",
    "cols_to_bool = [\n",
    "    \"diabetes\",\n",
    "    \"anaemia\",\n",
    "    \"high_blood_pressure\",\n",
    "    \"sex\",\n",
    "    \"smoking\",\n",
    "    \"DEATH_EVENT\"\n",
    "]\n",
    "\n",
    "for c in cols_to_bool:\n",
    "    df[c] = pd.to_numeric(df[c], errors=\"coerce\").map({0: False, 1: True}).astype(\"boolean\")\n"
   ]
  },
  {
   "cell_type": "code",
   "execution_count": 351,
   "id": "782f993a",
   "metadata": {},
   "outputs": [
    {
     "data": {
      "application/vnd.microsoft.datawrangler.viewer.v0+json": {
       "columns": [
        {
         "name": "index",
         "rawType": "object",
         "type": "string"
        },
        {
         "name": "0",
         "rawType": "int64",
         "type": "integer"
        }
       ],
       "ref": "018b0ce3-598e-413b-af10-435e49405d4b",
       "rows": [
        [
         "age",
         "144"
        ],
        [
         "anaemia",
         "0"
        ],
        [
         "creatinine_phosphokinase",
         "198"
        ],
        [
         "diabetes",
         "129"
        ],
        [
         "ejection_fraction",
         "0"
        ],
        [
         "high_blood_pressure",
         "0"
        ],
        [
         "platelets",
         "295"
        ],
        [
         "serum_creatinine",
         "159"
        ],
        [
         "serum_sodium",
         "0"
        ],
        [
         "sex",
         "0"
        ],
        [
         "smoking",
         "0"
        ],
        [
         "time",
         "0"
        ],
        [
         "DEATH_EVENT",
         "0"
        ]
       ],
       "shape": {
        "columns": 1,
        "rows": 13
       }
      },
      "text/plain": [
       "age                         144\n",
       "anaemia                       0\n",
       "creatinine_phosphokinase    198\n",
       "diabetes                    129\n",
       "ejection_fraction             0\n",
       "high_blood_pressure           0\n",
       "platelets                   295\n",
       "serum_creatinine            159\n",
       "serum_sodium                  0\n",
       "sex                           0\n",
       "smoking                       0\n",
       "time                          0\n",
       "DEATH_EVENT                   0\n",
       "dtype: int64"
      ]
     },
     "metadata": {},
     "output_type": "display_data"
    }
   ],
   "source": [
    "display(df.isnull().sum())"
   ]
  },
  {
   "cell_type": "code",
   "execution_count": 352,
   "id": "dd92ffeb",
   "metadata": {},
   "outputs": [
    {
     "name": "stdout",
     "output_type": "stream",
     "text": [
      "\n",
      "Valores nulos por columna:\n"
     ]
    },
    {
     "data": {
      "application/vnd.microsoft.datawrangler.viewer.v0+json": {
       "columns": [
        {
         "name": "index",
         "rawType": "object",
         "type": "string"
        },
        {
         "name": "0",
         "rawType": "int64",
         "type": "integer"
        }
       ],
       "ref": "b2321763-302e-4663-b60f-41c9c452de48",
       "rows": [
        [
         "age",
         "136"
        ],
        [
         "anaemia",
         "0"
        ],
        [
         "creatinine_phosphokinase",
         "186"
        ],
        [
         "diabetes",
         "0"
        ],
        [
         "ejection_fraction",
         "0"
        ],
        [
         "high_blood_pressure",
         "0"
        ],
        [
         "platelets",
         "284"
        ],
        [
         "serum_creatinine",
         "151"
        ],
        [
         "serum_sodium",
         "0"
        ],
        [
         "sex",
         "0"
        ],
        [
         "smoking",
         "0"
        ],
        [
         "time",
         "0"
        ],
        [
         "DEATH_EVENT",
         "0"
        ]
       ],
       "shape": {
        "columns": 1,
        "rows": 13
       }
      },
      "text/plain": [
       "age                         136\n",
       "anaemia                       0\n",
       "creatinine_phosphokinase    186\n",
       "diabetes                      0\n",
       "ejection_fraction             0\n",
       "high_blood_pressure           0\n",
       "platelets                   284\n",
       "serum_creatinine            151\n",
       "serum_sodium                  0\n",
       "sex                           0\n",
       "smoking                       0\n",
       "time                          0\n",
       "DEATH_EVENT                   0\n",
       "dtype: int64"
      ]
     },
     "metadata": {},
     "output_type": "display_data"
    }
   ],
   "source": [
    "df.dropna(subset= ['diabetes'], inplace=True)\n",
    "print(\"\\nValores nulos por columna:\")\n",
    "display(df.isnull().sum())"
   ]
  },
  {
   "cell_type": "code",
   "execution_count": 353,
   "id": "24746090",
   "metadata": {},
   "outputs": [
    {
     "name": "stdout",
     "output_type": "stream",
     "text": [
      "<class 'pandas.core.frame.DataFrame'>\n",
      "Index: 2667 entries, 0 to 2999\n",
      "Data columns (total 13 columns):\n",
      " #   Column                    Non-Null Count  Dtype  \n",
      "---  ------                    --------------  -----  \n",
      " 0   age                       2531 non-null   Int64  \n",
      " 1   anaemia                   2667 non-null   boolean\n",
      " 2   creatinine_phosphokinase  2481 non-null   Int64  \n",
      " 3   diabetes                  2667 non-null   boolean\n",
      " 4   ejection_fraction         2667 non-null   int64  \n",
      " 5   high_blood_pressure       2667 non-null   boolean\n",
      " 6   platelets                 2383 non-null   float64\n",
      " 7   serum_creatinine          2516 non-null   float64\n",
      " 8   serum_sodium              2667 non-null   float64\n",
      " 9   sex                       2667 non-null   boolean\n",
      " 10  smoking                   2667 non-null   boolean\n",
      " 11  time                      2667 non-null   int64  \n",
      " 12  DEATH_EVENT               2667 non-null   boolean\n",
      "dtypes: Int64(2), boolean(6), float64(3), int64(2)\n",
      "memory usage: 203.2 KB\n"
     ]
    }
   ],
   "source": [
    "df.info()"
   ]
  },
  {
   "cell_type": "markdown",
   "id": "488d8b57",
   "metadata": {},
   "source": [
    "### Con el fin de identificar la distribución de los datos, se realiza la siguiente gráfica"
   ]
  },
  {
   "cell_type": "code",
   "execution_count": 354,
   "id": "7eb2845c",
   "metadata": {},
   "outputs": [
    {
     "data": {
      "image/png": "[encoded data removed]",
      "text/plain": [
       "<Figure size 1500x1200 with 7 Axes>"
      ]
     },
     "metadata": {},
     "output_type": "display_data"
    }
   ],
   "source": [
    "# Obtener columnas numéricas (excluyendo booleanas)\n",
    "numeric_cols = df.select_dtypes(exclude=['boolean']).columns\n",
    "\n",
    "# Calcular número de filas y columnas para el subplot\n",
    "n_cols = 3\n",
    "n_rows = (len(numeric_cols) + n_cols - 1) // n_cols\n",
    "\n",
    "# Crear figura\n",
    "plt.figure(figsize=(15, 4*n_rows))\n",
    "\n",
    "# Crear subplots para cada variable\n",
    "for i, col in enumerate(numeric_cols, 1):\n",
    "    plt.subplot(n_rows, n_cols, i)\n",
    "    sns.histplot(data=df, x=col, kde=True)\n",
    "    plt.title(f'Distribución de {col}')\n",
    "    plt.xlabel(col)\n",
    "    plt.ylabel('Frecuencia')\n",
    "\n",
    "plt.tight_layout()\n",
    "plt.show()"
   ]
  },
  {
   "cell_type": "markdown",
   "id": "8bbe6ee8",
   "metadata": {},
   "source": [
    "### Se observan datos atipicos en ejection fraction "
   ]
  },
  {
   "cell_type": "code",
   "execution_count": 355,
   "id": "78fba215",
   "metadata": {},
   "outputs": [],
   "source": [
    "# Se elimina los valores atípicos en ejection_fraction\n",
    "df['ejection_fraction'] = df['ejection_fraction'].apply(lambda x: np.nan if x < 0 or x > 200 else x)"
   ]
  },
  {
   "cell_type": "markdown",
   "id": "dcdd5acc",
   "metadata": {},
   "source": [
    "## Se procede a guardar el dataframe procesado\n"
   ]
  },
  {
   "cell_type": "code",
   "execution_count": 356,
   "id": "4cb81182",
   "metadata": {},
   "outputs": [],
   "source": [
    "df.to_csv('heart_failure_clinical_records_extended_cleaned.csv', index=False)"
   ]
  },
  {
   "cell_type": "markdown",
   "id": "701286f2",
   "metadata": {},
   "source": [
    "### Se realizan múltiples gráficas para entender los datos"
   ]
  },
  {
   "cell_type": "code",
   "execution_count": 357,
   "id": "b4f935fe",
   "metadata": {},
   "outputs": [
    {
     "data": {
      "application/vnd.microsoft.datawrangler.viewer.v0+json": {
       "columns": [
        {
         "name": "index",
         "rawType": "int64",
         "type": "integer"
        },
        {
         "name": "age",
         "rawType": "Int64",
         "type": "integer"
        },
        {
         "name": "age_group",
         "rawType": "category",
         "type": "unknown"
        }
       ],
       "ref": "ea7a4b02-2cac-4e6c-8e74-e2fd40d80786",
       "rows": [
        [
         "0",
         "78",
         "76-80"
        ],
        [
         "1",
         "91",
         "81-95"
        ],
        [
         "2",
         "68",
         "66-70"
        ],
        [
         "3",
         "54",
         "51-55"
        ],
        [
         "4",
         "82",
         "81-95"
        ]
       ],
       "shape": {
        "columns": 2,
        "rows": 5
       }
      },
      "text/html": [
       "<div>\n",
       "<style scoped>\n",
       "    .dataframe tbody tr th:only-of-type {\n",
       "        vertical-align: middle;\n",
       "    }\n",
       "\n",
       "    .dataframe tbody tr th {\n",
       "        vertical-align: top;\n",
       "    }\n",
       "\n",
       "    .dataframe thead th {\n",
       "        text-align: right;\n",
       "    }\n",
       "</style>\n",
       "<table border=\"1\" class=\"dataframe\">\n",
       "  <thead>\n",
       "    <tr style=\"text-align: right;\">\n",
       "      <th></th>\n",
       "      <th>age</th>\n",
       "      <th>age_group</th>\n",
       "    </tr>\n",
       "  </thead>\n",
       "  <tbody>\n",
       "    <tr>\n",
       "      <th>0</th>\n",
       "      <td>78</td>\n",
       "      <td>76-80</td>\n",
       "    </tr>\n",
       "    <tr>\n",
       "      <th>1</th>\n",
       "      <td>91</td>\n",
       "      <td>81-95</td>\n",
       "    </tr>\n",
       "    <tr>\n",
       "      <th>2</th>\n",
       "      <td>68</td>\n",
       "      <td>66-70</td>\n",
       "    </tr>\n",
       "    <tr>\n",
       "      <th>3</th>\n",
       "      <td>54</td>\n",
       "      <td>51-55</td>\n",
       "    </tr>\n",
       "    <tr>\n",
       "      <th>4</th>\n",
       "      <td>82</td>\n",
       "      <td>81-95</td>\n",
       "    </tr>\n",
       "  </tbody>\n",
       "</table>\n",
       "</div>"
      ],
      "text/plain": [
       "   age age_group\n",
       "0   78     76-80\n",
       "1   91     81-95\n",
       "2   68     66-70\n",
       "3   54     51-55\n",
       "4   82     81-95"
      ]
     },
     "execution_count": 357,
     "metadata": {},
     "output_type": "execute_result"
    }
   ],
   "source": [
    "bins = [39, 45, 50, 55, 60, 65, 70, 75, 80, 95]\n",
    "labels = [\"40-45\", \"46-50\", \"51-55\", \"56-60\", \"61-65\", \"66-70\", \"71-75\", \"76-80\", \"81-95\"]\n",
    "\n",
    "d2_ = df.copy()\n",
    "\n",
    "d2_['age_group'] = pd.cut(d2_['age'], bins=bins, labels=labels, right=True)\n",
    "\n",
    "d2_[['age', 'age_group']].head()"
   ]
  },
  {
   "cell_type": "code",
   "execution_count": 358,
   "id": "4e2ca8fb",
   "metadata": {},
   "outputs": [
    {
     "data": {
      "image/png": "[encoded data removed]",
      "text/plain": [
       "<Figure size 1000x600 with 1 Axes>"
      ]
     },
     "metadata": {},
     "output_type": "display_data"
    }
   ],
   "source": [
    "plt.figure(figsize=(10,6))\n",
    "sns.countplot(data=d2_, x='age_group', hue='DEATH_EVENT', palette=[\"lightblue\", \"red\"])\n",
    "plt.title(\"Death Count by Age Group\")\n",
    "plt.xlabel(\"Age Group\")\n",
    "plt.ylabel(\"Patient Count\")\n",
    "plt.legend([\"Survived\", \"Died\"])\n",
    "plt.show()"
   ]
  },
  {
   "cell_type": "markdown",
   "id": "e2660506",
   "metadata": {},
   "source": [
    "La gráfica muestra que, aunque los grupos de edad intermedios (ej. 51–65) concentran el mayor número absoluto de pacientes sobrevivientes, la proporción de fallecidos aumenta claramente en los grupos de mayor edad; especialmente 71–75 y 81–95 presentan tasas de mortalidad notablemente más altas que los grupos jóvenes; esto sugiere una relación positiva entre edad y riesgo de muerte durante el seguimiento."
   ]
  },
  {
   "cell_type": "code",
   "execution_count": 359,
   "id": "2fcb53ea",
   "metadata": {},
   "outputs": [
    {
     "data": {
      "image/png": "[encoded data removed]",
      "text/plain": [
       "<Figure size 800x600 with 1 Axes>"
      ]
     },
     "metadata": {},
     "output_type": "display_data"
    }
   ],
   "source": [
    "plt.figure(figsize=(8,6))\n",
    "sns.countplot(data=df, x='sex', hue='DEATH_EVENT', palette=[\"lightblue\", \"red\"])\n",
    "\n",
    "plt.title(\"Death Event by Sex\")\n",
    "plt.xlabel(\"Sex (0 = Female, 1 = Male)\")\n",
    "plt.ylabel(\"Number of Patients\")\n",
    "plt.legend([\"Survived\", \"Died\"])\n",
    "plt.xticks([0, 1], [\"Female\", \"Male\"])\n",
    "plt.show()"
   ]
  },
  {
   "cell_type": "markdown",
   "id": "59a9951d",
   "metadata": {},
   "source": [
    "En la gráfica por sexo se observa que hay más pacientes hombres que mujeres y, en valores absolutos, también más muertes entre los hombres; no obstante, al mirar la proporción de fallecidos dentro de cada grupo la diferencia parece menos contundente y podría ser pequeña o nula —es decir, el mayor número de muertes en hombres puede deberse en parte al mayor tamaño de esa submuestra. "
   ]
  },
  {
   "cell_type": "code",
   "execution_count": 360,
   "id": "9fe70938",
   "metadata": {},
   "outputs": [
    {
     "data": {
      "image/png": "[encoded data removed]",
      "text/plain": [
       "<Figure size 1800x1000 with 5 Axes>"
      ]
     },
     "metadata": {},
     "output_type": "display_data"
    }
   ],
   "source": [
    "# Variables binarias que quieres comparar\n",
    "binary_vars = ['anaemia', 'diabetes', 'high_blood_pressure', 'sex', 'smoking']\n",
    "\n",
    "# Crear subplots\n",
    "fig, axes = plt.subplots(nrows=2, ncols=3, figsize=(18, 10))\n",
    "axes = axes.flatten()\n",
    "\n",
    "# Graficar cada variable\n",
    "for i, var in enumerate(binary_vars):\n",
    "    sns.countplot(data=df, x=var, hue='DEATH_EVENT', ax=axes[i])\n",
    "    axes[i].set_title(f'{var} vs DEATH_EVENT')\n",
    "    axes[i].set_xlabel(var)\n",
    "    axes[i].set_ylabel('Count')\n",
    "    axes[i].legend(title='DEATH_EVENT', labels=['No falleció', 'Falleció'])\n",
    "\n",
    "# Eliminar subplot vacío si hay uno\n",
    "if len(binary_vars) < len(axes):\n",
    "    fig.delaxes(axes[-1])\n",
    "\n",
    "plt.tight_layout()\n",
    "plt.show()"
   ]
  },
  {
   "cell_type": "markdown",
   "id": "8d60d531",
   "metadata": {},
   "source": [
    "Anaemia\n",
    "Observación visual: la barra roja (fallecidos) relativa al total del grupo parece más alta en pacientes con anaemia (True) que en los que no tienen anaemia (False).\n",
    "Interpretación: sugiere que la presencia de anemia está asociada a una mayor proporción de fallecimientos en el seguimiento. Clínicamente plausible: la anemia puede reflejar peor estado general o comorbilidades.\n",
    "Señal: moderada-fuerte visualmente (la diferencia de proporción es notable).\n",
    "\n",
    "Diabetes\n",
    "Observación visual: también aquí la proporción de muertes parece mayor entre los diabéticos (True) que entre los no diabéticos.\n",
    "Interpretación: indica una asociación positiva entre diabetes y mortalidad. Podría reflejar mayor carga de comorbilidad o peor pronóstico.\n",
    "Señal: moderada; la diferencia es apreciable pero no tan grande como en algunos otros factores (según la gráfica).\n",
    "\n",
    "High_blood_pressure (hipertensión)\n",
    "Observación visual: se ve un mayor número absoluto de muertes en quienes tienen hipertensión (True) comparado con No, y la proporción de muertes dentro de «True» parece superior.\n",
    "Interpretación: hipertensión podría asociarse a mayor riesgo, aunque en muchos estudios su efecto depende de control, edad y otros factores cardiovasculares.\n",
    "Señal: moderada; comparable a diabetes/anaemia.\n",
    "\n",
    "Sex (sexo)\n",
    "Observación visual: hay muchos más hombres que mujeres en la muestra; en valores absolutos hay más muertes entre hombres (barra roja masculina mayor).\n",
    "Interpretación: el mayor número de muertes en hombres podría deberse a (a) mayor tamaño de la submuestra masculina o (b) un riesgo real mayor en hombres. Visualmente, la proporción no parece tan distinta como los conteos absolutos; por tanto la diferencia puede ser en gran parte por el mayor número de hombres.\n",
    "Señal: débil-moderada; necesita comparar proporciones (tasa de muerte por sexo) antes de concluir un efecto fuerte.\n",
    "\n",
    "Smoking (tabaquismo)\n",
    "Observación visual: los fumadores (True) muestran una proporción de fallecidos claramente mayor que los no fumadores.\n",
    "Interpretación: tabaquismo asociado a mayor mortalidad, coherente con efectos sobre enfermedad cardiovascular y comorbilidades.\n",
    "Señal: moderada-fuerte."
   ]
  },
  {
   "cell_type": "code",
   "execution_count": 361,
   "id": "ffb84fd2",
   "metadata": {},
   "outputs": [
    {
     "data": {
      "text/plain": [
       "<Axes: >"
      ]
     },
     "execution_count": 361,
     "metadata": {},
     "output_type": "execute_result"
    },
    {
     "data": {
      "image/png": "[encoded data removed]",
      "text/plain": [
       "<Figure size 1000x1000 with 2 Axes>"
      ]
     },
     "metadata": {},
     "output_type": "display_data"
    }
   ],
   "source": [
    "plt.figure(figsize=(10,10))\n",
    "sns.heatmap(df.corr(),cmap=\"Reds\",annot=True,linewidth=1)"
   ]
  },
  {
   "cell_type": "markdown",
   "id": "098357c8",
   "metadata": {},
   "source": [
    "La matriz muestra que las variables más asociadas con la muerte son serum_creatinine (r ≈ +0.29) y age (r ≈ +0.25), mientras que ejection_fraction presenta una correlación negativa relevante (r ≈ −0.27): es decir, mayor creatinina y edad y menor fracción de eyección se asocian con mayor probabilidad de DEATH_EVENT. También destaca serum_sodium con correlación negativa moderada (≈ −0.20). Muchas de las variables binarias (anaemia, diabetes, hipertensión, smoking, sex) tienen correlaciones pequeñas con DEATH_EVENT en términos de Pearson, aunque visualmente algunas muestran señales; además sex y smoking están moderadamente correlacionadas entre sí (≈ +0.45)."
   ]
  },
  {
   "cell_type": "markdown",
   "id": "459f30c6",
   "metadata": {},
   "source": [
    "### Preprocesamiento y modelado"
   ]
  },
  {
   "cell_type": "code",
   "execution_count": 362,
   "id": "66c47bd7",
   "metadata": {},
   "outputs": [
    {
     "name": "stdout",
     "output_type": "stream",
     "text": [
      "<class 'pandas.core.frame.DataFrame'>\n",
      "Index: 2667 entries, 0 to 2999\n",
      "Data columns (total 13 columns):\n",
      " #   Column                    Non-Null Count  Dtype  \n",
      "---  ------                    --------------  -----  \n",
      " 0   age                       2531 non-null   Int64  \n",
      " 1   anaemia                   2667 non-null   boolean\n",
      " 2   creatinine_phosphokinase  2481 non-null   Int64  \n",
      " 3   diabetes                  2667 non-null   boolean\n",
      " 4   ejection_fraction         2571 non-null   float64\n",
      " 5   high_blood_pressure       2667 non-null   boolean\n",
      " 6   platelets                 2383 non-null   float64\n",
      " 7   serum_creatinine          2516 non-null   float64\n",
      " 8   serum_sodium              2667 non-null   float64\n",
      " 9   sex                       2667 non-null   boolean\n",
      " 10  smoking                   2667 non-null   boolean\n",
      " 11  time                      2667 non-null   int64  \n",
      " 12  DEATH_EVENT               2667 non-null   boolean\n",
      "dtypes: Int64(2), boolean(6), float64(4), int64(1)\n",
      "memory usage: 203.2 KB\n",
      "Nulos antes de la transformación:\n"
     ]
    },
    {
     "data": {
      "application/vnd.microsoft.datawrangler.viewer.v0+json": {
       "columns": [
        {
         "name": "index",
         "rawType": "object",
         "type": "string"
        },
        {
         "name": "0",
         "rawType": "int64",
         "type": "integer"
        }
       ],
       "ref": "aded535b-65d2-464a-a551-0ee7f2e1e7e2",
       "rows": [
        [
         "age",
         "136"
        ],
        [
         "anaemia",
         "0"
        ],
        [
         "creatinine_phosphokinase",
         "186"
        ],
        [
         "diabetes",
         "0"
        ],
        [
         "ejection_fraction",
         "96"
        ],
        [
         "high_blood_pressure",
         "0"
        ],
        [
         "platelets",
         "284"
        ],
        [
         "serum_creatinine",
         "151"
        ],
        [
         "serum_sodium",
         "0"
        ],
        [
         "sex",
         "0"
        ],
        [
         "smoking",
         "0"
        ],
        [
         "time",
         "0"
        ],
        [
         "DEATH_EVENT",
         "0"
        ]
       ],
       "shape": {
        "columns": 1,
        "rows": 13
       }
      },
      "text/plain": [
       "age                         136\n",
       "anaemia                       0\n",
       "creatinine_phosphokinase    186\n",
       "diabetes                      0\n",
       "ejection_fraction            96\n",
       "high_blood_pressure           0\n",
       "platelets                   284\n",
       "serum_creatinine            151\n",
       "serum_sodium                  0\n",
       "sex                           0\n",
       "smoking                       0\n",
       "time                          0\n",
       "DEATH_EVENT                   0\n",
       "dtype: int64"
      ]
     },
     "metadata": {},
     "output_type": "display_data"
    }
   ],
   "source": [
    "# 1. Primero veamos los nulos antes de la transformación\n",
    "df.info()\n",
    "print(\"Nulos antes de la transformación:\")\n",
    "display(df.isnull().sum())"
   ]
  },
  {
   "cell_type": "markdown",
   "id": "509e521c",
   "metadata": {},
   "source": [
    "# Diagnóstico inicial sin estandarizar y sin el pipeline"
   ]
  },
  {
   "cell_type": "code",
   "execution_count": 363,
   "id": "4b160c46",
   "metadata": {},
   "outputs": [
    {
     "name": "stdout",
     "output_type": "stream",
     "text": [
      "📊 Resultados - Regresión Logística\n",
      "Accuracy: 0.5222\n",
      "              precision    recall  f1-score   support\n",
      "\n",
      "         0.0       0.52      0.77      0.62       196\n",
      "         1.0       0.52      0.27      0.35       187\n",
      "\n",
      "    accuracy                           0.52       383\n",
      "   macro avg       0.52      0.52      0.49       383\n",
      "weighted avg       0.52      0.52      0.49       383\n",
      "\n"
     ]
    },
    {
     "data": {
      "image/png": "[encoded data removed]",
      "text/plain": [
       "<Figure size 500x400 with 2 Axes>"
      ]
     },
     "metadata": {},
     "output_type": "display_data"
    },
    {
     "name": "stdout",
     "output_type": "stream",
     "text": [
      "\n",
      "🌲 Resultados - Random Forest\n",
      "Accuracy: 0.4439\n",
      "              precision    recall  f1-score   support\n",
      "\n",
      "         0.0       0.46      0.54      0.50       196\n",
      "         1.0       0.42      0.34      0.38       187\n",
      "\n",
      "    accuracy                           0.44       383\n",
      "   macro avg       0.44      0.44      0.44       383\n",
      "weighted avg       0.44      0.44      0.44       383\n",
      "\n"
     ]
    },
    {
     "data": {
      "image/png": "[encoded data removed]",
      "text/plain": [
       "<Figure size 500x400 with 2 Axes>"
      ]
     },
     "metadata": {},
     "output_type": "display_data"
    }
   ],
   "source": [
    "# Se crea una copia del df pero sin valores nulos\n",
    "df_without_nulls = df.dropna()\n",
    "\n",
    "# Se crea una copia del df pero sin valores nulos\n",
    "df_without_nulls = df.dropna()\n",
    "\n",
    "# Se separa la variable objetivo\n",
    "X = df_without_nulls.drop('DEATH_EVENT', axis=1)\n",
    "y = df_without_nulls['DEATH_EVENT']\n",
    "\n",
    "# Se divide las variables de entrenamiento y pruebas\n",
    "X_train, X_test, y_train, y_test = train_test_split(\n",
    "    X, y, test_size=0.2, random_state=42, stratify=y\n",
    ")\n",
    "\n",
    "# Se escalan las variables (Solo para regresion logistica)\n",
    "scaler = StandardScaler()\n",
    "X_train_scaled = scaler.fit_transform(X_train)\n",
    "X_test_scaled = scaler.transform(X_test)\n",
    "\n",
    "# ==========================\n",
    "# 🔹 REGRESIÓN LOGÍSTICA\n",
    "# ==========================\n",
    "log_reg = LogisticRegression(max_iter=1000, random_state=42)\n",
    "log_reg.fit(X_train_scaled, y_train)\n",
    "y_pred_log = log_reg.predict(X_test_scaled)\n",
    "\n",
    "print(\"📊 Resultados - Regresión Logística\")\n",
    "print(\"Accuracy:\", round(accuracy_score(y_test, y_pred_log), 4))\n",
    "print(classification_report(y_test, y_pred_log))\n",
    "\n",
    "plt.figure(figsize=(5,4))\n",
    "sns.heatmap(confusion_matrix(y_test, y_pred_log), annot=True, fmt='d', cmap='Blues')\n",
    "plt.title(\"Matriz de confusión - Regresión Logística\")\n",
    "plt.xlabel(\"Predicción\")\n",
    "plt.ylabel(\"Real\")\n",
    "plt.show()\n",
    "\n",
    "# ==========================\n",
    "# 🌲 RANDOM FOREST\n",
    "# ==========================\n",
    "rf = RandomForestClassifier(n_estimators=200, random_state=42)\n",
    "rf.fit(X_train, y_train)\n",
    "y_pred_rf = rf.predict(X_test)\n",
    "\n",
    "print(\"\\n🌲 Resultados - Random Forest\")\n",
    "print(\"Accuracy:\", round(accuracy_score(y_test, y_pred_rf), 4))\n",
    "print(classification_report(y_test, y_pred_rf))\n",
    "\n",
    "plt.figure(figsize=(5,4))\n",
    "sns.heatmap(confusion_matrix(y_test, y_pred_rf), annot=True, fmt='d', cmap='Greens')\n",
    "plt.title(\"Matriz de confusión - Random Forest\")\n",
    "plt.xlabel(\"Predicción\")\n",
    "plt.ylabel(\"Real\")\n",
    "plt.show()"
   ]
  },
  {
   "cell_type": "code",
   "execution_count": 364,
   "id": "e77aa6f7",
   "metadata": {},
   "outputs": [
    {
     "name": "stdout",
     "output_type": "stream",
     "text": [
      "\n",
      "Formas de los conjuntos de datos:\n",
      "X_train shape: (2133, 12)\n",
      "X_test shape: (534, 12)\n",
      "y_train shape: (2133,)\n",
      "y_test shape: (534,)\n"
     ]
    }
   ],
   "source": [
    "# Preparar datos\n",
    "X = df[[col for col in df.columns if col != 'DEATH_EVENT']]\n",
    "y = df['DEATH_EVENT']\n",
    "\n",
    "# Dividir datos\n",
    "X_train, X_test, y_train, y_test = train_test_split(X, y, test_size=0.2, random_state=42)\n",
    "\n",
    "# Verificar shapes antes del entrenamiento\n",
    "print(\"\\nFormas de los conjuntos de datos:\")\n",
    "print(f\"X_train shape: {X_train.shape}\")\n",
    "print(f\"X_test shape: {X_test.shape}\")\n",
    "print(f\"y_train shape: {y_train.shape}\")\n",
    "print(f\"y_test shape: {y_test.shape}\")"
   ]
  },
  {
   "cell_type": "markdown",
   "id": "17d8854a",
   "metadata": {},
   "source": [
    "## Pipeline para transformación de datos"
   ]
  },
  {
   "cell_type": "markdown",
   "id": "9ae45190",
   "metadata": {},
   "source": [
    "### Se crean dos pipelines para las columnas numéricas con el fin de comparar el efecto que tiene en los modelos, e identificar en cual escenario, los modelos se desempeñan mejor"
   ]
  },
  {
   "cell_type": "code",
   "execution_count": 365,
   "id": "feb67fc9",
   "metadata": {},
   "outputs": [
    {
     "data": {
      "text/html": [
       "<style>#sk-container-id-16 {\n",
       "  /* Definition of color scheme common for light and dark mode */\n",
       "  --sklearn-color-text: #000;\n",
       "  --sklearn-color-text-muted: #666;\n",
       "  --sklearn-color-line: gray;\n",
       "  /* Definition of color scheme for unfitted estimators */\n",
       "  --sklearn-color-unfitted-level-0: #fff5e6;\n",
       "  --sklearn-color-unfitted-level-1: #f6e4d2;\n",
       "  --sklearn-color-unfitted-level-2: #ffe0b3;\n",
       "  --sklearn-color-unfitted-level-3: chocolate;\n",
       "  /* Definition of color scheme for fitted estimators */\n",
       "  --sklearn-color-fitted-level-0: #f0f8ff;\n",
       "  --sklearn-color-fitted-level-1: #d4ebff;\n",
       "  --sklearn-color-fitted-level-2: #b3dbfd;\n",
       "  --sklearn-color-fitted-level-3: cornflowerblue;\n",
       "\n",
       "  /* Specific color for light theme */\n",
       "  --sklearn-color-text-on-default-background: var(--sg-text-color, var(--theme-code-foreground, var(--jp-content-font-color1, black)));\n",
       "  --sklearn-color-background: var(--sg-background-color, var(--theme-background, var(--jp-layout-color0, white)));\n",
       "  --sklearn-color-border-box: var(--sg-text-color, var(--theme-code-foreground, var(--jp-content-font-color1, black)));\n",
       "  --sklearn-color-icon: #696969;\n",
       "\n",
       "  @media (prefers-color-scheme: dark) {\n",
       "    /* Redefinition of color scheme for dark theme */\n",
       "    --sklearn-color-text-on-default-background: var(--sg-text-color, var(--theme-code-foreground, var(--jp-content-font-color1, white)));\n",
       "    --sklearn-color-background: var(--sg-background-color, var(--theme-background, var(--jp-layout-color0, #111)));\n",
       "    --sklearn-color-border-box: var(--sg-text-color, var(--theme-code-foreground, var(--jp-content-font-color1, white)));\n",
       "    --sklearn-color-icon: #878787;\n",
       "  }\n",
       "}\n",
       "\n",
       "#sk-container-id-16 {\n",
       "  color: var(--sklearn-color-text);\n",
       "}\n",
       "\n",
       "#sk-container-id-16 pre {\n",
       "  padding: 0;\n",
       "}\n",
       "\n",
       "#sk-container-id-16 input.sk-hidden--visually {\n",
       "  border: 0;\n",
       "  clip: rect(1px 1px 1px 1px);\n",
       "  clip: rect(1px, 1px, 1px, 1px);\n",
       "  height: 1px;\n",
       "  margin: -1px;\n",
       "  overflow: hidden;\n",
       "  padding: 0;\n",
       "  position: absolute;\n",
       "  width: 1px;\n",
       "}\n",
       "\n",
       "#sk-container-id-16 div.sk-dashed-wrapped {\n",
       "  border: 1px dashed var(--sklearn-color-line);\n",
       "  margin: 0 0.4em 0.5em 0.4em;\n",
       "  box-sizing: border-box;\n",
       "  padding-bottom: 0.4em;\n",
       "  background-color: var(--sklearn-color-background);\n",
       "}\n",
       "\n",
       "#sk-container-id-16 div.sk-container {\n",
       "  /* jupyter's `normalize.less` sets `[hidden] { display: none; }`\n",
       "     but bootstrap.min.css set `[hidden] { display: none !important; }`\n",
       "     so we also need the `!important` here to be able to override the\n",
       "     default hidden behavior on the sphinx rendered scikit-learn.org.\n",
       "     See: https://github.com/scikit-learn/scikit-learn/issues/21755 */\n",
       "  display: inline-block !important;\n",
       "  position: relative;\n",
       "}\n",
       "\n",
       "#sk-container-id-16 div.sk-text-repr-fallback {\n",
       "  display: none;\n",
       "}\n",
       "\n",
       "div.sk-parallel-item,\n",
       "div.sk-serial,\n",
       "div.sk-item {\n",
       "  /* draw centered vertical line to link estimators */\n",
       "  background-image: linear-gradient(var(--sklearn-color-text-on-default-background), var(--sklearn-color-text-on-default-background));\n",
       "  background-size: 2px 100%;\n",
       "  background-repeat: no-repeat;\n",
       "  background-position: center center;\n",
       "}\n",
       "\n",
       "/* Parallel-specific style estimator block */\n",
       "\n",
       "#sk-container-id-16 div.sk-parallel-item::after {\n",
       "  content: \"\";\n",
       "  width: 100%;\n",
       "  border-bottom: 2px solid var(--sklearn-color-text-on-default-background);\n",
       "  flex-grow: 1;\n",
       "}\n",
       "\n",
       "#sk-container-id-16 div.sk-parallel {\n",
       "  display: flex;\n",
       "  align-items: stretch;\n",
       "  justify-content: center;\n",
       "  background-color: var(--sklearn-color-background);\n",
       "  position: relative;\n",
       "}\n",
       "\n",
       "#sk-container-id-16 div.sk-parallel-item {\n",
       "  display: flex;\n",
       "  flex-direction: column;\n",
       "}\n",
       "\n",
       "#sk-container-id-16 div.sk-parallel-item:first-child::after {\n",
       "  align-self: flex-end;\n",
       "  width: 50%;\n",
       "}\n",
       "\n",
       "#sk-container-id-16 div.sk-parallel-item:last-child::after {\n",
       "  align-self: flex-start;\n",
       "  width: 50%;\n",
       "}\n",
       "\n",
       "#sk-container-id-16 div.sk-parallel-item:only-child::after {\n",
       "  width: 0;\n",
       "}\n",
       "\n",
       "/* Serial-specific style estimator block */\n",
       "\n",
       "#sk-container-id-16 div.sk-serial {\n",
       "  display: flex;\n",
       "  flex-direction: column;\n",
       "  align-items: center;\n",
       "  background-color: var(--sklearn-color-background);\n",
       "  padding-right: 1em;\n",
       "  padding-left: 1em;\n",
       "}\n",
       "\n",
       "\n",
       "/* Toggleable style: style used for estimator/Pipeline/ColumnTransformer box that is\n",
       "clickable and can be expanded/collapsed.\n",
       "- Pipeline and ColumnTransformer use this feature and define the default style\n",
       "- Estimators will overwrite some part of the style using the `sk-estimator` class\n",
       "*/\n",
       "\n",
       "/* Pipeline and ColumnTransformer style (default) */\n",
       "\n",
       "#sk-container-id-16 div.sk-toggleable {\n",
       "  /* Default theme specific background. It is overwritten whether we have a\n",
       "  specific estimator or a Pipeline/ColumnTransformer */\n",
       "  background-color: var(--sklearn-color-background);\n",
       "}\n",
       "\n",
       "/* Toggleable label */\n",
       "#sk-container-id-16 label.sk-toggleable__label {\n",
       "  cursor: pointer;\n",
       "  display: flex;\n",
       "  width: 100%;\n",
       "  margin-bottom: 0;\n",
       "  padding: 0.5em;\n",
       "  box-sizing: border-box;\n",
       "  text-align: center;\n",
       "  align-items: start;\n",
       "  justify-content: space-between;\n",
       "  gap: 0.5em;\n",
       "}\n",
       "\n",
       "#sk-container-id-16 label.sk-toggleable__label .caption {\n",
       "  font-size: 0.6rem;\n",
       "  font-weight: lighter;\n",
       "  color: var(--sklearn-color-text-muted);\n",
       "}\n",
       "\n",
       "#sk-container-id-16 label.sk-toggleable__label-arrow:before {\n",
       "  /* Arrow on the left of the label */\n",
       "  content: \"▸\";\n",
       "  float: left;\n",
       "  margin-right: 0.25em;\n",
       "  color: var(--sklearn-color-icon);\n",
       "}\n",
       "\n",
       "#sk-container-id-16 label.sk-toggleable__label-arrow:hover:before {\n",
       "  color: var(--sklearn-color-text);\n",
       "}\n",
       "\n",
       "/* Toggleable content - dropdown */\n",
       "\n",
       "#sk-container-id-16 div.sk-toggleable__content {\n",
       "  display: none;\n",
       "  text-align: left;\n",
       "  /* unfitted */\n",
       "  background-color: var(--sklearn-color-unfitted-level-0);\n",
       "}\n",
       "\n",
       "#sk-container-id-16 div.sk-toggleable__content.fitted {\n",
       "  /* fitted */\n",
       "  background-color: var(--sklearn-color-fitted-level-0);\n",
       "}\n",
       "\n",
       "#sk-container-id-16 div.sk-toggleable__content pre {\n",
       "  margin: 0.2em;\n",
       "  border-radius: 0.25em;\n",
       "  color: var(--sklearn-color-text);\n",
       "  /* unfitted */\n",
       "  background-color: var(--sklearn-color-unfitted-level-0);\n",
       "}\n",
       "\n",
       "#sk-container-id-16 div.sk-toggleable__content.fitted pre {\n",
       "  /* unfitted */\n",
       "  background-color: var(--sklearn-color-fitted-level-0);\n",
       "}\n",
       "\n",
       "#sk-container-id-16 input.sk-toggleable__control:checked~div.sk-toggleable__content {\n",
       "  /* Expand drop-down */\n",
       "  display: block;\n",
       "  width: 100%;\n",
       "  overflow: visible;\n",
       "}\n",
       "\n",
       "#sk-container-id-16 input.sk-toggleable__control:checked~label.sk-toggleable__label-arrow:before {\n",
       "  content: \"▾\";\n",
       "}\n",
       "\n",
       "/* Pipeline/ColumnTransformer-specific style */\n",
       "\n",
       "#sk-container-id-16 div.sk-label input.sk-toggleable__control:checked~label.sk-toggleable__label {\n",
       "  color: var(--sklearn-color-text);\n",
       "  background-color: var(--sklearn-color-unfitted-level-2);\n",
       "}\n",
       "\n",
       "#sk-container-id-16 div.sk-label.fitted input.sk-toggleable__control:checked~label.sk-toggleable__label {\n",
       "  background-color: var(--sklearn-color-fitted-level-2);\n",
       "}\n",
       "\n",
       "/* Estimator-specific style */\n",
       "\n",
       "/* Colorize estimator box */\n",
       "#sk-container-id-16 div.sk-estimator input.sk-toggleable__control:checked~label.sk-toggleable__label {\n",
       "  /* unfitted */\n",
       "  background-color: var(--sklearn-color-unfitted-level-2);\n",
       "}\n",
       "\n",
       "#sk-container-id-16 div.sk-estimator.fitted input.sk-toggleable__control:checked~label.sk-toggleable__label {\n",
       "  /* fitted */\n",
       "  background-color: var(--sklearn-color-fitted-level-2);\n",
       "}\n",
       "\n",
       "#sk-container-id-16 div.sk-label label.sk-toggleable__label,\n",
       "#sk-container-id-16 div.sk-label label {\n",
       "  /* The background is the default theme color */\n",
       "  color: var(--sklearn-color-text-on-default-background);\n",
       "}\n",
       "\n",
       "/* On hover, darken the color of the background */\n",
       "#sk-container-id-16 div.sk-label:hover label.sk-toggleable__label {\n",
       "  color: var(--sklearn-color-text);\n",
       "  background-color: var(--sklearn-color-unfitted-level-2);\n",
       "}\n",
       "\n",
       "/* Label box, darken color on hover, fitted */\n",
       "#sk-container-id-16 div.sk-label.fitted:hover label.sk-toggleable__label.fitted {\n",
       "  color: var(--sklearn-color-text);\n",
       "  background-color: var(--sklearn-color-fitted-level-2);\n",
       "}\n",
       "\n",
       "/* Estimator label */\n",
       "\n",
       "#sk-container-id-16 div.sk-label label {\n",
       "  font-family: monospace;\n",
       "  font-weight: bold;\n",
       "  display: inline-block;\n",
       "  line-height: 1.2em;\n",
       "}\n",
       "\n",
       "#sk-container-id-16 div.sk-label-container {\n",
       "  text-align: center;\n",
       "}\n",
       "\n",
       "/* Estimator-specific */\n",
       "#sk-container-id-16 div.sk-estimator {\n",
       "  font-family: monospace;\n",
       "  border: 1px dotted var(--sklearn-color-border-box);\n",
       "  border-radius: 0.25em;\n",
       "  box-sizing: border-box;\n",
       "  margin-bottom: 0.5em;\n",
       "  /* unfitted */\n",
       "  background-color: var(--sklearn-color-unfitted-level-0);\n",
       "}\n",
       "\n",
       "#sk-container-id-16 div.sk-estimator.fitted {\n",
       "  /* fitted */\n",
       "  background-color: var(--sklearn-color-fitted-level-0);\n",
       "}\n",
       "\n",
       "/* on hover */\n",
       "#sk-container-id-16 div.sk-estimator:hover {\n",
       "  /* unfitted */\n",
       "  background-color: var(--sklearn-color-unfitted-level-2);\n",
       "}\n",
       "\n",
       "#sk-container-id-16 div.sk-estimator.fitted:hover {\n",
       "  /* fitted */\n",
       "  background-color: var(--sklearn-color-fitted-level-2);\n",
       "}\n",
       "\n",
       "/* Specification for estimator info (e.g. \"i\" and \"?\") */\n",
       "\n",
       "/* Common style for \"i\" and \"?\" */\n",
       "\n",
       ".sk-estimator-doc-link,\n",
       "a:link.sk-estimator-doc-link,\n",
       "a:visited.sk-estimator-doc-link {\n",
       "  float: right;\n",
       "  font-size: smaller;\n",
       "  line-height: 1em;\n",
       "  font-family: monospace;\n",
       "  background-color: var(--sklearn-color-background);\n",
       "  border-radius: 1em;\n",
       "  height: 1em;\n",
       "  width: 1em;\n",
       "  text-decoration: none !important;\n",
       "  margin-left: 0.5em;\n",
       "  text-align: center;\n",
       "  /* unfitted */\n",
       "  border: var(--sklearn-color-unfitted-level-1) 1pt solid;\n",
       "  color: var(--sklearn-color-unfitted-level-1);\n",
       "}\n",
       "\n",
       ".sk-estimator-doc-link.fitted,\n",
       "a:link.sk-estimator-doc-link.fitted,\n",
       "a:visited.sk-estimator-doc-link.fitted {\n",
       "  /* fitted */\n",
       "  border: var(--sklearn-color-fitted-level-1) 1pt solid;\n",
       "  color: var(--sklearn-color-fitted-level-1);\n",
       "}\n",
       "\n",
       "/* On hover */\n",
       "div.sk-estimator:hover .sk-estimator-doc-link:hover,\n",
       ".sk-estimator-doc-link:hover,\n",
       "div.sk-label-container:hover .sk-estimator-doc-link:hover,\n",
       ".sk-estimator-doc-link:hover {\n",
       "  /* unfitted */\n",
       "  background-color: var(--sklearn-color-unfitted-level-3);\n",
       "  color: var(--sklearn-color-background);\n",
       "  text-decoration: none;\n",
       "}\n",
       "\n",
       "div.sk-estimator.fitted:hover .sk-estimator-doc-link.fitted:hover,\n",
       ".sk-estimator-doc-link.fitted:hover,\n",
       "div.sk-label-container:hover .sk-estimator-doc-link.fitted:hover,\n",
       ".sk-estimator-doc-link.fitted:hover {\n",
       "  /* fitted */\n",
       "  background-color: var(--sklearn-color-fitted-level-3);\n",
       "  color: var(--sklearn-color-background);\n",
       "  text-decoration: none;\n",
       "}\n",
       "\n",
       "/* Span, style for the box shown on hovering the info icon */\n",
       ".sk-estimator-doc-link span {\n",
       "  display: none;\n",
       "  z-index: 9999;\n",
       "  position: relative;\n",
       "  font-weight: normal;\n",
       "  right: .2ex;\n",
       "  padding: .5ex;\n",
       "  margin: .5ex;\n",
       "  width: min-content;\n",
       "  min-width: 20ex;\n",
       "  max-width: 50ex;\n",
       "  color: var(--sklearn-color-text);\n",
       "  box-shadow: 2pt 2pt 4pt #999;\n",
       "  /* unfitted */\n",
       "  background: var(--sklearn-color-unfitted-level-0);\n",
       "  border: .5pt solid var(--sklearn-color-unfitted-level-3);\n",
       "}\n",
       "\n",
       ".sk-estimator-doc-link.fitted span {\n",
       "  /* fitted */\n",
       "  background: var(--sklearn-color-fitted-level-0);\n",
       "  border: var(--sklearn-color-fitted-level-3);\n",
       "}\n",
       "\n",
       ".sk-estimator-doc-link:hover span {\n",
       "  display: block;\n",
       "}\n",
       "\n",
       "/* \"?\"-specific style due to the `<a>` HTML tag */\n",
       "\n",
       "#sk-container-id-16 a.estimator_doc_link {\n",
       "  float: right;\n",
       "  font-size: 1rem;\n",
       "  line-height: 1em;\n",
       "  font-family: monospace;\n",
       "  background-color: var(--sklearn-color-background);\n",
       "  border-radius: 1rem;\n",
       "  height: 1rem;\n",
       "  width: 1rem;\n",
       "  text-decoration: none;\n",
       "  /* unfitted */\n",
       "  color: var(--sklearn-color-unfitted-level-1);\n",
       "  border: var(--sklearn-color-unfitted-level-1) 1pt solid;\n",
       "}\n",
       "\n",
       "#sk-container-id-16 a.estimator_doc_link.fitted {\n",
       "  /* fitted */\n",
       "  border: var(--sklearn-color-fitted-level-1) 1pt solid;\n",
       "  color: var(--sklearn-color-fitted-level-1);\n",
       "}\n",
       "\n",
       "/* On hover */\n",
       "#sk-container-id-16 a.estimator_doc_link:hover {\n",
       "  /* unfitted */\n",
       "  background-color: var(--sklearn-color-unfitted-level-3);\n",
       "  color: var(--sklearn-color-background);\n",
       "  text-decoration: none;\n",
       "}\n",
       "\n",
       "#sk-container-id-16 a.estimator_doc_link.fitted:hover {\n",
       "  /* fitted */\n",
       "  background-color: var(--sklearn-color-fitted-level-3);\n",
       "}\n",
       "\n",
       ".estimator-table summary {\n",
       "    padding: .5rem;\n",
       "    font-family: monospace;\n",
       "    cursor: pointer;\n",
       "}\n",
       "\n",
       ".estimator-table details[open] {\n",
       "    padding-left: 0.1rem;\n",
       "    padding-right: 0.1rem;\n",
       "    padding-bottom: 0.3rem;\n",
       "}\n",
       "\n",
       ".estimator-table .parameters-table {\n",
       "    margin-left: auto !important;\n",
       "    margin-right: auto !important;\n",
       "}\n",
       "\n",
       ".estimator-table .parameters-table tr:nth-child(odd) {\n",
       "    background-color: #fff;\n",
       "}\n",
       "\n",
       ".estimator-table .parameters-table tr:nth-child(even) {\n",
       "    background-color: #f6f6f6;\n",
       "}\n",
       "\n",
       ".estimator-table .parameters-table tr:hover {\n",
       "    background-color: #e0e0e0;\n",
       "}\n",
       "\n",
       ".estimator-table table td {\n",
       "    border: 1px solid rgba(106, 105, 104, 0.232);\n",
       "}\n",
       "\n",
       ".user-set td {\n",
       "    color:rgb(255, 94, 0);\n",
       "    text-align: left;\n",
       "}\n",
       "\n",
       ".user-set td.value pre {\n",
       "    color:rgb(255, 94, 0) !important;\n",
       "    background-color: transparent !important;\n",
       "}\n",
       "\n",
       ".default td {\n",
       "    color: black;\n",
       "    text-align: left;\n",
       "}\n",
       "\n",
       ".user-set td i,\n",
       ".default td i {\n",
       "    color: black;\n",
       "}\n",
       "\n",
       ".copy-paste-icon {\n",
       "    background-image: url(data:image/svg+xml;base64,PHN2ZyB4bWxucz0iaHR0cDovL3d3dy53My5vcmcvMjAwMC9zdmciIHZpZXdCb3g9IjAgMCA0NDggNTEyIj48IS0tIUZvbnQgQXdlc29tZSBGcmVlIDYuNy4yIGJ5IEBmb250YXdlc29tZSAtIGh0dHBzOi8vZm9udGF3ZXNvbWUuY29tIExpY2Vuc2UgLSBodHRwczovL2ZvbnRhd2Vzb21lLmNvbS9saWNlbnNlL2ZyZWUgQ29weXJpZ2h0IDIwMjUgRm9udGljb25zLCBJbmMuLS0+PHBhdGggZD0iTTIwOCAwTDMzMi4xIDBjMTIuNyAwIDI0LjkgNS4xIDMzLjkgMTQuMWw2Ny45IDY3LjljOSA5IDE0LjEgMjEuMiAxNC4xIDMzLjlMNDQ4IDMzNmMwIDI2LjUtMjEuNSA0OC00OCA0OGwtMTkyIDBjLTI2LjUgMC00OC0yMS41LTQ4LTQ4bDAtMjg4YzAtMjYuNSAyMS41LTQ4IDQ4LTQ4ek00OCAxMjhsODAgMCAwIDY0LTY0IDAgMCAyNTYgMTkyIDAgMC0zMiA2NCAwIDAgNDhjMCAyNi41LTIxLjUgNDgtNDggNDhMNDggNTEyYy0yNi41IDAtNDgtMjEuNS00OC00OEwwIDE3NmMwLTI2LjUgMjEuNS00OCA0OC00OHoiLz48L3N2Zz4=);\n",
       "    background-repeat: no-repeat;\n",
       "    background-size: 14px 14px;\n",
       "    background-position: 0;\n",
       "    display: inline-block;\n",
       "    width: 14px;\n",
       "    height: 14px;\n",
       "    cursor: pointer;\n",
       "}\n",
       "</style><body><div id=\"sk-container-id-16\" class=\"sk-top-container\"><div class=\"sk-text-repr-fallback\"><pre>ColumnTransformer(transformers=[(&#x27;num&#x27;,\n",
       "                                 Pipeline(steps=[(&#x27;imputer&#x27;,\n",
       "                                                  SimpleImputer(strategy=&#x27;median&#x27;))]),\n",
       "                                 [&#x27;age&#x27;, &#x27;creatinine_phosphokinase&#x27;,\n",
       "                                  &#x27;ejection_fraction&#x27;, &#x27;platelets&#x27;,\n",
       "                                  &#x27;serum_creatinine&#x27;, &#x27;serum_sodium&#x27;, &#x27;time&#x27;]),\n",
       "                                (&#x27;bool&#x27;,\n",
       "                                 Pipeline(steps=[(&#x27;imputer&#x27;,\n",
       "                                                  SimpleImputer(strategy=&#x27;most_frequent&#x27;)),\n",
       "                                                 (&#x27;encoder&#x27;,\n",
       "                                                  OneHotEncoder(drop=&#x27;if_binary&#x27;))]),\n",
       "                                 [&#x27;anaemia&#x27;, &#x27;diabetes&#x27;, &#x27;high_blood_pressure&#x27;,\n",
       "                                  &#x27;sex&#x27;, &#x27;smoking&#x27;])],\n",
       "                  verbose=True)</pre><b>In a Jupyter environment, please rerun this cell to show the HTML representation or trust the notebook. <br />On GitHub, the HTML representation is unable to render, please try loading this page with nbviewer.org.</b></div><div class=\"sk-container\" hidden><div class=\"sk-item sk-dashed-wrapped\"><div class=\"sk-label-container\"><div class=\"sk-label  sk-toggleable\"><input class=\"sk-toggleable__control sk-hidden--visually\" id=\"sk-estimator-id-99\" type=\"checkbox\" ><label for=\"sk-estimator-id-99\" class=\"sk-toggleable__label  sk-toggleable__label-arrow\"><div><div>ColumnTransformer</div></div><div><a class=\"sk-estimator-doc-link \" rel=\"noreferrer\" target=\"_blank\" href=\"https://scikit-learn.org/1.7/modules/generated/sklearn.compose.ColumnTransformer.html\">?<span>Documentation for ColumnTransformer</span></a><span class=\"sk-estimator-doc-link \">i<span>Not fitted</span></span></div></label><div class=\"sk-toggleable__content \" data-param-prefix=\"\">\n",
       "        <div class=\"estimator-table\">\n",
       "            <details>\n",
       "                <summary>Parameters</summary>\n",
       "                <table class=\"parameters-table\">\n",
       "                  <tbody>\n",
       "                    \n",
       "        <tr class=\"user-set\">\n",
       "            <td><i class=\"copy-paste-icon\"\n",
       "                 onclick=\"copyToClipboard('transformers',\n",
       "                          this.parentElement.nextElementSibling)\"\n",
       "            ></i></td>\n",
       "            <td class=\"param\">transformers&nbsp;</td>\n",
       "            <td class=\"value\">[(&#x27;num&#x27;, ...), (&#x27;bool&#x27;, ...)]</td>\n",
       "        </tr>\n",
       "    \n",
       "\n",
       "        <tr class=\"default\">\n",
       "            <td><i class=\"copy-paste-icon\"\n",
       "                 onclick=\"copyToClipboard('remainder',\n",
       "                          this.parentElement.nextElementSibling)\"\n",
       "            ></i></td>\n",
       "            <td class=\"param\">remainder&nbsp;</td>\n",
       "            <td class=\"value\">&#x27;drop&#x27;</td>\n",
       "        </tr>\n",
       "    \n",
       "\n",
       "        <tr class=\"default\">\n",
       "            <td><i class=\"copy-paste-icon\"\n",
       "                 onclick=\"copyToClipboard('sparse_threshold',\n",
       "                          this.parentElement.nextElementSibling)\"\n",
       "            ></i></td>\n",
       "            <td class=\"param\">sparse_threshold&nbsp;</td>\n",
       "            <td class=\"value\">0.3</td>\n",
       "        </tr>\n",
       "    \n",
       "\n",
       "        <tr class=\"default\">\n",
       "            <td><i class=\"copy-paste-icon\"\n",
       "                 onclick=\"copyToClipboard('n_jobs',\n",
       "                          this.parentElement.nextElementSibling)\"\n",
       "            ></i></td>\n",
       "            <td class=\"param\">n_jobs&nbsp;</td>\n",
       "            <td class=\"value\">None</td>\n",
       "        </tr>\n",
       "    \n",
       "\n",
       "        <tr class=\"default\">\n",
       "            <td><i class=\"copy-paste-icon\"\n",
       "                 onclick=\"copyToClipboard('transformer_weights',\n",
       "                          this.parentElement.nextElementSibling)\"\n",
       "            ></i></td>\n",
       "            <td class=\"param\">transformer_weights&nbsp;</td>\n",
       "            <td class=\"value\">None</td>\n",
       "        </tr>\n",
       "    \n",
       "\n",
       "        <tr class=\"user-set\">\n",
       "            <td><i class=\"copy-paste-icon\"\n",
       "                 onclick=\"copyToClipboard('verbose',\n",
       "                          this.parentElement.nextElementSibling)\"\n",
       "            ></i></td>\n",
       "            <td class=\"param\">verbose&nbsp;</td>\n",
       "            <td class=\"value\">True</td>\n",
       "        </tr>\n",
       "    \n",
       "\n",
       "        <tr class=\"default\">\n",
       "            <td><i class=\"copy-paste-icon\"\n",
       "                 onclick=\"copyToClipboard('verbose_feature_names_out',\n",
       "                          this.parentElement.nextElementSibling)\"\n",
       "            ></i></td>\n",
       "            <td class=\"param\">verbose_feature_names_out&nbsp;</td>\n",
       "            <td class=\"value\">True</td>\n",
       "        </tr>\n",
       "    \n",
       "\n",
       "        <tr class=\"default\">\n",
       "            <td><i class=\"copy-paste-icon\"\n",
       "                 onclick=\"copyToClipboard('force_int_remainder_cols',\n",
       "                          this.parentElement.nextElementSibling)\"\n",
       "            ></i></td>\n",
       "            <td class=\"param\">force_int_remainder_cols&nbsp;</td>\n",
       "            <td class=\"value\">&#x27;deprecated&#x27;</td>\n",
       "        </tr>\n",
       "    \n",
       "                  </tbody>\n",
       "                </table>\n",
       "            </details>\n",
       "        </div>\n",
       "    </div></div></div><div class=\"sk-parallel\"><div class=\"sk-parallel-item\"><div class=\"sk-item\"><div class=\"sk-label-container\"><div class=\"sk-label  sk-toggleable\"><input class=\"sk-toggleable__control sk-hidden--visually\" id=\"sk-estimator-id-100\" type=\"checkbox\" ><label for=\"sk-estimator-id-100\" class=\"sk-toggleable__label  sk-toggleable__label-arrow\"><div><div>num</div></div></label><div class=\"sk-toggleable__content \" data-param-prefix=\"num__\"><pre>[&#x27;age&#x27;, &#x27;creatinine_phosphokinase&#x27;, &#x27;ejection_fraction&#x27;, &#x27;platelets&#x27;, &#x27;serum_creatinine&#x27;, &#x27;serum_sodium&#x27;, &#x27;time&#x27;]</pre></div></div></div><div class=\"sk-serial\"><div class=\"sk-item\"><div class=\"sk-serial\"><div class=\"sk-item\"><div class=\"sk-estimator  sk-toggleable\"><input class=\"sk-toggleable__control sk-hidden--visually\" id=\"sk-estimator-id-101\" type=\"checkbox\" ><label for=\"sk-estimator-id-101\" class=\"sk-toggleable__label  sk-toggleable__label-arrow\"><div><div>SimpleImputer</div></div><div><a class=\"sk-estimator-doc-link \" rel=\"noreferrer\" target=\"_blank\" href=\"https://scikit-learn.org/1.7/modules/generated/sklearn.impute.SimpleImputer.html\">?<span>Documentation for SimpleImputer</span></a></div></label><div class=\"sk-toggleable__content \" data-param-prefix=\"num__imputer__\">\n",
       "        <div class=\"estimator-table\">\n",
       "            <details>\n",
       "                <summary>Parameters</summary>\n",
       "                <table class=\"parameters-table\">\n",
       "                  <tbody>\n",
       "                    \n",
       "        <tr class=\"default\">\n",
       "            <td><i class=\"copy-paste-icon\"\n",
       "                 onclick=\"copyToClipboard('missing_values',\n",
       "                          this.parentElement.nextElementSibling)\"\n",
       "            ></i></td>\n",
       "            <td class=\"param\">missing_values&nbsp;</td>\n",
       "            <td class=\"value\">nan</td>\n",
       "        </tr>\n",
       "    \n",
       "\n",
       "        <tr class=\"user-set\">\n",
       "            <td><i class=\"copy-paste-icon\"\n",
       "                 onclick=\"copyToClipboard('strategy',\n",
       "                          this.parentElement.nextElementSibling)\"\n",
       "            ></i></td>\n",
       "            <td class=\"param\">strategy&nbsp;</td>\n",
       "            <td class=\"value\">&#x27;median&#x27;</td>\n",
       "        </tr>\n",
       "    \n",
       "\n",
       "        <tr class=\"default\">\n",
       "            <td><i class=\"copy-paste-icon\"\n",
       "                 onclick=\"copyToClipboard('fill_value',\n",
       "                          this.parentElement.nextElementSibling)\"\n",
       "            ></i></td>\n",
       "            <td class=\"param\">fill_value&nbsp;</td>\n",
       "            <td class=\"value\">None</td>\n",
       "        </tr>\n",
       "    \n",
       "\n",
       "        <tr class=\"default\">\n",
       "            <td><i class=\"copy-paste-icon\"\n",
       "                 onclick=\"copyToClipboard('copy',\n",
       "                          this.parentElement.nextElementSibling)\"\n",
       "            ></i></td>\n",
       "            <td class=\"param\">copy&nbsp;</td>\n",
       "            <td class=\"value\">True</td>\n",
       "        </tr>\n",
       "    \n",
       "\n",
       "        <tr class=\"default\">\n",
       "            <td><i class=\"copy-paste-icon\"\n",
       "                 onclick=\"copyToClipboard('add_indicator',\n",
       "                          this.parentElement.nextElementSibling)\"\n",
       "            ></i></td>\n",
       "            <td class=\"param\">add_indicator&nbsp;</td>\n",
       "            <td class=\"value\">False</td>\n",
       "        </tr>\n",
       "    \n",
       "\n",
       "        <tr class=\"default\">\n",
       "            <td><i class=\"copy-paste-icon\"\n",
       "                 onclick=\"copyToClipboard('keep_empty_features',\n",
       "                          this.parentElement.nextElementSibling)\"\n",
       "            ></i></td>\n",
       "            <td class=\"param\">keep_empty_features&nbsp;</td>\n",
       "            <td class=\"value\">False</td>\n",
       "        </tr>\n",
       "    \n",
       "                  </tbody>\n",
       "                </table>\n",
       "            </details>\n",
       "        </div>\n",
       "    </div></div></div></div></div></div></div></div><div class=\"sk-parallel-item\"><div class=\"sk-item\"><div class=\"sk-label-container\"><div class=\"sk-label  sk-toggleable\"><input class=\"sk-toggleable__control sk-hidden--visually\" id=\"sk-estimator-id-102\" type=\"checkbox\" ><label for=\"sk-estimator-id-102\" class=\"sk-toggleable__label  sk-toggleable__label-arrow\"><div><div>bool</div></div></label><div class=\"sk-toggleable__content \" data-param-prefix=\"bool__\"><pre>[&#x27;anaemia&#x27;, &#x27;diabetes&#x27;, &#x27;high_blood_pressure&#x27;, &#x27;sex&#x27;, &#x27;smoking&#x27;]</pre></div></div></div><div class=\"sk-serial\"><div class=\"sk-item\"><div class=\"sk-serial\"><div class=\"sk-item\"><div class=\"sk-estimator  sk-toggleable\"><input class=\"sk-toggleable__control sk-hidden--visually\" id=\"sk-estimator-id-103\" type=\"checkbox\" ><label for=\"sk-estimator-id-103\" class=\"sk-toggleable__label  sk-toggleable__label-arrow\"><div><div>SimpleImputer</div></div><div><a class=\"sk-estimator-doc-link \" rel=\"noreferrer\" target=\"_blank\" href=\"https://scikit-learn.org/1.7/modules/generated/sklearn.impute.SimpleImputer.html\">?<span>Documentation for SimpleImputer</span></a></div></label><div class=\"sk-toggleable__content \" data-param-prefix=\"bool__imputer__\">\n",
       "        <div class=\"estimator-table\">\n",
       "            <details>\n",
       "                <summary>Parameters</summary>\n",
       "                <table class=\"parameters-table\">\n",
       "                  <tbody>\n",
       "                    \n",
       "        <tr class=\"default\">\n",
       "            <td><i class=\"copy-paste-icon\"\n",
       "                 onclick=\"copyToClipboard('missing_values',\n",
       "                          this.parentElement.nextElementSibling)\"\n",
       "            ></i></td>\n",
       "            <td class=\"param\">missing_values&nbsp;</td>\n",
       "            <td class=\"value\">nan</td>\n",
       "        </tr>\n",
       "    \n",
       "\n",
       "        <tr class=\"user-set\">\n",
       "            <td><i class=\"copy-paste-icon\"\n",
       "                 onclick=\"copyToClipboard('strategy',\n",
       "                          this.parentElement.nextElementSibling)\"\n",
       "            ></i></td>\n",
       "            <td class=\"param\">strategy&nbsp;</td>\n",
       "            <td class=\"value\">&#x27;most_frequent&#x27;</td>\n",
       "        </tr>\n",
       "    \n",
       "\n",
       "        <tr class=\"default\">\n",
       "            <td><i class=\"copy-paste-icon\"\n",
       "                 onclick=\"copyToClipboard('fill_value',\n",
       "                          this.parentElement.nextElementSibling)\"\n",
       "            ></i></td>\n",
       "            <td class=\"param\">fill_value&nbsp;</td>\n",
       "            <td class=\"value\">None</td>\n",
       "        </tr>\n",
       "    \n",
       "\n",
       "        <tr class=\"default\">\n",
       "            <td><i class=\"copy-paste-icon\"\n",
       "                 onclick=\"copyToClipboard('copy',\n",
       "                          this.parentElement.nextElementSibling)\"\n",
       "            ></i></td>\n",
       "            <td class=\"param\">copy&nbsp;</td>\n",
       "            <td class=\"value\">True</td>\n",
       "        </tr>\n",
       "    \n",
       "\n",
       "        <tr class=\"default\">\n",
       "            <td><i class=\"copy-paste-icon\"\n",
       "                 onclick=\"copyToClipboard('add_indicator',\n",
       "                          this.parentElement.nextElementSibling)\"\n",
       "            ></i></td>\n",
       "            <td class=\"param\">add_indicator&nbsp;</td>\n",
       "            <td class=\"value\">False</td>\n",
       "        </tr>\n",
       "    \n",
       "\n",
       "        <tr class=\"default\">\n",
       "            <td><i class=\"copy-paste-icon\"\n",
       "                 onclick=\"copyToClipboard('keep_empty_features',\n",
       "                          this.parentElement.nextElementSibling)\"\n",
       "            ></i></td>\n",
       "            <td class=\"param\">keep_empty_features&nbsp;</td>\n",
       "            <td class=\"value\">False</td>\n",
       "        </tr>\n",
       "    \n",
       "                  </tbody>\n",
       "                </table>\n",
       "            </details>\n",
       "        </div>\n",
       "    </div></div></div><div class=\"sk-item\"><div class=\"sk-estimator  sk-toggleable\"><input class=\"sk-toggleable__control sk-hidden--visually\" id=\"sk-estimator-id-104\" type=\"checkbox\" ><label for=\"sk-estimator-id-104\" class=\"sk-toggleable__label  sk-toggleable__label-arrow\"><div><div>OneHotEncoder</div></div><div><a class=\"sk-estimator-doc-link \" rel=\"noreferrer\" target=\"_blank\" href=\"https://scikit-learn.org/1.7/modules/generated/sklearn.preprocessing.OneHotEncoder.html\">?<span>Documentation for OneHotEncoder</span></a></div></label><div class=\"sk-toggleable__content \" data-param-prefix=\"bool__encoder__\">\n",
       "        <div class=\"estimator-table\">\n",
       "            <details>\n",
       "                <summary>Parameters</summary>\n",
       "                <table class=\"parameters-table\">\n",
       "                  <tbody>\n",
       "                    \n",
       "        <tr class=\"default\">\n",
       "            <td><i class=\"copy-paste-icon\"\n",
       "                 onclick=\"copyToClipboard('categories',\n",
       "                          this.parentElement.nextElementSibling)\"\n",
       "            ></i></td>\n",
       "            <td class=\"param\">categories&nbsp;</td>\n",
       "            <td class=\"value\">&#x27;auto&#x27;</td>\n",
       "        </tr>\n",
       "    \n",
       "\n",
       "        <tr class=\"user-set\">\n",
       "            <td><i class=\"copy-paste-icon\"\n",
       "                 onclick=\"copyToClipboard('drop',\n",
       "                          this.parentElement.nextElementSibling)\"\n",
       "            ></i></td>\n",
       "            <td class=\"param\">drop&nbsp;</td>\n",
       "            <td class=\"value\">&#x27;if_binary&#x27;</td>\n",
       "        </tr>\n",
       "    \n",
       "\n",
       "        <tr class=\"default\">\n",
       "            <td><i class=\"copy-paste-icon\"\n",
       "                 onclick=\"copyToClipboard('sparse_output',\n",
       "                          this.parentElement.nextElementSibling)\"\n",
       "            ></i></td>\n",
       "            <td class=\"param\">sparse_output&nbsp;</td>\n",
       "            <td class=\"value\">True</td>\n",
       "        </tr>\n",
       "    \n",
       "\n",
       "        <tr class=\"default\">\n",
       "            <td><i class=\"copy-paste-icon\"\n",
       "                 onclick=\"copyToClipboard('dtype',\n",
       "                          this.parentElement.nextElementSibling)\"\n",
       "            ></i></td>\n",
       "            <td class=\"param\">dtype&nbsp;</td>\n",
       "            <td class=\"value\">&lt;class &#x27;numpy.float64&#x27;&gt;</td>\n",
       "        </tr>\n",
       "    \n",
       "\n",
       "        <tr class=\"default\">\n",
       "            <td><i class=\"copy-paste-icon\"\n",
       "                 onclick=\"copyToClipboard('handle_unknown',\n",
       "                          this.parentElement.nextElementSibling)\"\n",
       "            ></i></td>\n",
       "            <td class=\"param\">handle_unknown&nbsp;</td>\n",
       "            <td class=\"value\">&#x27;error&#x27;</td>\n",
       "        </tr>\n",
       "    \n",
       "\n",
       "        <tr class=\"default\">\n",
       "            <td><i class=\"copy-paste-icon\"\n",
       "                 onclick=\"copyToClipboard('min_frequency',\n",
       "                          this.parentElement.nextElementSibling)\"\n",
       "            ></i></td>\n",
       "            <td class=\"param\">min_frequency&nbsp;</td>\n",
       "            <td class=\"value\">None</td>\n",
       "        </tr>\n",
       "    \n",
       "\n",
       "        <tr class=\"default\">\n",
       "            <td><i class=\"copy-paste-icon\"\n",
       "                 onclick=\"copyToClipboard('max_categories',\n",
       "                          this.parentElement.nextElementSibling)\"\n",
       "            ></i></td>\n",
       "            <td class=\"param\">max_categories&nbsp;</td>\n",
       "            <td class=\"value\">None</td>\n",
       "        </tr>\n",
       "    \n",
       "\n",
       "        <tr class=\"default\">\n",
       "            <td><i class=\"copy-paste-icon\"\n",
       "                 onclick=\"copyToClipboard('feature_name_combiner',\n",
       "                          this.parentElement.nextElementSibling)\"\n",
       "            ></i></td>\n",
       "            <td class=\"param\">feature_name_combiner&nbsp;</td>\n",
       "            <td class=\"value\">&#x27;concat&#x27;</td>\n",
       "        </tr>\n",
       "    \n",
       "                  </tbody>\n",
       "                </table>\n",
       "            </details>\n",
       "        </div>\n",
       "    </div></div></div></div></div></div></div></div></div></div></div></div><script>function copyToClipboard(text, element) {\n",
       "    // Get the parameter prefix from the closest toggleable content\n",
       "    const toggleableContent = element.closest('.sk-toggleable__content');\n",
       "    const paramPrefix = toggleableContent ? toggleableContent.dataset.paramPrefix : '';\n",
       "    const fullParamName = paramPrefix ? `${paramPrefix}${text}` : text;\n",
       "\n",
       "    const originalStyle = element.style;\n",
       "    const computedStyle = window.getComputedStyle(element);\n",
       "    const originalWidth = computedStyle.width;\n",
       "    const originalHTML = element.innerHTML.replace('Copied!', '');\n",
       "\n",
       "    navigator.clipboard.writeText(fullParamName)\n",
       "        .then(() => {\n",
       "            element.style.width = originalWidth;\n",
       "            element.style.color = 'green';\n",
       "            element.innerHTML = \"Copied!\";\n",
       "\n",
       "            setTimeout(() => {\n",
       "                element.innerHTML = originalHTML;\n",
       "                element.style = originalStyle;\n",
       "            }, 2000);\n",
       "        })\n",
       "        .catch(err => {\n",
       "            console.error('Failed to copy:', err);\n",
       "            element.style.color = 'red';\n",
       "            element.innerHTML = \"Failed!\";\n",
       "            setTimeout(() => {\n",
       "                element.innerHTML = originalHTML;\n",
       "                element.style = originalStyle;\n",
       "            }, 2000);\n",
       "        });\n",
       "    return false;\n",
       "}\n",
       "\n",
       "document.querySelectorAll('.fa-regular.fa-copy').forEach(function(element) {\n",
       "    const toggleableContent = element.closest('.sk-toggleable__content');\n",
       "    const paramPrefix = toggleableContent ? toggleableContent.dataset.paramPrefix : '';\n",
       "    const paramName = element.parentElement.nextElementSibling.textContent.trim();\n",
       "    const fullParamName = paramPrefix ? `${paramPrefix}${paramName}` : paramName;\n",
       "\n",
       "    element.setAttribute('title', fullParamName);\n",
       "});\n",
       "</script></body>"
      ],
      "text/plain": [
       "ColumnTransformer(transformers=[('num',\n",
       "                                 Pipeline(steps=[('imputer',\n",
       "                                                  SimpleImputer(strategy='median'))]),\n",
       "                                 ['age', 'creatinine_phosphokinase',\n",
       "                                  'ejection_fraction', 'platelets',\n",
       "                                  'serum_creatinine', 'serum_sodium', 'time']),\n",
       "                                ('bool',\n",
       "                                 Pipeline(steps=[('imputer',\n",
       "                                                  SimpleImputer(strategy='most_frequent')),\n",
       "                                                 ('encoder',\n",
       "                                                  OneHotEncoder(drop='if_binary'))]),\n",
       "                                 ['anaemia', 'diabetes', 'high_blood_pressure',\n",
       "                                  'sex', 'smoking'])],\n",
       "                  verbose=True)"
      ]
     },
     "metadata": {},
     "output_type": "display_data"
    },
    {
     "data": {
      "text/html": [
       "<style>#sk-container-id-17 {\n",
       "  /* Definition of color scheme common for light and dark mode */\n",
       "  --sklearn-color-text: #000;\n",
       "  --sklearn-color-text-muted: #666;\n",
       "  --sklearn-color-line: gray;\n",
       "  /* Definition of color scheme for unfitted estimators */\n",
       "  --sklearn-color-unfitted-level-0: #fff5e6;\n",
       "  --sklearn-color-unfitted-level-1: #f6e4d2;\n",
       "  --sklearn-color-unfitted-level-2: #ffe0b3;\n",
       "  --sklearn-color-unfitted-level-3: chocolate;\n",
       "  /* Definition of color scheme for fitted estimators */\n",
       "  --sklearn-color-fitted-level-0: #f0f8ff;\n",
       "  --sklearn-color-fitted-level-1: #d4ebff;\n",
       "  --sklearn-color-fitted-level-2: #b3dbfd;\n",
       "  --sklearn-color-fitted-level-3: cornflowerblue;\n",
       "\n",
       "  /* Specific color for light theme */\n",
       "  --sklearn-color-text-on-default-background: var(--sg-text-color, var(--theme-code-foreground, var(--jp-content-font-color1, black)));\n",
       "  --sklearn-color-background: var(--sg-background-color, var(--theme-background, var(--jp-layout-color0, white)));\n",
       "  --sklearn-color-border-box: var(--sg-text-color, var(--theme-code-foreground, var(--jp-content-font-color1, black)));\n",
       "  --sklearn-color-icon: #696969;\n",
       "\n",
       "  @media (prefers-color-scheme: dark) {\n",
       "    /* Redefinition of color scheme for dark theme */\n",
       "    --sklearn-color-text-on-default-background: var(--sg-text-color, var(--theme-code-foreground, var(--jp-content-font-color1, white)));\n",
       "    --sklearn-color-background: var(--sg-background-color, var(--theme-background, var(--jp-layout-color0, #111)));\n",
       "    --sklearn-color-border-box: var(--sg-text-color, var(--theme-code-foreground, var(--jp-content-font-color1, white)));\n",
       "    --sklearn-color-icon: #878787;\n",
       "  }\n",
       "}\n",
       "\n",
       "#sk-container-id-17 {\n",
       "  color: var(--sklearn-color-text);\n",
       "}\n",
       "\n",
       "#sk-container-id-17 pre {\n",
       "  padding: 0;\n",
       "}\n",
       "\n",
       "#sk-container-id-17 input.sk-hidden--visually {\n",
       "  border: 0;\n",
       "  clip: rect(1px 1px 1px 1px);\n",
       "  clip: rect(1px, 1px, 1px, 1px);\n",
       "  height: 1px;\n",
       "  margin: -1px;\n",
       "  overflow: hidden;\n",
       "  padding: 0;\n",
       "  position: absolute;\n",
       "  width: 1px;\n",
       "}\n",
       "\n",
       "#sk-container-id-17 div.sk-dashed-wrapped {\n",
       "  border: 1px dashed var(--sklearn-color-line);\n",
       "  margin: 0 0.4em 0.5em 0.4em;\n",
       "  box-sizing: border-box;\n",
       "  padding-bottom: 0.4em;\n",
       "  background-color: var(--sklearn-color-background);\n",
       "}\n",
       "\n",
       "#sk-container-id-17 div.sk-container {\n",
       "  /* jupyter's `normalize.less` sets `[hidden] { display: none; }`\n",
       "     but bootstrap.min.css set `[hidden] { display: none !important; }`\n",
       "     so we also need the `!important` here to be able to override the\n",
       "     default hidden behavior on the sphinx rendered scikit-learn.org.\n",
       "     See: https://github.com/scikit-learn/scikit-learn/issues/21755 */\n",
       "  display: inline-block !important;\n",
       "  position: relative;\n",
       "}\n",
       "\n",
       "#sk-container-id-17 div.sk-text-repr-fallback {\n",
       "  display: none;\n",
       "}\n",
       "\n",
       "div.sk-parallel-item,\n",
       "div.sk-serial,\n",
       "div.sk-item {\n",
       "  /* draw centered vertical line to link estimators */\n",
       "  background-image: linear-gradient(var(--sklearn-color-text-on-default-background), var(--sklearn-color-text-on-default-background));\n",
       "  background-size: 2px 100%;\n",
       "  background-repeat: no-repeat;\n",
       "  background-position: center center;\n",
       "}\n",
       "\n",
       "/* Parallel-specific style estimator block */\n",
       "\n",
       "#sk-container-id-17 div.sk-parallel-item::after {\n",
       "  content: \"\";\n",
       "  width: 100%;\n",
       "  border-bottom: 2px solid var(--sklearn-color-text-on-default-background);\n",
       "  flex-grow: 1;\n",
       "}\n",
       "\n",
       "#sk-container-id-17 div.sk-parallel {\n",
       "  display: flex;\n",
       "  align-items: stretch;\n",
       "  justify-content: center;\n",
       "  background-color: var(--sklearn-color-background);\n",
       "  position: relative;\n",
       "}\n",
       "\n",
       "#sk-container-id-17 div.sk-parallel-item {\n",
       "  display: flex;\n",
       "  flex-direction: column;\n",
       "}\n",
       "\n",
       "#sk-container-id-17 div.sk-parallel-item:first-child::after {\n",
       "  align-self: flex-end;\n",
       "  width: 50%;\n",
       "}\n",
       "\n",
       "#sk-container-id-17 div.sk-parallel-item:last-child::after {\n",
       "  align-self: flex-start;\n",
       "  width: 50%;\n",
       "}\n",
       "\n",
       "#sk-container-id-17 div.sk-parallel-item:only-child::after {\n",
       "  width: 0;\n",
       "}\n",
       "\n",
       "/* Serial-specific style estimator block */\n",
       "\n",
       "#sk-container-id-17 div.sk-serial {\n",
       "  display: flex;\n",
       "  flex-direction: column;\n",
       "  align-items: center;\n",
       "  background-color: var(--sklearn-color-background);\n",
       "  padding-right: 1em;\n",
       "  padding-left: 1em;\n",
       "}\n",
       "\n",
       "\n",
       "/* Toggleable style: style used for estimator/Pipeline/ColumnTransformer box that is\n",
       "clickable and can be expanded/collapsed.\n",
       "- Pipeline and ColumnTransformer use this feature and define the default style\n",
       "- Estimators will overwrite some part of the style using the `sk-estimator` class\n",
       "*/\n",
       "\n",
       "/* Pipeline and ColumnTransformer style (default) */\n",
       "\n",
       "#sk-container-id-17 div.sk-toggleable {\n",
       "  /* Default theme specific background. It is overwritten whether we have a\n",
       "  specific estimator or a Pipeline/ColumnTransformer */\n",
       "  background-color: var(--sklearn-color-background);\n",
       "}\n",
       "\n",
       "/* Toggleable label */\n",
       "#sk-container-id-17 label.sk-toggleable__label {\n",
       "  cursor: pointer;\n",
       "  display: flex;\n",
       "  width: 100%;\n",
       "  margin-bottom: 0;\n",
       "  padding: 0.5em;\n",
       "  box-sizing: border-box;\n",
       "  text-align: center;\n",
       "  align-items: start;\n",
       "  justify-content: space-between;\n",
       "  gap: 0.5em;\n",
       "}\n",
       "\n",
       "#sk-container-id-17 label.sk-toggleable__label .caption {\n",
       "  font-size: 0.6rem;\n",
       "  font-weight: lighter;\n",
       "  color: var(--sklearn-color-text-muted);\n",
       "}\n",
       "\n",
       "#sk-container-id-17 label.sk-toggleable__label-arrow:before {\n",
       "  /* Arrow on the left of the label */\n",
       "  content: \"▸\";\n",
       "  float: left;\n",
       "  margin-right: 0.25em;\n",
       "  color: var(--sklearn-color-icon);\n",
       "}\n",
       "\n",
       "#sk-container-id-17 label.sk-toggleable__label-arrow:hover:before {\n",
       "  color: var(--sklearn-color-text);\n",
       "}\n",
       "\n",
       "/* Toggleable content - dropdown */\n",
       "\n",
       "#sk-container-id-17 div.sk-toggleable__content {\n",
       "  display: none;\n",
       "  text-align: left;\n",
       "  /* unfitted */\n",
       "  background-color: var(--sklearn-color-unfitted-level-0);\n",
       "}\n",
       "\n",
       "#sk-container-id-17 div.sk-toggleable__content.fitted {\n",
       "  /* fitted */\n",
       "  background-color: var(--sklearn-color-fitted-level-0);\n",
       "}\n",
       "\n",
       "#sk-container-id-17 div.sk-toggleable__content pre {\n",
       "  margin: 0.2em;\n",
       "  border-radius: 0.25em;\n",
       "  color: var(--sklearn-color-text);\n",
       "  /* unfitted */\n",
       "  background-color: var(--sklearn-color-unfitted-level-0);\n",
       "}\n",
       "\n",
       "#sk-container-id-17 div.sk-toggleable__content.fitted pre {\n",
       "  /* unfitted */\n",
       "  background-color: var(--sklearn-color-fitted-level-0);\n",
       "}\n",
       "\n",
       "#sk-container-id-17 input.sk-toggleable__control:checked~div.sk-toggleable__content {\n",
       "  /* Expand drop-down */\n",
       "  display: block;\n",
       "  width: 100%;\n",
       "  overflow: visible;\n",
       "}\n",
       "\n",
       "#sk-container-id-17 input.sk-toggleable__control:checked~label.sk-toggleable__label-arrow:before {\n",
       "  content: \"▾\";\n",
       "}\n",
       "\n",
       "/* Pipeline/ColumnTransformer-specific style */\n",
       "\n",
       "#sk-container-id-17 div.sk-label input.sk-toggleable__control:checked~label.sk-toggleable__label {\n",
       "  color: var(--sklearn-color-text);\n",
       "  background-color: var(--sklearn-color-unfitted-level-2);\n",
       "}\n",
       "\n",
       "#sk-container-id-17 div.sk-label.fitted input.sk-toggleable__control:checked~label.sk-toggleable__label {\n",
       "  background-color: var(--sklearn-color-fitted-level-2);\n",
       "}\n",
       "\n",
       "/* Estimator-specific style */\n",
       "\n",
       "/* Colorize estimator box */\n",
       "#sk-container-id-17 div.sk-estimator input.sk-toggleable__control:checked~label.sk-toggleable__label {\n",
       "  /* unfitted */\n",
       "  background-color: var(--sklearn-color-unfitted-level-2);\n",
       "}\n",
       "\n",
       "#sk-container-id-17 div.sk-estimator.fitted input.sk-toggleable__control:checked~label.sk-toggleable__label {\n",
       "  /* fitted */\n",
       "  background-color: var(--sklearn-color-fitted-level-2);\n",
       "}\n",
       "\n",
       "#sk-container-id-17 div.sk-label label.sk-toggleable__label,\n",
       "#sk-container-id-17 div.sk-label label {\n",
       "  /* The background is the default theme color */\n",
       "  color: var(--sklearn-color-text-on-default-background);\n",
       "}\n",
       "\n",
       "/* On hover, darken the color of the background */\n",
       "#sk-container-id-17 div.sk-label:hover label.sk-toggleable__label {\n",
       "  color: var(--sklearn-color-text);\n",
       "  background-color: var(--sklearn-color-unfitted-level-2);\n",
       "}\n",
       "\n",
       "/* Label box, darken color on hover, fitted */\n",
       "#sk-container-id-17 div.sk-label.fitted:hover label.sk-toggleable__label.fitted {\n",
       "  color: var(--sklearn-color-text);\n",
       "  background-color: var(--sklearn-color-fitted-level-2);\n",
       "}\n",
       "\n",
       "/* Estimator label */\n",
       "\n",
       "#sk-container-id-17 div.sk-label label {\n",
       "  font-family: monospace;\n",
       "  font-weight: bold;\n",
       "  display: inline-block;\n",
       "  line-height: 1.2em;\n",
       "}\n",
       "\n",
       "#sk-container-id-17 div.sk-label-container {\n",
       "  text-align: center;\n",
       "}\n",
       "\n",
       "/* Estimator-specific */\n",
       "#sk-container-id-17 div.sk-estimator {\n",
       "  font-family: monospace;\n",
       "  border: 1px dotted var(--sklearn-color-border-box);\n",
       "  border-radius: 0.25em;\n",
       "  box-sizing: border-box;\n",
       "  margin-bottom: 0.5em;\n",
       "  /* unfitted */\n",
       "  background-color: var(--sklearn-color-unfitted-level-0);\n",
       "}\n",
       "\n",
       "#sk-container-id-17 div.sk-estimator.fitted {\n",
       "  /* fitted */\n",
       "  background-color: var(--sklearn-color-fitted-level-0);\n",
       "}\n",
       "\n",
       "/* on hover */\n",
       "#sk-container-id-17 div.sk-estimator:hover {\n",
       "  /* unfitted */\n",
       "  background-color: var(--sklearn-color-unfitted-level-2);\n",
       "}\n",
       "\n",
       "#sk-container-id-17 div.sk-estimator.fitted:hover {\n",
       "  /* fitted */\n",
       "  background-color: var(--sklearn-color-fitted-level-2);\n",
       "}\n",
       "\n",
       "/* Specification for estimator info (e.g. \"i\" and \"?\") */\n",
       "\n",
       "/* Common style for \"i\" and \"?\" */\n",
       "\n",
       ".sk-estimator-doc-link,\n",
       "a:link.sk-estimator-doc-link,\n",
       "a:visited.sk-estimator-doc-link {\n",
       "  float: right;\n",
       "  font-size: smaller;\n",
       "  line-height: 1em;\n",
       "  font-family: monospace;\n",
       "  background-color: var(--sklearn-color-background);\n",
       "  border-radius: 1em;\n",
       "  height: 1em;\n",
       "  width: 1em;\n",
       "  text-decoration: none !important;\n",
       "  margin-left: 0.5em;\n",
       "  text-align: center;\n",
       "  /* unfitted */\n",
       "  border: var(--sklearn-color-unfitted-level-1) 1pt solid;\n",
       "  color: var(--sklearn-color-unfitted-level-1);\n",
       "}\n",
       "\n",
       ".sk-estimator-doc-link.fitted,\n",
       "a:link.sk-estimator-doc-link.fitted,\n",
       "a:visited.sk-estimator-doc-link.fitted {\n",
       "  /* fitted */\n",
       "  border: var(--sklearn-color-fitted-level-1) 1pt solid;\n",
       "  color: var(--sklearn-color-fitted-level-1);\n",
       "}\n",
       "\n",
       "/* On hover */\n",
       "div.sk-estimator:hover .sk-estimator-doc-link:hover,\n",
       ".sk-estimator-doc-link:hover,\n",
       "div.sk-label-container:hover .sk-estimator-doc-link:hover,\n",
       ".sk-estimator-doc-link:hover {\n",
       "  /* unfitted */\n",
       "  background-color: var(--sklearn-color-unfitted-level-3);\n",
       "  color: var(--sklearn-color-background);\n",
       "  text-decoration: none;\n",
       "}\n",
       "\n",
       "div.sk-estimator.fitted:hover .sk-estimator-doc-link.fitted:hover,\n",
       ".sk-estimator-doc-link.fitted:hover,\n",
       "div.sk-label-container:hover .sk-estimator-doc-link.fitted:hover,\n",
       ".sk-estimator-doc-link.fitted:hover {\n",
       "  /* fitted */\n",
       "  background-color: var(--sklearn-color-fitted-level-3);\n",
       "  color: var(--sklearn-color-background);\n",
       "  text-decoration: none;\n",
       "}\n",
       "\n",
       "/* Span, style for the box shown on hovering the info icon */\n",
       ".sk-estimator-doc-link span {\n",
       "  display: none;\n",
       "  z-index: 9999;\n",
       "  position: relative;\n",
       "  font-weight: normal;\n",
       "  right: .2ex;\n",
       "  padding: .5ex;\n",
       "  margin: .5ex;\n",
       "  width: min-content;\n",
       "  min-width: 20ex;\n",
       "  max-width: 50ex;\n",
       "  color: var(--sklearn-color-text);\n",
       "  box-shadow: 2pt 2pt 4pt #999;\n",
       "  /* unfitted */\n",
       "  background: var(--sklearn-color-unfitted-level-0);\n",
       "  border: .5pt solid var(--sklearn-color-unfitted-level-3);\n",
       "}\n",
       "\n",
       ".sk-estimator-doc-link.fitted span {\n",
       "  /* fitted */\n",
       "  background: var(--sklearn-color-fitted-level-0);\n",
       "  border: var(--sklearn-color-fitted-level-3);\n",
       "}\n",
       "\n",
       ".sk-estimator-doc-link:hover span {\n",
       "  display: block;\n",
       "}\n",
       "\n",
       "/* \"?\"-specific style due to the `<a>` HTML tag */\n",
       "\n",
       "#sk-container-id-17 a.estimator_doc_link {\n",
       "  float: right;\n",
       "  font-size: 1rem;\n",
       "  line-height: 1em;\n",
       "  font-family: monospace;\n",
       "  background-color: var(--sklearn-color-background);\n",
       "  border-radius: 1rem;\n",
       "  height: 1rem;\n",
       "  width: 1rem;\n",
       "  text-decoration: none;\n",
       "  /* unfitted */\n",
       "  color: var(--sklearn-color-unfitted-level-1);\n",
       "  border: var(--sklearn-color-unfitted-level-1) 1pt solid;\n",
       "}\n",
       "\n",
       "#sk-container-id-17 a.estimator_doc_link.fitted {\n",
       "  /* fitted */\n",
       "  border: var(--sklearn-color-fitted-level-1) 1pt solid;\n",
       "  color: var(--sklearn-color-fitted-level-1);\n",
       "}\n",
       "\n",
       "/* On hover */\n",
       "#sk-container-id-17 a.estimator_doc_link:hover {\n",
       "  /* unfitted */\n",
       "  background-color: var(--sklearn-color-unfitted-level-3);\n",
       "  color: var(--sklearn-color-background);\n",
       "  text-decoration: none;\n",
       "}\n",
       "\n",
       "#sk-container-id-17 a.estimator_doc_link.fitted:hover {\n",
       "  /* fitted */\n",
       "  background-color: var(--sklearn-color-fitted-level-3);\n",
       "}\n",
       "\n",
       ".estimator-table summary {\n",
       "    padding: .5rem;\n",
       "    font-family: monospace;\n",
       "    cursor: pointer;\n",
       "}\n",
       "\n",
       ".estimator-table details[open] {\n",
       "    padding-left: 0.1rem;\n",
       "    padding-right: 0.1rem;\n",
       "    padding-bottom: 0.3rem;\n",
       "}\n",
       "\n",
       ".estimator-table .parameters-table {\n",
       "    margin-left: auto !important;\n",
       "    margin-right: auto !important;\n",
       "}\n",
       "\n",
       ".estimator-table .parameters-table tr:nth-child(odd) {\n",
       "    background-color: #fff;\n",
       "}\n",
       "\n",
       ".estimator-table .parameters-table tr:nth-child(even) {\n",
       "    background-color: #f6f6f6;\n",
       "}\n",
       "\n",
       ".estimator-table .parameters-table tr:hover {\n",
       "    background-color: #e0e0e0;\n",
       "}\n",
       "\n",
       ".estimator-table table td {\n",
       "    border: 1px solid rgba(106, 105, 104, 0.232);\n",
       "}\n",
       "\n",
       ".user-set td {\n",
       "    color:rgb(255, 94, 0);\n",
       "    text-align: left;\n",
       "}\n",
       "\n",
       ".user-set td.value pre {\n",
       "    color:rgb(255, 94, 0) !important;\n",
       "    background-color: transparent !important;\n",
       "}\n",
       "\n",
       ".default td {\n",
       "    color: black;\n",
       "    text-align: left;\n",
       "}\n",
       "\n",
       ".user-set td i,\n",
       ".default td i {\n",
       "    color: black;\n",
       "}\n",
       "\n",
       ".copy-paste-icon {\n",
       "    background-image: url(data:image/svg+xml;base64,PHN2ZyB4bWxucz0iaHR0cDovL3d3dy53My5vcmcvMjAwMC9zdmciIHZpZXdCb3g9IjAgMCA0NDggNTEyIj48IS0tIUZvbnQgQXdlc29tZSBGcmVlIDYuNy4yIGJ5IEBmb250YXdlc29tZSAtIGh0dHBzOi8vZm9udGF3ZXNvbWUuY29tIExpY2Vuc2UgLSBodHRwczovL2ZvbnRhd2Vzb21lLmNvbS9saWNlbnNlL2ZyZWUgQ29weXJpZ2h0IDIwMjUgRm9udGljb25zLCBJbmMuLS0+PHBhdGggZD0iTTIwOCAwTDMzMi4xIDBjMTIuNyAwIDI0LjkgNS4xIDMzLjkgMTQuMWw2Ny45IDY3LjljOSA5IDE0LjEgMjEuMiAxNC4xIDMzLjlMNDQ4IDMzNmMwIDI2LjUtMjEuNSA0OC00OCA0OGwtMTkyIDBjLTI2LjUgMC00OC0yMS41LTQ4LTQ4bDAtMjg4YzAtMjYuNSAyMS41LTQ4IDQ4LTQ4ek00OCAxMjhsODAgMCAwIDY0LTY0IDAgMCAyNTYgMTkyIDAgMC0zMiA2NCAwIDAgNDhjMCAyNi41LTIxLjUgNDgtNDggNDhMNDggNTEyYy0yNi41IDAtNDgtMjEuNS00OC00OEwwIDE3NmMwLTI2LjUgMjEuNS00OCA0OC00OHoiLz48L3N2Zz4=);\n",
       "    background-repeat: no-repeat;\n",
       "    background-size: 14px 14px;\n",
       "    background-position: 0;\n",
       "    display: inline-block;\n",
       "    width: 14px;\n",
       "    height: 14px;\n",
       "    cursor: pointer;\n",
       "}\n",
       "</style><body><div id=\"sk-container-id-17\" class=\"sk-top-container\"><div class=\"sk-text-repr-fallback\"><pre>ColumnTransformer(transformers=[(&#x27;num&#x27;,\n",
       "                                 Pipeline(steps=[(&#x27;imputer&#x27;,\n",
       "                                                  SimpleImputer(strategy=&#x27;median&#x27;)),\n",
       "                                                 (&#x27;scaler&#x27;, StandardScaler())]),\n",
       "                                 [&#x27;age&#x27;, &#x27;creatinine_phosphokinase&#x27;,\n",
       "                                  &#x27;ejection_fraction&#x27;, &#x27;platelets&#x27;,\n",
       "                                  &#x27;serum_creatinine&#x27;, &#x27;serum_sodium&#x27;, &#x27;time&#x27;]),\n",
       "                                (&#x27;bool&#x27;,\n",
       "                                 Pipeline(steps=[(&#x27;imputer&#x27;,\n",
       "                                                  SimpleImputer(strategy=&#x27;most_frequent&#x27;)),\n",
       "                                                 (&#x27;encoder&#x27;,\n",
       "                                                  OneHotEncoder(drop=&#x27;if_binary&#x27;))]),\n",
       "                                 [&#x27;anaemia&#x27;, &#x27;diabetes&#x27;, &#x27;high_blood_pressure&#x27;,\n",
       "                                  &#x27;sex&#x27;, &#x27;smoking&#x27;])],\n",
       "                  verbose=True)</pre><b>In a Jupyter environment, please rerun this cell to show the HTML representation or trust the notebook. <br />On GitHub, the HTML representation is unable to render, please try loading this page with nbviewer.org.</b></div><div class=\"sk-container\" hidden><div class=\"sk-item sk-dashed-wrapped\"><div class=\"sk-label-container\"><div class=\"sk-label  sk-toggleable\"><input class=\"sk-toggleable__control sk-hidden--visually\" id=\"sk-estimator-id-105\" type=\"checkbox\" ><label for=\"sk-estimator-id-105\" class=\"sk-toggleable__label  sk-toggleable__label-arrow\"><div><div>ColumnTransformer</div></div><div><a class=\"sk-estimator-doc-link \" rel=\"noreferrer\" target=\"_blank\" href=\"https://scikit-learn.org/1.7/modules/generated/sklearn.compose.ColumnTransformer.html\">?<span>Documentation for ColumnTransformer</span></a><span class=\"sk-estimator-doc-link \">i<span>Not fitted</span></span></div></label><div class=\"sk-toggleable__content \" data-param-prefix=\"\">\n",
       "        <div class=\"estimator-table\">\n",
       "            <details>\n",
       "                <summary>Parameters</summary>\n",
       "                <table class=\"parameters-table\">\n",
       "                  <tbody>\n",
       "                    \n",
       "        <tr class=\"user-set\">\n",
       "            <td><i class=\"copy-paste-icon\"\n",
       "                 onclick=\"copyToClipboard('transformers',\n",
       "                          this.parentElement.nextElementSibling)\"\n",
       "            ></i></td>\n",
       "            <td class=\"param\">transformers&nbsp;</td>\n",
       "            <td class=\"value\">[(&#x27;num&#x27;, ...), (&#x27;bool&#x27;, ...)]</td>\n",
       "        </tr>\n",
       "    \n",
       "\n",
       "        <tr class=\"default\">\n",
       "            <td><i class=\"copy-paste-icon\"\n",
       "                 onclick=\"copyToClipboard('remainder',\n",
       "                          this.parentElement.nextElementSibling)\"\n",
       "            ></i></td>\n",
       "            <td class=\"param\">remainder&nbsp;</td>\n",
       "            <td class=\"value\">&#x27;drop&#x27;</td>\n",
       "        </tr>\n",
       "    \n",
       "\n",
       "        <tr class=\"default\">\n",
       "            <td><i class=\"copy-paste-icon\"\n",
       "                 onclick=\"copyToClipboard('sparse_threshold',\n",
       "                          this.parentElement.nextElementSibling)\"\n",
       "            ></i></td>\n",
       "            <td class=\"param\">sparse_threshold&nbsp;</td>\n",
       "            <td class=\"value\">0.3</td>\n",
       "        </tr>\n",
       "    \n",
       "\n",
       "        <tr class=\"default\">\n",
       "            <td><i class=\"copy-paste-icon\"\n",
       "                 onclick=\"copyToClipboard('n_jobs',\n",
       "                          this.parentElement.nextElementSibling)\"\n",
       "            ></i></td>\n",
       "            <td class=\"param\">n_jobs&nbsp;</td>\n",
       "            <td class=\"value\">None</td>\n",
       "        </tr>\n",
       "    \n",
       "\n",
       "        <tr class=\"default\">\n",
       "            <td><i class=\"copy-paste-icon\"\n",
       "                 onclick=\"copyToClipboard('transformer_weights',\n",
       "                          this.parentElement.nextElementSibling)\"\n",
       "            ></i></td>\n",
       "            <td class=\"param\">transformer_weights&nbsp;</td>\n",
       "            <td class=\"value\">None</td>\n",
       "        </tr>\n",
       "    \n",
       "\n",
       "        <tr class=\"user-set\">\n",
       "            <td><i class=\"copy-paste-icon\"\n",
       "                 onclick=\"copyToClipboard('verbose',\n",
       "                          this.parentElement.nextElementSibling)\"\n",
       "            ></i></td>\n",
       "            <td class=\"param\">verbose&nbsp;</td>\n",
       "            <td class=\"value\">True</td>\n",
       "        </tr>\n",
       "    \n",
       "\n",
       "        <tr class=\"default\">\n",
       "            <td><i class=\"copy-paste-icon\"\n",
       "                 onclick=\"copyToClipboard('verbose_feature_names_out',\n",
       "                          this.parentElement.nextElementSibling)\"\n",
       "            ></i></td>\n",
       "            <td class=\"param\">verbose_feature_names_out&nbsp;</td>\n",
       "            <td class=\"value\">True</td>\n",
       "        </tr>\n",
       "    \n",
       "\n",
       "        <tr class=\"default\">\n",
       "            <td><i class=\"copy-paste-icon\"\n",
       "                 onclick=\"copyToClipboard('force_int_remainder_cols',\n",
       "                          this.parentElement.nextElementSibling)\"\n",
       "            ></i></td>\n",
       "            <td class=\"param\">force_int_remainder_cols&nbsp;</td>\n",
       "            <td class=\"value\">&#x27;deprecated&#x27;</td>\n",
       "        </tr>\n",
       "    \n",
       "                  </tbody>\n",
       "                </table>\n",
       "            </details>\n",
       "        </div>\n",
       "    </div></div></div><div class=\"sk-parallel\"><div class=\"sk-parallel-item\"><div class=\"sk-item\"><div class=\"sk-label-container\"><div class=\"sk-label  sk-toggleable\"><input class=\"sk-toggleable__control sk-hidden--visually\" id=\"sk-estimator-id-106\" type=\"checkbox\" ><label for=\"sk-estimator-id-106\" class=\"sk-toggleable__label  sk-toggleable__label-arrow\"><div><div>num</div></div></label><div class=\"sk-toggleable__content \" data-param-prefix=\"num__\"><pre>[&#x27;age&#x27;, &#x27;creatinine_phosphokinase&#x27;, &#x27;ejection_fraction&#x27;, &#x27;platelets&#x27;, &#x27;serum_creatinine&#x27;, &#x27;serum_sodium&#x27;, &#x27;time&#x27;]</pre></div></div></div><div class=\"sk-serial\"><div class=\"sk-item\"><div class=\"sk-serial\"><div class=\"sk-item\"><div class=\"sk-estimator  sk-toggleable\"><input class=\"sk-toggleable__control sk-hidden--visually\" id=\"sk-estimator-id-107\" type=\"checkbox\" ><label for=\"sk-estimator-id-107\" class=\"sk-toggleable__label  sk-toggleable__label-arrow\"><div><div>SimpleImputer</div></div><div><a class=\"sk-estimator-doc-link \" rel=\"noreferrer\" target=\"_blank\" href=\"https://scikit-learn.org/1.7/modules/generated/sklearn.impute.SimpleImputer.html\">?<span>Documentation for SimpleImputer</span></a></div></label><div class=\"sk-toggleable__content \" data-param-prefix=\"num__imputer__\">\n",
       "        <div class=\"estimator-table\">\n",
       "            <details>\n",
       "                <summary>Parameters</summary>\n",
       "                <table class=\"parameters-table\">\n",
       "                  <tbody>\n",
       "                    \n",
       "        <tr class=\"default\">\n",
       "            <td><i class=\"copy-paste-icon\"\n",
       "                 onclick=\"copyToClipboard('missing_values',\n",
       "                          this.parentElement.nextElementSibling)\"\n",
       "            ></i></td>\n",
       "            <td class=\"param\">missing_values&nbsp;</td>\n",
       "            <td class=\"value\">nan</td>\n",
       "        </tr>\n",
       "    \n",
       "\n",
       "        <tr class=\"user-set\">\n",
       "            <td><i class=\"copy-paste-icon\"\n",
       "                 onclick=\"copyToClipboard('strategy',\n",
       "                          this.parentElement.nextElementSibling)\"\n",
       "            ></i></td>\n",
       "            <td class=\"param\">strategy&nbsp;</td>\n",
       "            <td class=\"value\">&#x27;median&#x27;</td>\n",
       "        </tr>\n",
       "    \n",
       "\n",
       "        <tr class=\"default\">\n",
       "            <td><i class=\"copy-paste-icon\"\n",
       "                 onclick=\"copyToClipboard('fill_value',\n",
       "                          this.parentElement.nextElementSibling)\"\n",
       "            ></i></td>\n",
       "            <td class=\"param\">fill_value&nbsp;</td>\n",
       "            <td class=\"value\">None</td>\n",
       "        </tr>\n",
       "    \n",
       "\n",
       "        <tr class=\"default\">\n",
       "            <td><i class=\"copy-paste-icon\"\n",
       "                 onclick=\"copyToClipboard('copy',\n",
       "                          this.parentElement.nextElementSibling)\"\n",
       "            ></i></td>\n",
       "            <td class=\"param\">copy&nbsp;</td>\n",
       "            <td class=\"value\">True</td>\n",
       "        </tr>\n",
       "    \n",
       "\n",
       "        <tr class=\"default\">\n",
       "            <td><i class=\"copy-paste-icon\"\n",
       "                 onclick=\"copyToClipboard('add_indicator',\n",
       "                          this.parentElement.nextElementSibling)\"\n",
       "            ></i></td>\n",
       "            <td class=\"param\">add_indicator&nbsp;</td>\n",
       "            <td class=\"value\">False</td>\n",
       "        </tr>\n",
       "    \n",
       "\n",
       "        <tr class=\"default\">\n",
       "            <td><i class=\"copy-paste-icon\"\n",
       "                 onclick=\"copyToClipboard('keep_empty_features',\n",
       "                          this.parentElement.nextElementSibling)\"\n",
       "            ></i></td>\n",
       "            <td class=\"param\">keep_empty_features&nbsp;</td>\n",
       "            <td class=\"value\">False</td>\n",
       "        </tr>\n",
       "    \n",
       "                  </tbody>\n",
       "                </table>\n",
       "            </details>\n",
       "        </div>\n",
       "    </div></div></div><div class=\"sk-item\"><div class=\"sk-estimator  sk-toggleable\"><input class=\"sk-toggleable__control sk-hidden--visually\" id=\"sk-estimator-id-108\" type=\"checkbox\" ><label for=\"sk-estimator-id-108\" class=\"sk-toggleable__label  sk-toggleable__label-arrow\"><div><div>StandardScaler</div></div><div><a class=\"sk-estimator-doc-link \" rel=\"noreferrer\" target=\"_blank\" href=\"https://scikit-learn.org/1.7/modules/generated/sklearn.preprocessing.StandardScaler.html\">?<span>Documentation for StandardScaler</span></a></div></label><div class=\"sk-toggleable__content \" data-param-prefix=\"num__scaler__\">\n",
       "        <div class=\"estimator-table\">\n",
       "            <details>\n",
       "                <summary>Parameters</summary>\n",
       "                <table class=\"parameters-table\">\n",
       "                  <tbody>\n",
       "                    \n",
       "        <tr class=\"default\">\n",
       "            <td><i class=\"copy-paste-icon\"\n",
       "                 onclick=\"copyToClipboard('copy',\n",
       "                          this.parentElement.nextElementSibling)\"\n",
       "            ></i></td>\n",
       "            <td class=\"param\">copy&nbsp;</td>\n",
       "            <td class=\"value\">True</td>\n",
       "        </tr>\n",
       "    \n",
       "\n",
       "        <tr class=\"default\">\n",
       "            <td><i class=\"copy-paste-icon\"\n",
       "                 onclick=\"copyToClipboard('with_mean',\n",
       "                          this.parentElement.nextElementSibling)\"\n",
       "            ></i></td>\n",
       "            <td class=\"param\">with_mean&nbsp;</td>\n",
       "            <td class=\"value\">True</td>\n",
       "        </tr>\n",
       "    \n",
       "\n",
       "        <tr class=\"default\">\n",
       "            <td><i class=\"copy-paste-icon\"\n",
       "                 onclick=\"copyToClipboard('with_std',\n",
       "                          this.parentElement.nextElementSibling)\"\n",
       "            ></i></td>\n",
       "            <td class=\"param\">with_std&nbsp;</td>\n",
       "            <td class=\"value\">True</td>\n",
       "        </tr>\n",
       "    \n",
       "                  </tbody>\n",
       "                </table>\n",
       "            </details>\n",
       "        </div>\n",
       "    </div></div></div></div></div></div></div></div><div class=\"sk-parallel-item\"><div class=\"sk-item\"><div class=\"sk-label-container\"><div class=\"sk-label  sk-toggleable\"><input class=\"sk-toggleable__control sk-hidden--visually\" id=\"sk-estimator-id-109\" type=\"checkbox\" ><label for=\"sk-estimator-id-109\" class=\"sk-toggleable__label  sk-toggleable__label-arrow\"><div><div>bool</div></div></label><div class=\"sk-toggleable__content \" data-param-prefix=\"bool__\"><pre>[&#x27;anaemia&#x27;, &#x27;diabetes&#x27;, &#x27;high_blood_pressure&#x27;, &#x27;sex&#x27;, &#x27;smoking&#x27;]</pre></div></div></div><div class=\"sk-serial\"><div class=\"sk-item\"><div class=\"sk-serial\"><div class=\"sk-item\"><div class=\"sk-estimator  sk-toggleable\"><input class=\"sk-toggleable__control sk-hidden--visually\" id=\"sk-estimator-id-110\" type=\"checkbox\" ><label for=\"sk-estimator-id-110\" class=\"sk-toggleable__label  sk-toggleable__label-arrow\"><div><div>SimpleImputer</div></div><div><a class=\"sk-estimator-doc-link \" rel=\"noreferrer\" target=\"_blank\" href=\"https://scikit-learn.org/1.7/modules/generated/sklearn.impute.SimpleImputer.html\">?<span>Documentation for SimpleImputer</span></a></div></label><div class=\"sk-toggleable__content \" data-param-prefix=\"bool__imputer__\">\n",
       "        <div class=\"estimator-table\">\n",
       "            <details>\n",
       "                <summary>Parameters</summary>\n",
       "                <table class=\"parameters-table\">\n",
       "                  <tbody>\n",
       "                    \n",
       "        <tr class=\"default\">\n",
       "            <td><i class=\"copy-paste-icon\"\n",
       "                 onclick=\"copyToClipboard('missing_values',\n",
       "                          this.parentElement.nextElementSibling)\"\n",
       "            ></i></td>\n",
       "            <td class=\"param\">missing_values&nbsp;</td>\n",
       "            <td class=\"value\">nan</td>\n",
       "        </tr>\n",
       "    \n",
       "\n",
       "        <tr class=\"user-set\">\n",
       "            <td><i class=\"copy-paste-icon\"\n",
       "                 onclick=\"copyToClipboard('strategy',\n",
       "                          this.parentElement.nextElementSibling)\"\n",
       "            ></i></td>\n",
       "            <td class=\"param\">strategy&nbsp;</td>\n",
       "            <td class=\"value\">&#x27;most_frequent&#x27;</td>\n",
       "        </tr>\n",
       "    \n",
       "\n",
       "        <tr class=\"default\">\n",
       "            <td><i class=\"copy-paste-icon\"\n",
       "                 onclick=\"copyToClipboard('fill_value',\n",
       "                          this.parentElement.nextElementSibling)\"\n",
       "            ></i></td>\n",
       "            <td class=\"param\">fill_value&nbsp;</td>\n",
       "            <td class=\"value\">None</td>\n",
       "        </tr>\n",
       "    \n",
       "\n",
       "        <tr class=\"default\">\n",
       "            <td><i class=\"copy-paste-icon\"\n",
       "                 onclick=\"copyToClipboard('copy',\n",
       "                          this.parentElement.nextElementSibling)\"\n",
       "            ></i></td>\n",
       "            <td class=\"param\">copy&nbsp;</td>\n",
       "            <td class=\"value\">True</td>\n",
       "        </tr>\n",
       "    \n",
       "\n",
       "        <tr class=\"default\">\n",
       "            <td><i class=\"copy-paste-icon\"\n",
       "                 onclick=\"copyToClipboard('add_indicator',\n",
       "                          this.parentElement.nextElementSibling)\"\n",
       "            ></i></td>\n",
       "            <td class=\"param\">add_indicator&nbsp;</td>\n",
       "            <td class=\"value\">False</td>\n",
       "        </tr>\n",
       "    \n",
       "\n",
       "        <tr class=\"default\">\n",
       "            <td><i class=\"copy-paste-icon\"\n",
       "                 onclick=\"copyToClipboard('keep_empty_features',\n",
       "                          this.parentElement.nextElementSibling)\"\n",
       "            ></i></td>\n",
       "            <td class=\"param\">keep_empty_features&nbsp;</td>\n",
       "            <td class=\"value\">False</td>\n",
       "        </tr>\n",
       "    \n",
       "                  </tbody>\n",
       "                </table>\n",
       "            </details>\n",
       "        </div>\n",
       "    </div></div></div><div class=\"sk-item\"><div class=\"sk-estimator  sk-toggleable\"><input class=\"sk-toggleable__control sk-hidden--visually\" id=\"sk-estimator-id-111\" type=\"checkbox\" ><label for=\"sk-estimator-id-111\" class=\"sk-toggleable__label  sk-toggleable__label-arrow\"><div><div>OneHotEncoder</div></div><div><a class=\"sk-estimator-doc-link \" rel=\"noreferrer\" target=\"_blank\" href=\"https://scikit-learn.org/1.7/modules/generated/sklearn.preprocessing.OneHotEncoder.html\">?<span>Documentation for OneHotEncoder</span></a></div></label><div class=\"sk-toggleable__content \" data-param-prefix=\"bool__encoder__\">\n",
       "        <div class=\"estimator-table\">\n",
       "            <details>\n",
       "                <summary>Parameters</summary>\n",
       "                <table class=\"parameters-table\">\n",
       "                  <tbody>\n",
       "                    \n",
       "        <tr class=\"default\">\n",
       "            <td><i class=\"copy-paste-icon\"\n",
       "                 onclick=\"copyToClipboard('categories',\n",
       "                          this.parentElement.nextElementSibling)\"\n",
       "            ></i></td>\n",
       "            <td class=\"param\">categories&nbsp;</td>\n",
       "            <td class=\"value\">&#x27;auto&#x27;</td>\n",
       "        </tr>\n",
       "    \n",
       "\n",
       "        <tr class=\"user-set\">\n",
       "            <td><i class=\"copy-paste-icon\"\n",
       "                 onclick=\"copyToClipboard('drop',\n",
       "                          this.parentElement.nextElementSibling)\"\n",
       "            ></i></td>\n",
       "            <td class=\"param\">drop&nbsp;</td>\n",
       "            <td class=\"value\">&#x27;if_binary&#x27;</td>\n",
       "        </tr>\n",
       "    \n",
       "\n",
       "        <tr class=\"default\">\n",
       "            <td><i class=\"copy-paste-icon\"\n",
       "                 onclick=\"copyToClipboard('sparse_output',\n",
       "                          this.parentElement.nextElementSibling)\"\n",
       "            ></i></td>\n",
       "            <td class=\"param\">sparse_output&nbsp;</td>\n",
       "            <td class=\"value\">True</td>\n",
       "        </tr>\n",
       "    \n",
       "\n",
       "        <tr class=\"default\">\n",
       "            <td><i class=\"copy-paste-icon\"\n",
       "                 onclick=\"copyToClipboard('dtype',\n",
       "                          this.parentElement.nextElementSibling)\"\n",
       "            ></i></td>\n",
       "            <td class=\"param\">dtype&nbsp;</td>\n",
       "            <td class=\"value\">&lt;class &#x27;numpy.float64&#x27;&gt;</td>\n",
       "        </tr>\n",
       "    \n",
       "\n",
       "        <tr class=\"default\">\n",
       "            <td><i class=\"copy-paste-icon\"\n",
       "                 onclick=\"copyToClipboard('handle_unknown',\n",
       "                          this.parentElement.nextElementSibling)\"\n",
       "            ></i></td>\n",
       "            <td class=\"param\">handle_unknown&nbsp;</td>\n",
       "            <td class=\"value\">&#x27;error&#x27;</td>\n",
       "        </tr>\n",
       "    \n",
       "\n",
       "        <tr class=\"default\">\n",
       "            <td><i class=\"copy-paste-icon\"\n",
       "                 onclick=\"copyToClipboard('min_frequency',\n",
       "                          this.parentElement.nextElementSibling)\"\n",
       "            ></i></td>\n",
       "            <td class=\"param\">min_frequency&nbsp;</td>\n",
       "            <td class=\"value\">None</td>\n",
       "        </tr>\n",
       "    \n",
       "\n",
       "        <tr class=\"default\">\n",
       "            <td><i class=\"copy-paste-icon\"\n",
       "                 onclick=\"copyToClipboard('max_categories',\n",
       "                          this.parentElement.nextElementSibling)\"\n",
       "            ></i></td>\n",
       "            <td class=\"param\">max_categories&nbsp;</td>\n",
       "            <td class=\"value\">None</td>\n",
       "        </tr>\n",
       "    \n",
       "\n",
       "        <tr class=\"default\">\n",
       "            <td><i class=\"copy-paste-icon\"\n",
       "                 onclick=\"copyToClipboard('feature_name_combiner',\n",
       "                          this.parentElement.nextElementSibling)\"\n",
       "            ></i></td>\n",
       "            <td class=\"param\">feature_name_combiner&nbsp;</td>\n",
       "            <td class=\"value\">&#x27;concat&#x27;</td>\n",
       "        </tr>\n",
       "    \n",
       "                  </tbody>\n",
       "                </table>\n",
       "            </details>\n",
       "        </div>\n",
       "    </div></div></div></div></div></div></div></div></div></div></div></div><script>function copyToClipboard(text, element) {\n",
       "    // Get the parameter prefix from the closest toggleable content\n",
       "    const toggleableContent = element.closest('.sk-toggleable__content');\n",
       "    const paramPrefix = toggleableContent ? toggleableContent.dataset.paramPrefix : '';\n",
       "    const fullParamName = paramPrefix ? `${paramPrefix}${text}` : text;\n",
       "\n",
       "    const originalStyle = element.style;\n",
       "    const computedStyle = window.getComputedStyle(element);\n",
       "    const originalWidth = computedStyle.width;\n",
       "    const originalHTML = element.innerHTML.replace('Copied!', '');\n",
       "\n",
       "    navigator.clipboard.writeText(fullParamName)\n",
       "        .then(() => {\n",
       "            element.style.width = originalWidth;\n",
       "            element.style.color = 'green';\n",
       "            element.innerHTML = \"Copied!\";\n",
       "\n",
       "            setTimeout(() => {\n",
       "                element.innerHTML = originalHTML;\n",
       "                element.style = originalStyle;\n",
       "            }, 2000);\n",
       "        })\n",
       "        .catch(err => {\n",
       "            console.error('Failed to copy:', err);\n",
       "            element.style.color = 'red';\n",
       "            element.innerHTML = \"Failed!\";\n",
       "            setTimeout(() => {\n",
       "                element.innerHTML = originalHTML;\n",
       "                element.style = originalStyle;\n",
       "            }, 2000);\n",
       "        });\n",
       "    return false;\n",
       "}\n",
       "\n",
       "document.querySelectorAll('.fa-regular.fa-copy').forEach(function(element) {\n",
       "    const toggleableContent = element.closest('.sk-toggleable__content');\n",
       "    const paramPrefix = toggleableContent ? toggleableContent.dataset.paramPrefix : '';\n",
       "    const paramName = element.parentElement.nextElementSibling.textContent.trim();\n",
       "    const fullParamName = paramPrefix ? `${paramPrefix}${paramName}` : paramName;\n",
       "\n",
       "    element.setAttribute('title', fullParamName);\n",
       "});\n",
       "</script></body>"
      ],
      "text/plain": [
       "ColumnTransformer(transformers=[('num',\n",
       "                                 Pipeline(steps=[('imputer',\n",
       "                                                  SimpleImputer(strategy='median')),\n",
       "                                                 ('scaler', StandardScaler())]),\n",
       "                                 ['age', 'creatinine_phosphokinase',\n",
       "                                  'ejection_fraction', 'platelets',\n",
       "                                  'serum_creatinine', 'serum_sodium', 'time']),\n",
       "                                ('bool',\n",
       "                                 Pipeline(steps=[('imputer',\n",
       "                                                  SimpleImputer(strategy='most_frequent')),\n",
       "                                                 ('encoder',\n",
       "                                                  OneHotEncoder(drop='if_binary'))]),\n",
       "                                 ['anaemia', 'diabetes', 'high_blood_pressure',\n",
       "                                  'sex', 'smoking'])],\n",
       "                  verbose=True)"
      ]
     },
     "metadata": {},
     "output_type": "display_data"
    }
   ],
   "source": [
    "\n",
    "# 2. Definir los features y transformadores\n",
    "numeric_features = ['age', 'creatinine_phosphokinase', 'ejection_fraction',\n",
    "                   'platelets', 'serum_creatinine', 'serum_sodium', 'time']\n",
    "\n",
    "boolean_features = ['anaemia', 'diabetes', 'high_blood_pressure', 'sex', 'smoking']\n",
    "\n",
    "# Pipeline para features numéricas con verificación\n",
    "numeric_transformer = Pipeline(steps=[\n",
    "    ('imputer', SimpleImputer(strategy='median'))\n",
    "])\n",
    "\n",
    "# Pipeline para features numéricas con verificación\n",
    "numeric_transformer_scaler = Pipeline(steps=[\n",
    "    ('imputer', SimpleImputer(strategy='median')), \n",
    "    ('scaler', StandardScaler())\n",
    "])\n",
    "\n",
    "# Pipeline para features booleanas con verificación\n",
    "boolean_transformer = Pipeline(steps=[\n",
    "    ('imputer', SimpleImputer(strategy='most_frequent')),\n",
    "     ('encoder', OneHotEncoder(drop='if_binary')) \n",
    "])\n",
    "\n",
    "# Combinar transformadores\n",
    "preprocessor_median = ColumnTransformer(\n",
    "    transformers=[\n",
    "        ('num', numeric_transformer, numeric_features),\n",
    "        ('bool', boolean_transformer, boolean_features)\n",
    "    ],\n",
    "    verbose=True \n",
    ")\n",
    "\n",
    "\n",
    "# Combinar transformadores\n",
    "preprocessor_scaled = ColumnTransformer(\n",
    "    transformers=[\n",
    "        ('num', numeric_transformer_scaler, numeric_features),\n",
    "        ('bool', boolean_transformer, boolean_features)\n",
    "    ],\n",
    "    verbose=True \n",
    ")\n",
    "\n",
    "display(preprocessor_median)\n",
    "display(preprocessor_scaled)"
   ]
  },
  {
   "cell_type": "code",
   "execution_count": 366,
   "id": "d5bf207c",
   "metadata": {},
   "outputs": [
    {
     "name": "stdout",
     "output_type": "stream",
     "text": [
      "<class 'pandas.core.frame.DataFrame'>\n",
      "Index: 2667 entries, 0 to 2999\n",
      "Data columns (total 13 columns):\n",
      " #   Column                    Non-Null Count  Dtype  \n",
      "---  ------                    --------------  -----  \n",
      " 0   age                       2531 non-null   Int64  \n",
      " 1   anaemia                   2667 non-null   boolean\n",
      " 2   creatinine_phosphokinase  2481 non-null   Int64  \n",
      " 3   diabetes                  2667 non-null   boolean\n",
      " 4   ejection_fraction         2571 non-null   float64\n",
      " 5   high_blood_pressure       2667 non-null   boolean\n",
      " 6   platelets                 2383 non-null   float64\n",
      " 7   serum_creatinine          2516 non-null   float64\n",
      " 8   serum_sodium              2667 non-null   float64\n",
      " 9   sex                       2667 non-null   boolean\n",
      " 10  smoking                   2667 non-null   boolean\n",
      " 11  time                      2667 non-null   int64  \n",
      " 12  DEATH_EVENT               2667 non-null   boolean\n",
      "dtypes: Int64(2), boolean(6), float64(4), int64(1)\n",
      "memory usage: 203.2 KB\n"
     ]
    }
   ],
   "source": [
    "df.info()"
   ]
  },
  {
   "cell_type": "code",
   "execution_count": 373,
   "id": "49c46c31",
   "metadata": {},
   "outputs": [],
   "source": [
    "def resumen_clasificación(y_test, y_pred):\n",
    "    acc = accuracy_score(y_test, y_pred)\n",
    "    prec = precision_score(y_test, y_pred)\n",
    "    recall = recall_score(y_test, y_pred)\n",
    "    f1 = f1_score(y_test, y_pred)\n",
    "    roc = roc_auc_score(y_test, y_pred)\n",
    "\n",
    "    return {\"exactitud\": acc,\n",
    "            \"precision\": prec,\n",
    "            \"recall\": recall,\n",
    "            \"f1\": f1,\n",
    "            \"roc\": roc}"
   ]
  },
  {
   "cell_type": "code",
   "execution_count": 375,
   "id": "a35bd155",
   "metadata": {},
   "outputs": [
    {
     "name": "stdout",
     "output_type": "stream",
     "text": [
      "{'RandomForest': RandomForestClassifier(random_state=42), 'LogisticRegression': LogisticRegression(max_iter=1000, random_state=42)}\n",
      "----\n",
      "<class 'dict'>\n"
     ]
    },
    {
     "data": {
      "text/plain": [
       "{'RandomForest_median': Pipeline(steps=[('preprocessing',\n",
       "                  ColumnTransformer(transformers=[('num',\n",
       "                                                   Pipeline(steps=[('imputer',\n",
       "                                                                    SimpleImputer(strategy='median'))]),\n",
       "                                                   ['age',\n",
       "                                                    'creatinine_phosphokinase',\n",
       "                                                    'ejection_fraction',\n",
       "                                                    'platelets',\n",
       "                                                    'serum_creatinine',\n",
       "                                                    'serum_sodium', 'time']),\n",
       "                                                  ('bool',\n",
       "                                                   Pipeline(steps=[('imputer',\n",
       "                                                                    SimpleImputer(strategy='most_frequent')),\n",
       "                                                                   ('encoder',\n",
       "                                                                    OneHotEncoder(drop='if_binary'))]),\n",
       "                                                   ['anaemia', 'diabetes',\n",
       "                                                    'high_blood_pressure', 'sex',\n",
       "                                                    'smoking'])],\n",
       "                                    verbose=True)),\n",
       "                 ('classifier', RandomForestClassifier(random_state=42))]),\n",
       " 'RandomForest_scale': Pipeline(steps=[('preprocessing',\n",
       "                  ColumnTransformer(transformers=[('num',\n",
       "                                                   Pipeline(steps=[('imputer',\n",
       "                                                                    SimpleImputer(strategy='median')),\n",
       "                                                                   ('scaler',\n",
       "                                                                    StandardScaler())]),\n",
       "                                                   ['age',\n",
       "                                                    'creatinine_phosphokinase',\n",
       "                                                    'ejection_fraction',\n",
       "                                                    'platelets',\n",
       "                                                    'serum_creatinine',\n",
       "                                                    'serum_sodium', 'time']),\n",
       "                                                  ('bool',\n",
       "                                                   Pipeline(steps=[('imputer',\n",
       "                                                                    SimpleImputer(strategy='most_frequent')),\n",
       "                                                                   ('encoder',\n",
       "                                                                    OneHotEncoder(drop='if_binary'))]),\n",
       "                                                   ['anaemia', 'diabetes',\n",
       "                                                    'high_blood_pressure', 'sex',\n",
       "                                                    'smoking'])],\n",
       "                                    verbose=True)),\n",
       "                 ('classifier', RandomForestClassifier(random_state=42))]),\n",
       " 'LogisticRegression_median': Pipeline(steps=[('preprocessing',\n",
       "                  ColumnTransformer(transformers=[('num',\n",
       "                                                   Pipeline(steps=[('imputer',\n",
       "                                                                    SimpleImputer(strategy='median'))]),\n",
       "                                                   ['age',\n",
       "                                                    'creatinine_phosphokinase',\n",
       "                                                    'ejection_fraction',\n",
       "                                                    'platelets',\n",
       "                                                    'serum_creatinine',\n",
       "                                                    'serum_sodium', 'time']),\n",
       "                                                  ('bool',\n",
       "                                                   Pipeline(steps=[('imputer',\n",
       "                                                                    SimpleImputer(strategy='most_frequent')),\n",
       "                                                                   ('encoder',\n",
       "                                                                    OneHotEncoder(drop='if_binary'))]),\n",
       "                                                   ['anaemia', 'diabetes',\n",
       "                                                    'high_blood_pressure', 'sex',\n",
       "                                                    'smoking'])],\n",
       "                                    verbose=True)),\n",
       "                 ('classifier',\n",
       "                  LogisticRegression(max_iter=1000, random_state=42))]),\n",
       " 'LogisticRegression_scale': Pipeline(steps=[('preprocessing',\n",
       "                  ColumnTransformer(transformers=[('num',\n",
       "                                                   Pipeline(steps=[('imputer',\n",
       "                                                                    SimpleImputer(strategy='median')),\n",
       "                                                                   ('scaler',\n",
       "                                                                    StandardScaler())]),\n",
       "                                                   ['age',\n",
       "                                                    'creatinine_phosphokinase',\n",
       "                                                    'ejection_fraction',\n",
       "                                                    'platelets',\n",
       "                                                    'serum_creatinine',\n",
       "                                                    'serum_sodium', 'time']),\n",
       "                                                  ('bool',\n",
       "                                                   Pipeline(steps=[('imputer',\n",
       "                                                                    SimpleImputer(strategy='most_frequent')),\n",
       "                                                                   ('encoder',\n",
       "                                                                    OneHotEncoder(drop='if_binary'))]),\n",
       "                                                   ['anaemia', 'diabetes',\n",
       "                                                    'high_blood_pressure', 'sex',\n",
       "                                                    'smoking'])],\n",
       "                                    verbose=True)),\n",
       "                 ('classifier',\n",
       "                  LogisticRegression(max_iter=1000, random_state=42))])}"
      ]
     },
     "metadata": {},
     "output_type": "display_data"
    },
    {
     "name": "stdout",
     "output_type": "stream",
     "text": [
      "[ColumnTransformer] ........... (1 of 2) Processing num, total=   0.0s\n",
      "[ColumnTransformer] .......... (2 of 2) Processing bool, total=   0.0s\n",
      "[ColumnTransformer] ........... (1 of 2) Processing num, total=   0.0s\n",
      "[ColumnTransformer] .......... (2 of 2) Processing bool, total=   0.0s\n",
      "[ColumnTransformer] ........... (1 of 2) Processing num, total=   0.0s\n",
      "[ColumnTransformer] .......... (2 of 2) Processing bool, total=   0.0s\n",
      "[ColumnTransformer] ........... (1 of 2) Processing num, total=   0.0s\n",
      "[ColumnTransformer] .......... (2 of 2) Processing bool, total=   0.0s\n"
     ]
    }
   ],
   "source": [
    "\n",
    "# Definir los modelos a probar\n",
    "\n",
    "modelos = {\n",
    "    \"RandomForest\": RandomForestClassifier(random_state=42),\n",
    "    \"LogisticRegression\": LogisticRegression(max_iter=1000, random_state=42)\n",
    "}\n",
    "\n",
    "print(modelos)\n",
    "print(\"----\")\n",
    "print(type(modelos))\n",
    "\n",
    "\n",
    "# Crear pipelines completos para cada combinación de modelo y preprocesador\n",
    "pipelines = {} #Nótese que es un diccionario\n",
    "\n",
    "for modelo_nombre, modelo in modelos.items():\n",
    "    # Pipeline con imputación mediana (sin escalado)\n",
    "    pipelines[f\"{modelo_nombre}_median\"] = Pipeline([\n",
    "        (\"preprocessing\", preprocessor_median),\n",
    "        (\"classifier\", modelo)\n",
    "    ])\n",
    "    # Pipeline con imputación con media + escalado\n",
    "    pipelines[f\"{modelo_nombre}_scale\"] = Pipeline([\n",
    "        (\"preprocessing\", preprocessor_scaled),\n",
    "        (\"classifier\", modelo)\n",
    "    ])\n",
    "\n",
    "display(pipelines)\n",
    "\n",
    "# Entrenar y evaluar cada pipeline\n",
    "resultados = {}\n",
    "\n",
    "for nombre_pipeline, pipeline in pipelines.items():\n",
    "    pipeline.fit(X_train, y_train)\n",
    "    y_pred = pipeline.predict(X_test)\n",
    "    resultados[nombre_pipeline] = resumen_clasificación(y_test, y_pred)\n"
   ]
  },
  {
   "cell_type": "code",
   "execution_count": 376,
   "id": "f208524e",
   "metadata": {},
   "outputs": [
    {
     "data": {
      "application/vnd.microsoft.datawrangler.viewer.v0+json": {
       "columns": [
        {
         "name": "index",
         "rawType": "object",
         "type": "string"
        },
        {
         "name": "exactitud",
         "rawType": "float64",
         "type": "float"
        },
        {
         "name": "precision",
         "rawType": "float64",
         "type": "float"
        },
        {
         "name": "recall",
         "rawType": "float64",
         "type": "float"
        },
        {
         "name": "f1",
         "rawType": "float64",
         "type": "float"
        },
        {
         "name": "roc",
         "rawType": "float64",
         "type": "float"
        }
       ],
       "ref": "8176b5e1-141c-482d-999e-ce90cadde06b",
       "rows": [
        [
         "RandomForest_scale",
         "0.48314606741573035",
         "0.4496124031007752",
         "0.464",
         "0.4566929133858268",
         "0.482"
        ],
        [
         "LogisticRegression_median",
         "0.4812734082397004",
         "0.4383561643835616",
         "0.384",
         "0.4093816631130064",
         "0.47545070422535207"
        ],
        [
         "LogisticRegression_scale",
         "0.4794007490636704",
         "0.4375",
         "0.392",
         "0.41350210970464135",
         "0.47416901408450696"
        ],
        [
         "RandomForest_median",
         "0.47752808988764045",
         "0.44357976653696496",
         "0.456",
         "0.44970414201183434",
         "0.47623943661971835"
        ]
       ],
       "shape": {
        "columns": 5,
        "rows": 4
       }
      },
      "text/html": [
       "<div>\n",
       "<style scoped>\n",
       "    .dataframe tbody tr th:only-of-type {\n",
       "        vertical-align: middle;\n",
       "    }\n",
       "\n",
       "    .dataframe tbody tr th {\n",
       "        vertical-align: top;\n",
       "    }\n",
       "\n",
       "    .dataframe thead th {\n",
       "        text-align: right;\n",
       "    }\n",
       "</style>\n",
       "<table border=\"1\" class=\"dataframe\">\n",
       "  <thead>\n",
       "    <tr style=\"text-align: right;\">\n",
       "      <th></th>\n",
       "      <th>exactitud</th>\n",
       "      <th>precision</th>\n",
       "      <th>recall</th>\n",
       "      <th>f1</th>\n",
       "      <th>roc</th>\n",
       "    </tr>\n",
       "  </thead>\n",
       "  <tbody>\n",
       "    <tr>\n",
       "      <th>RandomForest_scale</th>\n",
       "      <td>0.483146</td>\n",
       "      <td>0.449612</td>\n",
       "      <td>0.464</td>\n",
       "      <td>0.456693</td>\n",
       "      <td>0.482000</td>\n",
       "    </tr>\n",
       "    <tr>\n",
       "      <th>LogisticRegression_median</th>\n",
       "      <td>0.481273</td>\n",
       "      <td>0.438356</td>\n",
       "      <td>0.384</td>\n",
       "      <td>0.409382</td>\n",
       "      <td>0.475451</td>\n",
       "    </tr>\n",
       "    <tr>\n",
       "      <th>LogisticRegression_scale</th>\n",
       "      <td>0.479401</td>\n",
       "      <td>0.437500</td>\n",
       "      <td>0.392</td>\n",
       "      <td>0.413502</td>\n",
       "      <td>0.474169</td>\n",
       "    </tr>\n",
       "    <tr>\n",
       "      <th>RandomForest_median</th>\n",
       "      <td>0.477528</td>\n",
       "      <td>0.443580</td>\n",
       "      <td>0.456</td>\n",
       "      <td>0.449704</td>\n",
       "      <td>0.476239</td>\n",
       "    </tr>\n",
       "  </tbody>\n",
       "</table>\n",
       "</div>"
      ],
      "text/plain": [
       "                           exactitud  precision  recall        f1       roc\n",
       "RandomForest_scale          0.483146   0.449612   0.464  0.456693  0.482000\n",
       "LogisticRegression_median   0.481273   0.438356   0.384  0.409382  0.475451\n",
       "LogisticRegression_scale    0.479401   0.437500   0.392  0.413502  0.474169\n",
       "RandomForest_median         0.477528   0.443580   0.456  0.449704  0.476239"
      ]
     },
     "execution_count": 376,
     "metadata": {},
     "output_type": "execute_result"
    }
   ],
   "source": [
    "# 1. Convertir el diccionario 'resultados' en un DataFrame\n",
    "df_resultados = pd.DataFrame(resultados).T\n",
    "\n",
    "# 2. Ordenar por la columna 'exactitud' de manera descendente\n",
    "df_resultados_sorted = df_resultados.sort_values(by=\"exactitud\", ascending=False)\n",
    "\n",
    "# 3. Visualizar el DataFrame resultante\n",
    "df_resultados_sorted"
   ]
  },
  {
   "cell_type": "code",
   "execution_count": null,
   "id": "1edb330a",
   "metadata": {},
   "outputs": [
    {
     "data": {
      "text/plain": [
       "{'RandomForest_median': Pipeline(steps=[('preprocessing',\n",
       "                  ColumnTransformer(transformers=[('num',\n",
       "                                                   Pipeline(steps=[('imputer',\n",
       "                                                                    SimpleImputer(strategy='median'))]),\n",
       "                                                   ['age',\n",
       "                                                    'creatinine_phosphokinase',\n",
       "                                                    'ejection_fraction',\n",
       "                                                    'platelets',\n",
       "                                                    'serum_creatinine',\n",
       "                                                    'serum_sodium', 'time']),\n",
       "                                                  ('bool',\n",
       "                                                   Pipeline(steps=[('imputer',\n",
       "                                                                    SimpleImputer(strategy='most_frequent')),\n",
       "                                                                   ('encoder',\n",
       "                                                                    OneHotEncoder(drop='if_binary'))]),\n",
       "                                                   ['anaemia', 'diabetes',\n",
       "                                                    'high_blood_pressure', 'sex',\n",
       "                                                    'smoking'])],\n",
       "                                    verbose=True)),\n",
       "                 ('classifier', RandomForestClassifier(random_state=42))]),\n",
       " 'RandomForest_scale': Pipeline(steps=[('preprocessing',\n",
       "                  ColumnTransformer(transformers=[('num',\n",
       "                                                   Pipeline(steps=[('imputer',\n",
       "                                                                    SimpleImputer(strategy='median')),\n",
       "                                                                   ('scaler',\n",
       "                                                                    StandardScaler())]),\n",
       "                                                   ['age',\n",
       "                                                    'creatinine_phosphokinase',\n",
       "                                                    'ejection_fraction',\n",
       "                                                    'platelets',\n",
       "                                                    'serum_creatinine',\n",
       "                                                    'serum_sodium', 'time']),\n",
       "                                                  ('bool',\n",
       "                                                   Pipeline(steps=[('imputer',\n",
       "                                                                    SimpleImputer(strategy='most_frequent')),\n",
       "                                                                   ('encoder',\n",
       "                                                                    OneHotEncoder(drop='if_binary'))]),\n",
       "                                                   ['anaemia', 'diabetes',\n",
       "                                                    'high_blood_pressure', 'sex',\n",
       "                                                    'smoking'])],\n",
       "                                    verbose=True)),\n",
       "                 ('classifier', RandomForestClassifier(random_state=42))]),\n",
       " 'LogisticRegression_median': Pipeline(steps=[('preprocessing',\n",
       "                  ColumnTransformer(transformers=[('num',\n",
       "                                                   Pipeline(steps=[('imputer',\n",
       "                                                                    SimpleImputer(strategy='median'))]),\n",
       "                                                   ['age',\n",
       "                                                    'creatinine_phosphokinase',\n",
       "                                                    'ejection_fraction',\n",
       "                                                    'platelets',\n",
       "                                                    'serum_creatinine',\n",
       "                                                    'serum_sodium', 'time']),\n",
       "                                                  ('bool',\n",
       "                                                   Pipeline(steps=[('imputer',\n",
       "                                                                    SimpleImputer(strategy='most_frequent')),\n",
       "                                                                   ('encoder',\n",
       "                                                                    OneHotEncoder(drop='if_binary'))]),\n",
       "                                                   ['anaemia', 'diabetes',\n",
       "                                                    'high_blood_pressure', 'sex',\n",
       "                                                    'smoking'])],\n",
       "                                    verbose=True)),\n",
       "                 ('classifier',\n",
       "                  LogisticRegression(max_iter=1000, random_state=42))]),\n",
       " 'LogisticRegression_scale': Pipeline(steps=[('preprocessing',\n",
       "                  ColumnTransformer(transformers=[('num',\n",
       "                                                   Pipeline(steps=[('imputer',\n",
       "                                                                    SimpleImputer(strategy='median')),\n",
       "                                                                   ('scaler',\n",
       "                                                                    StandardScaler())]),\n",
       "                                                   ['age',\n",
       "                                                    'creatinine_phosphokinase',\n",
       "                                                    'ejection_fraction',\n",
       "                                                    'platelets',\n",
       "                                                    'serum_creatinine',\n",
       "                                                    'serum_sodium', 'time']),\n",
       "                                                  ('bool',\n",
       "                                                   Pipeline(steps=[('imputer',\n",
       "                                                                    SimpleImputer(strategy='most_frequent')),\n",
       "                                                                   ('encoder',\n",
       "                                                                    OneHotEncoder(drop='if_binary'))]),\n",
       "                                                   ['anaemia', 'diabetes',\n",
       "                                                    'high_blood_pressure', 'sex',\n",
       "                                                    'smoking'])],\n",
       "                                    verbose=True)),\n",
       "                 ('classifier',\n",
       "                  LogisticRegression(max_iter=1000, random_state=42))])}"
      ]
     },
     "execution_count": 377,
     "metadata": {},
     "output_type": "execute_result"
    }
   ],
   "source": [
    "# DataFrame para guardar los resultados de cada fold\n",
    "df_cv_results = pd.DataFrame(columns=[\"pipeline\", \"fold\", \"accuracy\"])\n",
    "\n",
    "# Número de folds\n",
    "cv_folds = 5\n",
    "\n",
    "pipelines"
   ]
  },
  {
   "cell_type": "code",
   "execution_count": 378,
   "id": "736aae39",
   "metadata": {},
   "outputs": [
    {
     "name": "stdout",
     "output_type": "stream",
     "text": [
      "[ColumnTransformer] ........... (1 of 2) Processing num, total=   0.0s\n",
      "[ColumnTransformer] .......... (2 of 2) Processing bool, total=   0.0s\n",
      "[ColumnTransformer] ........... (1 of 2) Processing num, total=   0.0s\n",
      "[ColumnTransformer] .......... (2 of 2) Processing bool, total=   0.0s\n",
      "[ColumnTransformer] ........... (1 of 2) Processing num, total=   0.0s\n",
      "[ColumnTransformer] .......... (2 of 2) Processing bool, total=   0.0s\n",
      "[ColumnTransformer] ........... (1 of 2) Processing num, total=   0.0s\n",
      "[ColumnTransformer] .......... (2 of 2) Processing bool, total=   0.0s\n",
      "[ColumnTransformer] ........... (1 of 2) Processing num, total=   0.0s\n",
      "[ColumnTransformer] .......... (2 of 2) Processing bool, total=   0.0s\n"
     ]
    },
    {
     "name": "stderr",
     "output_type": "stream",
     "text": [
      "C:\\Users\\c_cam\\AppData\\Local\\Temp\\ipykernel_12800\\2089431394.py:13: FutureWarning: The behavior of DataFrame concatenation with empty or all-NA entries is deprecated. In a future version, this will no longer exclude empty or all-NA columns when determining the result dtypes. To retain the old behavior, exclude the relevant entries before the concat operation.\n",
      "  df_cv_results = pd.concat([df_cv_results, temp_df], ignore_index=True)\n"
     ]
    },
    {
     "name": "stdout",
     "output_type": "stream",
     "text": [
      "[ColumnTransformer] ........... (1 of 2) Processing num, total=   0.0s\n",
      "[ColumnTransformer] .......... (2 of 2) Processing bool, total=   0.0s\n",
      "[ColumnTransformer] ........... (1 of 2) Processing num, total=   0.0s\n",
      "[ColumnTransformer] .......... (2 of 2) Processing bool, total=   0.0s\n",
      "[ColumnTransformer] ........... (1 of 2) Processing num, total=   0.0s\n",
      "[ColumnTransformer] .......... (2 of 2) Processing bool, total=   0.0s\n",
      "[ColumnTransformer] ........... (1 of 2) Processing num, total=   0.0s\n",
      "[ColumnTransformer] .......... (2 of 2) Processing bool, total=   0.0s\n",
      "[ColumnTransformer] ........... (1 of 2) Processing num, total=   0.0s\n",
      "[ColumnTransformer] .......... (2 of 2) Processing bool, total=   0.0s\n",
      "[ColumnTransformer] ........... (1 of 2) Processing num, total=   0.0s\n",
      "[ColumnTransformer] .......... (2 of 2) Processing bool, total=   0.0s\n",
      "[ColumnTransformer] ........... (1 of 2) Processing num, total=   0.0s\n",
      "[ColumnTransformer] .......... (2 of 2) Processing bool, total=   0.0s\n",
      "[ColumnTransformer] ........... (1 of 2) Processing num, total=   0.0s\n",
      "[ColumnTransformer] .......... (2 of 2) Processing bool, total=   0.0s\n"
     ]
    },
    {
     "name": "stderr",
     "output_type": "stream",
     "text": [
      "c:\\Users\\c_cam\\Downloads\\ProyectoCienciaDatos\\.venv\\Lib\\site-packages\\sklearn\\linear_model\\_logistic.py:473: ConvergenceWarning: lbfgs failed to converge after 1000 iteration(s) (status=1):\n",
      "STOP: TOTAL NO. OF ITERATIONS REACHED LIMIT\n",
      "\n",
      "Increase the number of iterations to improve the convergence (max_iter=1000).\n",
      "You might also want to scale the data as shown in:\n",
      "    https://scikit-learn.org/stable/modules/preprocessing.html\n",
      "Please also refer to the documentation for alternative solver options:\n",
      "    https://scikit-learn.org/stable/modules/linear_model.html#logistic-regression\n",
      "  n_iter_i = _check_optimize_result(\n"
     ]
    },
    {
     "name": "stdout",
     "output_type": "stream",
     "text": [
      "[ColumnTransformer] ........... (1 of 2) Processing num, total=   0.0s\n",
      "[ColumnTransformer] .......... (2 of 2) Processing bool, total=   0.0s\n"
     ]
    },
    {
     "name": "stderr",
     "output_type": "stream",
     "text": [
      "c:\\Users\\c_cam\\Downloads\\ProyectoCienciaDatos\\.venv\\Lib\\site-packages\\sklearn\\linear_model\\_logistic.py:473: ConvergenceWarning: lbfgs failed to converge after 1000 iteration(s) (status=1):\n",
      "STOP: TOTAL NO. OF ITERATIONS REACHED LIMIT\n",
      "\n",
      "Increase the number of iterations to improve the convergence (max_iter=1000).\n",
      "You might also want to scale the data as shown in:\n",
      "    https://scikit-learn.org/stable/modules/preprocessing.html\n",
      "Please also refer to the documentation for alternative solver options:\n",
      "    https://scikit-learn.org/stable/modules/linear_model.html#logistic-regression\n",
      "  n_iter_i = _check_optimize_result(\n"
     ]
    },
    {
     "name": "stdout",
     "output_type": "stream",
     "text": [
      "[ColumnTransformer] ........... (1 of 2) Processing num, total=   0.0s\n",
      "[ColumnTransformer] .......... (2 of 2) Processing bool, total=   0.0s\n",
      "[ColumnTransformer] ........... (1 of 2) Processing num, total=   0.0s\n",
      "[ColumnTransformer] .......... (2 of 2) Processing bool, total=   0.0s\n",
      "[ColumnTransformer] ........... (1 of 2) Processing num, total=   0.0s\n",
      "[ColumnTransformer] .......... (2 of 2) Processing bool, total=   0.0s\n",
      "[ColumnTransformer] ........... (1 of 2) Processing num, total=   0.0s\n",
      "[ColumnTransformer] .......... (2 of 2) Processing bool, total=   0.0s\n",
      "[ColumnTransformer] ........... (1 of 2) Processing num, total=   0.0s\n",
      "[ColumnTransformer] .......... (2 of 2) Processing bool, total=   0.0s\n",
      "[ColumnTransformer] ........... (1 of 2) Processing num, total=   0.0s\n",
      "[ColumnTransformer] .......... (2 of 2) Processing bool, total=   0.0s\n"
     ]
    }
   ],
   "source": [
    "for pipeline_name, pipeline_obj in pipelines.items():\n",
    "    # cross_val_score entrena y evalúa en 5 folds, devolviendo un array con 5 valores de accuracy\n",
    "    scores = cross_val_score(pipeline_obj, X_train, y_train, cv=cv_folds, scoring=\"accuracy\")\n",
    "\n",
    "    # Crear un DataFrame temporal con la información de cada fold\n",
    "    temp_df = pd.DataFrame({\n",
    "        \"pipeline\": [pipeline_name]*cv_folds,\n",
    "        \"fold\": list(range(1, cv_folds+1)),\n",
    "        \"accuracy\": scores\n",
    "    })\n",
    "\n",
    "    # Concatenar al DataFrame global\n",
    "    df_cv_results = pd.concat([df_cv_results, temp_df], ignore_index=True)"
   ]
  },
  {
   "cell_type": "code",
   "execution_count": 379,
   "id": "fa17b866",
   "metadata": {},
   "outputs": [
    {
     "data": {
      "application/vnd.microsoft.datawrangler.viewer.v0+json": {
       "columns": [
        {
         "name": "index",
         "rawType": "int64",
         "type": "integer"
        },
        {
         "name": "pipeline",
         "rawType": "object",
         "type": "string"
        },
        {
         "name": "fold",
         "rawType": "object",
         "type": "unknown"
        },
        {
         "name": "accuracy",
         "rawType": "float64",
         "type": "float"
        }
       ],
       "ref": "8d273b13-e3ae-4cc3-a28b-4fff80bda75d",
       "rows": [
        [
         "0",
         "RandomForest_median",
         "1",
         "0.477751756440281"
        ],
        [
         "1",
         "RandomForest_median",
         "2",
         "0.4847775175644028"
        ],
        [
         "2",
         "RandomForest_median",
         "3",
         "0.4613583138173302"
        ],
        [
         "3",
         "RandomForest_median",
         "4",
         "0.5023474178403756"
        ],
        [
         "4",
         "RandomForest_median",
         "5",
         "0.5093896713615024"
        ],
        [
         "5",
         "RandomForest_scale",
         "1",
         "0.47306791569086654"
        ],
        [
         "6",
         "RandomForest_scale",
         "2",
         "0.49414519906323184"
        ],
        [
         "7",
         "RandomForest_scale",
         "3",
         "0.46604215456674475"
        ],
        [
         "8",
         "RandomForest_scale",
         "4",
         "0.49295774647887325"
        ],
        [
         "9",
         "RandomForest_scale",
         "5",
         "0.5140845070422535"
        ],
        [
         "10",
         "LogisticRegression_median",
         "1",
         "0.5199063231850117"
        ],
        [
         "11",
         "LogisticRegression_median",
         "2",
         "0.5362997658079626"
        ],
        [
         "12",
         "LogisticRegression_median",
         "3",
         "0.49882903981264637"
        ],
        [
         "13",
         "LogisticRegression_median",
         "4",
         "0.5164319248826291"
        ],
        [
         "14",
         "LogisticRegression_median",
         "5",
         "0.4788732394366197"
        ],
        [
         "15",
         "LogisticRegression_scale",
         "1",
         "0.4894613583138173"
        ],
        [
         "16",
         "LogisticRegression_scale",
         "2",
         "0.5362997658079626"
        ],
        [
         "17",
         "LogisticRegression_scale",
         "3",
         "0.49414519906323184"
        ],
        [
         "18",
         "LogisticRegression_scale",
         "4",
         "0.4859154929577465"
        ],
        [
         "19",
         "LogisticRegression_scale",
         "5",
         "0.460093896713615"
        ]
       ],
       "shape": {
        "columns": 3,
        "rows": 20
       }
      },
      "text/html": [
       "<div>\n",
       "<style scoped>\n",
       "    .dataframe tbody tr th:only-of-type {\n",
       "        vertical-align: middle;\n",
       "    }\n",
       "\n",
       "    .dataframe tbody tr th {\n",
       "        vertical-align: top;\n",
       "    }\n",
       "\n",
       "    .dataframe thead th {\n",
       "        text-align: right;\n",
       "    }\n",
       "</style>\n",
       "<table border=\"1\" class=\"dataframe\">\n",
       "  <thead>\n",
       "    <tr style=\"text-align: right;\">\n",
       "      <th></th>\n",
       "      <th>pipeline</th>\n",
       "      <th>fold</th>\n",
       "      <th>accuracy</th>\n",
       "    </tr>\n",
       "  </thead>\n",
       "  <tbody>\n",
       "    <tr>\n",
       "      <th>0</th>\n",
       "      <td>RandomForest_median</td>\n",
       "      <td>1</td>\n",
       "      <td>0.477752</td>\n",
       "    </tr>\n",
       "    <tr>\n",
       "      <th>1</th>\n",
       "      <td>RandomForest_median</td>\n",
       "      <td>2</td>\n",
       "      <td>0.484778</td>\n",
       "    </tr>\n",
       "    <tr>\n",
       "      <th>2</th>\n",
       "      <td>RandomForest_median</td>\n",
       "      <td>3</td>\n",
       "      <td>0.461358</td>\n",
       "    </tr>\n",
       "    <tr>\n",
       "      <th>3</th>\n",
       "      <td>RandomForest_median</td>\n",
       "      <td>4</td>\n",
       "      <td>0.502347</td>\n",
       "    </tr>\n",
       "    <tr>\n",
       "      <th>4</th>\n",
       "      <td>RandomForest_median</td>\n",
       "      <td>5</td>\n",
       "      <td>0.509390</td>\n",
       "    </tr>\n",
       "    <tr>\n",
       "      <th>5</th>\n",
       "      <td>RandomForest_scale</td>\n",
       "      <td>1</td>\n",
       "      <td>0.473068</td>\n",
       "    </tr>\n",
       "    <tr>\n",
       "      <th>6</th>\n",
       "      <td>RandomForest_scale</td>\n",
       "      <td>2</td>\n",
       "      <td>0.494145</td>\n",
       "    </tr>\n",
       "    <tr>\n",
       "      <th>7</th>\n",
       "      <td>RandomForest_scale</td>\n",
       "      <td>3</td>\n",
       "      <td>0.466042</td>\n",
       "    </tr>\n",
       "    <tr>\n",
       "      <th>8</th>\n",
       "      <td>RandomForest_scale</td>\n",
       "      <td>4</td>\n",
       "      <td>0.492958</td>\n",
       "    </tr>\n",
       "    <tr>\n",
       "      <th>9</th>\n",
       "      <td>RandomForest_scale</td>\n",
       "      <td>5</td>\n",
       "      <td>0.514085</td>\n",
       "    </tr>\n",
       "    <tr>\n",
       "      <th>10</th>\n",
       "      <td>LogisticRegression_median</td>\n",
       "      <td>1</td>\n",
       "      <td>0.519906</td>\n",
       "    </tr>\n",
       "    <tr>\n",
       "      <th>11</th>\n",
       "      <td>LogisticRegression_median</td>\n",
       "      <td>2</td>\n",
       "      <td>0.536300</td>\n",
       "    </tr>\n",
       "    <tr>\n",
       "      <th>12</th>\n",
       "      <td>LogisticRegression_median</td>\n",
       "      <td>3</td>\n",
       "      <td>0.498829</td>\n",
       "    </tr>\n",
       "    <tr>\n",
       "      <th>13</th>\n",
       "      <td>LogisticRegression_median</td>\n",
       "      <td>4</td>\n",
       "      <td>0.516432</td>\n",
       "    </tr>\n",
       "    <tr>\n",
       "      <th>14</th>\n",
       "      <td>LogisticRegression_median</td>\n",
       "      <td>5</td>\n",
       "      <td>0.478873</td>\n",
       "    </tr>\n",
       "    <tr>\n",
       "      <th>15</th>\n",
       "      <td>LogisticRegression_scale</td>\n",
       "      <td>1</td>\n",
       "      <td>0.489461</td>\n",
       "    </tr>\n",
       "    <tr>\n",
       "      <th>16</th>\n",
       "      <td>LogisticRegression_scale</td>\n",
       "      <td>2</td>\n",
       "      <td>0.536300</td>\n",
       "    </tr>\n",
       "    <tr>\n",
       "      <th>17</th>\n",
       "      <td>LogisticRegression_scale</td>\n",
       "      <td>3</td>\n",
       "      <td>0.494145</td>\n",
       "    </tr>\n",
       "    <tr>\n",
       "      <th>18</th>\n",
       "      <td>LogisticRegression_scale</td>\n",
       "      <td>4</td>\n",
       "      <td>0.485915</td>\n",
       "    </tr>\n",
       "    <tr>\n",
       "      <th>19</th>\n",
       "      <td>LogisticRegression_scale</td>\n",
       "      <td>5</td>\n",
       "      <td>0.460094</td>\n",
       "    </tr>\n",
       "  </tbody>\n",
       "</table>\n",
       "</div>"
      ],
      "text/plain": [
       "                     pipeline fold  accuracy\n",
       "0         RandomForest_median    1  0.477752\n",
       "1         RandomForest_median    2  0.484778\n",
       "2         RandomForest_median    3  0.461358\n",
       "3         RandomForest_median    4  0.502347\n",
       "4         RandomForest_median    5  0.509390\n",
       "5          RandomForest_scale    1  0.473068\n",
       "6          RandomForest_scale    2  0.494145\n",
       "7          RandomForest_scale    3  0.466042\n",
       "8          RandomForest_scale    4  0.492958\n",
       "9          RandomForest_scale    5  0.514085\n",
       "10  LogisticRegression_median    1  0.519906\n",
       "11  LogisticRegression_median    2  0.536300\n",
       "12  LogisticRegression_median    3  0.498829\n",
       "13  LogisticRegression_median    4  0.516432\n",
       "14  LogisticRegression_median    5  0.478873\n",
       "15   LogisticRegression_scale    1  0.489461\n",
       "16   LogisticRegression_scale    2  0.536300\n",
       "17   LogisticRegression_scale    3  0.494145\n",
       "18   LogisticRegression_scale    4  0.485915\n",
       "19   LogisticRegression_scale    5  0.460094"
      ]
     },
     "execution_count": 379,
     "metadata": {},
     "output_type": "execute_result"
    }
   ],
   "source": [
    "# Observa los resultados\n",
    "df_cv_results.head(20)"
   ]
  },
  {
   "cell_type": "markdown",
   "id": "b2e994ad",
   "metadata": {},
   "source": [
    "### Después de la revisión se encuentra que en general, la regresión logistica da un resultado similar, pero el modelo con la imputación por mediana tiene un resultado un poco mejor"
   ]
  },
  {
   "cell_type": "code",
   "execution_count": null,
   "id": "6844a638",
   "metadata": {},
   "outputs": [],
   "source": [
    "# Creamos el pipeline que integra el preprocesador (preprocessor_median) y el clasificador\n",
    "pipeline_rf_median = Pipeline([\n",
    "    (\"preprocessing\", preprocessor_median),\n",
    "    (\"classifier\", RandomForestClassifier(random_state=42))\n",
    "])\n",
    "# Definimos el grid de hiperparámetros a explorar\n",
    "param_grid = {\n",
    "    \"classifier__n_estimators\": [50, 100, 200],    # Número de árboles\n",
    "    \"classifier__max_depth\": [None, 5, 10],          # Profundidad máxima del árbol (None para sin límite)\n",
    "    \"classifier__min_samples_split\": [2, 5, 10]      # Número mínimo de muestras para dividir un nodo\n",
    "}\n",
    "# Configuramos GridSearchCV para evaluar con 5 folds y usando la métrica \"accuracy\"\n",
    "grid_search = GridSearchCV(\n",
    "    pipeline_rf_median,\n",
    "    param_grid,\n",
    "    cv=5,\n",
    "    scoring=\"accuracy\",\n",
    "    n_jobs=-1  # Utiliza todos los cores disponibles\n",
    ")\n",
    "# Ejecutamos el grid search usando los datos de entrenamiento\n",
    "grid_search.fit(X_train, y_train)\n",
    "\n",
    "# Mostramos los mejores parámetros y el mejor accuracy obtenido en validación cruzada\n",
    "print(\"Mejores parámetros:\", grid_search.best_params_)\n",
    "print(\"Mejor accuracy (CV):\", grid_search.best_score_)"
   ]
  },
  {
   "cell_type": "code",
   "execution_count": 389,
   "id": "609e33b0",
   "metadata": {},
   "outputs": [
    {
     "name": "stdout",
     "output_type": "stream",
     "text": [
      "Fitting 5 folds for each of 108 candidates, totalling 540 fits\n"
     ]
    },
    {
     "name": "stderr",
     "output_type": "stream",
     "text": [
      "c:\\Users\\c_cam\\Downloads\\ProyectoCienciaDatos\\.venv\\Lib\\site-packages\\sklearn\\model_selection\\_validation.py:516: FitFailedWarning:\n",
      "\n",
      "\n",
      "270 fits failed out of a total of 540.\n",
      "The score on these train-test partitions for these parameters will be set to nan.\n",
      "If these failures are not expected, you can try to debug them by setting error_score='raise'.\n",
      "\n",
      "Below are more details about the failures:\n",
      "--------------------------------------------------------------------------------\n",
      "108 fits failed with the following error:\n",
      "Traceback (most recent call last):\n",
      "  File \"c:\\Users\\c_cam\\Downloads\\ProyectoCienciaDatos\\.venv\\Lib\\site-packages\\sklearn\\model_selection\\_validation.py\", line 859, in _fit_and_score\n",
      "    estimator.fit(X_train, y_train, **fit_params)\n",
      "    ~~~~~~~~~~~~~^^^^^^^^^^^^^^^^^^^^^^^^^^^^^^^^\n",
      "  File \"c:\\Users\\c_cam\\Downloads\\ProyectoCienciaDatos\\.venv\\Lib\\site-packages\\sklearn\\base.py\", line 1365, in wrapper\n",
      "    return fit_method(estimator, *args, **kwargs)\n",
      "  File \"c:\\Users\\c_cam\\Downloads\\ProyectoCienciaDatos\\.venv\\Lib\\site-packages\\sklearn\\pipeline.py\", line 663, in fit\n",
      "    self._final_estimator.fit(Xt, y, **last_step_params[\"fit\"])\n",
      "    ~~~~~~~~~~~~~~~~~~~~~~~~~^^^^^^^^^^^^^^^^^^^^^^^^^^^^^^^^^^\n",
      "  File \"c:\\Users\\c_cam\\Downloads\\ProyectoCienciaDatos\\.venv\\Lib\\site-packages\\sklearn\\base.py\", line 1358, in wrapper\n",
      "    estimator._validate_params()\n",
      "    ~~~~~~~~~~~~~~~~~~~~~~~~~~^^\n",
      "  File \"c:\\Users\\c_cam\\Downloads\\ProyectoCienciaDatos\\.venv\\Lib\\site-packages\\sklearn\\base.py\", line 471, in _validate_params\n",
      "    validate_parameter_constraints(\n",
      "    ~~~~~~~~~~~~~~~~~~~~~~~~~~~~~~^\n",
      "        self._parameter_constraints,\n",
      "        ^^^^^^^^^^^^^^^^^^^^^^^^^^^^\n",
      "        self.get_params(deep=False),\n",
      "        ^^^^^^^^^^^^^^^^^^^^^^^^^^^^\n",
      "        caller_name=self.__class__.__name__,\n",
      "        ^^^^^^^^^^^^^^^^^^^^^^^^^^^^^^^^^^^^\n",
      "    )\n",
      "    ^\n",
      "  File \"c:\\Users\\c_cam\\Downloads\\ProyectoCienciaDatos\\.venv\\Lib\\site-packages\\sklearn\\utils\\_param_validation.py\", line 98, in validate_parameter_constraints\n",
      "    raise InvalidParameterError(\n",
      "    ...<2 lines>...\n",
      "    )\n",
      "sklearn.utils._param_validation.InvalidParameterError: The 'penalty' parameter of LogisticRegression must be a str among {'l2', 'l1', 'elasticnet'} or None. Got 'none' instead.\n",
      "\n",
      "--------------------------------------------------------------------------------\n",
      "71 fits failed with the following error:\n",
      "Traceback (most recent call last):\n",
      "  File \"c:\\Users\\c_cam\\Downloads\\ProyectoCienciaDatos\\.venv\\Lib\\site-packages\\sklearn\\model_selection\\_validation.py\", line 859, in _fit_and_score\n",
      "    estimator.fit(X_train, y_train, **fit_params)\n",
      "    ~~~~~~~~~~~~~^^^^^^^^^^^^^^^^^^^^^^^^^^^^^^^^\n",
      "  File \"c:\\Users\\c_cam\\Downloads\\ProyectoCienciaDatos\\.venv\\Lib\\site-packages\\sklearn\\base.py\", line 1365, in wrapper\n",
      "    return fit_method(estimator, *args, **kwargs)\n",
      "  File \"c:\\Users\\c_cam\\Downloads\\ProyectoCienciaDatos\\.venv\\Lib\\site-packages\\sklearn\\pipeline.py\", line 663, in fit\n",
      "    self._final_estimator.fit(Xt, y, **last_step_params[\"fit\"])\n",
      "    ~~~~~~~~~~~~~~~~~~~~~~~~~^^^^^^^^^^^^^^^^^^^^^^^^^^^^^^^^^^\n",
      "  File \"c:\\Users\\c_cam\\Downloads\\ProyectoCienciaDatos\\.venv\\Lib\\site-packages\\sklearn\\base.py\", line 1358, in wrapper\n",
      "    estimator._validate_params()\n",
      "    ~~~~~~~~~~~~~~~~~~~~~~~~~~^^\n",
      "  File \"c:\\Users\\c_cam\\Downloads\\ProyectoCienciaDatos\\.venv\\Lib\\site-packages\\sklearn\\base.py\", line 471, in _validate_params\n",
      "    validate_parameter_constraints(\n",
      "    ~~~~~~~~~~~~~~~~~~~~~~~~~~~~~~^\n",
      "        self._parameter_constraints,\n",
      "        ^^^^^^^^^^^^^^^^^^^^^^^^^^^^\n",
      "        self.get_params(deep=False),\n",
      "        ^^^^^^^^^^^^^^^^^^^^^^^^^^^^\n",
      "        caller_name=self.__class__.__name__,\n",
      "        ^^^^^^^^^^^^^^^^^^^^^^^^^^^^^^^^^^^^\n",
      "    )\n",
      "    ^\n",
      "  File \"c:\\Users\\c_cam\\Downloads\\ProyectoCienciaDatos\\.venv\\Lib\\site-packages\\sklearn\\utils\\_param_validation.py\", line 98, in validate_parameter_constraints\n",
      "    raise InvalidParameterError(\n",
      "    ...<2 lines>...\n",
      "    )\n",
      "sklearn.utils._param_validation.InvalidParameterError: The 'penalty' parameter of LogisticRegression must be a str among {'l1', 'elasticnet', 'l2'} or None. Got 'none' instead.\n",
      "\n",
      "--------------------------------------------------------------------------------\n",
      "19 fits failed with the following error:\n",
      "Traceback (most recent call last):\n",
      "  File \"c:\\Users\\c_cam\\Downloads\\ProyectoCienciaDatos\\.venv\\Lib\\site-packages\\sklearn\\model_selection\\_validation.py\", line 859, in _fit_and_score\n",
      "    estimator.fit(X_train, y_train, **fit_params)\n",
      "    ~~~~~~~~~~~~~^^^^^^^^^^^^^^^^^^^^^^^^^^^^^^^^\n",
      "  File \"c:\\Users\\c_cam\\Downloads\\ProyectoCienciaDatos\\.venv\\Lib\\site-packages\\sklearn\\base.py\", line 1365, in wrapper\n",
      "    return fit_method(estimator, *args, **kwargs)\n",
      "  File \"c:\\Users\\c_cam\\Downloads\\ProyectoCienciaDatos\\.venv\\Lib\\site-packages\\sklearn\\pipeline.py\", line 663, in fit\n",
      "    self._final_estimator.fit(Xt, y, **last_step_params[\"fit\"])\n",
      "    ~~~~~~~~~~~~~~~~~~~~~~~~~^^^^^^^^^^^^^^^^^^^^^^^^^^^^^^^^^^\n",
      "  File \"c:\\Users\\c_cam\\Downloads\\ProyectoCienciaDatos\\.venv\\Lib\\site-packages\\sklearn\\base.py\", line 1358, in wrapper\n",
      "    estimator._validate_params()\n",
      "    ~~~~~~~~~~~~~~~~~~~~~~~~~~^^\n",
      "  File \"c:\\Users\\c_cam\\Downloads\\ProyectoCienciaDatos\\.venv\\Lib\\site-packages\\sklearn\\base.py\", line 471, in _validate_params\n",
      "    validate_parameter_constraints(\n",
      "    ~~~~~~~~~~~~~~~~~~~~~~~~~~~~~~^\n",
      "        self._parameter_constraints,\n",
      "        ^^^^^^^^^^^^^^^^^^^^^^^^^^^^\n",
      "        self.get_params(deep=False),\n",
      "        ^^^^^^^^^^^^^^^^^^^^^^^^^^^^\n",
      "        caller_name=self.__class__.__name__,\n",
      "        ^^^^^^^^^^^^^^^^^^^^^^^^^^^^^^^^^^^^\n",
      "    )\n",
      "    ^\n",
      "  File \"c:\\Users\\c_cam\\Downloads\\ProyectoCienciaDatos\\.venv\\Lib\\site-packages\\sklearn\\utils\\_param_validation.py\", line 98, in validate_parameter_constraints\n",
      "    raise InvalidParameterError(\n",
      "    ...<2 lines>...\n",
      "    )\n",
      "sklearn.utils._param_validation.InvalidParameterError: The 'penalty' parameter of LogisticRegression must be a str among {'elasticnet', 'l1', 'l2'} or None. Got 'none' instead.\n",
      "\n",
      "--------------------------------------------------------------------------------\n",
      "42 fits failed with the following error:\n",
      "Traceback (most recent call last):\n",
      "  File \"c:\\Users\\c_cam\\Downloads\\ProyectoCienciaDatos\\.venv\\Lib\\site-packages\\sklearn\\model_selection\\_validation.py\", line 859, in _fit_and_score\n",
      "    estimator.fit(X_train, y_train, **fit_params)\n",
      "    ~~~~~~~~~~~~~^^^^^^^^^^^^^^^^^^^^^^^^^^^^^^^^\n",
      "  File \"c:\\Users\\c_cam\\Downloads\\ProyectoCienciaDatos\\.venv\\Lib\\site-packages\\sklearn\\base.py\", line 1365, in wrapper\n",
      "    return fit_method(estimator, *args, **kwargs)\n",
      "  File \"c:\\Users\\c_cam\\Downloads\\ProyectoCienciaDatos\\.venv\\Lib\\site-packages\\sklearn\\pipeline.py\", line 663, in fit\n",
      "    self._final_estimator.fit(Xt, y, **last_step_params[\"fit\"])\n",
      "    ~~~~~~~~~~~~~~~~~~~~~~~~~^^^^^^^^^^^^^^^^^^^^^^^^^^^^^^^^^^\n",
      "  File \"c:\\Users\\c_cam\\Downloads\\ProyectoCienciaDatos\\.venv\\Lib\\site-packages\\sklearn\\base.py\", line 1358, in wrapper\n",
      "    estimator._validate_params()\n",
      "    ~~~~~~~~~~~~~~~~~~~~~~~~~~^^\n",
      "  File \"c:\\Users\\c_cam\\Downloads\\ProyectoCienciaDatos\\.venv\\Lib\\site-packages\\sklearn\\base.py\", line 471, in _validate_params\n",
      "    validate_parameter_constraints(\n",
      "    ~~~~~~~~~~~~~~~~~~~~~~~~~~~~~~^\n",
      "        self._parameter_constraints,\n",
      "        ^^^^^^^^^^^^^^^^^^^^^^^^^^^^\n",
      "        self.get_params(deep=False),\n",
      "        ^^^^^^^^^^^^^^^^^^^^^^^^^^^^\n",
      "        caller_name=self.__class__.__name__,\n",
      "        ^^^^^^^^^^^^^^^^^^^^^^^^^^^^^^^^^^^^\n",
      "    )\n",
      "    ^\n",
      "  File \"c:\\Users\\c_cam\\Downloads\\ProyectoCienciaDatos\\.venv\\Lib\\site-packages\\sklearn\\utils\\_param_validation.py\", line 98, in validate_parameter_constraints\n",
      "    raise InvalidParameterError(\n",
      "    ...<2 lines>...\n",
      "    )\n",
      "sklearn.utils._param_validation.InvalidParameterError: The 'penalty' parameter of LogisticRegression must be a str among {'l2', 'elasticnet', 'l1'} or None. Got 'none' instead.\n",
      "\n",
      "--------------------------------------------------------------------------------\n",
      "30 fits failed with the following error:\n",
      "Traceback (most recent call last):\n",
      "  File \"c:\\Users\\c_cam\\Downloads\\ProyectoCienciaDatos\\.venv\\Lib\\site-packages\\sklearn\\model_selection\\_validation.py\", line 859, in _fit_and_score\n",
      "    estimator.fit(X_train, y_train, **fit_params)\n",
      "    ~~~~~~~~~~~~~^^^^^^^^^^^^^^^^^^^^^^^^^^^^^^^^\n",
      "  File \"c:\\Users\\c_cam\\Downloads\\ProyectoCienciaDatos\\.venv\\Lib\\site-packages\\sklearn\\base.py\", line 1365, in wrapper\n",
      "    return fit_method(estimator, *args, **kwargs)\n",
      "  File \"c:\\Users\\c_cam\\Downloads\\ProyectoCienciaDatos\\.venv\\Lib\\site-packages\\sklearn\\pipeline.py\", line 663, in fit\n",
      "    self._final_estimator.fit(Xt, y, **last_step_params[\"fit\"])\n",
      "    ~~~~~~~~~~~~~~~~~~~~~~~~~^^^^^^^^^^^^^^^^^^^^^^^^^^^^^^^^^^\n",
      "  File \"c:\\Users\\c_cam\\Downloads\\ProyectoCienciaDatos\\.venv\\Lib\\site-packages\\sklearn\\base.py\", line 1358, in wrapper\n",
      "    estimator._validate_params()\n",
      "    ~~~~~~~~~~~~~~~~~~~~~~~~~~^^\n",
      "  File \"c:\\Users\\c_cam\\Downloads\\ProyectoCienciaDatos\\.venv\\Lib\\site-packages\\sklearn\\base.py\", line 471, in _validate_params\n",
      "    validate_parameter_constraints(\n",
      "    ~~~~~~~~~~~~~~~~~~~~~~~~~~~~~~^\n",
      "        self._parameter_constraints,\n",
      "        ^^^^^^^^^^^^^^^^^^^^^^^^^^^^\n",
      "        self.get_params(deep=False),\n",
      "        ^^^^^^^^^^^^^^^^^^^^^^^^^^^^\n",
      "        caller_name=self.__class__.__name__,\n",
      "        ^^^^^^^^^^^^^^^^^^^^^^^^^^^^^^^^^^^^\n",
      "    )\n",
      "    ^\n",
      "  File \"c:\\Users\\c_cam\\Downloads\\ProyectoCienciaDatos\\.venv\\Lib\\site-packages\\sklearn\\utils\\_param_validation.py\", line 98, in validate_parameter_constraints\n",
      "    raise InvalidParameterError(\n",
      "    ...<2 lines>...\n",
      "    )\n",
      "sklearn.utils._param_validation.InvalidParameterError: The 'penalty' parameter of LogisticRegression must be a str among {'l1', 'l2', 'elasticnet'} or None. Got 'none' instead.\n",
      "\n",
      "\n",
      "c:\\Users\\c_cam\\Downloads\\ProyectoCienciaDatos\\.venv\\Lib\\site-packages\\sklearn\\model_selection\\_search.py:1135: UserWarning:\n",
      "\n",
      "One or more of the test scores are non-finite: [0.50115997 0.50397357 0.49368231        nan        nan        nan\n",
      " 0.50115997 0.50397357 0.4941518         nan        nan        nan\n",
      " 0.50115997 0.50397357 0.496961          nan        nan        nan\n",
      " 0.50960297 0.5058482  0.49368231        nan        nan        nan\n",
      " 0.50960297 0.5058482  0.4941518         nan        nan        nan\n",
      " 0.50960297 0.5058482  0.496961          nan        nan        nan\n",
      " 0.50866071 0.49646513 0.49368231        nan        nan        nan\n",
      " 0.50959967 0.49646513 0.4941518         nan        nan        nan\n",
      " 0.50959967 0.49646513 0.496961          nan        nan        nan\n",
      " 0.51006806 0.49458829 0.49368231        nan        nan        nan\n",
      " 0.50725006 0.49458829 0.4941518         nan        nan        nan\n",
      " 0.50725006 0.49458829 0.496961          nan        nan        nan\n",
      " 0.50068938 0.49552616 0.49368231        nan        nan        nan\n",
      " 0.50209783 0.49552616 0.4941518         nan        nan        nan\n",
      " 0.50209783 0.49552616 0.496961          nan        nan        nan\n",
      " 0.50725665 0.49458939 0.49368231        nan        nan        nan\n",
      " 0.50443975 0.49458939 0.4941518         nan        nan        nan\n",
      " 0.50443975 0.49458939 0.496961          nan        nan        nan]\n",
      "\n"
     ]
    },
    {
     "name": "stdout",
     "output_type": "stream",
     "text": [
      "[ColumnTransformer] ........... (1 of 2) Processing num, total=   0.0s\n",
      "[ColumnTransformer] .......... (2 of 2) Processing bool, total=   0.0s\n",
      "Mejores parámetros: {'classifier__C': 1, 'classifier__max_iter': 1000, 'classifier__penalty': 'l2', 'classifier__solver': 'lbfgs'}\n",
      "Mejor accuracy (CV): 0.5100680586249738\n"
     ]
    },
    {
     "data": {
      "application/vnd.microsoft.datawrangler.viewer.v0+json": {
       "columns": [
        {
         "name": "index",
         "rawType": "int64",
         "type": "integer"
        },
        {
         "name": "params",
         "rawType": "object",
         "type": "unknown"
        },
        {
         "name": "mean_test_score",
         "rawType": "float64",
         "type": "float"
        },
        {
         "name": "std_test_score",
         "rawType": "float64",
         "type": "float"
        }
       ],
       "ref": "f7c8c1c4-f159-4481-a971-ce0405e7b8b7",
       "rows": [
        [
         "54",
         "{'classifier__C': 1, 'classifier__max_iter': 1000, 'classifier__penalty': 'l2', 'classifier__solver': 'lbfgs'}",
         "0.5100680586249738",
         "0.01962052493227764"
        ],
        [
         "24",
         "{'classifier__C': 0.01, 'classifier__max_iter': 2500, 'classifier__penalty': 'l2', 'classifier__solver': 'lbfgs'}",
         "0.5096029730294334",
         "0.02047219615962512"
        ],
        [
         "30",
         "{'classifier__C': 0.01, 'classifier__max_iter': 5000, 'classifier__penalty': 'l2', 'classifier__solver': 'lbfgs'}",
         "0.5096029730294334",
         "0.02047219615962512"
        ],
        [
         "18",
         "{'classifier__C': 0.01, 'classifier__max_iter': 1000, 'classifier__penalty': 'l2', 'classifier__solver': 'lbfgs'}",
         "0.5096029730294334",
         "0.02047219615962512"
        ],
        [
         "48",
         "{'classifier__C': 0.1, 'classifier__max_iter': 5000, 'classifier__penalty': 'l2', 'classifier__solver': 'lbfgs'}",
         "0.5095996745500324",
         "0.018934321231391334"
        ]
       ],
       "shape": {
        "columns": 3,
        "rows": 5
       }
      },
      "text/html": [
       "<div>\n",
       "<style scoped>\n",
       "    .dataframe tbody tr th:only-of-type {\n",
       "        vertical-align: middle;\n",
       "    }\n",
       "\n",
       "    .dataframe tbody tr th {\n",
       "        vertical-align: top;\n",
       "    }\n",
       "\n",
       "    .dataframe thead th {\n",
       "        text-align: right;\n",
       "    }\n",
       "</style>\n",
       "<table border=\"1\" class=\"dataframe\">\n",
       "  <thead>\n",
       "    <tr style=\"text-align: right;\">\n",
       "      <th></th>\n",
       "      <th>params</th>\n",
       "      <th>mean_test_score</th>\n",
       "      <th>std_test_score</th>\n",
       "    </tr>\n",
       "  </thead>\n",
       "  <tbody>\n",
       "    <tr>\n",
       "      <th>54</th>\n",
       "      <td>{'classifier__C': 1, 'classifier__max_iter': 1...</td>\n",
       "      <td>0.510068</td>\n",
       "      <td>0.019621</td>\n",
       "    </tr>\n",
       "    <tr>\n",
       "      <th>24</th>\n",
       "      <td>{'classifier__C': 0.01, 'classifier__max_iter'...</td>\n",
       "      <td>0.509603</td>\n",
       "      <td>0.020472</td>\n",
       "    </tr>\n",
       "    <tr>\n",
       "      <th>30</th>\n",
       "      <td>{'classifier__C': 0.01, 'classifier__max_iter'...</td>\n",
       "      <td>0.509603</td>\n",
       "      <td>0.020472</td>\n",
       "    </tr>\n",
       "    <tr>\n",
       "      <th>18</th>\n",
       "      <td>{'classifier__C': 0.01, 'classifier__max_iter'...</td>\n",
       "      <td>0.509603</td>\n",
       "      <td>0.020472</td>\n",
       "    </tr>\n",
       "    <tr>\n",
       "      <th>48</th>\n",
       "      <td>{'classifier__C': 0.1, 'classifier__max_iter':...</td>\n",
       "      <td>0.509600</td>\n",
       "      <td>0.018934</td>\n",
       "    </tr>\n",
       "  </tbody>\n",
       "</table>\n",
       "</div>"
      ],
      "text/plain": [
       "                                               params  mean_test_score  \\\n",
       "54  {'classifier__C': 1, 'classifier__max_iter': 1...         0.510068   \n",
       "24  {'classifier__C': 0.01, 'classifier__max_iter'...         0.509603   \n",
       "30  {'classifier__C': 0.01, 'classifier__max_iter'...         0.509603   \n",
       "18  {'classifier__C': 0.01, 'classifier__max_iter'...         0.509603   \n",
       "48  {'classifier__C': 0.1, 'classifier__max_iter':...         0.509600   \n",
       "\n",
       "    std_test_score  \n",
       "54        0.019621  \n",
       "24        0.020472  \n",
       "30        0.020472  \n",
       "18        0.020472  \n",
       "48        0.018934  "
      ]
     },
     "metadata": {},
     "output_type": "display_data"
    }
   ],
   "source": [
    "# Creamos el pipeline que integra el preprocesador (preprocessor_median) y el clasificador\n",
    "pipeline_rf_median = Pipeline([\n",
    "    (\"preprocessing\", preprocessor_median),\n",
    "    (\"classifier\", LogisticRegression(random_state=42))\n",
    "])\n",
    "\n",
    "# Definimos el grid de hiperparámetros a explorar\n",
    "param_grid = {\n",
    "    \"classifier__penalty\": [\"l2\", \"none\"],  # l1 y elasticnet solo funcionan con solver='saga'\n",
    "    \"classifier__C\": [0.001, 0.01, 0.1, 1, 10, 100],  # Inverso de la regularización\n",
    "    \"classifier__solver\": [\"lbfgs\", \"newton-cg\", \"sag\"],  # Algoritmos de optimización\n",
    "    \"classifier__max_iter\": [1000, 2500, 5000]  # Número máximo de iteraciones\n",
    "}\n",
    "\n",
    "# Configuramos GridSearchCV\n",
    "grid_search = GridSearchCV(\n",
    "    pipeline_rf_median,\n",
    "    param_grid,\n",
    "    cv=5,\n",
    "    scoring=\"accuracy\",\n",
    "    n_jobs=-1,  # Utiliza todos los cores disponibles\n",
    "    verbose=1\n",
    ")\n",
    "\n",
    "# Ejecutamos el grid search\n",
    "grid_search.fit(X_train, y_train)\n",
    "\n",
    "# Mostramos los mejores parámetros y el mejor accuracy\n",
    "print(\"Mejores parámetros:\", grid_search.best_params_)\n",
    "print(\"Mejor accuracy (CV):\", grid_search.best_score_)\n",
    "\n",
    "# Opcional: mostrar todos los resultados ordenados\n",
    "resultados_df = pd.DataFrame(grid_search.cv_results_)\n",
    "resultados_df = resultados_df.sort_values(\"mean_test_score\", ascending=False)\n",
    "display(resultados_df[[\"params\", \"mean_test_score\", \"std_test_score\"]].head())"
   ]
  },
  {
   "cell_type": "markdown",
   "id": "a43a94ae",
   "metadata": {},
   "source": [
    "# Guardar los modelos"
   ]
  },
  {
   "cell_type": "code",
   "execution_count": 392,
   "id": "24730cbc",
   "metadata": {},
   "outputs": [
    {
     "name": "stdout",
     "output_type": "stream",
     "text": [
      "El mejor modelo es:\n",
      "Pipeline(steps=[('preprocessing',\n",
      "                 ColumnTransformer(transformers=[('num',\n",
      "                                                  Pipeline(steps=[('imputer',\n",
      "                                                                   SimpleImputer(strategy='median'))]),\n",
      "                                                  ['age',\n",
      "                                                   'creatinine_phosphokinase',\n",
      "                                                   'ejection_fraction',\n",
      "                                                   'platelets',\n",
      "                                                   'serum_creatinine',\n",
      "                                                   'serum_sodium', 'time']),\n",
      "                                                 ('bool',\n",
      "                                                  Pipeline(steps=[('imputer',\n",
      "                                                                   SimpleImputer(strategy='most_frequent')),\n",
      "                                                                  ('encoder',\n",
      "                                                                   OneHotEncoder(drop='if_binary'))]),\n",
      "                                                  ['anaemia', 'diabetes',\n",
      "                                                   'high_blood_pressure', 'sex',\n",
      "                                                   'smoking'])],\n",
      "                                   verbose=True)),\n",
      "                ('classifier',\n",
      "                 LogisticRegression(C=1, max_iter=1000, random_state=42))])\n",
      "Modelo guardado como 'heart_failure_clinical_records-logistic_regression-v1.joblib'\n"
     ]
    }
   ],
   "source": [
    "import joblib\n",
    "from pathlib import Path\n",
    "\n",
    "DATA_DIR = Path.cwd() #/ \"Modelos\"\n",
    "\n",
    "# Suponiendo que 'grid_search' es el objeto de GridSearchCV que usamos para el fine-tuning\n",
    "best_model = grid_search.best_estimator_\n",
    "\n",
    "# Imprimir el mejor modelo\n",
    "print(\"El mejor modelo es:\")\n",
    "print(best_model)\n",
    "\n",
    "# Guardar el modelo usando joblib con el nombre especificado\n",
    "joblib.dump(best_model, DATA_DIR / \"heart_failure_clinical_records-logistic_regression-v1.joblib\")\n",
    "\n",
    "print(\"Modelo guardado como 'heart_failure_clinical_records-logistic_regression-v1.joblib'\")"
   ]
  }
 ],
 "metadata": {
  "kernelspec": {
   "display_name": ".venv",
   "language": "python",
   "name": "python3"
  },
  "language_info": {
   "codemirror_mode": {
    "name": "ipython",
    "version": 3
   },
   "file_extension": ".py",
   "mimetype": "text/x-python",
   "name": "python",
   "nbconvert_exporter": "python",
   "pygments_lexer": "ipython3",
   "version": "3.13.5"
  }
 },
 "nbformat": 4,
 "nbformat_minor": 5
}
